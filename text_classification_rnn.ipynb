{
 "cells": [
  {
   "cell_type": "code",
   "execution_count": null,
   "metadata": {
    "execution": {
     "iopub.execute_input": "2021-01-13T03:51:08.377448Z",
     "iopub.status.busy": "2021-01-13T03:51:08.376763Z",
     "iopub.status.idle": "2021-01-13T03:51:15.989069Z",
     "shell.execute_reply": "2021-01-13T03:51:15.988434Z"
    },
    "id": "z682XYsrjkY9"
   },
   "outputs": [],
   "source": [
    "import numpy as np\n",
    "import matplotlib.pyplot as plt\n",
    "\n",
    "import tensorflow_datasets as tfds\n",
    "import tensorflow as tf\n",
    "\n",
    "tfds.disable_progress_bar()"
   ]
  },
  {
   "cell_type": "raw",
   "metadata": {
    "execution": {
     "iopub.execute_input": "2021-01-13T03:51:06.856805Z",
     "iopub.status.busy": "2021-01-13T03:51:06.856114Z",
     "iopub.status.idle": "2021-01-13T03:51:08.371883Z",
     "shell.execute_reply": "2021-01-13T03:51:08.372435Z"
    },
    "id": "vH_FAfIz5dEw"
   },
   "source": [
    "!pip install -q tensorflow_datasets"
   ]
  },
  {
   "cell_type": "code",
   "execution_count": null,
   "metadata": {},
   "outputs": [],
   "source": [
    "print(\"Num GPUs Available: \", len(tf.config.experimental.list_physical_devices('GPU')))"
   ]
  },
  {
   "cell_type": "markdown",
   "metadata": {
    "id": "pRmMubr0jrE2"
   },
   "source": [
    "## Data"
   ]
  },
  {
   "cell_type": "code",
   "execution_count": null,
   "metadata": {
    "execution": {
     "iopub.execute_input": "2021-01-13T03:51:16.001184Z",
     "iopub.status.busy": "2021-01-13T03:51:16.000514Z",
     "iopub.status.idle": "2021-01-13T03:51:17.568416Z",
     "shell.execute_reply": "2021-01-13T03:51:17.568875Z"
    },
    "id": "SHRwRoP2nVHX"
   },
   "outputs": [],
   "source": [
    "dataset, info = tfds.load('imdb_reviews', with_info=True, as_supervised=True)\n",
    "train_dataset, test_dataset = dataset['train'], dataset['test']\n",
    "\n",
    "train_dataset.element_spec"
   ]
  },
  {
   "cell_type": "code",
   "execution_count": null,
   "metadata": {
    "execution": {
     "iopub.execute_input": "2021-01-13T03:51:17.574503Z",
     "iopub.status.busy": "2021-01-13T03:51:17.573198Z",
     "iopub.status.idle": "2021-01-13T03:51:17.618857Z",
     "shell.execute_reply": "2021-01-13T03:51:17.619346Z"
    },
    "id": "vd4_BGKyurao"
   },
   "outputs": [],
   "source": [
    "for example, label in train_dataset.take(1):\n",
    "  print('text: ', example.numpy())\n",
    "  print('label: ', label.numpy())"
   ]
  },
  {
   "cell_type": "code",
   "execution_count": null,
   "metadata": {
    "execution": {
     "iopub.execute_input": "2021-01-13T03:51:17.623697Z",
     "iopub.status.busy": "2021-01-13T03:51:17.623008Z",
     "iopub.status.idle": "2021-01-13T03:51:17.624931Z",
     "shell.execute_reply": "2021-01-13T03:51:17.625389Z"
    },
    "id": "dDsCaZCDYZgm"
   },
   "outputs": [],
   "source": [
    "BUFFER_SIZE = 10000\n",
    "BATCH_SIZE = 64"
   ]
  },
  {
   "cell_type": "code",
   "execution_count": null,
   "metadata": {
    "execution": {
     "iopub.execute_input": "2021-01-13T03:51:17.629810Z",
     "iopub.status.busy": "2021-01-13T03:51:17.629159Z",
     "iopub.status.idle": "2021-01-13T03:51:17.632829Z",
     "shell.execute_reply": "2021-01-13T03:51:17.633249Z"
    },
    "id": "VznrltNOnUc5"
   },
   "outputs": [],
   "source": [
    "train_dataset = train_dataset.shuffle(BUFFER_SIZE).batch(BATCH_SIZE).prefetch(tf.data.AUTOTUNE)\n",
    "test_dataset = test_dataset.batch(BATCH_SIZE).prefetch(tf.data.AUTOTUNE)\n",
    "tf.data.AUTOTUNE"
   ]
  },
  {
   "cell_type": "code",
   "execution_count": null,
   "metadata": {
    "execution": {
     "iopub.execute_input": "2021-01-13T03:51:17.638666Z",
     "iopub.status.busy": "2021-01-13T03:51:17.637321Z",
     "iopub.status.idle": "2021-01-13T03:51:17.883181Z",
     "shell.execute_reply": "2021-01-13T03:51:17.883586Z"
    },
    "id": "jqkvdcFv41wC"
   },
   "outputs": [],
   "source": [
    "for example, label in train_dataset.take(1):\n",
    "  print('texts: ', example.numpy()[:1])\n",
    "  print()\n",
    "  print('labels: ', label.numpy()[:1])"
   ]
  },
  {
   "cell_type": "markdown",
   "metadata": {
    "id": "s5eWCo88voPY"
   },
   "source": [
    "## Vocabulary"
   ]
  },
  {
   "cell_type": "code",
   "execution_count": null,
   "metadata": {
    "execution": {
     "iopub.execute_input": "2021-01-13T03:51:17.888778Z",
     "iopub.status.busy": "2021-01-13T03:51:17.888113Z",
     "iopub.status.idle": "2021-01-13T03:51:21.858729Z",
     "shell.execute_reply": "2021-01-13T03:51:21.858056Z"
    },
    "id": "uC25Lu1Yvuqy"
   },
   "outputs": [],
   "source": [
    "VOCAB_SIZE=1000\n",
    "encoder = tf.keras.layers.experimental.preprocessing.TextVectorization(max_tokens=VOCAB_SIZE)\n",
    "encoder.adapt(train_dataset.map(lambda text, label: text))"
   ]
  },
  {
   "cell_type": "code",
   "execution_count": null,
   "metadata": {
    "execution": {
     "iopub.execute_input": "2021-01-13T03:51:21.863814Z",
     "iopub.status.busy": "2021-01-13T03:51:21.863094Z",
     "iopub.status.idle": "2021-01-13T03:51:21.867751Z",
     "shell.execute_reply": "2021-01-13T03:51:21.868242Z"
    },
    "id": "tBoyjjWg0Ac9"
   },
   "outputs": [],
   "source": [
    "vocab = np.array(encoder.get_vocabulary())\n",
    "vocab[:20]"
   ]
  },
  {
   "cell_type": "code",
   "execution_count": null,
   "metadata": {
    "execution": {
     "iopub.execute_input": "2021-01-13T03:51:21.872767Z",
     "iopub.status.busy": "2021-01-13T03:51:21.872078Z",
     "iopub.status.idle": "2021-01-13T03:51:21.886442Z",
     "shell.execute_reply": "2021-01-13T03:51:21.886876Z"
    },
    "id": "RGc7C9WiwRWs"
   },
   "outputs": [],
   "source": [
    "encoded_example = encoder(example)[:3].numpy()\n",
    "encoded_example"
   ]
  },
  {
   "cell_type": "code",
   "execution_count": null,
   "metadata": {
    "execution": {
     "iopub.execute_input": "2021-01-13T03:51:21.891588Z",
     "iopub.status.busy": "2021-01-13T03:51:21.890914Z",
     "iopub.status.idle": "2021-01-13T03:51:21.896502Z",
     "shell.execute_reply": "2021-01-13T03:51:21.896949Z"
    },
    "id": "N_tD0QY5wXaK"
   },
   "outputs": [],
   "source": [
    "for n in range(1):\n",
    "  print(\"Original: \", example[n].numpy())\n",
    "  print(\"Round-trip: \", \" \".join(vocab[encoded_example[n]]))\n",
    "  print()"
   ]
  },
  {
   "cell_type": "markdown",
   "metadata": {
    "id": "s5eWCo88voPY"
   },
   "source": [
    "## Display"
   ]
  },
  {
   "cell_type": "code",
   "execution_count": null,
   "metadata": {
    "execution": {
     "iopub.execute_input": "2021-01-13T03:51:15.994569Z",
     "iopub.status.busy": "2021-01-13T03:51:15.993860Z",
     "iopub.status.idle": "2021-01-13T03:51:15.996221Z",
     "shell.execute_reply": "2021-01-13T03:51:15.995646Z"
    },
    "id": "Mp1Z7P9pYRSK"
   },
   "outputs": [],
   "source": [
    "def plot_graphs(history, metric):\n",
    "  plt.plot(history.history[metric])\n",
    "  plt.plot(history.history['val_'+metric], '')\n",
    "  plt.xlabel(\"Epochs\")\n",
    "  plt.ylabel(metric)\n",
    "  plt.legend([metric, 'val_'+metric])"
   ]
  },
  {
   "cell_type": "markdown",
   "metadata": {
    "id": "bjUqGVBxGw-t"
   },
   "source": [
    "## RNN"
   ]
  },
  {
   "cell_type": "markdown",
   "metadata": {
    "id": "bjUqGVBxGw-t"
   },
   "source": [
    "### Model"
   ]
  },
  {
   "cell_type": "code",
   "execution_count": null,
   "metadata": {
    "execution": {
     "iopub.execute_input": "2021-01-13T03:51:21.903073Z",
     "iopub.status.busy": "2021-01-13T03:51:21.902355Z",
     "iopub.status.idle": "2021-01-13T03:51:21.943876Z",
     "shell.execute_reply": "2021-01-13T03:51:21.944395Z"
    },
    "id": "LwfoBkmRYcP3"
   },
   "outputs": [],
   "source": [
    "model = tf.keras.Sequential([\n",
    "    encoder,\n",
    "    tf.keras.layers.Embedding(input_dim=len(encoder.get_vocabulary()), output_dim=64, mask_zero=True),\n",
    "    tf.keras.layers.SimpleRNN(64),\n",
    "    # tf.keras.layers.Bidirectional(tf.keras.layers.SimpleRNN(64)),\n",
    "    tf.keras.layers.Dense(64, activation='relu'),\n",
    "    tf.keras.layers.Dense(1)\n",
    "])"
   ]
  },
  {
   "cell_type": "code",
   "execution_count": null,
   "metadata": {
    "execution": {
     "iopub.execute_input": "2021-01-13T03:51:21.949477Z",
     "iopub.status.busy": "2021-01-13T03:51:21.948721Z",
     "iopub.status.idle": "2021-01-13T03:51:21.951184Z",
     "shell.execute_reply": "2021-01-13T03:51:21.951673Z"
    },
    "id": "87a8-CwfKebw"
   },
   "outputs": [],
   "source": [
    "print([layer.supports_masking for layer in model.layers])"
   ]
  },
  {
   "cell_type": "code",
   "execution_count": null,
   "metadata": {
    "execution": {
     "iopub.execute_input": "2021-01-13T03:51:21.956961Z",
     "iopub.status.busy": "2021-01-13T03:51:21.956281Z",
     "iopub.status.idle": "2021-01-13T03:51:29.346939Z",
     "shell.execute_reply": "2021-01-13T03:51:29.346349Z"
    },
    "id": "O41gw3KfWHus"
   },
   "outputs": [],
   "source": [
    "# predict on a sample text without padding.\n",
    "\n",
    "sample_text = ('The movie was cool. The animation and the graphics '\n",
    "               'were out of this world. I would recommend this movie.')\n",
    "predictions = model.predict(np.array([sample_text]))\n",
    "print(predictions[0])"
   ]
  },
  {
   "cell_type": "code",
   "execution_count": null,
   "metadata": {
    "execution": {
     "iopub.execute_input": "2021-01-13T03:51:29.354862Z",
     "iopub.status.busy": "2021-01-13T03:51:29.354192Z",
     "iopub.status.idle": "2021-01-13T03:51:29.526982Z",
     "shell.execute_reply": "2021-01-13T03:51:29.526394Z"
    },
    "id": "UIgpuTeFNDzq"
   },
   "outputs": [],
   "source": [
    "# predict on a sample text with padding\n",
    "\n",
    "padding = \"the \" * 2000\n",
    "predictions = model.predict(np.array([sample_text, padding]))\n",
    "print(predictions[0])"
   ]
  },
  {
   "cell_type": "code",
   "execution_count": null,
   "metadata": {
    "execution": {
     "iopub.execute_input": "2021-01-13T03:51:29.543266Z",
     "iopub.status.busy": "2021-01-13T03:51:29.542210Z",
     "iopub.status.idle": "2021-01-13T03:51:29.554230Z",
     "shell.execute_reply": "2021-01-13T03:51:29.554650Z"
    },
    "id": "kj2xei41YZjC"
   },
   "outputs": [],
   "source": [
    "model.compile(loss=tf.keras.losses.BinaryCrossentropy(from_logits=True),\n",
    "              optimizer=tf.keras.optimizers.Adam(1e-4),\n",
    "              metrics=['accuracy'])"
   ]
  },
  {
   "cell_type": "markdown",
   "metadata": {
    "id": "zIwH3nto596k"
   },
   "source": [
    "## Tune"
   ]
  },
  {
   "cell_type": "code",
   "execution_count": null,
   "metadata": {
    "execution": {
     "iopub.execute_input": "2021-01-13T03:51:29.560072Z",
     "iopub.status.busy": "2021-01-13T03:51:29.559021Z",
     "iopub.status.idle": "2021-01-13T03:57:17.837126Z",
     "shell.execute_reply": "2021-01-13T03:57:17.836600Z"
    },
    "id": "hw86wWS4YgR2"
   },
   "outputs": [],
   "source": [
    "history = model.fit(train_dataset, epochs=1,\n",
    "                    validation_data=test_dataset, \n",
    "                    validation_steps=30)"
   ]
  },
  {
   "cell_type": "code",
   "execution_count": null,
   "metadata": {
    "execution": {
     "iopub.execute_input": "2021-01-13T03:57:17.842766Z",
     "iopub.status.busy": "2021-01-13T03:57:17.841687Z",
     "iopub.status.idle": "2021-01-13T03:57:34.265776Z",
     "shell.execute_reply": "2021-01-13T03:57:34.265216Z"
    },
    "id": "BaNbXi43YgUT"
   },
   "outputs": [],
   "source": [
    "test_loss, test_acc = model.evaluate(test_dataset)\n",
    "\n",
    "\n",
    "print('Test Loss: {}'.format(test_loss))\n",
    "print('Test Accuracy: {}'.format(test_acc))"
   ]
  },
  {
   "cell_type": "code",
   "execution_count": null,
   "metadata": {
    "execution": {
     "iopub.execute_input": "2021-01-13T03:57:34.284326Z",
     "iopub.status.busy": "2021-01-13T03:57:34.283544Z",
     "iopub.status.idle": "2021-01-13T03:57:34.574582Z",
     "shell.execute_reply": "2021-01-13T03:57:34.575021Z"
    },
    "id": "OZmwt_mzaQJk"
   },
   "outputs": [],
   "source": [
    "plt.figure(figsize=(16,8))\n",
    "plt.subplot(1,2,1)\n",
    "plot_graphs(history, 'accuracy')\n",
    "plt.ylim(None,1)\n",
    "plt.subplot(1,2,2)\n",
    "plot_graphs(history, 'loss')\n",
    "plt.ylim(0,None)"
   ]
  },
  {
   "cell_type": "markdown",
   "metadata": {
    "id": "DwSE_386uhxD"
   },
   "source": [
    "Run a prediction on a new sentence:\n",
    "\n",
    "If the prediction is >= 0.0, it is positive else it is negative."
   ]
  },
  {
   "cell_type": "code",
   "execution_count": null,
   "metadata": {
    "execution": {
     "iopub.execute_input": "2021-01-13T03:57:34.579884Z",
     "iopub.status.busy": "2021-01-13T03:57:34.579199Z",
     "iopub.status.idle": "2021-01-13T03:57:36.666160Z",
     "shell.execute_reply": "2021-01-13T03:57:36.665530Z"
    },
    "id": "ZXgfQSgRW6zU"
   },
   "outputs": [],
   "source": [
    "sample_text = ('The movie was cool. The animation and the graphics '\n",
    "               'were out of this world. I would recommend this movie.')\n",
    "\n",
    "predictions = model.predict(np.array([sample_text]))\n",
    "predictions"
   ]
  },
  {
   "cell_type": "markdown",
   "metadata": {},
   "source": [
    "## LSTM"
   ]
  },
  {
   "cell_type": "markdown",
   "metadata": {},
   "source": [
    "### Model"
   ]
  },
  {
   "cell_type": "code",
   "execution_count": null,
   "metadata": {
    "execution": {
     "iopub.execute_input": "2021-01-13T03:57:36.672733Z",
     "iopub.status.busy": "2021-01-13T03:57:36.672021Z",
     "iopub.status.idle": "2021-01-13T03:57:36.707640Z",
     "shell.execute_reply": "2021-01-13T03:57:36.707088Z"
    },
    "id": "jo1jjO3vn0jo"
   },
   "outputs": [],
   "source": [
    "model = tf.keras.Sequential([\n",
    "    encoder,\n",
    "    tf.keras.layers.Embedding(len(encoder.get_vocabulary()), 64, mask_zero=True),\n",
    "    tf.keras.layers.LSTM(64),\n",
    "    # tf.keras.layers.LSTM(64,  return_sequences=True),\n",
    "    # tf.keras.layers.Bidirectional(tf.keras.layers.LSTM(64,  return_sequences=True)),\n",
    "    # tf.keras.layers.Bidirectional(tf.keras.layers.LSTM(32)),\n",
    "    tf.keras.layers.Dense(64, activation='relu'),\n",
    "    # tf.keras.layers.Dropout(0.5),\n",
    "    tf.keras.layers.Dense(1)\n",
    "])"
   ]
  },
  {
   "cell_type": "code",
   "execution_count": null,
   "metadata": {
    "execution": {
     "iopub.execute_input": "2021-01-13T03:57:36.717621Z",
     "iopub.status.busy": "2021-01-13T03:57:36.716935Z",
     "iopub.status.idle": "2021-01-13T03:57:36.721546Z",
     "shell.execute_reply": "2021-01-13T03:57:36.720994Z"
    },
    "id": "hEPV5jVGp-is"
   },
   "outputs": [],
   "source": [
    "model.compile(loss=tf.keras.losses.BinaryCrossentropy(from_logits=True),\n",
    "              optimizer=tf.keras.optimizers.Adam(1e-4),\n",
    "              metrics=['accuracy'])"
   ]
  },
  {
   "cell_type": "markdown",
   "metadata": {},
   "source": [
    "### Tune"
   ]
  },
  {
   "cell_type": "code",
   "execution_count": null,
   "metadata": {
    "execution": {
     "iopub.execute_input": "2021-01-13T03:57:36.725870Z",
     "iopub.status.busy": "2021-01-13T03:57:36.725238Z",
     "iopub.status.idle": "2021-01-13T04:07:45.899670Z",
     "shell.execute_reply": "2021-01-13T04:07:45.900224Z"
    },
    "id": "LeSE-YjdqAeN"
   },
   "outputs": [],
   "source": [
    "history = model.fit(train_dataset, epochs=10,\n",
    "                    validation_data=test_dataset,\n",
    "                    validation_steps=30)"
   ]
  },
  {
   "cell_type": "code",
   "execution_count": null,
   "metadata": {
    "execution": {
     "iopub.execute_input": "2021-01-13T04:07:45.905760Z",
     "iopub.status.busy": "2021-01-13T04:07:45.904905Z",
     "iopub.status.idle": "2021-01-13T04:08:14.264905Z",
     "shell.execute_reply": "2021-01-13T04:08:14.265343Z"
    },
    "id": "_LdwilM1qPM3"
   },
   "outputs": [],
   "source": [
    "test_loss, test_acc = model.evaluate(test_dataset)\n",
    "\n",
    "print('Test Loss: {}'.format(test_loss))\n",
    "print('Test Accuracy: {}'.format(test_acc))"
   ]
  },
  {
   "cell_type": "code",
   "execution_count": null,
   "metadata": {
    "execution": {
     "iopub.execute_input": "2021-01-13T04:08:14.270325Z",
     "iopub.status.busy": "2021-01-13T04:08:14.269625Z",
     "iopub.status.idle": "2021-01-13T04:08:18.631446Z",
     "shell.execute_reply": "2021-01-13T04:08:18.631878Z"
    },
    "id": "ykUKnAoqbycW"
   },
   "outputs": [],
   "source": [
    "# predict on a sample text without padding.\n",
    "\n",
    "sample_text = ('The movie was not good. The animation and the graphics '\n",
    "                    'were terrible. I would not recommend this movie.')\n",
    "predictions = model.predict(np.array([sample_text]))\n",
    "print(predictions)"
   ]
  },
  {
   "cell_type": "code",
   "execution_count": null,
   "metadata": {
    "execution": {
     "iopub.execute_input": "2021-01-13T04:08:18.649033Z",
     "iopub.status.busy": "2021-01-13T04:08:18.637245Z",
     "iopub.status.idle": "2021-01-13T04:08:18.949985Z",
     "shell.execute_reply": "2021-01-13T04:08:18.950453Z"
    },
    "id": "_YYub0EDtwCu"
   },
   "outputs": [],
   "source": [
    "plt.figure(figsize=(16,6))\n",
    "plt.subplot(1,2,1)\n",
    "plot_graphs(history, 'accuracy')\n",
    "plt.subplot(1,2,2)\n",
    "plot_graphs(history, 'loss')"
   ]
  },
  {
   "cell_type": "markdown",
   "metadata": {},
   "source": [
    "## GRU"
   ]
  },
  {
   "cell_type": "markdown",
   "metadata": {},
   "source": [
    "### Model"
   ]
  },
  {
   "cell_type": "code",
   "execution_count": null,
   "metadata": {
    "execution": {
     "iopub.execute_input": "2021-01-13T03:57:36.672733Z",
     "iopub.status.busy": "2021-01-13T03:57:36.672021Z",
     "iopub.status.idle": "2021-01-13T03:57:36.707640Z",
     "shell.execute_reply": "2021-01-13T03:57:36.707088Z"
    },
    "id": "jo1jjO3vn0jo"
   },
   "outputs": [],
   "source": [
    "model = tf.keras.Sequential([\n",
    "    encoder,\n",
    "    tf.keras.layers.Embedding(len(encoder.get_vocabulary()), 64, mask_zero=True),\n",
    "    tf.keras.layers.GRU(64),\n",
    "    # tf.keras.layers.LSTM(64,  return_sequences=True),\n",
    "    # tf.keras.layers.Bidirectional(tf.keras.layers.LSTM(64,  return_sequences=True)),\n",
    "    # tf.keras.layers.Bidirectional(tf.keras.layers.LSTM(32)),\n",
    "    tf.keras.layers.Dense(64, activation='relu'),\n",
    "    # tf.keras.layers.Dropout(0.5),\n",
    "    tf.keras.layers.Dense(1)\n",
    "])"
   ]
  },
  {
   "cell_type": "code",
   "execution_count": null,
   "metadata": {
    "execution": {
     "iopub.execute_input": "2021-01-13T03:57:36.717621Z",
     "iopub.status.busy": "2021-01-13T03:57:36.716935Z",
     "iopub.status.idle": "2021-01-13T03:57:36.721546Z",
     "shell.execute_reply": "2021-01-13T03:57:36.720994Z"
    },
    "id": "hEPV5jVGp-is"
   },
   "outputs": [],
   "source": [
    "model.compile(loss=tf.keras.losses.BinaryCrossentropy(from_logits=True),\n",
    "              optimizer=tf.keras.optimizers.Adam(1e-4),\n",
    "              metrics=['accuracy'])"
   ]
  },
  {
   "cell_type": "markdown",
   "metadata": {},
   "source": [
    "### Tune"
   ]
  },
  {
   "cell_type": "code",
   "execution_count": null,
   "metadata": {
    "execution": {
     "iopub.execute_input": "2021-01-13T03:57:36.725870Z",
     "iopub.status.busy": "2021-01-13T03:57:36.725238Z",
     "iopub.status.idle": "2021-01-13T04:07:45.899670Z",
     "shell.execute_reply": "2021-01-13T04:07:45.900224Z"
    },
    "id": "LeSE-YjdqAeN"
   },
   "outputs": [],
   "source": [
    "history = model.fit(train_dataset, epochs=10,\n",
    "                    validation_data=test_dataset,\n",
    "                    validation_steps=30)"
   ]
  },
  {
   "cell_type": "code",
   "execution_count": null,
   "metadata": {
    "execution": {
     "iopub.execute_input": "2021-01-13T04:07:45.905760Z",
     "iopub.status.busy": "2021-01-13T04:07:45.904905Z",
     "iopub.status.idle": "2021-01-13T04:08:14.264905Z",
     "shell.execute_reply": "2021-01-13T04:08:14.265343Z"
    },
    "id": "_LdwilM1qPM3"
   },
   "outputs": [],
   "source": [
    "test_loss, test_acc = model.evaluate(test_dataset)\n",
    "\n",
    "print('Test Loss: {}'.format(test_loss))\n",
    "print('Test Accuracy: {}'.format(test_acc))"
   ]
  },
  {
   "cell_type": "code",
   "execution_count": null,
   "metadata": {
    "execution": {
     "iopub.execute_input": "2021-01-13T04:08:14.270325Z",
     "iopub.status.busy": "2021-01-13T04:08:14.269625Z",
     "iopub.status.idle": "2021-01-13T04:08:18.631446Z",
     "shell.execute_reply": "2021-01-13T04:08:18.631878Z"
    },
    "id": "ykUKnAoqbycW"
   },
   "outputs": [],
   "source": [
    "# predict on a sample text without padding.\n",
    "\n",
    "sample_text = ('The movie was not good. The animation and the graphics '\n",
    "                    'were terrible. I would not recommend this movie.')\n",
    "predictions = model.predict(np.array([sample_text]))\n",
    "print(predictions)"
   ]
  },
  {
   "cell_type": "code",
   "execution_count": null,
   "metadata": {
    "execution": {
     "iopub.execute_input": "2021-01-13T04:08:18.649033Z",
     "iopub.status.busy": "2021-01-13T04:08:18.637245Z",
     "iopub.status.idle": "2021-01-13T04:08:18.949985Z",
     "shell.execute_reply": "2021-01-13T04:08:18.950453Z"
    },
    "id": "_YYub0EDtwCu"
   },
   "outputs": [],
   "source": [
    "plt.figure(figsize=(16,6))\n",
    "plt.subplot(1,2,1)\n",
    "plot_graphs(history, 'accuracy')\n",
    "plt.subplot(1,2,2)\n",
    "plot_graphs(history, 'loss')"
   ]
  }
 ],
 "metadata": {
  "accelerator": "GPU",
  "colab": {
   "collapsed_sections": [],
   "name": "text_classification_rnn.ipynb",
   "toc_visible": true
  },
  "kernelspec": {
   "display_name": "Python 3",
   "language": "python",
   "name": "python3"
  },
  "language_info": {
   "codemirror_mode": {
    "name": "ipython",
    "version": 3
   },
   "file_extension": ".py",
   "mimetype": "text/x-python",
   "name": "python",
   "nbconvert_exporter": "python",
   "pygments_lexer": "ipython3",
   "version": "3.8.5"
  }
 },
 "nbformat": 4,
 "nbformat_minor": 1
}
