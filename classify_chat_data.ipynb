{
 "cells": [
  {
   "cell_type": "code",
   "execution_count": 1,
   "metadata": {},
   "outputs": [],
   "source": [
    "import os\n",
    "import re\n",
    "import jieba\n",
    "import pandas as pd\n",
    "\n",
    "from itertools import chain\n",
    "from collections import defaultdict"
   ]
  },
  {
   "cell_type": "code",
   "execution_count": 2,
   "metadata": {},
   "outputs": [
    {
     "name": "stderr",
     "output_type": "stream",
     "text": [
      "<ipython-input-2-b9ee7a6d8670>:2: FutureWarning: Passing a negative integer is deprecated in version 1.0 and will not be supported in future version. Instead, use None to not limit the column width.\n",
      "  pd.set_option('display.max_colwidth', -1)\n"
     ]
    }
   ],
   "source": [
    "pd.set_option('display.max_rows', 10**5)\n",
    "pd.set_option('display.max_colwidth', -1)"
   ]
  },
  {
   "cell_type": "markdown",
   "metadata": {},
   "source": [
    "get ads candidates"
   ]
  },
  {
   "cell_type": "markdown",
   "metadata": {},
   "source": [
    "---"
   ]
  },
  {
   "cell_type": "markdown",
   "metadata": {},
   "source": [
    "# Load"
   ]
  },
  {
   "cell_type": "code",
   "execution_count": 3,
   "metadata": {},
   "outputs": [
    {
     "data": {
      "text/plain": [
       "(111636, 11)"
      ]
     },
     "execution_count": 3,
     "metadata": {},
     "output_type": "execute_result"
    }
   ],
   "source": [
    "path = '~/data/yk-sgz2017-chat/data-2-20201223'\n",
    "# filename = '2020_09_25.csv'\n",
    "# filename = '2020_09_24.csv'\n",
    "filename = '2020_08_20.csv'\n",
    "df = pd.read_csv(os.path.join(path, filename), index_col=0)\n",
    "df.shape"
   ]
  },
  {
   "cell_type": "code",
   "execution_count": 4,
   "metadata": {},
   "outputs": [
    {
     "data": {
      "text/html": [
       "<div>\n",
       "<style scoped>\n",
       "    .dataframe tbody tr th:only-of-type {\n",
       "        vertical-align: middle;\n",
       "    }\n",
       "\n",
       "    .dataframe tbody tr th {\n",
       "        vertical-align: top;\n",
       "    }\n",
       "\n",
       "    .dataframe thead th {\n",
       "        text-align: right;\n",
       "    }\n",
       "</style>\n",
       "<table border=\"1\" class=\"dataframe\">\n",
       "  <thead>\n",
       "    <tr style=\"text-align: right;\">\n",
       "      <th></th>\n",
       "      <th>gameid</th>\n",
       "      <th>userid</th>\n",
       "      <th>msec</th>\n",
       "      <th>serverid</th>\n",
       "      <th>roleid</th>\n",
       "      <th>pid</th>\n",
       "      <th>rolename</th>\n",
       "      <th>channel</th>\n",
       "      <th>content</th>\n",
       "      <th>timestamp</th>\n",
       "      <th>server</th>\n",
       "    </tr>\n",
       "  </thead>\n",
       "  <tbody>\n",
       "    <tr>\n",
       "      <th>0</th>\n",
       "      <td>45</td>\n",
       "      <td>Tencent_54ACA9B9A0E3B75115F82191032136D0</td>\n",
       "      <td>1597852282</td>\n",
       "      <td>1</td>\n",
       "      <td>282303914329157</td>\n",
       "      <td>19</td>\n",
       "      <td>红軍丶柒柒</td>\n",
       "      <td>private_282303914329157_282303908677278</td>\n",
       "      <td>{localization:589-168}</td>\n",
       "      <td>2020-08-20 00:00:02</td>\n",
       "      <td>sgz-mix-youxi-0033</td>\n",
       "    </tr>\n",
       "  </tbody>\n",
       "</table>\n",
       "</div>"
      ],
      "text/plain": [
       "   gameid                                    userid        msec  serverid  \\\n",
       "0  45      Tencent_54ACA9B9A0E3B75115F82191032136D0  1597852282  1          \n",
       "\n",
       "            roleid  pid rolename                                  channel  \\\n",
       "0  282303914329157  19   红軍丶柒柒    private_282303914329157_282303908677278   \n",
       "\n",
       "                  content            timestamp              server  \n",
       "0  {localization:589-168}  2020-08-20 00:00:02  sgz-mix-youxi-0033  "
      ]
     },
     "execution_count": 4,
     "metadata": {},
     "output_type": "execute_result"
    }
   ],
   "source": [
    "df.head(1)"
   ]
  },
  {
   "cell_type": "code",
   "execution_count": 5,
   "metadata": {},
   "outputs": [
    {
     "name": "stdout",
     "output_type": "stream",
     "text": [
      "(111636, 1)\n"
     ]
    },
    {
     "data": {
      "text/html": [
       "<div>\n",
       "<style scoped>\n",
       "    .dataframe tbody tr th:only-of-type {\n",
       "        vertical-align: middle;\n",
       "    }\n",
       "\n",
       "    .dataframe tbody tr th {\n",
       "        vertical-align: top;\n",
       "    }\n",
       "\n",
       "    .dataframe thead th {\n",
       "        text-align: right;\n",
       "    }\n",
       "</style>\n",
       "<table border=\"1\" class=\"dataframe\">\n",
       "  <thead>\n",
       "    <tr style=\"text-align: right;\">\n",
       "      <th></th>\n",
       "      <th>content</th>\n",
       "    </tr>\n",
       "  </thead>\n",
       "  <tbody>\n",
       "    <tr>\n",
       "      <th>0</th>\n",
       "      <td>{localization:589-168}</td>\n",
       "    </tr>\n",
       "  </tbody>\n",
       "</table>\n",
       "</div>"
      ],
      "text/plain": [
       "                  content\n",
       "0  {localization:589-168}"
      ]
     },
     "execution_count": 5,
     "metadata": {},
     "output_type": "execute_result"
    }
   ],
   "source": [
    "texts = df[['content']]\n",
    "print(texts.shape)\n",
    "texts.head(1)"
   ]
  },
  {
   "cell_type": "code",
   "execution_count": 6,
   "metadata": {},
   "outputs": [],
   "source": [
    "# texts = texts[texts.content == '高价收吴国高迁号，有意的私聊，晚上九点统一回复！']\n",
    "# texts = texts[texts.content == '有意请加VX18526109947']\n",
    "# texts"
   ]
  },
  {
   "cell_type": "markdown",
   "metadata": {},
   "source": [
    "---"
   ]
  },
  {
   "cell_type": "markdown",
   "metadata": {},
   "source": [
    "# Chars"
   ]
  },
  {
   "cell_type": "raw",
   "metadata": {},
   "source": [
    "texts[texts.str.contains('^{[a-z]*:[0-9]+.*}$')].reset_index()"
   ]
  },
  {
   "cell_type": "markdown",
   "metadata": {},
   "source": [
    "## localization"
   ]
  },
  {
   "cell_type": "code",
   "execution_count": 7,
   "metadata": {
    "scrolled": false
   },
   "outputs": [
    {
     "name": "stdout",
     "output_type": "stream",
     "text": [
      "(106722, 1)\n"
     ]
    },
    {
     "data": {
      "text/html": [
       "<div>\n",
       "<style scoped>\n",
       "    .dataframe tbody tr th:only-of-type {\n",
       "        vertical-align: middle;\n",
       "    }\n",
       "\n",
       "    .dataframe tbody tr th {\n",
       "        vertical-align: top;\n",
       "    }\n",
       "\n",
       "    .dataframe thead th {\n",
       "        text-align: right;\n",
       "    }\n",
       "</style>\n",
       "<table border=\"1\" class=\"dataframe\">\n",
       "  <thead>\n",
       "    <tr style=\"text-align: right;\">\n",
       "      <th></th>\n",
       "      <th>content</th>\n",
       "    </tr>\n",
       "  </thead>\n",
       "  <tbody>\n",
       "    <tr>\n",
       "      <th>0</th>\n",
       "      <td>大量长期出资源和功勋要的加微信18108477740。大量长期出资源和功勋要的加微信18108477740大量出资源，功勋，捐城 **等游戏一切任务，要的加微信1810847740</td>\n",
       "    </tr>\n",
       "  </tbody>\n",
       "</table>\n",
       "</div>"
      ],
      "text/plain": [
       "                                                                                      content\n",
       "0  大量长期出资源和功勋要的加微信18108477740。大量长期出资源和功勋要的加微信18108477740大量出资源，功勋，捐城 **等游戏一切任务，要的加微信1810847740"
      ]
     },
     "execution_count": 7,
     "metadata": {},
     "output_type": "execute_result"
    }
   ],
   "source": [
    "texts = texts[~texts['content'].str.contains('^{localization:[0-9]+\\-[0-9]+}$')].reset_index(drop=True)\n",
    "print(texts.shape)\n",
    "texts.head(1)"
   ]
  },
  {
   "cell_type": "markdown",
   "metadata": {},
   "source": [
    "## battle"
   ]
  },
  {
   "cell_type": "code",
   "execution_count": 8,
   "metadata": {},
   "outputs": [
    {
     "data": {
      "text/plain": [
       "(105009, 1)"
      ]
     },
     "execution_count": 8,
     "metadata": {},
     "output_type": "execute_result"
    }
   ],
   "source": [
    "texts = texts[~texts['content'].str.contains('^{battle:[0-9]+,【.*】.*}$')].reset_index(drop=True)\n",
    "texts.shape"
   ]
  },
  {
   "cell_type": "code",
   "execution_count": 9,
   "metadata": {},
   "outputs": [
    {
     "data": {
      "text/plain": [
       "(104977, 1)"
      ]
     },
     "execution_count": 9,
     "metadata": {},
     "output_type": "execute_result"
    }
   ],
   "source": [
    "texts = texts[~texts['content'].str.contains('^{[a-z]*:[0-9]+.*}$')].reset_index(drop=True)\n",
    "texts.shape"
   ]
  },
  {
   "cell_type": "code",
   "execution_count": 10,
   "metadata": {},
   "outputs": [
    {
     "data": {
      "text/html": [
       "<div>\n",
       "<style scoped>\n",
       "    .dataframe tbody tr th:only-of-type {\n",
       "        vertical-align: middle;\n",
       "    }\n",
       "\n",
       "    .dataframe tbody tr th {\n",
       "        vertical-align: top;\n",
       "    }\n",
       "\n",
       "    .dataframe thead th {\n",
       "        text-align: right;\n",
       "    }\n",
       "</style>\n",
       "<table border=\"1\" class=\"dataframe\">\n",
       "  <thead>\n",
       "    <tr style=\"text-align: right;\">\n",
       "      <th></th>\n",
       "      <th>content</th>\n",
       "    </tr>\n",
       "  </thead>\n",
       "  <tbody>\n",
       "    <tr>\n",
       "      <th>0</th>\n",
       "      <td>大量长期出资源和功勋要的加微信18108477740。大量长期出资源和功勋要的加微信18108477740大量出资源，功勋，捐城 **等游戏一切任务，要的加微信1810847740</td>\n",
       "    </tr>\n",
       "    <tr>\n",
       "      <th>1</th>\n",
       "      <td>大量长期出资源和功勋要的加微信18108477740。大量长期出资源和功勋要的加微信18108477740</td>\n",
       "    </tr>\n",
       "    <tr>\n",
       "      <th>2</th>\n",
       "      <td>大量长期出资源和功勋要的加微信18108477740。大量长期出资源和功勋要的加微信18108477740大量出资源，功勋，捐城 **等游戏一切任务，要的加微信1810847740</td>\n",
       "    </tr>\n",
       "    <tr>\n",
       "      <th>3</th>\n",
       "      <td>大量长期出资源和功勋要的加微信18108477740。大量长期出资源和功勋要的加微信18108477740</td>\n",
       "    </tr>\n",
       "    <tr>\n",
       "      <th>4</th>\n",
       "      <td>大量长期出资源和功勋要的加微信18108477740。大量长期出资源和功勋要的加微信18108477740大量出资源，功勋，捐城 **等游戏一切任务，要的加微信1810847740</td>\n",
       "    </tr>\n",
       "    <tr>\n",
       "      <th>5</th>\n",
       "      <td>哈哈哈，看你这气急败坏的样子我就很舒坦</td>\n",
       "    </tr>\n",
       "    <tr>\n",
       "      <th>6</th>\n",
       "      <td>施主 再偷一次？苍穹不出手那种 {localization:926-516}</td>\n",
       "    </tr>\n",
       "    <tr>\n",
       "      <th>7</th>\n",
       "      <td>真tm舔够 jian 人都不配做</td>\n",
       "    </tr>\n",
       "    <tr>\n",
       "      <th>8</th>\n",
       "      <td>嘻嘻，你可保持好心态，别气的死太早呀</td>\n",
       "    </tr>\n",
       "    <tr>\n",
       "      <th>9</th>\n",
       "      <td>施主 单挑烽火啊 拿建业 {localization:926-516}</td>\n",
       "    </tr>\n",
       "  </tbody>\n",
       "</table>\n",
       "</div>"
      ],
      "text/plain": [
       "                                                                                      content\n",
       "0  大量长期出资源和功勋要的加微信18108477740。大量长期出资源和功勋要的加微信18108477740大量出资源，功勋，捐城 **等游戏一切任务，要的加微信1810847740\n",
       "1  大量长期出资源和功勋要的加微信18108477740。大量长期出资源和功勋要的加微信18108477740                                     \n",
       "2  大量长期出资源和功勋要的加微信18108477740。大量长期出资源和功勋要的加微信18108477740大量出资源，功勋，捐城 **等游戏一切任务，要的加微信1810847740\n",
       "3  大量长期出资源和功勋要的加微信18108477740。大量长期出资源和功勋要的加微信18108477740                                     \n",
       "4  大量长期出资源和功勋要的加微信18108477740。大量长期出资源和功勋要的加微信18108477740大量出资源，功勋，捐城 **等游戏一切任务，要的加微信1810847740\n",
       "5  哈哈哈，看你这气急败坏的样子我就很舒坦                                                                       \n",
       "6  施主 再偷一次？苍穹不出手那种 {localization:926-516}                                                    \n",
       "7  真tm舔够 jian 人都不配做                                                                          \n",
       "8  嘻嘻，你可保持好心态，别气的死太早呀                                                                        \n",
       "9  施主 单挑烽火啊 拿建业 {localization:926-516}                                                       "
      ]
     },
     "execution_count": 10,
     "metadata": {},
     "output_type": "execute_result"
    }
   ],
   "source": [
    "# pd.DataFrame(texts.head(10))\n",
    "texts.head(10)"
   ]
  },
  {
   "cell_type": "markdown",
   "metadata": {},
   "source": [
    "## clean"
   ]
  },
  {
   "cell_type": "code",
   "execution_count": 11,
   "metadata": {},
   "outputs": [
    {
     "name": "stdout",
     "output_type": "stream",
     "text": [
      "104977\n"
     ]
    }
   ],
   "source": [
    "texts['tokens'] = texts['content'].str.strip().str.lower()\n",
    "print(len(texts))"
   ]
  },
  {
   "cell_type": "code",
   "execution_count": 12,
   "metadata": {},
   "outputs": [],
   "source": [
    "sw = [r'\\s+', r'{localization:[0-9]+\\-[0-9]+}', '丶']"
   ]
  },
  {
   "cell_type": "code",
   "execution_count": 13,
   "metadata": {},
   "outputs": [
    {
     "name": "stdout",
     "output_type": "stream",
     "text": [
      "104977\n",
      "104977\n",
      "104977\n"
     ]
    }
   ],
   "source": [
    "for _ in sw:\n",
    "    texts['tokens'] = texts['tokens'].str.replace(_, '')\n",
    "    print(len(texts))"
   ]
  },
  {
   "cell_type": "markdown",
   "metadata": {},
   "source": [
    "## meaningless"
   ]
  },
  {
   "cell_type": "code",
   "execution_count": 14,
   "metadata": {},
   "outputs": [
    {
     "name": "stdout",
     "output_type": "stream",
     "text": [
      "94919\n"
     ]
    }
   ],
   "source": [
    "texts = texts[~texts['tokens'].str.isnumeric()]\n",
    "print(len(texts))"
   ]
  },
  {
   "cell_type": "markdown",
   "metadata": {},
   "source": [
    "## merge chars"
   ]
  },
  {
   "cell_type": "code",
   "execution_count": 15,
   "metadata": {},
   "outputs": [],
   "source": [
    "dict_merge_chars = {'贝戋' : '贱', '犭句' : '狗', '女马' : '妈'}"
   ]
  },
  {
   "cell_type": "code",
   "execution_count": 16,
   "metadata": {},
   "outputs": [],
   "source": [
    "for k, v in dict_merge_chars.items():\n",
    "    texts['tokens'] = texts['tokens'].str.replace(k, v)"
   ]
  },
  {
   "cell_type": "markdown",
   "metadata": {},
   "source": [
    "---"
   ]
  },
  {
   "cell_type": "markdown",
   "metadata": {},
   "source": [
    "# Tokens"
   ]
  },
  {
   "cell_type": "markdown",
   "metadata": {},
   "source": [
    "## tokenization"
   ]
  },
  {
   "cell_type": "code",
   "execution_count": 17,
   "metadata": {
    "scrolled": true
   },
   "outputs": [
    {
     "name": "stderr",
     "output_type": "stream",
     "text": [
      "Building prefix dict from the default dictionary ...\n",
      "Loading model from cache /tmp/jieba.cache\n",
      "Loading model cost 0.689 seconds.\n",
      "Prefix dict has been built successfully.\n"
     ]
    },
    {
     "name": "stdout",
     "output_type": "stream",
     "text": [
      "CPU times: user 7.77 s, sys: 152 ms, total: 7.92 s\n",
      "Wall time: 7.92 s\n",
      "94919\n"
     ]
    }
   ],
   "source": [
    "%time texts['tokens'] = texts['tokens'].apply(jieba.lcut)\n",
    "print(len(texts))"
   ]
  },
  {
   "cell_type": "code",
   "execution_count": 18,
   "metadata": {},
   "outputs": [
    {
     "data": {
      "text/html": [
       "<div>\n",
       "<style scoped>\n",
       "    .dataframe tbody tr th:only-of-type {\n",
       "        vertical-align: middle;\n",
       "    }\n",
       "\n",
       "    .dataframe tbody tr th {\n",
       "        vertical-align: top;\n",
       "    }\n",
       "\n",
       "    .dataframe thead th {\n",
       "        text-align: right;\n",
       "    }\n",
       "</style>\n",
       "<table border=\"1\" class=\"dataframe\">\n",
       "  <thead>\n",
       "    <tr style=\"text-align: right;\">\n",
       "      <th></th>\n",
       "      <th>content</th>\n",
       "      <th>tokens</th>\n",
       "    </tr>\n",
       "  </thead>\n",
       "  <tbody>\n",
       "    <tr>\n",
       "      <th>0</th>\n",
       "      <td>大量长期出资源和功勋要的加微信18108477740。大量长期出资源和功勋要的加微信18108477740大量出资源，功勋，捐城 **等游戏一切任务，要的加微信1810847740</td>\n",
       "      <td>[大量, 长期, 出, 资源, 和, 功勋, 要, 的, 加微信, 18108477740, 。, 大量, 长期, 出, 资源, 和, 功勋, 要, 的, 加微信, 18108477740, 大量出, 资源, ，, 功勋, ，, 捐城, *, *, 等, 游戏, 一切, 任务, ，, 要, 的, 加微信, 1810847740]</td>\n",
       "    </tr>\n",
       "  </tbody>\n",
       "</table>\n",
       "</div>"
      ],
      "text/plain": [
       "                                                                                      content  \\\n",
       "0  大量长期出资源和功勋要的加微信18108477740。大量长期出资源和功勋要的加微信18108477740大量出资源，功勋，捐城 **等游戏一切任务，要的加微信1810847740   \n",
       "\n",
       "                                                                                                                                                                  tokens  \n",
       "0  [大量, 长期, 出, 资源, 和, 功勋, 要, 的, 加微信, 18108477740, 。, 大量, 长期, 出, 资源, 和, 功勋, 要, 的, 加微信, 18108477740, 大量出, 资源, ，, 功勋, ，, 捐城, *, *, 等, 游戏, 一切, 任务, ，, 要, 的, 加微信, 1810847740]  "
      ]
     },
     "execution_count": 18,
     "metadata": {},
     "output_type": "execute_result"
    }
   ],
   "source": [
    "texts.head(1)"
   ]
  },
  {
   "cell_type": "markdown",
   "metadata": {},
   "source": [
    "## split"
   ]
  },
  {
   "cell_type": "markdown",
   "metadata": {},
   "source": [
    "### chars + numbers"
   ]
  },
  {
   "cell_type": "code",
   "execution_count": 19,
   "metadata": {},
   "outputs": [],
   "source": [
    "def chars_numbers(i):\n",
    "    m = re.match('^([a-z]+)([0-9]+)$', i)\n",
    "    if m: return list(m.groups())\n",
    "    \n",
    "    m = re.match('^([0-9]+)([a-z]+)$', i)\n",
    "    if m: return list(m.groups())\n",
    "    \n",
    "    return [i]"
   ]
  },
  {
   "cell_type": "code",
   "execution_count": 20,
   "metadata": {},
   "outputs": [],
   "source": [
    "def split_chars_numbers(x):\n",
    "    return list(chain.from_iterable([chars_numbers(i) for i in x])) "
   ]
  },
  {
   "cell_type": "code",
   "execution_count": 21,
   "metadata": {},
   "outputs": [
    {
     "name": "stdout",
     "output_type": "stream",
     "text": [
      "CPU times: user 1.57 s, sys: 4 ms, total: 1.58 s\n",
      "Wall time: 1.58 s\n",
      "94919\n"
     ]
    },
    {
     "data": {
      "text/html": [
       "<div>\n",
       "<style scoped>\n",
       "    .dataframe tbody tr th:only-of-type {\n",
       "        vertical-align: middle;\n",
       "    }\n",
       "\n",
       "    .dataframe tbody tr th {\n",
       "        vertical-align: top;\n",
       "    }\n",
       "\n",
       "    .dataframe thead th {\n",
       "        text-align: right;\n",
       "    }\n",
       "</style>\n",
       "<table border=\"1\" class=\"dataframe\">\n",
       "  <thead>\n",
       "    <tr style=\"text-align: right;\">\n",
       "      <th></th>\n",
       "      <th>content</th>\n",
       "      <th>tokens</th>\n",
       "    </tr>\n",
       "  </thead>\n",
       "  <tbody>\n",
       "    <tr>\n",
       "      <th>0</th>\n",
       "      <td>大量长期出资源和功勋要的加微信18108477740。大量长期出资源和功勋要的加微信18108477740大量出资源，功勋，捐城 **等游戏一切任务，要的加微信1810847740</td>\n",
       "      <td>[大量, 长期, 出, 资源, 和, 功勋, 要, 的, 加微信, 18108477740, 。, 大量, 长期, 出, 资源, 和, 功勋, 要, 的, 加微信, 18108477740, 大量出, 资源, ，, 功勋, ，, 捐城, *, *, 等, 游戏, 一切, 任务, ，, 要, 的, 加微信, 1810847740]</td>\n",
       "    </tr>\n",
       "  </tbody>\n",
       "</table>\n",
       "</div>"
      ],
      "text/plain": [
       "                                                                                      content  \\\n",
       "0  大量长期出资源和功勋要的加微信18108477740。大量长期出资源和功勋要的加微信18108477740大量出资源，功勋，捐城 **等游戏一切任务，要的加微信1810847740   \n",
       "\n",
       "                                                                                                                                                                  tokens  \n",
       "0  [大量, 长期, 出, 资源, 和, 功勋, 要, 的, 加微信, 18108477740, 。, 大量, 长期, 出, 资源, 和, 功勋, 要, 的, 加微信, 18108477740, 大量出, 资源, ，, 功勋, ，, 捐城, *, *, 等, 游戏, 一切, 任务, ，, 要, 的, 加微信, 1810847740]  "
      ]
     },
     "execution_count": 21,
     "metadata": {},
     "output_type": "execute_result"
    }
   ],
   "source": [
    "%time texts['tokens'] = texts['tokens'].apply(split_chars_numbers)\n",
    "print(len(texts))\n",
    "texts.head(1)"
   ]
  },
  {
   "cell_type": "markdown",
   "metadata": {},
   "source": [
    "### special words"
   ]
  },
  {
   "cell_type": "code",
   "execution_count": 22,
   "metadata": {},
   "outputs": [],
   "source": [
    "dict_split = {\n",
    "'大量出' : ['大量', '出'],\n",
    "'加微信' : ['加', '微信'],\n",
    "}"
   ]
  },
  {
   "cell_type": "code",
   "execution_count": 23,
   "metadata": {},
   "outputs": [
    {
     "name": "stdout",
     "output_type": "stream",
     "text": [
      "CPU times: user 348 ms, sys: 0 ns, total: 348 ms\n",
      "Wall time: 345 ms\n",
      "94919\n"
     ]
    },
    {
     "data": {
      "text/html": [
       "<div>\n",
       "<style scoped>\n",
       "    .dataframe tbody tr th:only-of-type {\n",
       "        vertical-align: middle;\n",
       "    }\n",
       "\n",
       "    .dataframe tbody tr th {\n",
       "        vertical-align: top;\n",
       "    }\n",
       "\n",
       "    .dataframe thead th {\n",
       "        text-align: right;\n",
       "    }\n",
       "</style>\n",
       "<table border=\"1\" class=\"dataframe\">\n",
       "  <thead>\n",
       "    <tr style=\"text-align: right;\">\n",
       "      <th></th>\n",
       "      <th>content</th>\n",
       "      <th>tokens</th>\n",
       "    </tr>\n",
       "  </thead>\n",
       "  <tbody>\n",
       "    <tr>\n",
       "      <th>0</th>\n",
       "      <td>大量长期出资源和功勋要的加微信18108477740。大量长期出资源和功勋要的加微信18108477740大量出资源，功勋，捐城 **等游戏一切任务，要的加微信1810847740</td>\n",
       "      <td>[大量, 长期, 出, 资源, 和, 功勋, 要, 的, 加, 微信, 18108477740, 。, 大量, 长期, 出, 资源, 和, 功勋, 要, 的, 加, 微信, 18108477740, 大量, 出, 资源, ，, 功勋, ，, 捐城, *, *, 等, 游戏, 一切, 任务, ，, 要, 的, 加, 微信, 1810847740]</td>\n",
       "    </tr>\n",
       "  </tbody>\n",
       "</table>\n",
       "</div>"
      ],
      "text/plain": [
       "                                                                                      content  \\\n",
       "0  大量长期出资源和功勋要的加微信18108477740。大量长期出资源和功勋要的加微信18108477740大量出资源，功勋，捐城 **等游戏一切任务，要的加微信1810847740   \n",
       "\n",
       "                                                                                                                                                                          tokens  \n",
       "0  [大量, 长期, 出, 资源, 和, 功勋, 要, 的, 加, 微信, 18108477740, 。, 大量, 长期, 出, 资源, 和, 功勋, 要, 的, 加, 微信, 18108477740, 大量, 出, 资源, ，, 功勋, ，, 捐城, *, *, 等, 游戏, 一切, 任务, ，, 要, 的, 加, 微信, 1810847740]  "
      ]
     },
     "execution_count": 23,
     "metadata": {},
     "output_type": "execute_result"
    }
   ],
   "source": [
    "%time texts['tokens'] = texts['tokens'].apply(lambda x: list(chain.from_iterable([dict_split.get(i,[i]) for i in x])))\n",
    "print(len(texts))\n",
    "texts.head(1)"
   ]
  },
  {
   "cell_type": "markdown",
   "metadata": {},
   "source": [
    "## merge words"
   ]
  },
  {
   "cell_type": "code",
   "execution_count": 24,
   "metadata": {},
   "outputs": [],
   "source": [
    "list_merge2 = [['资源', '商'], ['张', '辽'], ['c', '位'], ['郡', '城'], ['洗洗', '睡'], ['守', '不住'], ['刚', '有事'], ['弃', '坑'], ['新手', '服'], ['带', '兵'], ['老', '样子'], \n",
    "               ['冒个', '泡'], ['白', '嫖'], ['亲', '密度'], ['打寇', '匪'], ['周年', '庆'], ['带', '节奏'], ['玩', '游戏'], ['新', '版本'], ['积点', '德'], ['炸', '矿'], ['赛季', '服'], \n",
    "               ['邺', '城'], ['想', '办法'], ['乌', '骓'], ['龟', '孙'], ['红', '手指'], ['死', '妈'], ['2', '队'], ['等', '会'], ['打', '不过'], ['好', '吧'], ['等', '下'], ['打', '掉'], \n",
    "               ['去', '吧'], ['等', '一下'], ['打', '一下'], ['打', '哪'], ['收兵', '线'], ['撤', '吧'], ['不', '客气'], ['稍', '等'], ['不', '懂'], ['打', '不了'], ['不会', '吧'],\n",
    "              ['不', '稳定'], ['下', '一个'], ['人', '不够'], ['努力', '中'], ['赌', '一把'], ['到', '点'], ['1', '队'], ['没看', '懂'], ['+', '1'], ['合个', '影'], ['燕子', '坞'],\n",
    "              ['一', '梭子']]"
   ]
  },
  {
   "cell_type": "code",
   "execution_count": 25,
   "metadata": {},
   "outputs": [],
   "source": [
    "list_merge3 = [['青山', '不改', '绿水长流'], ['打', '不', '打'], ['来', '不来']]"
   ]
  },
  {
   "cell_type": "code",
   "execution_count": 26,
   "metadata": {},
   "outputs": [],
   "source": [
    "def merge3(x):\n",
    "    if 2 > len(x): return x\n",
    "    \n",
    "    r = []\n",
    "    i = len(x) - 1\n",
    "    \n",
    "    while(1<i):\n",
    "        if [x[i-2],x[i-1],x[i]] in list_merge3:\n",
    "            r.insert(0, ''.join([x[i-2],x[i-1],x[i]]))\n",
    "            i -= 3\n",
    "        else:\n",
    "            r.insert(0, x[i])\n",
    "            i -= 1\n",
    "\n",
    "    if 1 == i:\n",
    "        r.insert(0, x[1])\n",
    "        r.insert(0, x[0])\n",
    "            \n",
    "    return r"
   ]
  },
  {
   "cell_type": "code",
   "execution_count": 27,
   "metadata": {},
   "outputs": [],
   "source": [
    "def merge2(x):\n",
    "    if 2 > len(x): return x\n",
    "    \n",
    "    r = []\n",
    "    i = len(x) - 1\n",
    "    \n",
    "    while(0<i):\n",
    "        if [x[i-1],x[i]] in list_merge2:\n",
    "            r.insert(0, ''.join([x[i-1],x[i]]))\n",
    "            i -= 2\n",
    "        else:\n",
    "            r.insert(0, x[i])\n",
    "            i -= 1\n",
    "            \n",
    "    if 0 == i:\n",
    "        r.insert(0, x[0])\n",
    "            \n",
    "    return r"
   ]
  },
  {
   "cell_type": "code",
   "execution_count": 28,
   "metadata": {
    "scrolled": true
   },
   "outputs": [
    {
     "name": "stdout",
     "output_type": "stream",
     "text": [
      "CPU times: user 472 ms, sys: 12 ms, total: 484 ms\n",
      "Wall time: 483 ms\n",
      "94919\n"
     ]
    },
    {
     "data": {
      "text/html": [
       "<div>\n",
       "<style scoped>\n",
       "    .dataframe tbody tr th:only-of-type {\n",
       "        vertical-align: middle;\n",
       "    }\n",
       "\n",
       "    .dataframe tbody tr th {\n",
       "        vertical-align: top;\n",
       "    }\n",
       "\n",
       "    .dataframe thead th {\n",
       "        text-align: right;\n",
       "    }\n",
       "</style>\n",
       "<table border=\"1\" class=\"dataframe\">\n",
       "  <thead>\n",
       "    <tr style=\"text-align: right;\">\n",
       "      <th></th>\n",
       "      <th>content</th>\n",
       "      <th>tokens</th>\n",
       "    </tr>\n",
       "  </thead>\n",
       "  <tbody>\n",
       "    <tr>\n",
       "      <th>0</th>\n",
       "      <td>大量长期出资源和功勋要的加微信18108477740。大量长期出资源和功勋要的加微信18108477740大量出资源，功勋，捐城 **等游戏一切任务，要的加微信1810847740</td>\n",
       "      <td>[大量, 长期, 出, 资源, 和, 功勋, 要, 的, 加, 微信, 18108477740, 。, 大量, 长期, 出, 资源, 和, 功勋, 要, 的, 加, 微信, 18108477740, 大量, 出, 资源, ，, 功勋, ，, 捐城, *, *, 等, 游戏, 一切, 任务, ，, 要, 的, 加, 微信, 1810847740]</td>\n",
       "    </tr>\n",
       "  </tbody>\n",
       "</table>\n",
       "</div>"
      ],
      "text/plain": [
       "                                                                                      content  \\\n",
       "0  大量长期出资源和功勋要的加微信18108477740。大量长期出资源和功勋要的加微信18108477740大量出资源，功勋，捐城 **等游戏一切任务，要的加微信1810847740   \n",
       "\n",
       "                                                                                                                                                                          tokens  \n",
       "0  [大量, 长期, 出, 资源, 和, 功勋, 要, 的, 加, 微信, 18108477740, 。, 大量, 长期, 出, 资源, 和, 功勋, 要, 的, 加, 微信, 18108477740, 大量, 出, 资源, ，, 功勋, ，, 捐城, *, *, 等, 游戏, 一切, 任务, ，, 要, 的, 加, 微信, 1810847740]  "
      ]
     },
     "execution_count": 28,
     "metadata": {},
     "output_type": "execute_result"
    }
   ],
   "source": [
    "%time texts['tokens'] = texts['tokens'].apply(merge3)\n",
    "print(len(texts))\n",
    "texts.head(1)"
   ]
  },
  {
   "cell_type": "code",
   "execution_count": 29,
   "metadata": {},
   "outputs": [
    {
     "name": "stdout",
     "output_type": "stream",
     "text": [
      "CPU times: user 1.52 s, sys: 24 ms, total: 1.54 s\n",
      "Wall time: 1.54 s\n",
      "94919\n"
     ]
    },
    {
     "data": {
      "text/html": [
       "<div>\n",
       "<style scoped>\n",
       "    .dataframe tbody tr th:only-of-type {\n",
       "        vertical-align: middle;\n",
       "    }\n",
       "\n",
       "    .dataframe tbody tr th {\n",
       "        vertical-align: top;\n",
       "    }\n",
       "\n",
       "    .dataframe thead th {\n",
       "        text-align: right;\n",
       "    }\n",
       "</style>\n",
       "<table border=\"1\" class=\"dataframe\">\n",
       "  <thead>\n",
       "    <tr style=\"text-align: right;\">\n",
       "      <th></th>\n",
       "      <th>content</th>\n",
       "      <th>tokens</th>\n",
       "    </tr>\n",
       "  </thead>\n",
       "  <tbody>\n",
       "    <tr>\n",
       "      <th>0</th>\n",
       "      <td>大量长期出资源和功勋要的加微信18108477740。大量长期出资源和功勋要的加微信18108477740大量出资源，功勋，捐城 **等游戏一切任务，要的加微信1810847740</td>\n",
       "      <td>[大量, 长期, 出, 资源, 和, 功勋, 要, 的, 加, 微信, 18108477740, 。, 大量, 长期, 出, 资源, 和, 功勋, 要, 的, 加, 微信, 18108477740, 大量, 出, 资源, ，, 功勋, ，, 捐城, *, *, 等, 游戏, 一切, 任务, ，, 要, 的, 加, 微信, 1810847740]</td>\n",
       "    </tr>\n",
       "  </tbody>\n",
       "</table>\n",
       "</div>"
      ],
      "text/plain": [
       "                                                                                      content  \\\n",
       "0  大量长期出资源和功勋要的加微信18108477740。大量长期出资源和功勋要的加微信18108477740大量出资源，功勋，捐城 **等游戏一切任务，要的加微信1810847740   \n",
       "\n",
       "                                                                                                                                                                          tokens  \n",
       "0  [大量, 长期, 出, 资源, 和, 功勋, 要, 的, 加, 微信, 18108477740, 。, 大量, 长期, 出, 资源, 和, 功勋, 要, 的, 加, 微信, 18108477740, 大量, 出, 资源, ，, 功勋, ，, 捐城, *, *, 等, 游戏, 一切, 任务, ，, 要, 的, 加, 微信, 1810847740]  "
      ]
     },
     "execution_count": 29,
     "metadata": {},
     "output_type": "execute_result"
    }
   ],
   "source": [
    "%time texts['tokens'] = texts['tokens'].apply(merge2)\n",
    "print(len(texts))\n",
    "texts.head(1)"
   ]
  },
  {
   "cell_type": "markdown",
   "metadata": {},
   "source": [
    "## stopwords"
   ]
  },
  {
   "cell_type": "markdown",
   "metadata": {},
   "source": [
    "### regular"
   ]
  },
  {
   "cell_type": "raw",
   "metadata": {},
   "source": [
    "def get_stopwords(path):\n",
    "    stopwords = []\n",
    "    for filename in os.listdir(path):\n",
    "        with open(os.path.join(path, filename), 'r') as f:\n",
    "            stopwords.extend([w.strip() for w in f.readlines()])            \n",
    "    return stopwords"
   ]
  },
  {
   "cell_type": "raw",
   "metadata": {},
   "source": [
    "stopwords = get_stopwords('/home/wangyh/project/document_cluster/dicts/')\n",
    "print(len(stopwords))\n",
    "stopwords[:10]"
   ]
  },
  {
   "cell_type": "code",
   "execution_count": 30,
   "metadata": {},
   "outputs": [],
   "source": [
    "stopwords = []"
   ]
  },
  {
   "cell_type": "markdown",
   "metadata": {},
   "source": [
    "### ads detect only"
   ]
  },
  {
   "cell_type": "code",
   "execution_count": 31,
   "metadata": {},
   "outputs": [],
   "source": [
    "sw = ['…', '⊙', '∀', 'ಡ', 'ω', 'ಡ', '😂', '😜', '谢谢', '哈', '哈哈', '哈哈哈', '哈哈哈哈', '明天', '晚上', '中午', '刷', '刷刷', '霍', '开', '开开', '几点', '没', '改', '军团',\n",
    "     '散', '结束', '切磋', '队伍', '早', '说', '挂免', '丢人', '打匪', '驻防', '感谢', '再见', '来刷', '抱歉', '行军', '飞', '牛', '牛牛', '做人', '善良', '赞', '赞赞', '赞赞赞',\n",
    "     '兄弟', '风云', '文明', '飞过来', '拍', '完', '拉', '求虐', '找', '渣', '喊', '拍照', '试试', '谢', '抢', '发', '没事', '喊', '占', '做', '试', '今晚', '更新', '睡觉', \n",
    "      '走', '帮忙', '帮', '一会', '吃', '╯', '╰', '溜', '偷', '刷不刷', '←', 'ಥ', '加速', '接', '做', '这是', '呱唧', '先打', '县城', '县', '打不动', '不用', '喝酒', '不好意思',\n",
    "     '唧唧', '没事', '速度', '先', '派', '弄', '留个', '纪念', 'ง', '•', '̀', '•', '́', '报名', '新', '新版本', '轮子', '嗲', '女马', '一条', '舔', '菊花', '屁股', '秃顶', '后代', '兔子', \n",
    "     '鹰酱', '全家', '坑货', '合照', '游戏', '太', '团', '里', '诅咒', '合影', '一队', '二队', '二团', '三团', '一群群', '阿猫', '骗', '删', '统一', '签到', '自动', '老子', '说话', \n",
    "      '窝囊废', '死妈', '没妈', '短命', '渣种', '成天', '只会', '亲麻', '打泡', '亲跌', '死', '吠', '骂', '赢', '江湖', '故人', '相逢', '青山', '不改', '绿水长流', '万事', '顺遂',\n",
    "     '尔隆', '咚锵', '进', '差', '远', '又', '，', '都', '是', '就是', '的', '更好', '发展', '利用', '，', '大家', '一起', '作战', '有', '和', '你', '我', '还', '在线', '。', '*', '、', ':',\n",
    "     '您', '能', '为', '了', '就', '（', '？', '吗', '来', '了', '能', '不能', '大', '嘛', '被', '那', '在', '！', '他', '再', '自己', '坐标', '截图', '！', '准备', '退场', '2队', '这', \n",
    "     '积点德', '也', '让', '他们', '啊', '现在', '为了', '你好', '您好', '本', '有志', '青年', '共同', '迎接', '直接', '申请', '蜀国', '加油', '砸种', '狗', '汗间', '魏主', \n",
    "      '祖宗', '现实', '地位', '乐趣', '呢', '认识', '拿', '个', '比', '当', '们', '一场', '持久战', '相信', '胜利', '终将', '属于', '我们', '团结', '一定', '胜利', '欢迎', '所有', \n",
    "      '吴国', '大老', '黑', '又称', '真人', '广大', '群众', '远离', '亲码', '嗷嗷叫', '孝顺', '儿', '懆', '得', '这个', '喔', '猪', '拱', '浑身', '溃烂', '正在', '喝', '脓血', '疗伤',\n",
    "     '可怜', '家里', '得', '剩', '知道', '不', '容易', '父母', '等', '着', '拿', '钱', '买', '棺材', '下葬', '呢', '可是', '那点', '父母', '烧纸', '不够',\n",
    "      '不', '知道', '回', '云天', '陪', '所谓', '“', '”', '还是', '像', '癞皮狗', '一样', '继续', '留在', '大腿', '可以', '抱', '团里', '当奴才', '拭目以待',\n",
    "     '种地', '现实', '残酷', '农民', '们', '辛苦', '啦', '不辞辛苦', '坚持', '帽子', '小', '农民', '思维', '真是', '单纯', '可爱', '惹', '人', '疼', '呢', '不', '知道', '不', '打', \n",
    "      '宝服', '傻', '笔王', '人',  '呢', '打', '吧', '此', '不肖', '子', '还有', '人', '集结', '留念', '最后', '一期', '好', '凑个', '脸熟', '什么', '意思', '嗯', '好', '情况', '二货',\n",
    "     '今天', '敌人', '朋友', '这里', '打', '可能', '延迟', '几分钟', '尽量', '保证', '每', '一位', '这个', '时候', '呵呵', '呵', '好', '嘞', '恩怨', '一笑', '泯', '恩仇',\n",
    "     '啥', '情况', '你们', '哦', '好', '顶战', '清人', '(', ')', '刚', '上线', '我们', '加油', '成员', '全体', '集合', '民心', '任务', '吧', '哪', '认识', '清楚', '么', '分钟', '打不过', \n",
    "     '别', '呀', '战力', '以后', '再升', '留点', '兵', '去', '有人', '土匪', '来个', '帮帮忙', '：', '）', '有人', '碰瓷', '厉害', '呀', '怎么', '不理', '因为', '觉得', '咋样',\n",
    "      '慢慢', '玩吧', '亏', '大发', '别', '互相', '伤害', '告诉', '打野', '有点', '过分', '回家', '公告', '看', '去', '将', '我开', '相忘', '于', '到', '旁边', '乐', '有缘千里', '相会',\n",
    "     '有缘', '各位', '真', '无聊', '分钟', '我来', '看看', '揍', '没有', '一下', '一个', '上', '下', '用', '不要', '位置', '这么', '繁荣', '谁', '玩', '秒', '把', '多少', '多', '魏国',\n",
    "      '一二三四五', '过来', '九点', '长安', '次', '不是', '开始', '阵容', '以上', '时间', '很', '清', '带', '城', '打飞', '会', '咯', '地点', '郡城', '留影', '洛阳', '想', '有没有', \n",
    "      '搞', '祝', '提前', '随便', '看见', '个人', '起来', '一炮', '不行', '叫', '对', '落位', '上车', '天天', '不好', '令', '分', '区', '高', '王', '其他', '通告', '围城', '联盟',\n",
    "     '快', '兵线', '地方', '够', '咋', '线', '小时', '跑', '后面', '无', '起', '那个', '蜀', '散人', '郡', '所有人', '本人', '原始', '娱乐', '赶紧', '一点', 'c位', '错', '建筑',\n",
    "     '成都', '一环', '凑', '希望', '撤', '飞过去', '配合', '其他人', '过', '出兵', '那么', '随机', '最好', '全部', '才', '一直', '领', '中', ',', '可', '现', '开心', '跟', '主公',\n",
    "     '炸', '马上', '本服', '照', '过节', '大小', '报仇', '三国', '今后', '以前', '消', '弟兄们', '早到', '已经', '自立', '城池', '准时', '种田', '春节', '已放', '下位', '处',\n",
    "     '方向', '参加', '该', '浪费', '照片', '世界', '见', '一次', '集体', '做个', '到位', '差距', '天', '就位', '打城', '没出息', '奇怪', '好像', '坟头', '不了', '哪个', '不到', \n",
    "     '没兵', '彻底', '报', '许昌', '哥哥', '刚刚', '再来', '刚才', '回来', '如果', '出来', '几次', '总是', '应该', '好多', '近', '长沙', '一兵', '不来', '太虚', '随意', '只有',\n",
    "     '等会', '条渣种', '此时此刻', '被控', '第一', '深更半夜', '平民', '霸服', '脸', '本事', '打出', '别说', '控号', '有钱', '别人', '被控', '残', '狗东西', \n",
    "      '地儿', '隆冬', '强', '咚咚', '锵', '整个', '挨个', '群', 'bb', '笔', '内', '间', '内', '畜生', '字', '小名', '童子', '喜', '男人', '男风', '者', '不怕', 'py',\n",
    "     '狗奴才', '嘴上', '立人', '设时', '连', '当真', '但', '经不起', '任何', '考验', '啪啪', '打脸', '两面三刀', '小人', '晚', '点', '自由', '开放', '1队', '平安', '喜乐', '月',\n",
    "     '解散', '麻烦', '随迁', '东瀛', '鬼子', '野种', '全飞', '保持', '队形', '寒江', '孤影', '何必', '曾', '相识', '睡', '晚安', '手机', '没电', '123', '茄子', '收兵线', '升', \n",
    "      '进步', '很大', '满级', '重', '再也', '不想', '欺负', '弱团', '欺负', '本国', '弱小', '分手', '打掉', '行', '散伙', '臭表子', '一组', '过去', '掉', '全一环', '格子',\n",
    "     '校场', '副', '再也', '不见', '吓', '跳', '傻笔', '每天', '早点', '休息', '称号', '废', '八姓', '家奴', '几把', '恶是', '几把',\n",
    "     '赛季', '服前', '一天', '一路', '涪陵', '有空', '按', '顺序', '整体', '排列', '点会', '安排', '大殿', '不带', '协防', '好友', '徒弟', '小车', '死光光',\n",
    "     '明晚', '长安城', '本区', '提供', '具体地址', '时发', '城到', '铁血', '具体', '吊打', '录屏', '注意', '有刷', '暂时', '离团', '南门', '军旗', '贱狗', '爽', '狗娘养',\n",
    "    '西南', '门', '军旗', '围', '三环', '抓紧', '骑兵', '进攻',  '抢新', '版本', '首站', '天王', '盖地', '虎', '大白', '卖', '蓝色', '蜀汉', '旗', '大白', '告', '妻',\n",
    "     '银河', '奥特曼', '沙比', '总喊', '玛', '没钱别', '比比', '能耐', '纳', '闷', '不多', '鱼名', '各路', '英雄', '叛贼', '打家劫舍', '原', '区不分', '国籍', '拍个',\n",
    "     '钱大狗', '期待', '与', '再次', '相遇', '期', '截止', '想来', '飞行', '玩耍', '万一', '低战图']"
   ]
  },
  {
   "cell_type": "code",
   "execution_count": 32,
   "metadata": {},
   "outputs": [],
   "source": [
    "sw = list(set(sw))"
   ]
  },
  {
   "cell_type": "code",
   "execution_count": 33,
   "metadata": {},
   "outputs": [
    {
     "data": {
      "text/plain": [
       "829"
      ]
     },
     "execution_count": 33,
     "metadata": {},
     "output_type": "execute_result"
    }
   ],
   "source": [
    "stopwords.extend(sw)\n",
    "len(stopwords)"
   ]
  },
  {
   "cell_type": "code",
   "execution_count": 34,
   "metadata": {},
   "outputs": [
    {
     "name": "stdout",
     "output_type": "stream",
     "text": [
      "CPU times: user 8.56 s, sys: 4 ms, total: 8.56 s\n",
      "Wall time: 8.56 s\n",
      "94919\n"
     ]
    },
    {
     "data": {
      "text/html": [
       "<div>\n",
       "<style scoped>\n",
       "    .dataframe tbody tr th:only-of-type {\n",
       "        vertical-align: middle;\n",
       "    }\n",
       "\n",
       "    .dataframe tbody tr th {\n",
       "        vertical-align: top;\n",
       "    }\n",
       "\n",
       "    .dataframe thead th {\n",
       "        text-align: right;\n",
       "    }\n",
       "</style>\n",
       "<table border=\"1\" class=\"dataframe\">\n",
       "  <thead>\n",
       "    <tr style=\"text-align: right;\">\n",
       "      <th></th>\n",
       "      <th>content</th>\n",
       "      <th>tokens</th>\n",
       "    </tr>\n",
       "  </thead>\n",
       "  <tbody>\n",
       "    <tr>\n",
       "      <th>0</th>\n",
       "      <td>大量长期出资源和功勋要的加微信18108477740。大量长期出资源和功勋要的加微信18108477740大量出资源，功勋，捐城 **等游戏一切任务，要的加微信1810847740</td>\n",
       "      <td>[大量, 长期, 出, 资源, 功勋, 要, 加, 微信, 18108477740, 大量, 长期, 出, 资源, 功勋, 要, 加, 微信, 18108477740, 大量, 出, 资源, 功勋, 捐城, 一切, 要, 加, 微信, 1810847740]</td>\n",
       "    </tr>\n",
       "  </tbody>\n",
       "</table>\n",
       "</div>"
      ],
      "text/plain": [
       "                                                                                      content  \\\n",
       "0  大量长期出资源和功勋要的加微信18108477740。大量长期出资源和功勋要的加微信18108477740大量出资源，功勋，捐城 **等游戏一切任务，要的加微信1810847740   \n",
       "\n",
       "                                                                                                                              tokens  \n",
       "0  [大量, 长期, 出, 资源, 功勋, 要, 加, 微信, 18108477740, 大量, 长期, 出, 资源, 功勋, 要, 加, 微信, 18108477740, 大量, 出, 资源, 功勋, 捐城, 一切, 要, 加, 微信, 1810847740]  "
      ]
     },
     "execution_count": 34,
     "metadata": {},
     "output_type": "execute_result"
    }
   ],
   "source": [
    "%time texts['tokens'] = texts['tokens'].apply(lambda l: [w for w in l if w not in stopwords])\n",
    "print(len(texts))\n",
    "texts.head(1)"
   ]
  },
  {
   "cell_type": "markdown",
   "metadata": {},
   "source": [
    "## repeats"
   ]
  },
  {
   "cell_type": "code",
   "execution_count": 35,
   "metadata": {},
   "outputs": [],
   "source": [
    "def remove_repeats(x):\n",
    "    if 2 > len(x): return x\n",
    "    \n",
    "    if 2 == len(x): \n",
    "        return [x[0]] if x[0] == x[1] else x\n",
    "    \n",
    "    r = [x[i] for i in range(len(x)-2) if x[i] != x[i+1]]\n",
    "    if x[-1] == x[-2]:\n",
    "        r.append(x[-2])\n",
    "    else:\n",
    "        r.extend(x[-2:])\n",
    "    return r"
   ]
  },
  {
   "cell_type": "code",
   "execution_count": 36,
   "metadata": {},
   "outputs": [
    {
     "name": "stdout",
     "output_type": "stream",
     "text": [
      "CPU times: user 96 ms, sys: 0 ns, total: 96 ms\n",
      "Wall time: 97 ms\n",
      "94919\n"
     ]
    },
    {
     "data": {
      "text/html": [
       "<div>\n",
       "<style scoped>\n",
       "    .dataframe tbody tr th:only-of-type {\n",
       "        vertical-align: middle;\n",
       "    }\n",
       "\n",
       "    .dataframe tbody tr th {\n",
       "        vertical-align: top;\n",
       "    }\n",
       "\n",
       "    .dataframe thead th {\n",
       "        text-align: right;\n",
       "    }\n",
       "</style>\n",
       "<table border=\"1\" class=\"dataframe\">\n",
       "  <thead>\n",
       "    <tr style=\"text-align: right;\">\n",
       "      <th></th>\n",
       "      <th>content</th>\n",
       "      <th>tokens</th>\n",
       "    </tr>\n",
       "  </thead>\n",
       "  <tbody>\n",
       "    <tr>\n",
       "      <th>0</th>\n",
       "      <td>大量长期出资源和功勋要的加微信18108477740。大量长期出资源和功勋要的加微信18108477740大量出资源，功勋，捐城 **等游戏一切任务，要的加微信1810847740</td>\n",
       "      <td>[大量, 长期, 出, 资源, 功勋, 要, 加, 微信, 18108477740, 大量, 长期, 出, 资源, 功勋, 要, 加, 微信, 18108477740, 大量, 出, 资源, 功勋, 捐城, 一切, 要, 加, 微信, 1810847740]</td>\n",
       "    </tr>\n",
       "  </tbody>\n",
       "</table>\n",
       "</div>"
      ],
      "text/plain": [
       "                                                                                      content  \\\n",
       "0  大量长期出资源和功勋要的加微信18108477740。大量长期出资源和功勋要的加微信18108477740大量出资源，功勋，捐城 **等游戏一切任务，要的加微信1810847740   \n",
       "\n",
       "                                                                                                                              tokens  \n",
       "0  [大量, 长期, 出, 资源, 功勋, 要, 加, 微信, 18108477740, 大量, 长期, 出, 资源, 功勋, 要, 加, 微信, 18108477740, 大量, 出, 资源, 功勋, 捐城, 一切, 要, 加, 微信, 1810847740]  "
      ]
     },
     "execution_count": 36,
     "metadata": {},
     "output_type": "execute_result"
    }
   ],
   "source": [
    "# 谢谢, 谢谢\n",
    "# 喝酒, 喝酒\n",
    "\n",
    "%time texts['tokens'] = texts['tokens'].apply(remove_repeats)\n",
    "print(len(texts))\n",
    "texts.head(1)"
   ]
  },
  {
   "cell_type": "markdown",
   "metadata": {},
   "source": [
    "## filter"
   ]
  },
  {
   "cell_type": "code",
   "execution_count": 37,
   "metadata": {},
   "outputs": [],
   "source": [
    "# 'v' + num\n",
    "\n",
    "def is_v_num(x):\n",
    "    return 2 == len(x) and 'v' == x[0] and x[1].isnumeric()"
   ]
  },
  {
   "cell_type": "code",
   "execution_count": 38,
   "metadata": {},
   "outputs": [
    {
     "name": "stdout",
     "output_type": "stream",
     "text": [
      "CPU times: user 20 ms, sys: 8 ms, total: 28 ms\n",
      "Wall time: 28.2 ms\n",
      "94883\n"
     ]
    }
   ],
   "source": [
    "%time texts = texts[~texts['tokens'].apply(is_v_num)]\n",
    "print(len(texts))"
   ]
  },
  {
   "cell_type": "code",
   "execution_count": 39,
   "metadata": {},
   "outputs": [],
   "source": [
    "# num + '级'\n",
    "\n",
    "def is_num_ji(x):\n",
    "    return 2 == len(x) and x[0].isnumeric() and '级' == x[1]"
   ]
  },
  {
   "cell_type": "code",
   "execution_count": 40,
   "metadata": {},
   "outputs": [
    {
     "name": "stdout",
     "output_type": "stream",
     "text": [
      "CPU times: user 32 ms, sys: 0 ns, total: 32 ms\n",
      "Wall time: 29.5 ms\n",
      "94818\n"
     ]
    }
   ],
   "source": [
    "%time texts = texts[~texts['tokens'].apply(is_num_ji)]\n",
    "print(len(texts))"
   ]
  },
  {
   "cell_type": "markdown",
   "metadata": {},
   "source": [
    "## length"
   ]
  },
  {
   "cell_type": "code",
   "execution_count": 41,
   "metadata": {},
   "outputs": [
    {
     "name": "stdout",
     "output_type": "stream",
     "text": [
      "CPU times: user 32 ms, sys: 4 ms, total: 36 ms\n",
      "Wall time: 34.1 ms\n",
      "50467\n"
     ]
    },
    {
     "data": {
      "text/html": [
       "<div>\n",
       "<style scoped>\n",
       "    .dataframe tbody tr th:only-of-type {\n",
       "        vertical-align: middle;\n",
       "    }\n",
       "\n",
       "    .dataframe tbody tr th {\n",
       "        vertical-align: top;\n",
       "    }\n",
       "\n",
       "    .dataframe thead th {\n",
       "        text-align: right;\n",
       "    }\n",
       "</style>\n",
       "<table border=\"1\" class=\"dataframe\">\n",
       "  <thead>\n",
       "    <tr style=\"text-align: right;\">\n",
       "      <th></th>\n",
       "      <th>content</th>\n",
       "      <th>tokens</th>\n",
       "    </tr>\n",
       "  </thead>\n",
       "  <tbody>\n",
       "    <tr>\n",
       "      <th>0</th>\n",
       "      <td>大量长期出资源和功勋要的加微信18108477740。大量长期出资源和功勋要的加微信18108477740大量出资源，功勋，捐城 **等游戏一切任务，要的加微信1810847740</td>\n",
       "      <td>[大量, 长期, 出, 资源, 功勋, 要, 加, 微信, 18108477740, 大量, 长期, 出, 资源, 功勋, 要, 加, 微信, 18108477740, 大量, 出, 资源, 功勋, 捐城, 一切, 要, 加, 微信, 1810847740]</td>\n",
       "    </tr>\n",
       "  </tbody>\n",
       "</table>\n",
       "</div>"
      ],
      "text/plain": [
       "                                                                                      content  \\\n",
       "0  大量长期出资源和功勋要的加微信18108477740。大量长期出资源和功勋要的加微信18108477740大量出资源，功勋，捐城 **等游戏一切任务，要的加微信1810847740   \n",
       "\n",
       "                                                                                                                              tokens  \n",
       "0  [大量, 长期, 出, 资源, 功勋, 要, 加, 微信, 18108477740, 大量, 长期, 出, 资源, 功勋, 要, 加, 微信, 18108477740, 大量, 出, 资源, 功勋, 捐城, 一切, 要, 加, 微信, 1810847740]  "
      ]
     },
     "execution_count": 41,
     "metadata": {},
     "output_type": "execute_result"
    }
   ],
   "source": [
    "%time texts = texts[texts['tokens'].apply(len) > 1]\n",
    "print(len(texts))\n",
    "texts.head(1)"
   ]
  },
  {
   "cell_type": "markdown",
   "metadata": {},
   "source": [
    "---"
   ]
  },
  {
   "cell_type": "markdown",
   "metadata": {},
   "source": [
    "# Extract"
   ]
  },
  {
   "cell_type": "code",
   "execution_count": 42,
   "metadata": {
    "scrolled": true
   },
   "outputs": [
    {
     "data": {
      "text/html": [
       "<div>\n",
       "<style scoped>\n",
       "    .dataframe tbody tr th:only-of-type {\n",
       "        vertical-align: middle;\n",
       "    }\n",
       "\n",
       "    .dataframe tbody tr th {\n",
       "        vertical-align: top;\n",
       "    }\n",
       "\n",
       "    .dataframe thead th {\n",
       "        text-align: right;\n",
       "    }\n",
       "</style>\n",
       "<table border=\"1\" class=\"dataframe\">\n",
       "  <thead>\n",
       "    <tr style=\"text-align: right;\">\n",
       "      <th></th>\n",
       "      <th>content</th>\n",
       "      <th>tokens</th>\n",
       "    </tr>\n",
       "  </thead>\n",
       "  <tbody>\n",
       "    <tr>\n",
       "      <th>0</th>\n",
       "      <td>大量长期出资源和功勋要的加微信18108477740。大量长期出资源和功勋要的加微信18108477740大量出资源，功勋，捐城 **等游戏一切任务，要的加微信1810847740</td>\n",
       "      <td>[大量, 长期, 出, 资源, 功勋, 要, 加, 微信, 18108477740, 大量, 长期, 出, 资源, 功勋, 要, 加, 微信, 18108477740, 大量, 出, 资源, 功勋, 捐城, 一切, 要, 加, 微信, 1810847740]</td>\n",
       "    </tr>\n",
       "  </tbody>\n",
       "</table>\n",
       "</div>"
      ],
      "text/plain": [
       "                                                                                      content  \\\n",
       "0  大量长期出资源和功勋要的加微信18108477740。大量长期出资源和功勋要的加微信18108477740大量出资源，功勋，捐城 **等游戏一切任务，要的加微信1810847740   \n",
       "\n",
       "                                                                                                                              tokens  \n",
       "0  [大量, 长期, 出, 资源, 功勋, 要, 加, 微信, 18108477740, 大量, 长期, 出, 资源, 功勋, 要, 加, 微信, 18108477740, 大量, 出, 资源, 功勋, 捐城, 一切, 要, 加, 微信, 1810847740]  "
      ]
     },
     "execution_count": 42,
     "metadata": {},
     "output_type": "execute_result"
    }
   ],
   "source": [
    "# df = pd.DataFrame(texts)\n",
    "# df.head(1)\n",
    "texts.head(1)"
   ]
  },
  {
   "cell_type": "code",
   "execution_count": 43,
   "metadata": {},
   "outputs": [
    {
     "data": {
      "text/html": [
       "<div>\n",
       "<style scoped>\n",
       "    .dataframe tbody tr th:only-of-type {\n",
       "        vertical-align: middle;\n",
       "    }\n",
       "\n",
       "    .dataframe tbody tr th {\n",
       "        vertical-align: top;\n",
       "    }\n",
       "\n",
       "    .dataframe thead th {\n",
       "        text-align: right;\n",
       "    }\n",
       "</style>\n",
       "<table border=\"1\" class=\"dataframe\">\n",
       "  <thead>\n",
       "    <tr style=\"text-align: right;\">\n",
       "      <th></th>\n",
       "      <th>tokens</th>\n",
       "      <th>content</th>\n",
       "      <th>cnt</th>\n",
       "    </tr>\n",
       "  </thead>\n",
       "  <tbody>\n",
       "    <tr>\n",
       "      <th>0</th>\n",
       "      <td>['高价', '收', '高迁', '号', '有意', '私聊', '回复']</td>\n",
       "      <td>高价收吴国高迁号，有意的私聊，晚上九点统一回复！</td>\n",
       "      <td>1621</td>\n",
       "    </tr>\n",
       "  </tbody>\n",
       "</table>\n",
       "</div>"
      ],
      "text/plain": [
       "                                     tokens                   content   cnt\n",
       "0  ['高价', '收', '高迁', '号', '有意', '私聊', '回复']  高价收吴国高迁号，有意的私聊，晚上九点统一回复！  1621"
      ]
     },
     "execution_count": 43,
     "metadata": {},
     "output_type": "execute_result"
    }
   ],
   "source": [
    "# df = df.astype(str).value_counts().reset_index().rename(columns={0:'cnt'})\n",
    "# df.head(1)\n",
    "\n",
    "texts['tokens'] = texts['tokens'].astype(str)\n",
    "df = texts.groupby('tokens').agg({'tokens':['count'], 'content':[lambda x: pd.DataFrame.head(x,1)]}).reset_index()\n",
    "\n",
    "df.columns = ['tokens', 'cnt', 'content']\n",
    "df = df[['tokens','content', 'cnt']]\n",
    "df = df.sort_values('cnt', ascending=False).reset_index(drop=True)\n",
    "df.head(1)"
   ]
  },
  {
   "cell_type": "markdown",
   "metadata": {},
   "source": [
    "## freq more"
   ]
  },
  {
   "cell_type": "code",
   "execution_count": 44,
   "metadata": {},
   "outputs": [
    {
     "name": "stdout",
     "output_type": "stream",
     "text": [
      "(119, 3)\n"
     ]
    },
    {
     "data": {
      "text/html": [
       "<div>\n",
       "<style scoped>\n",
       "    .dataframe tbody tr th:only-of-type {\n",
       "        vertical-align: middle;\n",
       "    }\n",
       "\n",
       "    .dataframe tbody tr th {\n",
       "        vertical-align: top;\n",
       "    }\n",
       "\n",
       "    .dataframe thead th {\n",
       "        text-align: right;\n",
       "    }\n",
       "</style>\n",
       "<table border=\"1\" class=\"dataframe\">\n",
       "  <thead>\n",
       "    <tr style=\"text-align: right;\">\n",
       "      <th></th>\n",
       "      <th>tokens</th>\n",
       "      <th>content</th>\n",
       "      <th>cnt</th>\n",
       "    </tr>\n",
       "  </thead>\n",
       "  <tbody>\n",
       "    <tr>\n",
       "      <th>0</th>\n",
       "      <td>['高价', '收', '高迁', '号', '有意', '私聊', '回复']</td>\n",
       "      <td>高价收吴国高迁号，有意的私聊，晚上九点统一回复！</td>\n",
       "      <td>1621</td>\n",
       "    </tr>\n",
       "    <tr>\n",
       "      <th>1</th>\n",
       "      <td>['资源', '加', '微信', 'svip', '12126', '礼包', '群里', '攻略', '内测', '老人', '带队', '没加']</td>\n",
       "      <td>为了军团更好的发展，资源更好的利用，大家一起作战，兄弟加微信：svip12126，领礼包，群里有攻略和内测老人带队，就差你没加了</td>\n",
       "      <td>1516</td>\n",
       "    </tr>\n",
       "    <tr>\n",
       "      <th>2</th>\n",
       "      <td>['上官', '海白', '表字', '养']</td>\n",
       "      <td>上官海白 表字养的</td>\n",
       "      <td>1316</td>\n",
       "    </tr>\n",
       "    <tr>\n",
       "      <th>3</th>\n",
       "      <td>['上官', '海白彪', '子养']</td>\n",
       "      <td>上官海白 彪子 养的</td>\n",
       "      <td>1210</td>\n",
       "    </tr>\n",
       "    <tr>\n",
       "      <th>4</th>\n",
       "      <td>['出号', '交易', '猫', '交易']</td>\n",
       "      <td>出号，交易猫交易</td>\n",
       "      <td>855</td>\n",
       "    </tr>\n",
       "    <tr>\n",
       "      <th>5</th>\n",
       "      <td>['代挂', '高迁', '功勋', '号', '需要', '私聊']</td>\n",
       "      <td>代挂高迁功勋号，需要的私聊</td>\n",
       "      <td>766</td>\n",
       "    </tr>\n",
       "    <tr>\n",
       "      <th>6</th>\n",
       "      <td>['资源', '给']</td>\n",
       "      <td>你好，我还在线，没资源给你拉抱歉。</td>\n",
       "      <td>712</td>\n",
       "    </tr>\n",
       "    <tr>\n",
       "      <th>7</th>\n",
       "      <td>['邵华', '不负', 'ma', '样人', 'gan', '出', '大肚', '邵华', '不负', 'ma', '样', '整出', '大肚', '邵华', '不负', 'ma', '憋不住', '配猪', '结果', '生出', '邵华', '不负']</td>\n",
       "      <td>邵华不负，你ma样人，gan出大肚，邵华不负，你ma样我整出大肚，邵华不负，你ma憋不住，天天在配猪，结果生出邵华不负，</td>\n",
       "      <td>673</td>\n",
       "    </tr>\n",
       "    <tr>\n",
       "      <th>8</th>\n",
       "      <td>['邵华', '不负', 'ma', '样人', 'gan', '出', '大肚', '邵华', '不负', 'ma', '样', '整出', '大肚']</td>\n",
       "      <td>邵华不负，你ma样人，gan出大肚，邵华不负，你ma样我整出大肚，</td>\n",
       "      <td>672</td>\n",
       "    </tr>\n",
       "    <tr>\n",
       "      <th>9</th>\n",
       "      <td>['有意', '请加', 'vx', '18526109947']</td>\n",
       "      <td>有意请加VX18526109947</td>\n",
       "      <td>629</td>\n",
       "    </tr>\n",
       "    <tr>\n",
       "      <th>10</th>\n",
       "      <td>['大量', '回收', 'v', '10', '弃坑', '号']</td>\n",
       "      <td>大量回收V10以上弃坑号</td>\n",
       "      <td>623</td>\n",
       "    </tr>\n",
       "    <tr>\n",
       "      <th>11</th>\n",
       "      <td>['机器人', '高迁', '是不是', '伤心']</td>\n",
       "      <td>我是个机器人，用你一个高迁，没打到我，是不是很伤心</td>\n",
       "      <td>567</td>\n",
       "    </tr>\n",
       "    <tr>\n",
       "      <th>12</th>\n",
       "      <td>['130', '不多鱼', '区内', 'd', 'n', '还清', 'm', '要', 'b', 'dy', '号']</td>\n",
       "      <td>130不多鱼，区内被控第一人，你是死了d，还是被玩了n，天天深更半夜清平民繁荣，你都霸服了你还清你m，要不要点b脸，有本事把你dy打出游戏，别说控号，你在有钱还不在被别人玩，被控号的玩，菊花残的狗东西</td>\n",
       "      <td>508</td>\n",
       "    </tr>\n",
       "    <tr>\n",
       "      <th>13</th>\n",
       "      <td>['招收', '资源', '号', '城皮', '号', '内号']</td>\n",
       "      <td>本团招收蜀国有志青年，资源号，城皮号，内号共同迎接新版本，直接申请</td>\n",
       "      <td>495</td>\n",
       "    </tr>\n",
       "    <tr>\n",
       "      <th>14</th>\n",
       "      <td>['售', '高迁', '号', '威信', 'tmmwgwbd']</td>\n",
       "      <td>售吴国高迁号，威信tmmwgwbd</td>\n",
       "      <td>495</td>\n",
       "    </tr>\n",
       "    <tr>\n",
       "      <th>15</th>\n",
       "      <td>['麦', '高迁', '号', '40', '亿', '资源', '威信', 'tmmwgwbd', '交易', '猫']</td>\n",
       "      <td>麦高迁号带40亿资源，威信tmmwgwbd，交易猫</td>\n",
       "      <td>494</td>\n",
       "    </tr>\n",
       "    <tr>\n",
       "      <th>16</th>\n",
       "      <td>['染指', '招', '活人']</td>\n",
       "      <td>染指招活人，蜀国加油</td>\n",
       "      <td>492</td>\n",
       "    </tr>\n",
       "    <tr>\n",
       "      <th>17</th>\n",
       "      <td>['收', '中战', '号', '不限', 'v', '放号', '私聊']</td>\n",
       "      <td>收吴国中战号，不限v，放号私聊</td>\n",
       "      <td>368</td>\n",
       "    </tr>\n",
       "    <tr>\n",
       "      <th>18</th>\n",
       "      <td>['收', '35', '加', '资源', '号', '加', 'vx', '18021856963']</td>\n",
       "      <td>收魏国35加资源号,无军团 有的加VX18021856963</td>\n",
       "      <td>359</td>\n",
       "    </tr>\n",
       "    <tr>\n",
       "      <th>19</th>\n",
       "      <td>['出售', '高迁', '高等级', '号']</td>\n",
       "      <td>出售吴国高迁高等级号</td>\n",
       "      <td>348</td>\n",
       "    </tr>\n",
       "    <tr>\n",
       "      <th>20</th>\n",
       "      <td>['收', '资源', '号', '私聊']</td>\n",
       "      <td>收吴国资源号，卖的私聊。</td>\n",
       "      <td>345</td>\n",
       "    </tr>\n",
       "    <tr>\n",
       "      <th>21</th>\n",
       "      <td>['晨曦', '小号']</td>\n",
       "      <td>晨曦***整个小号挨个群bb，这游戏把你玩傻，笔了吧，天天喊内，间蜀国打你还用内吗</td>\n",
       "      <td>340</td>\n",
       "    </tr>\n",
       "    <tr>\n",
       "      <th>22</th>\n",
       "      <td>['大量', '长期', '出', '资源', '功勋', '要', '加', '微信', '18108477740', '大量', '长期', '出', '资源', '功勋', '要', '加', '微信', '18108477740']</td>\n",
       "      <td>大量长期出资源和功勋要的加微信18108477740。大量长期出资源和功勋要的加微信18108477740</td>\n",
       "      <td>336</td>\n",
       "    </tr>\n",
       "    <tr>\n",
       "      <th>23</th>\n",
       "      <td>['大量', '长期', '出', '资源', '功勋', '要', '加', '微信', '18108477740', '大量', '长期', '出', '资源', '功勋', '要', '加', '微信', '18108477740', '大量', '出', '资源', '功勋', '捐城', '一切', '要', '加', '微信', '1810847740']</td>\n",
       "      <td>大量长期出资源和功勋要的加微信18108477740。大量长期出资源和功勋要的加微信18108477740大量出资源，功勋，捐城 **等游戏一切任务，要的加微信1810847740</td>\n",
       "      <td>333</td>\n",
       "    </tr>\n",
       "    <tr>\n",
       "      <th>24</th>\n",
       "      <td>['紫曦', '漂', '孙权']</td>\n",
       "      <td>兄弟们，都来紫曦漂孙权啊！</td>\n",
       "      <td>322</td>\n",
       "    </tr>\n",
       "    <tr>\n",
       "      <th>25</th>\n",
       "      <td>['收', '高迁', '号', '私聊', '回信']</td>\n",
       "      <td>收蜀国高迁号，私聊我中午回信</td>\n",
       "      <td>317</td>\n",
       "    </tr>\n",
       "    <tr>\n",
       "      <th>26</th>\n",
       "      <td>['发布', '锄', 'jian', '汉', 'jian', '唐', '盛世', '团长', '富士康', '陈胜宇', '蛊惑', '战备', '守城', '营造', '三分', '假象', '避免', '下次', '合区', '合到', '强蜀区', '其心', '诛']</td>\n",
       "      <td>现发布“锄JIAN令”：汉JIAN唐盛世，团长魏国人富士康，团副陈胜宇，蛊惑蜀国兄弟，用蜀国战备帮魏国守城，营造三分假象，避免下次合区合到强蜀区，其心可诛。</td>\n",
       "      <td>251</td>\n",
       "    </tr>\n",
       "    <tr>\n",
       "      <th>27</th>\n",
       "      <td>['号召', '全面', '锄', 'jian', '炸汉', 'jian', '矿', '5', '或', '真正', '热爱', '加入', '虐', 'jian', '呼吁', '蒙骗', '弃暗投明', '加入']</td>\n",
       "      <td>现号召全面锄JIAN，每天炸汉JIAN矿5个，或清繁荣一个。欢迎所有真正热爱蜀国的兄弟一起加入，开心虐JIAN。也呼吁被蒙骗的兄弟弃暗投明，蜀国各路军团欢迎你们加入。</td>\n",
       "      <td>242</td>\n",
       "    </tr>\n",
       "    <tr>\n",
       "      <th>28</th>\n",
       "      <td>['1', '佰', '=', '99', '万沅宝', '送', 'v', '10', '+', '任将', '需要', '茄', 'ⓠ', '⑦', 'ο', '②', '⑤', '①', '②', '③', '②', 'ο', '菿', '咐', '封号', '认准', '唯一', 'ⓠ', '⑦', 'ο', '②', '⑤', '①', '②', '③', '②', 'ο']</td>\n",
       "      <td>1佰=99万沅宝送V10+任将需要茄ⓠ ⑦Ο②⑤①②③②Ο菿咐,不封号！认准唯一ⓠ： ⑦Ο②⑤①②③②Ο</td>\n",
       "      <td>241</td>\n",
       "    </tr>\n",
       "    <tr>\n",
       "      <th>29</th>\n",
       "      <td>['大量', '出', '高迁', '极速', '功勋', '捐城']</td>\n",
       "      <td>大量出高迁，极速刷功勋，捐城</td>\n",
       "      <td>233</td>\n",
       "    </tr>\n",
       "    <tr>\n",
       "      <th>30</th>\n",
       "      <td>['高价', '回收', '高迁', '号', '私聊']</td>\n",
       "      <td>高价回收魏国高迁号，卖的私聊。</td>\n",
       "      <td>230</td>\n",
       "    </tr>\n",
       "    <tr>\n",
       "      <th>31</th>\n",
       "      <td>['招', '厨师', '服务员', '待遇', '从优', '月薪', '5000', '有意', '私聊']</td>\n",
       "      <td>招厨师，服务员，待遇从优，月薪5000起，有意私聊</td>\n",
       "      <td>222</td>\n",
       "    </tr>\n",
       "    <tr>\n",
       "      <th>32</th>\n",
       "      <td>['天高', '西门', '阳间', '事说', '点人话']</td>\n",
       "      <td>天高的西门秃顶，您能*点阳间事说点人话吗？</td>\n",
       "      <td>190</td>\n",
       "    </tr>\n",
       "    <tr>\n",
       "      <th>33</th>\n",
       "      <td>['加入', '再起']</td>\n",
       "      <td>欢迎新朋友加入风云再起！</td>\n",
       "      <td>168</td>\n",
       "    </tr>\n",
       "    <tr>\n",
       "      <th>34</th>\n",
       "      <td>['无论', '等级', '高低', '人人平等', '加入']</td>\n",
       "      <td>风云军团无论等级高低人人平等，欢迎加入我们！</td>\n",
       "      <td>167</td>\n",
       "    </tr>\n",
       "    <tr>\n",
       "      <th>35</th>\n",
       "      <td>['大量', '出售', '资源', '5', '元', '一亿', '非诚', '勿扰']</td>\n",
       "      <td>大量出售资源，5元一亿，非诚勿扰。</td>\n",
       "      <td>156</td>\n",
       "    </tr>\n",
       "    <tr>\n",
       "      <th>36</th>\n",
       "      <td>['收', '55', '级', '资源', '号', '微信', '15762820902']</td>\n",
       "      <td>收魏国，吴国55级以上资源号，微信15762820902</td>\n",
       "      <td>148</td>\n",
       "    </tr>\n",
       "    <tr>\n",
       "      <th>37</th>\n",
       "      <td>['收', '摇点', '途游', '高迁', '号', '需要', '功勋', '联系', '18251209580']</td>\n",
       "      <td>收魏国摇点途游高迁号，需要功勋的联系18251209580</td>\n",
       "      <td>143</td>\n",
       "    </tr>\n",
       "    <tr>\n",
       "      <th>38</th>\n",
       "      <td>['收', '45', '级', '资源', '号', '微信', '15762820902']</td>\n",
       "      <td>收主公45级以上资源号，魏国跟吴国，微信15762820902</td>\n",
       "      <td>129</td>\n",
       "    </tr>\n",
       "    <tr>\n",
       "      <th>39</th>\n",
       "      <td>['出售', '资源', '10', '亿', '10', '元', '需要', '加', '微信', 'daliu', '695']</td>\n",
       "      <td>出售资源10亿10元需要的加微信daliu695</td>\n",
       "      <td>127</td>\n",
       "    </tr>\n",
       "    <tr>\n",
       "      <th>40</th>\n",
       "      <td>['矿', '红手指']</td>\n",
       "      <td>不要炸我矿，红手指在线！</td>\n",
       "      <td>125</td>\n",
       "    </tr>\n",
       "    <tr>\n",
       "      <th>41</th>\n",
       "      <td>['收', '摇点', '途游', '高迁', '号', '出', '功勋', '出', '高迁', '联系', '18251209580']</td>\n",
       "      <td>收摇点途游高迁号，出功勋有，出魏国高迁，联系18251209580</td>\n",
       "      <td>123</td>\n",
       "    </tr>\n",
       "    <tr>\n",
       "      <th>42</th>\n",
       "      <td>['墨子', '骞', '至尊宝', '野碟', '持久', '十秒', '至尊宝']</td>\n",
       "      <td>喔，墨子骞 ，这个孝顺儿懆得我这个亲码嗷嗷叫 ，比至尊宝那个你野碟持久十秒 ，至尊宝现在被猪拱了浑身溃烂，正在喝我的脓血疗伤</td>\n",
       "      <td>111</td>\n",
       "    </tr>\n",
       "    <tr>\n",
       "      <th>43</th>\n",
       "      <td>['公猪', '拱得', '爽歪歪', '大减价', '甩', '屁', '走过', '路', '一', '只要', '两块', '只要', '两块']</td>\n",
       "      <td>刚被公猪拱得爽歪歪 ，大减价 ，大甩屁了，走过路过来懆一懆 ，只要两块 ，只要两块 。</td>\n",
       "      <td>109</td>\n",
       "    </tr>\n",
       "    <tr>\n",
       "      <th>44</th>\n",
       "      <td>['高价', '收', '45', '级', '弃坑', '号', 'wx', '18611908489']</td>\n",
       "      <td>高价收45级以上的弃坑号，wx18611908489</td>\n",
       "      <td>103</td>\n",
       "    </tr>\n",
       "    <tr>\n",
       "      <th>45</th>\n",
       "      <td>['招兵', '高战', '低战']</td>\n",
       "      <td>蜀二团招兵了，高战，低战，散人，都是兄弟</td>\n",
       "      <td>97</td>\n",
       "    </tr>\n",
       "    <tr>\n",
       "      <th>46</th>\n",
       "      <td>['出本', '号', '15', 'xx', '猫']</td>\n",
       "      <td>出本号，15远，xx猫</td>\n",
       "      <td>95</td>\n",
       "    </tr>\n",
       "    <tr>\n",
       "      <th>47</th>\n",
       "      <td>['收', '55', '级', '资源', '号', '优先', '微信', '15762820902']</td>\n",
       "      <td>收55级以上资源号，蜀国优先，微信15762820902</td>\n",
       "      <td>94</td>\n",
       "    </tr>\n",
       "    <tr>\n",
       "      <th>48</th>\n",
       "      <td>['178', '177']</td>\n",
       "      <td>祝178、177兄弟们来*可期，平安顺遂。</td>\n",
       "      <td>80</td>\n",
       "    </tr>\n",
       "    <tr>\n",
       "      <th>49</th>\n",
       "      <td>['出滋原', '甩货', '需要', 'vxin', '17756100852']</td>\n",
       "      <td>出滋原。甩货。需要VXIN: 17756100852</td>\n",
       "      <td>69</td>\n",
       "    </tr>\n",
       "    <tr>\n",
       "      <th>50</th>\n",
       "      <td>['id', '专打', '贼', 'wx', 'haoxinweixin', '62219102', '给']</td>\n",
       "      <td>id:专打蜀贼 wx:haoxinweixin62219102 你也是可怜，你家里死得就剩你了。我也知道你不容易，你父母还等着你拿钱买棺材下葬呢！可是你骗我的那点钱给你父母烧纸都不够啊！</td>\n",
       "      <td>63</td>\n",
       "    </tr>\n",
       "    <tr>\n",
       "      <th>51</th>\n",
       "      <td>['巫马', '送']</td>\n",
       "      <td>巫马不辞辛苦的坚持送帽子，小农民的思维还真是单纯可爱惹人疼呢，哈哈哈哈</td>\n",
       "      <td>59</td>\n",
       "    </tr>\n",
       "    <tr>\n",
       "      <th>52</th>\n",
       "      <td>['收弃', '坑', '号']</td>\n",
       "      <td>收弃坑号，</td>\n",
       "      <td>56</td>\n",
       "    </tr>\n",
       "    <tr>\n",
       "      <th>53</th>\n",
       "      <td>['收', '高迁', '号']</td>\n",
       "      <td>收吴国高迁号</td>\n",
       "      <td>50</td>\n",
       "    </tr>\n",
       "    <tr>\n",
       "      <th>54</th>\n",
       "      <td>['预祝', '披荆斩棘', '称霸一方']</td>\n",
       "      <td>预祝{localization:177-178}的兄弟在新版本披荆斩棘，称霸一方！</td>\n",
       "      <td>48</td>\n",
       "    </tr>\n",
       "    <tr>\n",
       "      <th>55</th>\n",
       "      <td>['醉意', '九峰', '全服']</td>\n",
       "      <td>醉意，九峰全服第一**</td>\n",
       "      <td>47</td>\n",
       "    </tr>\n",
       "    <tr>\n",
       "      <th>56</th>\n",
       "      <td>['收', '高迁', '号', '有意者', '私聊']</td>\n",
       "      <td>收吴国高迁号，有意者私聊我</td>\n",
       "      <td>46</td>\n",
       "    </tr>\n",
       "    <tr>\n",
       "      <th>57</th>\n",
       "      <td>['醉意', '九峰']</td>\n",
       "      <td>醉意，九峰，宝服的傻笔王</td>\n",
       "      <td>44</td>\n",
       "    </tr>\n",
       "    <tr>\n",
       "      <th>58</th>\n",
       "      <td>['夜', '星辰', '招兵', '高战', '低战']</td>\n",
       "      <td>蜀二团夜星辰招兵了，高战，低战，散人，都是兄弟</td>\n",
       "      <td>42</td>\n",
       "    </tr>\n",
       "    <tr>\n",
       "      <th>59</th>\n",
       "      <td>['要', '资源', '功勋', '高迁', '天晴', 'vx', 'kouzhanyu']</td>\n",
       "      <td>要资源功勋高迁找天晴VX: kouzhanyu</td>\n",
       "      <td>41</td>\n",
       "    </tr>\n",
       "    <tr>\n",
       "      <th>60</th>\n",
       "      <td>['低', '-', '出兹原', '需要', '加', 'vx', '17756100852']</td>\n",
       "      <td>低-出兹原，需要的加VX: 17756100852</td>\n",
       "      <td>40</td>\n",
       "    </tr>\n",
       "    <tr>\n",
       "      <th>61</th>\n",
       "      <td>['21', '没空', '的话', '资源', '然后', '庐江', '占位', '这样', '庐江', '几个', '集体照', '望', '参与']</td>\n",
       "      <td>今天是本服的最后一天，今晚21点（晚上没空上线的话，可以把资源用完，然后提前飞庐江占位，这样拍的照也会有你），集合围在庐江郡（坐标{localization:820-586}），拍几个集体照留念，望所有人参与。。</td>\n",
       "      <td>36</td>\n",
       "    </tr>\n",
       "    <tr>\n",
       "      <th>62</th>\n",
       "      <td>['地址', '私发']</td>\n",
       "      <td>谁有此不肖子的地址私发我，谢了！</td>\n",
       "      <td>34</td>\n",
       "    </tr>\n",
       "    <tr>\n",
       "      <th>63</th>\n",
       "      <td>['换', '皮肤']</td>\n",
       "      <td>换皮肤</td>\n",
       "      <td>34</td>\n",
       "    </tr>\n",
       "    <tr>\n",
       "      <th>64</th>\n",
       "      <td>['龍义', '备战', '192', '打造', '天团', '13356371520', '加', '微信', '进群']</td>\n",
       "      <td>龍义备战192区，打造霸服天团。13356371520加微信进群</td>\n",
       "      <td>30</td>\n",
       "    </tr>\n",
       "    <tr>\n",
       "      <th>65</th>\n",
       "      <td>['115', '10']</td>\n",
       "      <td>原115区不分国籍，今晚10点长安合影拍个照</td>\n",
       "      <td>30</td>\n",
       "    </tr>\n",
       "    <tr>\n",
       "      <th>66</th>\n",
       "      <td>['收', '高迁']</td>\n",
       "      <td>收蜀国高迁</td>\n",
       "      <td>27</td>\n",
       "    </tr>\n",
       "    <tr>\n",
       "      <th>67</th>\n",
       "      <td>['梁山泊', '招收']</td>\n",
       "      <td>吴国梁山泊招收各路英雄、叛贼，共同打家劫舍</td>\n",
       "      <td>24</td>\n",
       "    </tr>\n",
       "    <tr>\n",
       "      <th>68</th>\n",
       "      <td>['弃坑', '号', '要']</td>\n",
       "      <td>三国的弟兄们，本人准备弃坑了，以前和魏国蜀国的过节，今后都消了吧，我大小号都在这，要报仇的来 {localization:887-268}</td>\n",
       "      <td>24</td>\n",
       "    </tr>\n",
       "    <tr>\n",
       "      <th>69</th>\n",
       "      <td>['一品白衫', '充值', '130']</td>\n",
       "      <td>魏国还有一品白衫那沙比银河奥特曼，你总喊你玛了比啊！没钱别比比，有能耐你充值，纳了闷，就是你占了130不多鱼名你就厉害了？**呵呵的</td>\n",
       "      <td>23</td>\n",
       "    </tr>\n",
       "    <tr>\n",
       "      <th>70</th>\n",
       "      <td>['花酒', '姐']</td>\n",
       "      <td>喝花酒，抱**姐</td>\n",
       "      <td>23</td>\n",
       "    </tr>\n",
       "    <tr>\n",
       "      <th>71</th>\n",
       "      <td>['此号', '甩卖', '走过', '路过', '错过', '有意', '私聊']</td>\n",
       "      <td>此号甩卖，走过路过不要错过，有意私聊</td>\n",
       "      <td>23</td>\n",
       "    </tr>\n",
       "    <tr>\n",
       "      <th>72</th>\n",
       "      <td>['送', '功勋']</td>\n",
       "      <td>送一次功勋你。</td>\n",
       "      <td>16</td>\n",
       "    </tr>\n",
       "    <tr>\n",
       "      <th>73</th>\n",
       "      <td>['团招', '搜索', '聚贤阁', '5', '立即', '加入']</td>\n",
       "      <td>本娱乐团招散人，无任务随便玩，搜索聚贤阁5，立即加入吧。</td>\n",
       "      <td>15</td>\n",
       "    </tr>\n",
       "    <tr>\n",
       "      <th>74</th>\n",
       "      <td>['江东', '霸下盟']</td>\n",
       "      <td>江东霸下盟赶紧到长安合影了。</td>\n",
       "      <td>14</td>\n",
       "    </tr>\n",
       "    <tr>\n",
       "      <th>75</th>\n",
       "      <td>['北海', '皮肤', '南瓜', '皮肤']</td>\n",
       "      <td>今天晚上集合留影咯，全体兄弟都来\\n时间为晚上九点，地点北海郡城，统一围城。\\n\\n皮肤上南瓜皮肤，没有的用其他皮肤。\\n\\n看见通告的兄弟，可以提前去围城。早到有好位置</td>\n",
       "      <td>14</td>\n",
       "    </tr>\n",
       "    <tr>\n",
       "      <th>76</th>\n",
       "      <td>['高迁', '号']</td>\n",
       "      <td>高迁号随便打</td>\n",
       "      <td>12</td>\n",
       "    </tr>\n",
       "    <tr>\n",
       "      <th>77</th>\n",
       "      <td>['资源', '号']</td>\n",
       "      <td>哈哈！没资源号呀！</td>\n",
       "      <td>12</td>\n",
       "    </tr>\n",
       "    <tr>\n",
       "      <th>78</th>\n",
       "      <td>['低价', '籽', '圆', 'v', '17659736093']</td>\n",
       "      <td>低价籽圆，v17659736093</td>\n",
       "      <td>11</td>\n",
       "    </tr>\n",
       "    <tr>\n",
       "      <th>79</th>\n",
       "      <td>['兴复', '汉室', '诚邀', '活跃', '加入']</td>\n",
       "      <td>兴复汉室诚邀活跃兄弟加入</td>\n",
       "      <td>10</td>\n",
       "    </tr>\n",
       "    <tr>\n",
       "      <th>80</th>\n",
       "      <td>['想换个', '50', '级', 'v', '号', '低', '没关系', '有出', '带价', '私聊']</td>\n",
       "      <td>想换个50级主公高v号！战力低一点都没关系！有出的带价私聊</td>\n",
       "      <td>10</td>\n",
       "    </tr>\n",
       "    <tr>\n",
       "      <th>81</th>\n",
       "      <td>['熊', '3', '号', '经典', '人物', '国士', 'pm', '男', '6', '平方米', '生活圈', '药石', '男', '喜欢', '花钱', '常青树', 'dp']</td>\n",
       "      <td>有熊3号经典人物：大白py王。国士pm男，6平方米生活圈。药石**男，喜欢花钱看常青树dp。</td>\n",
       "      <td>10</td>\n",
       "    </tr>\n",
       "    <tr>\n",
       "      <th>82</th>\n",
       "      <td>['圈圈', '粉', '亦', '米', '啵', '三国志', '相处', '三年', '不管', '恨', '爱', '本汉帝', '王中能', '取得', '成绩', '金马', '连续', '白女票', '47', '―', '56', '争光', '相见']</td>\n",
       "      <td>大家好，我是圈圈，也是粉猪，亦是米啵，三国志已经相处三年了，不管恨我的，爱我的，本汉帝在这里祝大家在自立为王中能取得好成绩，金马连续白女票，为47――56区争光。江湖相见咯</td>\n",
       "      <td>9</td>\n",
       "    </tr>\n",
       "    <tr>\n",
       "      <th>83</th>\n",
       "      <td>['互刷', '功勋']</td>\n",
       "      <td>互刷功勋，来不来</td>\n",
       "      <td>9</td>\n",
       "    </tr>\n",
       "    <tr>\n",
       "      <th>84</th>\n",
       "      <td>['北海', '皮肤', '南瓜', '皮肤', '北海', '免得']</td>\n",
       "      <td>今天晚上集合留影咯，全体兄弟都来时间为晚上九点，地点北海郡城，统一围城。皮肤上南瓜皮肤，没有的用其他皮肤可以提前去北海郡城占位置，免得自己晚上没时间。看见通告的兄弟，可以提前去围城，占好C位，</td>\n",
       "      <td>9</td>\n",
       "    </tr>\n",
       "    <tr>\n",
       "      <th>85</th>\n",
       "      <td>['缺', '资源']</td>\n",
       "      <td>缺资源可以去抢 {localization:663-180}</td>\n",
       "      <td>9</td>\n",
       "    </tr>\n",
       "    <tr>\n",
       "      <th>86</th>\n",
       "      <td>['0820', '6']</td>\n",
       "      <td>0820晚6点以后繁荣城自由开放！</td>\n",
       "      <td>9</td>\n",
       "    </tr>\n",
       "    <tr>\n",
       "      <th>87</th>\n",
       "      <td>['一白', '＝', '九百万', '元宝', '送', 'v', '10', '加', '任意', '红', '将要', '加', 'v', '戴宏是', '癞蛤蟆', 'v']</td>\n",
       "      <td>一白＝九百万元宝送v10加任意红将要的，加v：戴宏是癞蛤蟆（v）</td>\n",
       "      <td>9</td>\n",
       "    </tr>\n",
       "    <tr>\n",
       "      <th>88</th>\n",
       "      <td>['大秦', '南弦绿', '货']</td>\n",
       "      <td>大秦、南弦绿，贝戋 犭句，炸的爽吗？犭句 娘养的货。</td>\n",
       "      <td>8</td>\n",
       "    </tr>\n",
       "    <tr>\n",
       "      <th>89</th>\n",
       "      <td>['想换个', '50', '级', '换个', 'v', '号', '私聊']</td>\n",
       "      <td>想换个50级以上主公，换个高v号，私聊</td>\n",
       "      <td>8</td>\n",
       "    </tr>\n",
       "    <tr>\n",
       "      <th>90</th>\n",
       "      <td>['洪荒', '狂战', '招人', '限', '等级', '限', '没加', '加入']</td>\n",
       "      <td>蜀国洪荒狂战招人，不限等级，不限战力，没加军团的兄弟，加入我们，大家一起玩！</td>\n",
       "      <td>8</td>\n",
       "    </tr>\n",
       "    <tr>\n",
       "      <th>91</th>\n",
       "      <td>['素和元成', '诚信', '招']</td>\n",
       "      <td>素和元成军团，诚信招人种田</td>\n",
       "      <td>8</td>\n",
       "    </tr>\n",
       "    <tr>\n",
       "      <th>92</th>\n",
       "      <td>['团招', '搜索', '聚贤阁', '5', '立即']</td>\n",
       "      <td>本娱乐团招散人，无任务随便玩，搜索聚贤阁5，立即申请！</td>\n",
       "      <td>7</td>\n",
       "    </tr>\n",
       "    <tr>\n",
       "      <th>93</th>\n",
       "      <td>['收号', '收', '资源', '收', '高迁']</td>\n",
       "      <td>收号，收资源，收高迁</td>\n",
       "      <td>7</td>\n",
       "    </tr>\n",
       "    <tr>\n",
       "      <th>94</th>\n",
       "      <td>['北海', '皮肤', '南瓜', '皮肤', '北海', '免得', '有限']</td>\n",
       "      <td>今天晚上集合留影咯，全体兄弟都来\\n时间为晚上九点，地点北海郡城，统一围城。\\n\\n皮肤上南瓜皮肤，没有的用其他皮肤\\n\\n可以提前去北海郡城占位置，免得自己晚上没时间。\\n\\n看见通告的兄弟，可以提前去围城，占好C\\n位，一环位置有限</td>\n",
       "      <td>7</td>\n",
       "    </tr>\n",
       "    <tr>\n",
       "      <th>95</th>\n",
       "      <td>['10', '亿', '资源', '捐城', '需要']</td>\n",
       "      <td>没有参加10亿资源捐城的兄弟，需要你现在暂时离团。</td>\n",
       "      <td>7</td>\n",
       "    </tr>\n",
       "    <tr>\n",
       "      <th>96</th>\n",
       "      <td>['出', '资源', '功勋', '需要', '+', 'v', 'ytlzyi']</td>\n",
       "      <td>出资源，功勋，需要的+v:ytlzyi</td>\n",
       "      <td>7</td>\n",
       "    </tr>\n",
       "    <tr>\n",
       "      <th>97</th>\n",
       "      <td>['收', '各国', '号', '有意', '私聊']</td>\n",
       "      <td>收各国号，有意私聊</td>\n",
       "      <td>7</td>\n",
       "    </tr>\n",
       "    <tr>\n",
       "      <th>98</th>\n",
       "      <td>['送', '一波']</td>\n",
       "      <td>送你一波吧</td>\n",
       "      <td>6</td>\n",
       "    </tr>\n",
       "    <tr>\n",
       "      <th>99</th>\n",
       "      <td>['100', 'w', '战', '以下', '功勋', '120', 'w']</td>\n",
       "      <td>100W战以下，刷功勋：{localization:893-432}，有120W兵</td>\n",
       "      <td>6</td>\n",
       "    </tr>\n",
       "    <tr>\n",
       "      <th>100</th>\n",
       "      <td>['7', '11', '8']</td>\n",
       "      <td>今晚7点打繁荣城到点就打，11点铁血打回\\n今晚8点，联盟在成都拍照，具体坐标等**</td>\n",
       "      <td>6</td>\n",
       "    </tr>\n",
       "    <tr>\n",
       "      <th>101</th>\n",
       "      <td>['冲车', '冲']</td>\n",
       "      <td>冲车冲他</td>\n",
       "      <td>6</td>\n",
       "    </tr>\n",
       "    <tr>\n",
       "      <th>102</th>\n",
       "      <td>['311', '183']</td>\n",
       "      <td>311，183其他人飞过去</td>\n",
       "      <td>6</td>\n",
       "    </tr>\n",
       "    <tr>\n",
       "      <th>103</th>\n",
       "      <td>['换', '号']</td>\n",
       "      <td>换号哈</td>\n",
       "      <td>6</td>\n",
       "    </tr>\n",
       "    <tr>\n",
       "      <th>104</th>\n",
       "      <td>['功勋', '资源']</td>\n",
       "      <td>刷功勋好地方，资源多 {localization:615-820}</td>\n",
       "      <td>6</td>\n",
       "    </tr>\n",
       "    <tr>\n",
       "      <th>105</th>\n",
       "      <td>['收', '高迁', '号', '+', 'vx', '18502264110']</td>\n",
       "      <td>收魏国高迁号，卖的+vx18502264110</td>\n",
       "      <td>6</td>\n",
       "    </tr>\n",
       "    <tr>\n",
       "      <th>106</th>\n",
       "      <td>['一梦', '坑']</td>\n",
       "      <td>一梦坑货，坑徒弟</td>\n",
       "      <td>6</td>\n",
       "    </tr>\n",
       "    <tr>\n",
       "      <th>107</th>\n",
       "      <td>['弃坑', '魏', '号', '要', '完照']</td>\n",
       "      <td>三国弟兄们，本人准备弃坑，以前和魏蜀的过节，今后都消了吧，我大小号都在这，要报仇的来，拍完照我就撤了 {localization:887-268}</td>\n",
       "      <td>6</td>\n",
       "    </tr>\n",
       "    <tr>\n",
       "      <th>108</th>\n",
       "      <td>['请', '9']</td>\n",
       "      <td>各位，今天是赛季服前的最后一天，感谢大家一路坚持。现军团准备做个集体合影，地点在涪陵郡。请大家有空就飞过去按顺序整体排列好。到位了在今晚9点会安排截图拍照留念。谢谢大家配合。</td>\n",
       "      <td>5</td>\n",
       "    </tr>\n",
       "    <tr>\n",
       "      <th>109</th>\n",
       "      <td>['麦号', '有意', '请加', '微信', '18526109947']</td>\n",
       "      <td>你好 麦号吗？有意请加微信18526109947</td>\n",
       "      <td>5</td>\n",
       "    </tr>\n",
       "    <tr>\n",
       "      <th>110</th>\n",
       "      <td>['白版', '皮肤', '初心', '改称', '号']</td>\n",
       "      <td>白版皮肤，初心不改称号！ {localization:311-183}</td>\n",
       "      <td>5</td>\n",
       "    </tr>\n",
       "    <tr>\n",
       "      <th>111</th>\n",
       "      <td>['换个', '皮肤']</td>\n",
       "      <td>换个皮肤</td>\n",
       "      <td>5</td>\n",
       "    </tr>\n",
       "    <tr>\n",
       "      <th>112</th>\n",
       "      <td>['需要', '功勋', '联系', '18251209580', '长期', '优惠']</td>\n",
       "      <td>需要功勋联系18251209580长期优惠</td>\n",
       "      <td>5</td>\n",
       "    </tr>\n",
       "    <tr>\n",
       "      <th>113</th>\n",
       "      <td>['我换', '号']</td>\n",
       "      <td>我换还个号</td>\n",
       "      <td>5</td>\n",
       "    </tr>\n",
       "    <tr>\n",
       "      <th>114</th>\n",
       "      <td>['需要', '资源']</td>\n",
       "      <td>需要资源不？</td>\n",
       "      <td>5</td>\n",
       "    </tr>\n",
       "    <tr>\n",
       "      <th>115</th>\n",
       "      <td>['诚意', '收', '各国', '号', '有意', '私聊']</td>\n",
       "      <td>诚意收各国号！有意私聊</td>\n",
       "      <td>5</td>\n",
       "    </tr>\n",
       "    <tr>\n",
       "      <th>116</th>\n",
       "      <td>['10', '点半', '改版', '前']</td>\n",
       "      <td>洛阳合影，10点开始，10点半结束，改版前最后一次集体**</td>\n",
       "      <td>5</td>\n",
       "    </tr>\n",
       "    <tr>\n",
       "      <th>117</th>\n",
       "      <td>['龙舟', '皮肤']</td>\n",
       "      <td>可有龙舟皮肤</td>\n",
       "      <td>5</td>\n",
       "    </tr>\n",
       "    <tr>\n",
       "      <th>118</th>\n",
       "      <td>['两个', '号']</td>\n",
       "      <td>还有两个号</td>\n",
       "      <td>5</td>\n",
       "    </tr>\n",
       "  </tbody>\n",
       "</table>\n",
       "</div>"
      ],
      "text/plain": [
       "                                                                                                                                                                                                 tokens  \\\n",
       "0    ['高价', '收', '高迁', '号', '有意', '私聊', '回复']                                                                                                                                                             \n",
       "1    ['资源', '加', '微信', 'svip', '12126', '礼包', '群里', '攻略', '内测', '老人', '带队', '没加']                                                                                                                         \n",
       "2    ['上官', '海白', '表字', '养']                                                                                                                                                                              \n",
       "3    ['上官', '海白彪', '子养']                                                                                                                                                                                  \n",
       "4    ['出号', '交易', '猫', '交易']                                                                                                                                                                              \n",
       "5    ['代挂', '高迁', '功勋', '号', '需要', '私聊']                                                                                                                                                                  \n",
       "6    ['资源', '给']                                                                                                                                                                                          \n",
       "7    ['邵华', '不负', 'ma', '样人', 'gan', '出', '大肚', '邵华', '不负', 'ma', '样', '整出', '大肚', '邵华', '不负', 'ma', '憋不住', '配猪', '结果', '生出', '邵华', '不负']                                                                 \n",
       "8    ['邵华', '不负', 'ma', '样人', 'gan', '出', '大肚', '邵华', '不负', 'ma', '样', '整出', '大肚']                                                                                                                        \n",
       "9    ['有意', '请加', 'vx', '18526109947']                                                                                                                                                                    \n",
       "10   ['大量', '回收', 'v', '10', '弃坑', '号']                                                                                                                                                                   \n",
       "11   ['机器人', '高迁', '是不是', '伤心']                                                                                                                                                                           \n",
       "12   ['130', '不多鱼', '区内', 'd', 'n', '还清', 'm', '要', 'b', 'dy', '号']                                                                                                                                       \n",
       "13   ['招收', '资源', '号', '城皮', '号', '内号']                                                                                                                                                                   \n",
       "14   ['售', '高迁', '号', '威信', 'tmmwgwbd']                                                                                                                                                                   \n",
       "15   ['麦', '高迁', '号', '40', '亿', '资源', '威信', 'tmmwgwbd', '交易', '猫']                                                                                                                                       \n",
       "16   ['染指', '招', '活人']                                                                                                                                                                                    \n",
       "17   ['收', '中战', '号', '不限', 'v', '放号', '私聊']                                                                                                                                                              \n",
       "18   ['收', '35', '加', '资源', '号', '加', 'vx', '18021856963']                                                                                                                                                \n",
       "19   ['出售', '高迁', '高等级', '号']                                                                                                                                                                             \n",
       "20   ['收', '资源', '号', '私聊']                                                                                                                                                                               \n",
       "21   ['晨曦', '小号']                                                                                                                                                                                         \n",
       "22   ['大量', '长期', '出', '资源', '功勋', '要', '加', '微信', '18108477740', '大量', '长期', '出', '资源', '功勋', '要', '加', '微信', '18108477740']                                                                             \n",
       "23   ['大量', '长期', '出', '资源', '功勋', '要', '加', '微信', '18108477740', '大量', '长期', '出', '资源', '功勋', '要', '加', '微信', '18108477740', '大量', '出', '资源', '功勋', '捐城', '一切', '要', '加', '微信', '1810847740']            \n",
       "24   ['紫曦', '漂', '孙权']                                                                                                                                                                                    \n",
       "25   ['收', '高迁', '号', '私聊', '回信']                                                                                                                                                                         \n",
       "26   ['发布', '锄', 'jian', '汉', 'jian', '唐', '盛世', '团长', '富士康', '陈胜宇', '蛊惑', '战备', '守城', '营造', '三分', '假象', '避免', '下次', '合区', '合到', '强蜀区', '其心', '诛']                                                        \n",
       "27   ['号召', '全面', '锄', 'jian', '炸汉', 'jian', '矿', '5', '或', '真正', '热爱', '加入', '虐', 'jian', '呼吁', '蒙骗', '弃暗投明', '加入']                                                                                      \n",
       "28   ['1', '佰', '=', '99', '万沅宝', '送', 'v', '10', '+', '任将', '需要', '茄', 'ⓠ', '⑦', 'ο', '②', '⑤', '①', '②', '③', '②', 'ο', '菿', '咐', '封号', '认准', '唯一', 'ⓠ', '⑦', 'ο', '②', '⑤', '①', '②', '③', '②', 'ο']   \n",
       "29   ['大量', '出', '高迁', '极速', '功勋', '捐城']                                                                                                                                                                  \n",
       "30   ['高价', '回收', '高迁', '号', '私聊']                                                                                                                                                                        \n",
       "31   ['招', '厨师', '服务员', '待遇', '从优', '月薪', '5000', '有意', '私聊']                                                                                                                                             \n",
       "32   ['天高', '西门', '阳间', '事说', '点人话']                                                                                                                                                                      \n",
       "33   ['加入', '再起']                                                                                                                                                                                         \n",
       "34   ['无论', '等级', '高低', '人人平等', '加入']                                                                                                                                                                     \n",
       "35   ['大量', '出售', '资源', '5', '元', '一亿', '非诚', '勿扰']                                                                                                                                                       \n",
       "36   ['收', '55', '级', '资源', '号', '微信', '15762820902']                                                                                                                                                     \n",
       "37   ['收', '摇点', '途游', '高迁', '号', '需要', '功勋', '联系', '18251209580']                                                                                                                                        \n",
       "38   ['收', '45', '级', '资源', '号', '微信', '15762820902']                                                                                                                                                     \n",
       "39   ['出售', '资源', '10', '亿', '10', '元', '需要', '加', '微信', 'daliu', '695']                                                                                                                                  \n",
       "40   ['矿', '红手指']                                                                                                                                                                                         \n",
       "41   ['收', '摇点', '途游', '高迁', '号', '出', '功勋', '出', '高迁', '联系', '18251209580']                                                                                                                              \n",
       "42   ['墨子', '骞', '至尊宝', '野碟', '持久', '十秒', '至尊宝']                                                                                                                                                          \n",
       "43   ['公猪', '拱得', '爽歪歪', '大减价', '甩', '屁', '走过', '路', '一', '只要', '两块', '只要', '两块']                                                                                                                         \n",
       "44   ['高价', '收', '45', '级', '弃坑', '号', 'wx', '18611908489']                                                                                                                                               \n",
       "45   ['招兵', '高战', '低战']                                                                                                                                                                                   \n",
       "46   ['出本', '号', '15', 'xx', '猫']                                                                                                                                                                         \n",
       "47   ['收', '55', '级', '资源', '号', '优先', '微信', '15762820902']                                                                                                                                               \n",
       "48   ['178', '177']                                                                                                                                                                                       \n",
       "49   ['出滋原', '甩货', '需要', 'vxin', '17756100852']                                                                                                                                                           \n",
       "50   ['id', '专打', '贼', 'wx', 'haoxinweixin', '62219102', '给']                                                                                                                                             \n",
       "51   ['巫马', '送']                                                                                                                                                                                          \n",
       "52   ['收弃', '坑', '号']                                                                                                                                                                                     \n",
       "53   ['收', '高迁', '号']                                                                                                                                                                                     \n",
       "54   ['预祝', '披荆斩棘', '称霸一方']                                                                                                                                                                               \n",
       "55   ['醉意', '九峰', '全服']                                                                                                                                                                                   \n",
       "56   ['收', '高迁', '号', '有意者', '私聊']                                                                                                                                                                        \n",
       "57   ['醉意', '九峰']                                                                                                                                                                                         \n",
       "58   ['夜', '星辰', '招兵', '高战', '低战']                                                                                                                                                                        \n",
       "59   ['要', '资源', '功勋', '高迁', '天晴', 'vx', 'kouzhanyu']                                                                                                                                                     \n",
       "60   ['低', '-', '出兹原', '需要', '加', 'vx', '17756100852']                                                                                                                                                    \n",
       "61   ['21', '没空', '的话', '资源', '然后', '庐江', '占位', '这样', '庐江', '几个', '集体照', '望', '参与']                                                                                                                       \n",
       "62   ['地址', '私发']                                                                                                                                                                                         \n",
       "63   ['换', '皮肤']                                                                                                                                                                                          \n",
       "64   ['龍义', '备战', '192', '打造', '天团', '13356371520', '加', '微信', '进群']                                                                                                                                      \n",
       "65   ['115', '10']                                                                                                                                                                                        \n",
       "66   ['收', '高迁']                                                                                                                                                                                          \n",
       "67   ['梁山泊', '招收']                                                                                                                                                                                        \n",
       "68   ['弃坑', '号', '要']                                                                                                                                                                                     \n",
       "69   ['一品白衫', '充值', '130']                                                                                                                                                                                \n",
       "70   ['花酒', '姐']                                                                                                                                                                                          \n",
       "71   ['此号', '甩卖', '走过', '路过', '错过', '有意', '私聊']                                                                                                                                                           \n",
       "72   ['送', '功勋']                                                                                                                                                                                          \n",
       "73   ['团招', '搜索', '聚贤阁', '5', '立即', '加入']                                                                                                                                                                 \n",
       "74   ['江东', '霸下盟']                                                                                                                                                                                        \n",
       "75   ['北海', '皮肤', '南瓜', '皮肤']                                                                                                                                                                             \n",
       "76   ['高迁', '号']                                                                                                                                                                                          \n",
       "77   ['资源', '号']                                                                                                                                                                                          \n",
       "78   ['低价', '籽', '圆', 'v', '17659736093']                                                                                                                                                                 \n",
       "79   ['兴复', '汉室', '诚邀', '活跃', '加入']                                                                                                                                                                       \n",
       "80   ['想换个', '50', '级', 'v', '号', '低', '没关系', '有出', '带价', '私聊']                                                                                                                                           \n",
       "81   ['熊', '3', '号', '经典', '人物', '国士', 'pm', '男', '6', '平方米', '生活圈', '药石', '男', '喜欢', '花钱', '常青树', 'dp']                                                                                                  \n",
       "82   ['圈圈', '粉', '亦', '米', '啵', '三国志', '相处', '三年', '不管', '恨', '爱', '本汉帝', '王中能', '取得', '成绩', '金马', '连续', '白女票', '47', '―', '56', '争光', '相见']                                                              \n",
       "83   ['互刷', '功勋']                                                                                                                                                                                         \n",
       "84   ['北海', '皮肤', '南瓜', '皮肤', '北海', '免得']                                                                                                                                                                 \n",
       "85   ['缺', '资源']                                                                                                                                                                                          \n",
       "86   ['0820', '6']                                                                                                                                                                                        \n",
       "87   ['一白', '＝', '九百万', '元宝', '送', 'v', '10', '加', '任意', '红', '将要', '加', 'v', '戴宏是', '癞蛤蟆', 'v']                                                                                                          \n",
       "88   ['大秦', '南弦绿', '货']                                                                                                                                                                                   \n",
       "89   ['想换个', '50', '级', '换个', 'v', '号', '私聊']                                                                                                                                                             \n",
       "90   ['洪荒', '狂战', '招人', '限', '等级', '限', '没加', '加入']                                                                                                                                                       \n",
       "91   ['素和元成', '诚信', '招']                                                                                                                                                                                  \n",
       "92   ['团招', '搜索', '聚贤阁', '5', '立即']                                                                                                                                                                       \n",
       "93   ['收号', '收', '资源', '收', '高迁']                                                                                                                                                                         \n",
       "94   ['北海', '皮肤', '南瓜', '皮肤', '北海', '免得', '有限']                                                                                                                                                           \n",
       "95   ['10', '亿', '资源', '捐城', '需要']                                                                                                                                                                        \n",
       "96   ['出', '资源', '功勋', '需要', '+', 'v', 'ytlzyi']                                                                                                                                                          \n",
       "97   ['收', '各国', '号', '有意', '私聊']                                                                                                                                                                         \n",
       "98   ['送', '一波']                                                                                                                                                                                          \n",
       "99   ['100', 'w', '战', '以下', '功勋', '120', 'w']                                                                                                                                                            \n",
       "100  ['7', '11', '8']                                                                                                                                                                                     \n",
       "101  ['冲车', '冲']                                                                                                                                                                                          \n",
       "102  ['311', '183']                                                                                                                                                                                       \n",
       "103  ['换', '号']                                                                                                                                                                                           \n",
       "104  ['功勋', '资源']                                                                                                                                                                                         \n",
       "105  ['收', '高迁', '号', '+', 'vx', '18502264110']                                                                                                                                                           \n",
       "106  ['一梦', '坑']                                                                                                                                                                                          \n",
       "107  ['弃坑', '魏', '号', '要', '完照']                                                                                                                                                                          \n",
       "108  ['请', '9']                                                                                                                                                                                           \n",
       "109  ['麦号', '有意', '请加', '微信', '18526109947']                                                                                                                                                              \n",
       "110  ['白版', '皮肤', '初心', '改称', '号']                                                                                                                                                                        \n",
       "111  ['换个', '皮肤']                                                                                                                                                                                         \n",
       "112  ['需要', '功勋', '联系', '18251209580', '长期', '优惠']                                                                                                                                                        \n",
       "113  ['我换', '号']                                                                                                                                                                                          \n",
       "114  ['需要', '资源']                                                                                                                                                                                         \n",
       "115  ['诚意', '收', '各国', '号', '有意', '私聊']                                                                                                                                                                   \n",
       "116  ['10', '点半', '改版', '前']                                                                                                                                                                              \n",
       "117  ['龙舟', '皮肤']                                                                                                                                                                                         \n",
       "118  ['两个', '号']                                                                                                                                                                                          \n",
       "\n",
       "                                                                                                                    content  \\\n",
       "0    高价收吴国高迁号，有意的私聊，晚上九点统一回复！                                                                                                 \n",
       "1    为了军团更好的发展，资源更好的利用，大家一起作战，兄弟加微信：svip12126，领礼包，群里有攻略和内测老人带队，就差你没加了                                                         \n",
       "2    上官海白 表字养的                                                                                                                \n",
       "3    上官海白 彪子 养的                                                                                                               \n",
       "4    出号，交易猫交易                                                                                                                 \n",
       "5    代挂高迁功勋号，需要的私聊                                                                                                            \n",
       "6    你好，我还在线，没资源给你拉抱歉。                                                                                                        \n",
       "7    邵华不负，你ma样人，gan出大肚，邵华不负，你ma样我整出大肚，邵华不负，你ma憋不住，天天在配猪，结果生出邵华不负，                                                             \n",
       "8    邵华不负，你ma样人，gan出大肚，邵华不负，你ma样我整出大肚，                                                                                        \n",
       "9    有意请加VX18526109947                                                                                                        \n",
       "10   大量回收V10以上弃坑号                                                                                                             \n",
       "11   我是个机器人，用你一个高迁，没打到我，是不是很伤心                                                                                                \n",
       "12   130不多鱼，区内被控第一人，你是死了d，还是被玩了n，天天深更半夜清平民繁荣，你都霸服了你还清你m，要不要点b脸，有本事把你dy打出游戏，别说控号，你在有钱还不在被别人玩，被控号的玩，菊花残的狗东西                     \n",
       "13   本团招收蜀国有志青年，资源号，城皮号，内号共同迎接新版本，直接申请                                                                                        \n",
       "14   售吴国高迁号，威信tmmwgwbd                                                                                                        \n",
       "15   麦高迁号带40亿资源，威信tmmwgwbd，交易猫                                                                                                \n",
       "16   染指招活人，蜀国加油                                                                                                               \n",
       "17   收吴国中战号，不限v，放号私聊                                                                                                          \n",
       "18   收魏国35加资源号,无军团 有的加VX18021856963                                                                                           \n",
       "19   出售吴国高迁高等级号                                                                                                               \n",
       "20   收吴国资源号，卖的私聊。                                                                                                             \n",
       "21   晨曦***整个小号挨个群bb，这游戏把你玩傻，笔了吧，天天喊内，间蜀国打你还用内吗                                                                                \n",
       "22   大量长期出资源和功勋要的加微信18108477740。大量长期出资源和功勋要的加微信18108477740                                                                    \n",
       "23   大量长期出资源和功勋要的加微信18108477740。大量长期出资源和功勋要的加微信18108477740大量出资源，功勋，捐城 **等游戏一切任务，要的加微信1810847740                               \n",
       "24   兄弟们，都来紫曦漂孙权啊！                                                                                                            \n",
       "25   收蜀国高迁号，私聊我中午回信                                                                                                           \n",
       "26   现发布“锄JIAN令”：汉JIAN唐盛世，团长魏国人富士康，团副陈胜宇，蛊惑蜀国兄弟，用蜀国战备帮魏国守城，营造三分假象，避免下次合区合到强蜀区，其心可诛。                                           \n",
       "27   现号召全面锄JIAN，每天炸汉JIAN矿5个，或清繁荣一个。欢迎所有真正热爱蜀国的兄弟一起加入，开心虐JIAN。也呼吁被蒙骗的兄弟弃暗投明，蜀国各路军团欢迎你们加入。                                      \n",
       "28   1佰=99万沅宝送V10+任将需要茄ⓠ ⑦Ο②⑤①②③②Ο菿咐,不封号！认准唯一ⓠ： ⑦Ο②⑤①②③②Ο                                                                     \n",
       "29   大量出高迁，极速刷功勋，捐城                                                                                                           \n",
       "30   高价回收魏国高迁号，卖的私聊。                                                                                                          \n",
       "31   招厨师，服务员，待遇从优，月薪5000起，有意私聊                                                                                                \n",
       "32   天高的西门秃顶，您能*点阳间事说点人话吗？                                                                                                    \n",
       "33   欢迎新朋友加入风云再起！                                                                                                             \n",
       "34   风云军团无论等级高低人人平等，欢迎加入我们！                                                                                                   \n",
       "35   大量出售资源，5元一亿，非诚勿扰。                                                                                                        \n",
       "36   收魏国，吴国55级以上资源号，微信15762820902                                                                                             \n",
       "37   收魏国摇点途游高迁号，需要功勋的联系18251209580                                                                                            \n",
       "38   收主公45级以上资源号，魏国跟吴国，微信15762820902                                                                                          \n",
       "39   出售资源10亿10元需要的加微信daliu695                                                                                                 \n",
       "40   不要炸我矿，红手指在线！                                                                                                             \n",
       "41   收摇点途游高迁号，出功勋有，出魏国高迁，联系18251209580                                                                                        \n",
       "42   喔，墨子骞 ，这个孝顺儿懆得我这个亲码嗷嗷叫 ，比至尊宝那个你野碟持久十秒 ，至尊宝现在被猪拱了浑身溃烂，正在喝我的脓血疗伤                                                           \n",
       "43   刚被公猪拱得爽歪歪 ，大减价 ，大甩屁了，走过路过来懆一懆 ，只要两块 ，只要两块 。                                                                              \n",
       "44   高价收45级以上的弃坑号，wx18611908489                                                                                               \n",
       "45   蜀二团招兵了，高战，低战，散人，都是兄弟                                                                                                     \n",
       "46   出本号，15远，xx猫                                                                                                              \n",
       "47   收55级以上资源号，蜀国优先，微信15762820902                                                                                             \n",
       "48   祝178、177兄弟们来*可期，平安顺遂。                                                                                                    \n",
       "49   出滋原。甩货。需要VXIN: 17756100852                                                                                               \n",
       "50   id:专打蜀贼 wx:haoxinweixin62219102 你也是可怜，你家里死得就剩你了。我也知道你不容易，你父母还等着你拿钱买棺材下葬呢！可是你骗我的那点钱给你父母烧纸都不够啊！                            \n",
       "51   巫马不辞辛苦的坚持送帽子，小农民的思维还真是单纯可爱惹人疼呢，哈哈哈哈                                                                                      \n",
       "52   收弃坑号，                                                                                                                    \n",
       "53   收吴国高迁号                                                                                                                   \n",
       "54   预祝{localization:177-178}的兄弟在新版本披荆斩棘，称霸一方！                                                                                \n",
       "55   醉意，九峰全服第一**                                                                                                              \n",
       "56   收吴国高迁号，有意者私聊我                                                                                                            \n",
       "57   醉意，九峰，宝服的傻笔王                                                                                                             \n",
       "58   蜀二团夜星辰招兵了，高战，低战，散人，都是兄弟                                                                                                  \n",
       "59   要资源功勋高迁找天晴VX: kouzhanyu                                                                                                  \n",
       "60   低-出兹原，需要的加VX: 17756100852                                                                                                \n",
       "61   今天是本服的最后一天，今晚21点（晚上没空上线的话，可以把资源用完，然后提前飞庐江占位，这样拍的照也会有你），集合围在庐江郡（坐标{localization:820-586}），拍几个集体照留念，望所有人参与。。               \n",
       "62   谁有此不肖子的地址私发我，谢了！                                                                                                         \n",
       "63   换皮肤                                                                                                                      \n",
       "64   龍义备战192区，打造霸服天团。13356371520加微信进群                                                                                         \n",
       "65   原115区不分国籍，今晚10点长安合影拍个照                                                                                                   \n",
       "66   收蜀国高迁                                                                                                                    \n",
       "67   吴国梁山泊招收各路英雄、叛贼，共同打家劫舍                                                                                                    \n",
       "68   三国的弟兄们，本人准备弃坑了，以前和魏国蜀国的过节，今后都消了吧，我大小号都在这，要报仇的来 {localization:887-268}                                                    \n",
       "69   魏国还有一品白衫那沙比银河奥特曼，你总喊你玛了比啊！没钱别比比，有能耐你充值，纳了闷，就是你占了130不多鱼名你就厉害了？**呵呵的                                                       \n",
       "70   喝花酒，抱**姐                                                                                                                 \n",
       "71   此号甩卖，走过路过不要错过，有意私聊                                                                                                       \n",
       "72   送一次功勋你。                                                                                                                  \n",
       "73   本娱乐团招散人，无任务随便玩，搜索聚贤阁5，立即加入吧。                                                                                             \n",
       "74   江东霸下盟赶紧到长安合影了。                                                                                                           \n",
       "75   今天晚上集合留影咯，全体兄弟都来\\n时间为晚上九点，地点北海郡城，统一围城。\\n\\n皮肤上南瓜皮肤，没有的用其他皮肤。\\n\\n看见通告的兄弟，可以提前去围城。早到有好位置                                    \n",
       "76   高迁号随便打                                                                                                                   \n",
       "77   哈哈！没资源号呀！                                                                                                                \n",
       "78   低价籽圆，v17659736093                                                                                                        \n",
       "79   兴复汉室诚邀活跃兄弟加入                                                                                                             \n",
       "80   想换个50级主公高v号！战力低一点都没关系！有出的带价私聊                                                                                            \n",
       "81   有熊3号经典人物：大白py王。国士pm男，6平方米生活圈。药石**男，喜欢花钱看常青树dp。                                                                           \n",
       "82   大家好，我是圈圈，也是粉猪，亦是米啵，三国志已经相处三年了，不管恨我的，爱我的，本汉帝在这里祝大家在自立为王中能取得好成绩，金马连续白女票，为47――56区争光。江湖相见咯                                   \n",
       "83   互刷功勋，来不来                                                                                                                 \n",
       "84   今天晚上集合留影咯，全体兄弟都来时间为晚上九点，地点北海郡城，统一围城。皮肤上南瓜皮肤，没有的用其他皮肤可以提前去北海郡城占位置，免得自己晚上没时间。看见通告的兄弟，可以提前去围城，占好C位，                         \n",
       "85   缺资源可以去抢 {localization:663-180}                                                                                           \n",
       "86   0820晚6点以后繁荣城自由开放！                                                                                                        \n",
       "87   一白＝九百万元宝送v10加任意红将要的，加v：戴宏是癞蛤蟆（v）                                                                                         \n",
       "88   大秦、南弦绿，贝戋 犭句，炸的爽吗？犭句 娘养的货。                                                                                               \n",
       "89   想换个50级以上主公，换个高v号，私聊                                                                                                      \n",
       "90   蜀国洪荒狂战招人，不限等级，不限战力，没加军团的兄弟，加入我们，大家一起玩！                                                                                   \n",
       "91   素和元成军团，诚信招人种田                                                                                                            \n",
       "92   本娱乐团招散人，无任务随便玩，搜索聚贤阁5，立即申请！                                                                                              \n",
       "93   收号，收资源，收高迁                                                                                                               \n",
       "94   今天晚上集合留影咯，全体兄弟都来\\n时间为晚上九点，地点北海郡城，统一围城。\\n\\n皮肤上南瓜皮肤，没有的用其他皮肤\\n\\n可以提前去北海郡城占位置，免得自己晚上没时间。\\n\\n看见通告的兄弟，可以提前去围城，占好C\\n位，一环位置有限   \n",
       "95   没有参加10亿资源捐城的兄弟，需要你现在暂时离团。                                                                                                \n",
       "96   出资源，功勋，需要的+v:ytlzyi                                                                                                      \n",
       "97   收各国号，有意私聊                                                                                                                \n",
       "98   送你一波吧                                                                                                                    \n",
       "99   100W战以下，刷功勋：{localization:893-432}，有120W兵                                                                                \n",
       "100  今晚7点打繁荣城到点就打，11点铁血打回\\n今晚8点，联盟在成都拍照，具体坐标等**                                                                               \n",
       "101  冲车冲他                                                                                                                     \n",
       "102  311，183其他人飞过去                                                                                                            \n",
       "103  换号哈                                                                                                                      \n",
       "104  刷功勋好地方，资源多 {localization:615-820}                                                                                        \n",
       "105  收魏国高迁号，卖的+vx18502264110                                                                                                  \n",
       "106  一梦坑货，坑徒弟                                                                                                                 \n",
       "107  三国弟兄们，本人准备弃坑，以前和魏蜀的过节，今后都消了吧，我大小号都在这，要报仇的来，拍完照我就撤了 {localization:887-268}                                                \n",
       "108  各位，今天是赛季服前的最后一天，感谢大家一路坚持。现军团准备做个集体合影，地点在涪陵郡。请大家有空就飞过去按顺序整体排列好。到位了在今晚9点会安排截图拍照留念。谢谢大家配合。                                  \n",
       "109  你好 麦号吗？有意请加微信18526109947                                                                                                 \n",
       "110  白版皮肤，初心不改称号！ {localization:311-183}                                                                                      \n",
       "111  换个皮肤                                                                                                                     \n",
       "112  需要功勋联系18251209580长期优惠                                                                                                    \n",
       "113  我换还个号                                                                                                                    \n",
       "114  需要资源不？                                                                                                                   \n",
       "115  诚意收各国号！有意私聊                                                                                                              \n",
       "116  洛阳合影，10点开始，10点半结束，改版前最后一次集体**                                                                                            \n",
       "117  可有龙舟皮肤                                                                                                                   \n",
       "118  还有两个号                                                                                                                    \n",
       "\n",
       "      cnt  \n",
       "0    1621  \n",
       "1    1516  \n",
       "2    1316  \n",
       "3    1210  \n",
       "4    855   \n",
       "5    766   \n",
       "6    712   \n",
       "7    673   \n",
       "8    672   \n",
       "9    629   \n",
       "10   623   \n",
       "11   567   \n",
       "12   508   \n",
       "13   495   \n",
       "14   495   \n",
       "15   494   \n",
       "16   492   \n",
       "17   368   \n",
       "18   359   \n",
       "19   348   \n",
       "20   345   \n",
       "21   340   \n",
       "22   336   \n",
       "23   333   \n",
       "24   322   \n",
       "25   317   \n",
       "26   251   \n",
       "27   242   \n",
       "28   241   \n",
       "29   233   \n",
       "30   230   \n",
       "31   222   \n",
       "32   190   \n",
       "33   168   \n",
       "34   167   \n",
       "35   156   \n",
       "36   148   \n",
       "37   143   \n",
       "38   129   \n",
       "39   127   \n",
       "40   125   \n",
       "41   123   \n",
       "42   111   \n",
       "43   109   \n",
       "44   103   \n",
       "45   97    \n",
       "46   95    \n",
       "47   94    \n",
       "48   80    \n",
       "49   69    \n",
       "50   63    \n",
       "51   59    \n",
       "52   56    \n",
       "53   50    \n",
       "54   48    \n",
       "55   47    \n",
       "56   46    \n",
       "57   44    \n",
       "58   42    \n",
       "59   41    \n",
       "60   40    \n",
       "61   36    \n",
       "62   34    \n",
       "63   34    \n",
       "64   30    \n",
       "65   30    \n",
       "66   27    \n",
       "67   24    \n",
       "68   24    \n",
       "69   23    \n",
       "70   23    \n",
       "71   23    \n",
       "72   16    \n",
       "73   15    \n",
       "74   14    \n",
       "75   14    \n",
       "76   12    \n",
       "77   12    \n",
       "78   11    \n",
       "79   10    \n",
       "80   10    \n",
       "81   10    \n",
       "82   9     \n",
       "83   9     \n",
       "84   9     \n",
       "85   9     \n",
       "86   9     \n",
       "87   9     \n",
       "88   8     \n",
       "89   8     \n",
       "90   8     \n",
       "91   8     \n",
       "92   7     \n",
       "93   7     \n",
       "94   7     \n",
       "95   7     \n",
       "96   7     \n",
       "97   7     \n",
       "98   6     \n",
       "99   6     \n",
       "100  6     \n",
       "101  6     \n",
       "102  6     \n",
       "103  6     \n",
       "104  6     \n",
       "105  6     \n",
       "106  6     \n",
       "107  6     \n",
       "108  5     \n",
       "109  5     \n",
       "110  5     \n",
       "111  5     \n",
       "112  5     \n",
       "113  5     \n",
       "114  5     \n",
       "115  5     \n",
       "116  5     \n",
       "117  5     \n",
       "118  5     "
      ]
     },
     "execution_count": 44,
     "metadata": {},
     "output_type": "execute_result"
    }
   ],
   "source": [
    "df5 = df[df['cnt'] >= 5]\n",
    "print(df5.shape)\n",
    "df5"
   ]
  },
  {
   "cell_type": "raw",
   "metadata": {},
   "source": [
    "df4 = df[(df['cnt'] < 5) & (df['cnt'] >= 4)]\n",
    "print(df4.shape)\n",
    "df4"
   ]
  },
  {
   "cell_type": "raw",
   "metadata": {},
   "source": [
    "df3 = df[(df['cnt'] < 4) & (df['cnt'] >= 3)]\n",
    "print(df3.shape)\n",
    "df3"
   ]
  },
  {
   "cell_type": "raw",
   "metadata": {},
   "source": [
    "counter = defaultdict(int)\n",
    "\n",
    "for tokens in df3.tokens:\n",
    "    for t in set(eval(tokens)):\n",
    "        counter[t] += 1\n",
    "        \n",
    "counter = sorted(counter.items(), key=lambda x: x[1], reverse=True)\n",
    "counter"
   ]
  },
  {
   "cell_type": "raw",
   "metadata": {},
   "source": [
    "df2 = df[(df['cnt'] < 3) & (df['cnt'] >= 2)]\n",
    "print(df2.shape)\n",
    "df2"
   ]
  },
  {
   "cell_type": "code",
   "execution_count": 45,
   "metadata": {},
   "outputs": [
    {
     "name": "stdout",
     "output_type": "stream",
     "text": [
      "(642, 3)\n"
     ]
    }
   ],
   "source": [
    "dfn = df[df['cnt'] > 1]\n",
    "print(dfn.shape)\n",
    "# dfn"
   ]
  },
  {
   "cell_type": "code",
   "execution_count": 46,
   "metadata": {},
   "outputs": [
    {
     "data": {
      "text/plain": [
       "(27745, 3)"
      ]
     },
     "execution_count": 46,
     "metadata": {},
     "output_type": "execute_result"
    }
   ],
   "source": [
    "df1 = df[df['cnt'] <= 1]\n",
    "df1.shape"
   ]
  },
  {
   "cell_type": "markdown",
   "metadata": {},
   "source": [
    "## keywords"
   ]
  },
  {
   "cell_type": "code",
   "execution_count": 47,
   "metadata": {},
   "outputs": [],
   "source": [
    "# TODO: 2期 标注"
   ]
  },
  {
   "cell_type": "markdown",
   "metadata": {},
   "source": [
    "## Data"
   ]
  },
  {
   "cell_type": "code",
   "execution_count": null,
   "metadata": {},
   "outputs": [],
   "source": []
  }
 ],
 "metadata": {
  "kernelspec": {
   "display_name": "Python 3",
   "language": "python",
   "name": "python3"
  },
  "language_info": {
   "codemirror_mode": {
    "name": "ipython",
    "version": 3
   },
   "file_extension": ".py",
   "mimetype": "text/x-python",
   "name": "python",
   "nbconvert_exporter": "python",
   "pygments_lexer": "ipython3",
   "version": "3.8.5"
  }
 },
 "nbformat": 4,
 "nbformat_minor": 4
}
