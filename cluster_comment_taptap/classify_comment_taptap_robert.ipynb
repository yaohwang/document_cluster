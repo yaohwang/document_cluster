{
 "cells": [
  {
   "cell_type": "code",
   "execution_count": 1,
   "id": "positive-essex",
   "metadata": {},
   "outputs": [],
   "source": [
    "import os\n",
    "import json\n",
    "import math\n",
    "import torch\n",
    "import pickle\n",
    "import shutil\n",
    "import transformers\n",
    "\n",
    "import numpy as np\n",
    "import pandas as pd"
   ]
  },
  {
   "cell_type": "code",
   "execution_count": 2,
   "id": "explicit-yield",
   "metadata": {},
   "outputs": [],
   "source": [
    "from pathlib import Path\n",
    "from itertools import chain\n",
    "from tqdm import tqdm\n",
    "from datetime import datetime\n",
    "from datetime import timedelta"
   ]
  },
  {
   "cell_type": "code",
   "execution_count": 3,
   "id": "allied-fields",
   "metadata": {},
   "outputs": [],
   "source": [
    "from sklearn import metrics\n",
    "from sklearn.preprocessing import MultiLabelBinarizer\n",
    "from sklearn.metrics import classification_report\n",
    "\n",
    "from torch.utils.data import Dataset\n",
    "from torch.utils.data import DataLoader\n",
    "\n",
    "from transformers import BertTokenizer\n",
    "from transformers import BertModel"
   ]
  },
  {
   "cell_type": "code",
   "execution_count": 4,
   "id": "biological-cooking",
   "metadata": {},
   "outputs": [],
   "source": [
    "from torch import cuda\n",
    "device = 'cuda' if cuda.is_available() else 'cpu'"
   ]
  },
  {
   "cell_type": "code",
   "execution_count": 5,
   "id": "alternate-performance",
   "metadata": {},
   "outputs": [
    {
     "name": "stdout",
     "output_type": "stream",
     "text": [
      "Importing Jupyter notebook from classify_comment_taptap_dataset.ipynb\n",
      "Importing Jupyter notebook from classify_comment_taptap_model.ipynb\n",
      "Importing Jupyter notebook from classify_comment_taptap_flow.ipynb\n"
     ]
    }
   ],
   "source": [
    "import nbimporter\n",
    "\n",
    "from classify_comment_taptap_dataset import get_dataset\n",
    "\n",
    "from classify_comment_taptap_model import BERTClass\n",
    "from classify_comment_taptap_model import loss_fn\n",
    "from classify_comment_taptap_model import validation\n",
    "from classify_comment_taptap_model import train\n",
    "from classify_comment_taptap_model import evaluate\n",
    "\n",
    "from classify_comment_taptap_flow import clean\n",
    "from classify_comment_taptap_flow import load_or_create_model\n",
    "from classify_comment_taptap_flow import create_or_update_best\n",
    "from classify_comment_taptap_flow import load_best\n",
    "from classify_comment_taptap_flow import create_or_update_last\n",
    "\n",
    "from classify_comment_taptap_flow import create_or_update_loss\n",
    "from classify_comment_taptap_flow import plot_loss"
   ]
  },
  {
   "cell_type": "code",
   "execution_count": 6,
   "id": "introductory-steal",
   "metadata": {},
   "outputs": [
    {
     "name": "stderr",
     "output_type": "stream",
     "text": [
      "\r",
      "0it [00:00, ?it/s]"
     ]
    },
    {
     "name": "stdout",
     "output_type": "stream",
     "text": [
      "CPU times: user 10.9 s, sys: 3.16 s, total: 14.1 s\n",
      "Wall time: 14.1 s\n",
      "(150, 5)\n"
     ]
    },
    {
     "name": "stderr",
     "output_type": "stream",
     "text": [
      "150it [00:17,  8.78it/s]\n"
     ]
    },
    {
     "name": "stdout",
     "output_type": "stream",
     "text": [
      "CPU times: user 16.1 s, sys: 3.68 s, total: 19.7 s\n",
      "Wall time: 19.7 s\n",
      "(488452, 14)\n",
      "(45450, 14)\n",
      "CPU times: user 1 s, sys: 4 ms, total: 1 s\n",
      "Wall time: 1 s\n",
      "(30378, 2)\n",
      "50\n",
      "(195017, 14)\n",
      "Stored 'df_comments' (DataFrame)\n",
      "Stored 'df_comments_length' (Series)\n",
      "Stored 'df_comments_topics' (DataFrame)\n",
      "(30378,)\n",
      "(27670,)\n",
      "0.9108565409177695\n",
      "(30378, 2)\n",
      "FULL Dataset: (30378, 2)\n",
      "TRAIN Dataset: (24302, 2)\n",
      "TEST Dataset: (6076, 2)\n",
      "Stored 'train_dataset' (DataFrame)\n",
      "Stored 'test_dataset' (DataFrame)\n",
      "Stored 'mlb' (MultiLabelBinarizer)\n"
     ]
    }
   ],
   "source": [
    "%run classify_comment_taptap_data.ipynb\n",
    "%run classify_comment_taptap_dataset.ipynb"
   ]
  },
  {
   "cell_type": "code",
   "execution_count": 7,
   "id": "japanese-protection",
   "metadata": {},
   "outputs": [
    {
     "data": {
      "text/plain": [
       "datetime.datetime(2021, 3, 4, 7, 30)"
      ]
     },
     "execution_count": 7,
     "metadata": {},
     "output_type": "execute_result"
    }
   ],
   "source": [
    "tomorrow = datetime.now() + timedelta(days=1)\n",
    "tomorrow_morning = tomorrow.replace(hour=7, minute=30, second=0, microsecond=0)\n",
    "tomorrow_morning"
   ]
  },
  {
   "cell_type": "code",
   "execution_count": 8,
   "id": "proper-metabolism",
   "metadata": {},
   "outputs": [
    {
     "data": {
      "text/plain": [
       "datetime.datetime(2021, 3, 3, 18, 0)"
      ]
     },
     "execution_count": 8,
     "metadata": {},
     "output_type": "execute_result"
    }
   ],
   "source": [
    "today = datetime.now()\n",
    "today_afternoon = today.replace(hour=18, minute=0, second=0, microsecond=0)\n",
    "today_afternoon"
   ]
  },
  {
   "cell_type": "markdown",
   "id": "latest-combination",
   "metadata": {},
   "source": [
    "## Data"
   ]
  },
  {
   "cell_type": "code",
   "execution_count": 9,
   "id": "colonial-synthesis",
   "metadata": {},
   "outputs": [],
   "source": [
    "# MAX_LEN = 128\n",
    "# MAX_LEN = int(mu_1std)\n",
    "MAX_LEN = 512"
   ]
  },
  {
   "cell_type": "code",
   "execution_count": 10,
   "id": "bright-discount",
   "metadata": {},
   "outputs": [],
   "source": [
    "model_name = 'hfl/chinese-roberta-wwm-ext'"
   ]
  },
  {
   "cell_type": "code",
   "execution_count": 11,
   "id": "textile-exercise",
   "metadata": {},
   "outputs": [],
   "source": [
    "%store -r train_dataset\n",
    "%store -r test_dataset\n",
    "%store -r mlb"
   ]
  },
  {
   "cell_type": "code",
   "execution_count": 12,
   "id": "regulated-warrior",
   "metadata": {},
   "outputs": [],
   "source": [
    "training_set, testing_set = get_dataset(model_name, train_dataset, test_dataset, MAX_LEN)"
   ]
  },
  {
   "cell_type": "markdown",
   "id": "classical-grade",
   "metadata": {},
   "source": [
    "## Model"
   ]
  },
  {
   "cell_type": "code",
   "execution_count": 13,
   "id": "statewide-senegal",
   "metadata": {},
   "outputs": [],
   "source": [
    "first_round = False"
   ]
  },
  {
   "cell_type": "code",
   "execution_count": 14,
   "id": "assumed-scott",
   "metadata": {},
   "outputs": [],
   "source": [
    "# flag = 'chinese-roberta-wwm-ext'\n",
    "flag = model_name"
   ]
  },
  {
   "cell_type": "code",
   "execution_count": 15,
   "id": "banned-burton",
   "metadata": {},
   "outputs": [],
   "source": [
    "path_model = os.path.join('./model', flag)"
   ]
  },
  {
   "cell_type": "code",
   "execution_count": 16,
   "id": "black-chicago",
   "metadata": {},
   "outputs": [],
   "source": [
    "# deadline = tomorrow_morning\n",
    "# deadline = today_afternoon\n",
    "deadline = today_afternoon if today_afternoon > datetime.now() else tomorrow_morning"
   ]
  },
  {
   "cell_type": "code",
   "execution_count": 17,
   "id": "gorgeous-liechtenstein",
   "metadata": {},
   "outputs": [],
   "source": [
    "# TODO: for test only\n",
    "# TODO: by param\n",
    "# !rm -rf model/chinese-roberta-wwm-ext\n",
    "\n",
    "clean(flag, first_round)"
   ]
  },
  {
   "cell_type": "code",
   "execution_count": 18,
   "id": "desirable-renewal",
   "metadata": {},
   "outputs": [],
   "source": [
    "# HOURS = 4\n",
    "MINUTES_EACH_EPOCH = 25"
   ]
  },
  {
   "cell_type": "code",
   "execution_count": 19,
   "id": "egyptian-weight",
   "metadata": {},
   "outputs": [
    {
     "data": {
      "text/plain": [
       "29"
      ]
     },
     "execution_count": 19,
     "metadata": {},
     "output_type": "execute_result"
    }
   ],
   "source": [
    "# EPOCHS = 2 # int(HOURS * 60 / 25)\n",
    "# EPOCHS = 2\n",
    "EPOCHS = int((deadline-datetime.now()).seconds / 60 / MINUTES_EACH_EPOCH)\n",
    "EPOCHS"
   ]
  },
  {
   "cell_type": "code",
   "execution_count": 20,
   "id": "creative-applicant",
   "metadata": {},
   "outputs": [],
   "source": [
    "TRAIN_BATCH_SIZE = 16 # 4\n",
    "VALID_BATCH_SIZE = TRAIN_BATCH_SIZE # 4 # 8 # 4\n",
    "\n",
    "LEARNING_RATE = 1e-05"
   ]
  },
  {
   "cell_type": "code",
   "execution_count": 21,
   "id": "radio-values",
   "metadata": {
    "colab": {},
    "colab_type": "code",
    "id": "vLpilV73QrXJ"
   },
   "outputs": [],
   "source": [
    "train_params = {'batch_size': TRAIN_BATCH_SIZE,\n",
    "                'shuffle': True,\n",
    "                'num_workers': 0\n",
    "                }\n",
    "\n",
    "test_params = {'batch_size': VALID_BATCH_SIZE,\n",
    "                'shuffle': True,\n",
    "                'num_workers': 0\n",
    "                }\n",
    "\n",
    "training_loader = DataLoader(training_set, **train_params)\n",
    "testing_loader = DataLoader(testing_set, **test_params)"
   ]
  },
  {
   "cell_type": "code",
   "execution_count": 22,
   "id": "married-mongolia",
   "metadata": {},
   "outputs": [],
   "source": [
    "model = load_or_create_model(flag, model_name, mlb, device)"
   ]
  },
  {
   "cell_type": "code",
   "execution_count": 23,
   "id": "willing-gothic",
   "metadata": {
    "scrolled": true
   },
   "outputs": [
    {
     "data": {
      "text/plain": [
       "['best.epoch', 'best.bin', 'best.loss', 'last.epoch', 'last.bin', 'loss']"
      ]
     },
     "execution_count": 23,
     "metadata": {},
     "output_type": "execute_result"
    }
   ],
   "source": [
    "# !ls -alh model/chinese-roberta-wwm-ext\n",
    "os.listdir(path_model)"
   ]
  },
  {
   "cell_type": "code",
   "execution_count": 24,
   "id": "clinical-schedule",
   "metadata": {
    "colab": {},
    "colab_type": "code",
    "id": "gUD8j0c7WsA-"
   },
   "outputs": [],
   "source": [
    "optimizer = torch.optim.Adam(params =  model.parameters(), lr=LEARNING_RATE)"
   ]
  },
  {
   "cell_type": "code",
   "execution_count": 25,
   "id": "crucial-smoke",
   "metadata": {},
   "outputs": [],
   "source": [
    "losses = []; "
   ]
  },
  {
   "cell_type": "code",
   "execution_count": 26,
   "id": "failing-maldives",
   "metadata": {},
   "outputs": [],
   "source": [
    "total_batch_train = math.ceil(len(train_dataset)/TRAIN_BATCH_SIZE)\n",
    "total_batch_test = math.ceil(len(test_dataset)/VALID_BATCH_SIZE)"
   ]
  },
  {
   "cell_type": "code",
   "execution_count": null,
   "id": "automatic-bicycle",
   "metadata": {
    "scrolled": false
   },
   "outputs": [
    {
     "name": "stderr",
     "output_type": "stream",
     "text": [
      "100%|██████████| 1519/1519 [22:11<00:00,  1.14it/s]\n",
      "100%|██████████| 380/380 [01:58<00:00,  3.21it/s]\n"
     ]
    },
    {
     "name": "stdout",
     "output_type": "stream",
     "text": [
      "epoch: 1, loss train:  0.531340479850769, loss test: 0.5678748488426208\n",
      "current best, epoch accumulate: 22\n"
     ]
    },
    {
     "name": "stderr",
     "output_type": "stream",
     "text": [
      "\r",
      "  0%|          | 0/1519 [00:00<?, ?it/s]"
     ]
    },
    {
     "name": "stdout",
     "output_type": "stream",
     "text": [
      "last epoch accumulate: 22\n"
     ]
    },
    {
     "name": "stderr",
     "output_type": "stream",
     "text": [
      " 21%|██        | 315/1519 [04:36<17:36,  1.14it/s]"
     ]
    }
   ],
   "source": [
    "for epoch in range(1, EPOCHS+1): \n",
    "    model, loss = train(model, optimizer, training_loader, testing_loader, epoch, device, total_batch_train, total_batch_test)\n",
    "    create_or_update_best(flag, model, loss, epoch)\n",
    "    create_or_update_last(flag, model, epoch)\n",
    "    losses.append(loss)\n",
    "    \n",
    "# create_or_update_last(flag, model, epoch)\n",
    "create_or_update_loss(flag, losses)"
   ]
  },
  {
   "cell_type": "code",
   "execution_count": null,
   "id": "tamil-smooth",
   "metadata": {},
   "outputs": [],
   "source": [
    "# !ls -alh model/chinese-roberta-wwm-ext\n",
    "os.listdir(path_model)"
   ]
  },
  {
   "cell_type": "code",
   "execution_count": null,
   "id": "encouraging-documentary",
   "metadata": {
    "scrolled": false
   },
   "outputs": [],
   "source": [
    "plot_loss(flag);"
   ]
  },
  {
   "cell_type": "code",
   "execution_count": null,
   "id": "industrial-karma",
   "metadata": {},
   "outputs": [],
   "source": [
    "# best model validation\n",
    "model_best = load_best(flag)\n",
    "evaluate(model_best, testing_loader, device, total_batch_test, mlb)"
   ]
  }
 ],
 "metadata": {
  "kernelspec": {
   "display_name": "Python 3",
   "language": "python",
   "name": "python3"
  },
  "language_info": {
   "codemirror_mode": {
    "name": "ipython",
    "version": 3
   },
   "file_extension": ".py",
   "mimetype": "text/x-python",
   "name": "python",
   "nbconvert_exporter": "python",
   "pygments_lexer": "ipython3",
   "version": "3.7.9"
  }
 },
 "nbformat": 4,
 "nbformat_minor": 5
}
