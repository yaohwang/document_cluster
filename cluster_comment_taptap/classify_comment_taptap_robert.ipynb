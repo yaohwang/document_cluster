{
 "cells": [
  {
   "cell_type": "code",
   "execution_count": 1,
   "id": "positive-essex",
   "metadata": {},
   "outputs": [],
   "source": [
    "import os\n",
    "import json\n",
    "import math\n",
    "import torch\n",
    "import pickle\n",
    "import shutil\n",
    "import transformers\n",
    "\n",
    "import numpy as np\n",
    "import pandas as pd"
   ]
  },
  {
   "cell_type": "code",
   "execution_count": 2,
   "id": "explicit-yield",
   "metadata": {},
   "outputs": [],
   "source": [
    "from pathlib import Path\n",
    "from itertools import chain\n",
    "from tqdm import tqdm\n",
    "from datetime import datetime\n",
    "from datetime import timedelta"
   ]
  },
  {
   "cell_type": "code",
   "execution_count": 3,
   "id": "allied-fields",
   "metadata": {},
   "outputs": [],
   "source": [
    "from sklearn import metrics\n",
    "from sklearn.preprocessing import MultiLabelBinarizer\n",
    "from sklearn.metrics import classification_report\n",
    "\n",
    "from torch.utils.data import Dataset\n",
    "from torch.utils.data import DataLoader\n",
    "\n",
    "from transformers import BertTokenizer\n",
    "from transformers import BertModel"
   ]
  },
  {
   "cell_type": "code",
   "execution_count": 4,
   "id": "biological-cooking",
   "metadata": {},
   "outputs": [],
   "source": [
    "from torch import cuda\n",
    "device = 'cuda' if cuda.is_available() else 'cpu'"
   ]
  },
  {
   "cell_type": "code",
   "execution_count": 5,
   "id": "funded-anime",
   "metadata": {},
   "outputs": [
    {
     "name": "stdout",
     "output_type": "stream",
     "text": [
      "Importing Jupyter notebook from classify_comment_taptap_dataset.ipynb\n",
      "Importing Jupyter notebook from classify_comment_taptap_model.ipynb\n",
      "Importing Jupyter notebook from classify_comment_taptap_flow.ipynb\n"
     ]
    }
   ],
   "source": [
    "import nbimporter\n",
    "\n",
    "from classify_comment_taptap_dataset import get_dataset\n",
    "\n",
    "from classify_comment_taptap_model import BERTClass\n",
    "from classify_comment_taptap_model import loss_fn\n",
    "from classify_comment_taptap_model import validation\n",
    "from classify_comment_taptap_model import train\n",
    "from classify_comment_taptap_model import evaluate\n",
    "\n",
    "from classify_comment_taptap_flow import clean\n",
    "from classify_comment_taptap_flow import load_or_create_model\n",
    "from classify_comment_taptap_flow import create_or_update_best\n",
    "from classify_comment_taptap_flow import load_best\n",
    "from classify_comment_taptap_flow import create_or_update_last\n",
    "\n",
    "from classify_comment_taptap_flow import create_or_update_loss\n",
    "from classify_comment_taptap_flow import plot_loss"
   ]
  },
  {
   "cell_type": "code",
   "execution_count": 6,
   "id": "inclusive-senegal",
   "metadata": {},
   "outputs": [
    {
     "name": "stderr",
     "output_type": "stream",
     "text": [
      "\r",
      "0it [00:00, ?it/s]"
     ]
    },
    {
     "name": "stdout",
     "output_type": "stream",
     "text": [
      "CPU times: user 10 s, sys: 3.13 s, total: 13.2 s\n",
      "Wall time: 13.2 s\n",
      "(150, 5)\n"
     ]
    },
    {
     "name": "stderr",
     "output_type": "stream",
     "text": [
      "150it [00:15,  9.72it/s]\n"
     ]
    },
    {
     "name": "stdout",
     "output_type": "stream",
     "text": [
      "CPU times: user 15.1 s, sys: 2.84 s, total: 18 s\n",
      "Wall time: 17.9 s\n",
      "(488452, 14)\n",
      "(45450, 14)\n",
      "CPU times: user 992 ms, sys: 20 ms, total: 1.01 s\n",
      "Wall time: 1.01 s\n",
      "(30378, 2)\n",
      "50\n",
      "(195017, 14)\n",
      "Stored 'df_comments' (DataFrame)\n",
      "Stored 'df_comments_length' (Series)\n",
      "Stored 'df_comments_topics' (DataFrame)\n",
      "(30378,)\n",
      "(27670,)\n",
      "0.9108565409177695\n",
      "(30378, 2)\n",
      "FULL Dataset: (30378, 2)\n",
      "TRAIN Dataset: (24302, 2)\n",
      "TEST Dataset: (6076, 2)\n",
      "Stored 'train_dataset' (DataFrame)\n",
      "Stored 'test_dataset' (DataFrame)\n",
      "Stored 'mlb' (MultiLabelBinarizer)\n"
     ]
    }
   ],
   "source": [
    "%run classify_comment_taptap_data.ipynb\n",
    "%run classify_comment_taptap_dataset.ipynb"
   ]
  },
  {
   "cell_type": "code",
   "execution_count": 7,
   "id": "announced-print",
   "metadata": {},
   "outputs": [
    {
     "data": {
      "text/plain": [
       "datetime.datetime(2021, 3, 4, 7, 30)"
      ]
     },
     "execution_count": 7,
     "metadata": {},
     "output_type": "execute_result"
    }
   ],
   "source": [
    "tomorrow = datetime.now() + timedelta(days=1)\n",
    "tomorrow_morning = tomorrow.replace(hour=7, minute=30, second=0, microsecond=0)\n",
    "tomorrow_morning"
   ]
  },
  {
   "cell_type": "code",
   "execution_count": 8,
   "id": "written-finland",
   "metadata": {},
   "outputs": [
    {
     "data": {
      "text/plain": [
       "datetime.datetime(2021, 3, 3, 18, 0)"
      ]
     },
     "execution_count": 8,
     "metadata": {},
     "output_type": "execute_result"
    }
   ],
   "source": [
    "today = datetime.now()\n",
    "today_afternoon = today.replace(hour=18, minute=0, second=0, microsecond=0)\n",
    "today_afternoon"
   ]
  },
  {
   "cell_type": "markdown",
   "id": "latest-combination",
   "metadata": {},
   "source": [
    "## Data"
   ]
  },
  {
   "cell_type": "code",
   "execution_count": 9,
   "id": "demonstrated-arrival",
   "metadata": {},
   "outputs": [],
   "source": [
    "# MAX_LEN = 128\n",
    "# MAX_LEN = int(mu_1std)\n",
    "MAX_LEN = 512"
   ]
  },
  {
   "cell_type": "code",
   "execution_count": 10,
   "id": "cosmetic-basket",
   "metadata": {},
   "outputs": [],
   "source": [
    "model_name = 'hfl/chinese-roberta-wwm-ext'"
   ]
  },
  {
   "cell_type": "code",
   "execution_count": 11,
   "id": "infinite-potter",
   "metadata": {},
   "outputs": [],
   "source": [
    "%store -r train_dataset\n",
    "%store -r test_dataset\n",
    "%store -r mlb"
   ]
  },
  {
   "cell_type": "code",
   "execution_count": 12,
   "id": "swiss-definition",
   "metadata": {},
   "outputs": [],
   "source": [
    "training_set, testing_set = get_dataset(model_name, train_dataset, test_dataset, MAX_LEN)"
   ]
  },
  {
   "cell_type": "markdown",
   "id": "classical-grade",
   "metadata": {},
   "source": [
    "## Model"
   ]
  },
  {
   "cell_type": "code",
   "execution_count": 13,
   "id": "italian-undergraduate",
   "metadata": {},
   "outputs": [],
   "source": [
    "first_round = True"
   ]
  },
  {
   "cell_type": "code",
   "execution_count": 14,
   "id": "confidential-remains",
   "metadata": {},
   "outputs": [],
   "source": [
    "# flag = 'chinese-roberta-wwm-ext'\n",
    "flag = model_name"
   ]
  },
  {
   "cell_type": "code",
   "execution_count": 15,
   "id": "absolute-surrey",
   "metadata": {},
   "outputs": [],
   "source": [
    "path_model = os.path.join('./model', flag)"
   ]
  },
  {
   "cell_type": "code",
   "execution_count": 16,
   "id": "unusual-supervision",
   "metadata": {},
   "outputs": [],
   "source": [
    "# deadline = tomorrow_morning\n",
    "deadline = today_afternoon"
   ]
  },
  {
   "cell_type": "code",
   "execution_count": 17,
   "id": "removed-victory",
   "metadata": {},
   "outputs": [
    {
     "name": "stderr",
     "output_type": "stream",
     "text": [
      "classify_comment_taptap_flow.ipynb:3: UserWarning: 1st round, path ./model/hfl/chinese-roberta-wwm-ext will be removed if exists!\n",
      "  {\n"
     ]
    }
   ],
   "source": [
    "# TODO: for test only\n",
    "# TODO: by param\n",
    "# !rm -rf model/chinese-roberta-wwm-ext\n",
    "\n",
    "clean(flag, first_round)"
   ]
  },
  {
   "cell_type": "code",
   "execution_count": 18,
   "id": "julian-people",
   "metadata": {},
   "outputs": [],
   "source": [
    "# HOURS = 4\n",
    "MINUTES_EACH_EPOCH = 25"
   ]
  },
  {
   "cell_type": "code",
   "execution_count": 19,
   "id": "yellow-fireplace",
   "metadata": {},
   "outputs": [
    {
     "data": {
      "text/plain": [
       "datetime.datetime(2021, 3, 3, 18, 0)"
      ]
     },
     "execution_count": 19,
     "metadata": {},
     "output_type": "execute_result"
    }
   ],
   "source": [
    "deadline"
   ]
  },
  {
   "cell_type": "code",
   "execution_count": 20,
   "id": "tribal-locking",
   "metadata": {},
   "outputs": [
    {
     "data": {
      "text/plain": [
       "datetime.datetime(2021, 3, 3, 9, 35, 12, 525182)"
      ]
     },
     "execution_count": 20,
     "metadata": {},
     "output_type": "execute_result"
    }
   ],
   "source": [
    "datetime.now()"
   ]
  },
  {
   "cell_type": "code",
   "execution_count": 21,
   "id": "arbitrary-breed",
   "metadata": {},
   "outputs": [
    {
     "data": {
      "text/plain": [
       "20"
      ]
     },
     "execution_count": 21,
     "metadata": {},
     "output_type": "execute_result"
    }
   ],
   "source": [
    "# EPOCHS = 2 # int(HOURS * 60 / 25)\n",
    "# EPOCHS = 2\n",
    "EPOCHS = int((deadline-datetime.now()).seconds / 60 / MINUTES_EACH_EPOCH)\n",
    "EPOCHS"
   ]
  },
  {
   "cell_type": "code",
   "execution_count": 22,
   "id": "hourly-danish",
   "metadata": {},
   "outputs": [],
   "source": [
    "TRAIN_BATCH_SIZE = 16 # 4\n",
    "VALID_BATCH_SIZE = TRAIN_BATCH_SIZE # 4 # 8 # 4\n",
    "\n",
    "LEARNING_RATE = 1e-05"
   ]
  },
  {
   "cell_type": "code",
   "execution_count": 23,
   "id": "radio-values",
   "metadata": {
    "colab": {},
    "colab_type": "code",
    "id": "vLpilV73QrXJ"
   },
   "outputs": [],
   "source": [
    "train_params = {'batch_size': TRAIN_BATCH_SIZE,\n",
    "                'shuffle': True,\n",
    "                'num_workers': 0\n",
    "                }\n",
    "\n",
    "test_params = {'batch_size': VALID_BATCH_SIZE,\n",
    "                'shuffle': True,\n",
    "                'num_workers': 0\n",
    "                }\n",
    "\n",
    "training_loader = DataLoader(training_set, **train_params)\n",
    "testing_loader = DataLoader(testing_set, **test_params)"
   ]
  },
  {
   "cell_type": "code",
   "execution_count": 24,
   "id": "skilled-dodge",
   "metadata": {},
   "outputs": [],
   "source": [
    "model = load_or_create_model(flag, model_name, mlb, device)"
   ]
  },
  {
   "cell_type": "code",
   "execution_count": 25,
   "id": "breathing-darwin",
   "metadata": {
    "scrolled": true
   },
   "outputs": [
    {
     "data": {
      "text/plain": [
       "[]"
      ]
     },
     "execution_count": 25,
     "metadata": {},
     "output_type": "execute_result"
    }
   ],
   "source": [
    "# !ls -alh model/chinese-roberta-wwm-ext\n",
    "os.listdir(path_model)"
   ]
  },
  {
   "cell_type": "code",
   "execution_count": 26,
   "id": "clinical-schedule",
   "metadata": {
    "colab": {},
    "colab_type": "code",
    "id": "gUD8j0c7WsA-"
   },
   "outputs": [],
   "source": [
    "optimizer = torch.optim.Adam(params =  model.parameters(), lr=LEARNING_RATE)"
   ]
  },
  {
   "cell_type": "code",
   "execution_count": 27,
   "id": "deluxe-partner",
   "metadata": {},
   "outputs": [],
   "source": [
    "losses = []; "
   ]
  },
  {
   "cell_type": "code",
   "execution_count": 28,
   "id": "adequate-radiation",
   "metadata": {},
   "outputs": [],
   "source": [
    "total_batch_train = math.ceil(len(train_dataset)/TRAIN_BATCH_SIZE)\n",
    "total_batch_test = math.ceil(len(test_dataset)/VALID_BATCH_SIZE)"
   ]
  },
  {
   "cell_type": "code",
   "execution_count": null,
   "id": "rental-theme",
   "metadata": {},
   "outputs": [
    {
     "name": "stderr",
     "output_type": "stream",
     "text": [
      "100%|██████████| 1519/1519 [22:15<00:00,  1.14it/s]\n",
      "100%|██████████| 380/380 [01:58<00:00,  3.20it/s]\n"
     ]
    },
    {
     "name": "stdout",
     "output_type": "stream",
     "text": [
      "epoch: 1, loss train:  0.7646468877792358, loss test: 0.7507001757621765\n",
      "current best, epoch accumulate: 1\n"
     ]
    },
    {
     "name": "stderr",
     "output_type": "stream",
     "text": [
      "  3%|▎         | 46/1519 [00:40<21:39,  1.13it/s]"
     ]
    }
   ],
   "source": [
    "for epoch in range(1, EPOCHS+1): \n",
    "    model, loss = train(model, optimizer, training_loader, testing_loader, epoch, device, total_batch_train, total_batch_test)\n",
    "    create_or_update_best(flag, model, loss, epoch)\n",
    "    losses.append(loss)\n",
    "    \n",
    "create_or_update_last(flag, model, epoch)\n",
    "create_or_update_loss(flag, losses)"
   ]
  },
  {
   "cell_type": "code",
   "execution_count": null,
   "id": "jewish-investing",
   "metadata": {},
   "outputs": [],
   "source": [
    "# !ls -alh model/chinese-roberta-wwm-ext\n",
    "os.listdir(path_model)"
   ]
  },
  {
   "cell_type": "code",
   "execution_count": null,
   "id": "realistic-superintendent",
   "metadata": {
    "scrolled": false
   },
   "outputs": [],
   "source": [
    "plot_loss(flag);"
   ]
  },
  {
   "cell_type": "code",
   "execution_count": null,
   "id": "chicken-today",
   "metadata": {},
   "outputs": [],
   "source": [
    "# best model validation\n",
    "model_best = load_best(flag)\n",
    "evaluate(model_best, testing_loader, device, total_batch_test, mlb)"
   ]
  }
 ],
 "metadata": {
  "kernelspec": {
   "display_name": "Python 3",
   "language": "python",
   "name": "python3"
  },
  "language_info": {
   "codemirror_mode": {
    "name": "ipython",
    "version": 3
   },
   "file_extension": ".py",
   "mimetype": "text/x-python",
   "name": "python",
   "nbconvert_exporter": "python",
   "pygments_lexer": "ipython3",
   "version": "3.7.9"
  }
 },
 "nbformat": 4,
 "nbformat_minor": 5
}
