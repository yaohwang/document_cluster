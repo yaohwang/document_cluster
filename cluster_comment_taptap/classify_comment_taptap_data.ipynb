{
 "cells": [
  {
   "cell_type": "code",
   "execution_count": 1,
   "id": "positive-essex",
   "metadata": {},
   "outputs": [],
   "source": [
    "import json\n",
    "import math\n",
    "import torch\n",
    "import pickle\n",
    "import transformers\n",
    "\n",
    "import numpy as np\n",
    "import pandas as pd"
   ]
  },
  {
   "cell_type": "code",
   "execution_count": 2,
   "id": "explicit-yield",
   "metadata": {},
   "outputs": [],
   "source": [
    "from pathlib import Path\n",
    "from itertools import chain\n",
    "from tqdm import tqdm"
   ]
  },
  {
   "cell_type": "code",
   "execution_count": 3,
   "id": "allied-fields",
   "metadata": {},
   "outputs": [],
   "source": [
    "from sklearn import metrics\n",
    "from sklearn.preprocessing import MultiLabelBinarizer\n",
    "from sklearn.metrics import classification_report\n",
    "\n",
    "from torch.utils.data import Dataset\n",
    "from torch.utils.data import DataLoader\n",
    "\n",
    "from transformers import BertTokenizer\n",
    "from transformers import BertModel"
   ]
  },
  {
   "cell_type": "code",
   "execution_count": 4,
   "id": "biological-cooking",
   "metadata": {},
   "outputs": [],
   "source": [
    "from torch import cuda\n",
    "device = 'cuda' if cuda.is_available() else 'cpu'"
   ]
  },
  {
   "cell_type": "markdown",
   "id": "latest-combination",
   "metadata": {},
   "source": [
    "## Data"
   ]
  },
  {
   "cell_type": "code",
   "execution_count": 5,
   "id": "contrary-relevance",
   "metadata": {},
   "outputs": [],
   "source": [
    "def get_basic(p):\n",
    "    with p.open() as f:\n",
    "        d = json.load(f)\n",
    "        d['标签'] = d['标签'].keys()\n",
    "        return d"
   ]
  },
  {
   "cell_type": "code",
   "execution_count": 6,
   "id": "graphic-formation",
   "metadata": {},
   "outputs": [],
   "source": [
    "def get_comment(d, tag, comment):\n",
    "    comment['标签'] = tag\n",
    "    del comment['回复']\n",
    "    comment.update(d)\n",
    "    return comment"
   ]
  },
  {
   "cell_type": "code",
   "execution_count": 7,
   "id": "interested-finance",
   "metadata": {},
   "outputs": [],
   "source": [
    "def get_comments(p):\n",
    "    with p.open() as f:\n",
    "        d = json.load(f)\n",
    "        tag_comments = d['标签']\n",
    "        del d['标签']\n",
    "        return [get_comment(d, tag, comment) for tag, comments in tag_comments.items() for comment in comments]"
   ]
  },
  {
   "cell_type": "markdown",
   "id": "earlier-archive",
   "metadata": {},
   "source": [
    "### load"
   ]
  },
  {
   "cell_type": "code",
   "execution_count": 8,
   "id": "forced-configuration",
   "metadata": {},
   "outputs": [],
   "source": [
    "path_root = Path('./data')"
   ]
  },
  {
   "cell_type": "code",
   "execution_count": 9,
   "id": "confirmed-ghost",
   "metadata": {},
   "outputs": [],
   "source": [
    "path_data = Path('comment.taptap-20210203-1')"
   ]
  },
  {
   "cell_type": "code",
   "execution_count": 10,
   "id": "removed-applicant",
   "metadata": {},
   "outputs": [],
   "source": [
    "path = path_root/path_data"
   ]
  },
  {
   "cell_type": "code",
   "execution_count": 11,
   "id": "allied-judge",
   "metadata": {
    "scrolled": false
   },
   "outputs": [
    {
     "name": "stdout",
     "output_type": "stream",
     "text": [
      "CPU times: user 10.3 s, sys: 2.76 s, total: 13.1 s\n",
      "Wall time: 13.1 s\n",
      "(150, 5)\n"
     ]
    },
    {
     "data": {
      "text/html": [
       "<div>\n",
       "<style scoped>\n",
       "    .dataframe tbody tr th:only-of-type {\n",
       "        vertical-align: middle;\n",
       "    }\n",
       "\n",
       "    .dataframe tbody tr th {\n",
       "        vertical-align: top;\n",
       "    }\n",
       "\n",
       "    .dataframe thead th {\n",
       "        text-align: right;\n",
       "    }\n",
       "</style>\n",
       "<table border=\"1\" class=\"dataframe\">\n",
       "  <thead>\n",
       "    <tr style=\"text-align: right;\">\n",
       "      <th></th>\n",
       "      <th>游戏名</th>\n",
       "      <th>游戏评分</th>\n",
       "      <th>游戏url</th>\n",
       "      <th>评论数量</th>\n",
       "      <th>标签</th>\n",
       "    </tr>\n",
       "  </thead>\n",
       "  <tbody>\n",
       "    <tr>\n",
       "      <th>0</th>\n",
       "      <td>精灵契约</td>\n",
       "      <td>6.8</td>\n",
       "      <td>https://www.taptap.com/app/142111</td>\n",
       "      <td>870</td>\n",
       "      <td>(过于氪金, 体验不错, 画面优良, 运营不足, 有趣好玩, 玩家互动多, 抽卡概率低, 厂...</td>\n",
       "    </tr>\n",
       "  </tbody>\n",
       "</table>\n",
       "</div>"
      ],
      "text/plain": [
       "    游戏名 游戏评分                              游戏url  评论数量  \\\n",
       "0  精灵契约  6.8  https://www.taptap.com/app/142111   870   \n",
       "\n",
       "                                                  标签  \n",
       "0  (过于氪金, 体验不错, 画面优良, 运营不足, 有趣好玩, 玩家互动多, 抽卡概率低, 厂...  "
      ]
     },
     "execution_count": 11,
     "metadata": {},
     "output_type": "execute_result"
    }
   ],
   "source": [
    "%time df_basic = pd.DataFrame([get_basic(p) for p in path.glob('*.json')])\n",
    "print(df_basic.shape)\n",
    "df_basic.head(1)"
   ]
  },
  {
   "cell_type": "code",
   "execution_count": 12,
   "id": "assisted-mapping",
   "metadata": {
    "scrolled": true
   },
   "outputs": [
    {
     "name": "stderr",
     "output_type": "stream",
     "text": [
      "150it [00:14, 10.60it/s]\n"
     ]
    },
    {
     "name": "stdout",
     "output_type": "stream",
     "text": [
      "CPU times: user 13.7 s, sys: 2.89 s, total: 16.6 s\n",
      "Wall time: 16.5 s\n",
      "(488452, 14)\n"
     ]
    },
    {
     "data": {
      "text/html": [
       "<div>\n",
       "<style scoped>\n",
       "    .dataframe tbody tr th:only-of-type {\n",
       "        vertical-align: middle;\n",
       "    }\n",
       "\n",
       "    .dataframe tbody tr th {\n",
       "        vertical-align: top;\n",
       "    }\n",
       "\n",
       "    .dataframe thead th {\n",
       "        text-align: right;\n",
       "    }\n",
       "</style>\n",
       "<table border=\"1\" class=\"dataframe\">\n",
       "  <thead>\n",
       "    <tr style=\"text-align: right;\">\n",
       "      <th></th>\n",
       "      <th>用户名</th>\n",
       "      <th>评论时间</th>\n",
       "      <th>游戏评分</th>\n",
       "      <th>游戏时长</th>\n",
       "      <th>内容</th>\n",
       "      <th>手机型号</th>\n",
       "      <th>欢乐</th>\n",
       "      <th>点赞</th>\n",
       "      <th>点踩</th>\n",
       "      <th>回复量</th>\n",
       "      <th>标签</th>\n",
       "      <th>游戏名</th>\n",
       "      <th>游戏url</th>\n",
       "      <th>评论数量</th>\n",
       "    </tr>\n",
       "  </thead>\n",
       "  <tbody>\n",
       "    <tr>\n",
       "      <th>0</th>\n",
       "      <td>Foo云少</td>\n",
       "      <td>2021-01-19 10:07:37</td>\n",
       "      <td>6.8</td>\n",
       "      <td>0</td>\n",
       "      <td>不好玩太氪金了我有段时间没有玩号在那个区都不知道了而且这个游戏刚刚出来的时候玩的10区的</td>\n",
       "      <td>华为畅享9 Plus</td>\n",
       "      <td>0</td>\n",
       "      <td>0</td>\n",
       "      <td>0</td>\n",
       "      <td>0</td>\n",
       "      <td>过于氪金</td>\n",
       "      <td>精灵契约</td>\n",
       "      <td>https://www.taptap.com/app/142111</td>\n",
       "      <td>870</td>\n",
       "    </tr>\n",
       "  </tbody>\n",
       "</table>\n",
       "</div>"
      ],
      "text/plain": [
       "     用户名                 评论时间 游戏评分 游戏时长  \\\n",
       "0  Foo云少  2021-01-19 10:07:37  6.8    0   \n",
       "\n",
       "                                             内容        手机型号  欢乐  点赞  点踩  回复量  \\\n",
       "0  不好玩太氪金了我有段时间没有玩号在那个区都不知道了而且这个游戏刚刚出来的时候玩的10区的  华为畅享9 Plus   0   0   0    0   \n",
       "\n",
       "     标签   游戏名                              游戏url  评论数量  \n",
       "0  过于氪金  精灵契约  https://www.taptap.com/app/142111   870  "
      ]
     },
     "execution_count": 12,
     "metadata": {},
     "output_type": "execute_result"
    }
   ],
   "source": [
    "%time df_comments = pd.DataFrame(chain.from_iterable([get_comments(p) for p in tqdm(path.glob('*.json'))]))\n",
    "print(df_comments.shape)\n",
    "df_comments.head(1)"
   ]
  },
  {
   "cell_type": "code",
   "execution_count": 13,
   "id": "generous-exploration",
   "metadata": {},
   "outputs": [
    {
     "name": "stdout",
     "output_type": "stream",
     "text": [
      "(45450, 14)\n"
     ]
    },
    {
     "data": {
      "text/html": [
       "<div>\n",
       "<style scoped>\n",
       "    .dataframe tbody tr th:only-of-type {\n",
       "        vertical-align: middle;\n",
       "    }\n",
       "\n",
       "    .dataframe tbody tr th {\n",
       "        vertical-align: top;\n",
       "    }\n",
       "\n",
       "    .dataframe thead th {\n",
       "        text-align: right;\n",
       "    }\n",
       "</style>\n",
       "<table border=\"1\" class=\"dataframe\">\n",
       "  <thead>\n",
       "    <tr style=\"text-align: right;\">\n",
       "      <th></th>\n",
       "      <th>用户名</th>\n",
       "      <th>评论时间</th>\n",
       "      <th>游戏评分</th>\n",
       "      <th>游戏时长</th>\n",
       "      <th>内容</th>\n",
       "      <th>手机型号</th>\n",
       "      <th>欢乐</th>\n",
       "      <th>点赞</th>\n",
       "      <th>点踩</th>\n",
       "      <th>回复量</th>\n",
       "      <th>标签</th>\n",
       "      <th>游戏名</th>\n",
       "      <th>游戏url</th>\n",
       "      <th>评论数量</th>\n",
       "    </tr>\n",
       "  </thead>\n",
       "  <tbody>\n",
       "    <tr>\n",
       "      <th>0</th>\n",
       "      <td>Foo云少</td>\n",
       "      <td>2021-01-19 10:07:37</td>\n",
       "      <td>6.8</td>\n",
       "      <td>0</td>\n",
       "      <td>不好玩太氪金了我有段时间没有玩号在那个区都不知道了而且这个游戏刚刚出来的时候玩的10区的</td>\n",
       "      <td>华为畅享9 Plus</td>\n",
       "      <td>0</td>\n",
       "      <td>0</td>\n",
       "      <td>0</td>\n",
       "      <td>0</td>\n",
       "      <td>过于氪金</td>\n",
       "      <td>精灵契约</td>\n",
       "      <td>https://www.taptap.com/app/142111</td>\n",
       "      <td>870</td>\n",
       "    </tr>\n",
       "  </tbody>\n",
       "</table>\n",
       "</div>"
      ],
      "text/plain": [
       "     用户名                 评论时间 游戏评分 游戏时长  \\\n",
       "0  Foo云少  2021-01-19 10:07:37  6.8    0   \n",
       "\n",
       "                                             内容        手机型号  欢乐  点赞  点踩  回复量  \\\n",
       "0  不好玩太氪金了我有段时间没有玩号在那个区都不知道了而且这个游戏刚刚出来的时候玩的10区的  华为畅享9 Plus   0   0   0    0   \n",
       "\n",
       "     标签   游戏名                              游戏url  评论数量  \n",
       "0  过于氪金  精灵契约  https://www.taptap.com/app/142111   870  "
      ]
     },
     "execution_count": 13,
     "metadata": {},
     "output_type": "execute_result"
    }
   ],
   "source": [
    "df_comments_topic = df_comments[~df_comments.标签.isin(['好评', '中评', '差评', 'android', 'ios', 'web', '有游戏时长'])]\n",
    "print(df_comments_topic.shape)\n",
    "df_comments_topic.head(1)"
   ]
  },
  {
   "cell_type": "code",
   "execution_count": 14,
   "id": "narrow-norwegian",
   "metadata": {},
   "outputs": [
    {
     "name": "stdout",
     "output_type": "stream",
     "text": [
      "CPU times: user 1 s, sys: 8 ms, total: 1.01 s\n",
      "Wall time: 1.01 s\n",
      "(30378, 2)\n"
     ]
    },
    {
     "data": {
      "text/html": [
       "<div>\n",
       "<style scoped>\n",
       "    .dataframe tbody tr th:only-of-type {\n",
       "        vertical-align: middle;\n",
       "    }\n",
       "\n",
       "    .dataframe tbody tr th {\n",
       "        vertical-align: top;\n",
       "    }\n",
       "\n",
       "    .dataframe thead th {\n",
       "        text-align: right;\n",
       "    }\n",
       "</style>\n",
       "<table border=\"1\" class=\"dataframe\">\n",
       "  <thead>\n",
       "    <tr style=\"text-align: right;\">\n",
       "      <th></th>\n",
       "      <th>内容</th>\n",
       "      <th>标签</th>\n",
       "    </tr>\n",
       "  </thead>\n",
       "  <tbody>\n",
       "    <tr>\n",
       "      <th>0</th>\n",
       "      <td>\\n\\n\\n玩过两个赛季的人，游戏消遣还不错，不过卡池锁卡劝退，一赛季初期获得刘备张飞，二赛...</td>\n",
       "      <td>[运营不足]</td>\n",
       "    </tr>\n",
       "    <tr>\n",
       "      <th>1</th>\n",
       "      <td>\\n\\n10:30开始进游戏就各种bug，各种系统维护。下午玩了不到一个小时，服务器又崩。无...</td>\n",
       "      <td>[运营不足]</td>\n",
       "    </tr>\n",
       "    <tr>\n",
       "      <th>2</th>\n",
       "      <td>\\n\\n游戏模式还是挺有意思，可以自己铺路建设,把不同文明的帝国从几个人发展到上万人建成自己...</td>\n",
       "      <td>[体验不错, 有趣好玩]</td>\n",
       "    </tr>\n",
       "  </tbody>\n",
       "</table>\n",
       "</div>"
      ],
      "text/plain": [
       "                                                  内容            标签\n",
       "0  \\n\\n\\n玩过两个赛季的人，游戏消遣还不错，不过卡池锁卡劝退，一赛季初期获得刘备张飞，二赛...        [运营不足]\n",
       "1  \\n\\n10:30开始进游戏就各种bug，各种系统维护。下午玩了不到一个小时，服务器又崩。无...        [运营不足]\n",
       "2  \\n\\n游戏模式还是挺有意思，可以自己铺路建设,把不同文明的帝国从几个人发展到上万人建成自己...  [体验不错, 有趣好玩]"
      ]
     },
     "execution_count": 14,
     "metadata": {},
     "output_type": "execute_result"
    }
   ],
   "source": [
    "%time df_comments_topics = df_comments_topic[['内容', '标签']].groupby(['内容']).agg(list).reset_index()\n",
    "print(df_comments_topics.shape)\n",
    "df_comments_topics.head(3)"
   ]
  },
  {
   "cell_type": "code",
   "execution_count": 15,
   "id": "solved-latter",
   "metadata": {},
   "outputs": [
    {
     "data": {
      "text/plain": [
       "1    20056\n",
       "2     7069\n",
       "3     2228\n",
       "4      694\n",
       "5      222\n",
       "6       83\n",
       "7       20\n",
       "8        6\n",
       "Name: 标签, dtype: int64"
      ]
     },
     "execution_count": 15,
     "metadata": {},
     "output_type": "execute_result"
    }
   ],
   "source": [
    "df_comments_topics['标签'].apply(len).value_counts()"
   ]
  },
  {
   "cell_type": "code",
   "execution_count": 16,
   "id": "thick-government",
   "metadata": {},
   "outputs": [
    {
     "data": {
      "text/html": [
       "<div>\n",
       "<style scoped>\n",
       "    .dataframe tbody tr th:only-of-type {\n",
       "        vertical-align: middle;\n",
       "    }\n",
       "\n",
       "    .dataframe tbody tr th {\n",
       "        vertical-align: top;\n",
       "    }\n",
       "\n",
       "    .dataframe thead th {\n",
       "        text-align: right;\n",
       "    }\n",
       "</style>\n",
       "<table border=\"1\" class=\"dataframe\">\n",
       "  <thead>\n",
       "    <tr style=\"text-align: right;\">\n",
       "      <th></th>\n",
       "      <th>内容</th>\n",
       "      <th>标签</th>\n",
       "    </tr>\n",
       "  </thead>\n",
       "  <tbody>\n",
       "    <tr>\n",
       "      <th>2</th>\n",
       "      <td>\\n\\n游戏模式还是挺有意思，可以自己铺路建设,把不同文明的帝国从几个人发展到上万人建成自己...</td>\n",
       "      <td>[体验不错, 有趣好玩]</td>\n",
       "    </tr>\n",
       "    <tr>\n",
       "      <th>4</th>\n",
       "      <td>\\n\\n玩了差不多一个月了，这两天游戏里的汉家松鼠让我评论，那么我就来评一评。游戏立意不错，...</td>\n",
       "      <td>[体验不错, 值得花钱, 厂商良心]</td>\n",
       "    </tr>\n",
       "    <tr>\n",
       "      <th>5</th>\n",
       "      <td>\\n\\n这款游戏整体来说挺好的，剧情画风都挺不错，但是还是有一些问题。\\n①难度设置的有些不...</td>\n",
       "      <td>[剧情丰富, 画面优良]</td>\n",
       "    </tr>\n",
       "  </tbody>\n",
       "</table>\n",
       "</div>"
      ],
      "text/plain": [
       "                                                  内容                  标签\n",
       "2  \\n\\n游戏模式还是挺有意思，可以自己铺路建设,把不同文明的帝国从几个人发展到上万人建成自己...        [体验不错, 有趣好玩]\n",
       "4  \\n\\n玩了差不多一个月了，这两天游戏里的汉家松鼠让我评论，那么我就来评一评。游戏立意不错，...  [体验不错, 值得花钱, 厂商良心]\n",
       "5  \\n\\n这款游戏整体来说挺好的，剧情画风都挺不错，但是还是有一些问题。\\n①难度设置的有些不...        [剧情丰富, 画面优良]"
      ]
     },
     "execution_count": 16,
     "metadata": {},
     "output_type": "execute_result"
    }
   ],
   "source": [
    "df_comments_topics[df_comments_topics['标签'].apply(len) > 1].head(3)"
   ]
  },
  {
   "cell_type": "markdown",
   "id": "split-builder",
   "metadata": {},
   "source": [
    "### eda"
   ]
  },
  {
   "cell_type": "markdown",
   "id": "collected-ceremony",
   "metadata": {},
   "source": [
    "#### content length"
   ]
  },
  {
   "cell_type": "code",
   "execution_count": 17,
   "id": "ordinary-school",
   "metadata": {},
   "outputs": [],
   "source": [
    "df_comments_length = df_comments_topics['内容'].apply(len)"
   ]
  },
  {
   "cell_type": "code",
   "execution_count": 18,
   "id": "wired-crest",
   "metadata": {},
   "outputs": [
    {
     "data": {
      "text/plain": [
       "count    30378.000000\n",
       "mean       183.025446\n",
       "std        286.144866\n",
       "min         21.000000\n",
       "25%         44.000000\n",
       "50%         87.000000\n",
       "75%        203.000000\n",
       "max      13714.000000\n",
       "Name: 内容, dtype: float64"
      ]
     },
     "execution_count": 18,
     "metadata": {},
     "output_type": "execute_result"
    }
   ],
   "source": [
    "df_comments_length.describe()"
   ]
  },
  {
   "cell_type": "markdown",
   "id": "psychological-oasis",
   "metadata": {},
   "source": [
    "#### topic"
   ]
  },
  {
   "cell_type": "code",
   "execution_count": 19,
   "id": "chinese-clothing",
   "metadata": {},
   "outputs": [
    {
     "name": "stdout",
     "output_type": "stream",
     "text": [
      "50\n"
     ]
    },
    {
     "data": {
      "text/plain": [
       "{'IP还原差',\n",
       " 'UI体验好',\n",
       " 'UI体验差',\n",
       " 'android',\n",
       " 'ios',\n",
       " 'web',\n",
       " '上手难度大',\n",
       " '中评',\n",
       " '优化相关',\n",
       " '体验不错',\n",
       " '体验较差',\n",
       " '值得花钱',\n",
       " '剧情丰富',\n",
       " '剧情单调',\n",
       " '厂商不给力',\n",
       " '厂商良心',\n",
       " '太肝了',\n",
       " '好评',\n",
       " '尊重原著',\n",
       " '差评',\n",
       " '平衡性好',\n",
       " '平衡性差',\n",
       " '广告太多',\n",
       " '广告影响小',\n",
       " '抄袭嫌疑',\n",
       " '护肝',\n",
       " '抽卡概率低',\n",
       " '抽卡概率高',\n",
       " '操作简单',\n",
       " '操作麻烦',\n",
       " '新手友好',\n",
       " '有创新',\n",
       " '有游戏时长',\n",
       " '有趣好玩',\n",
       " '玩家互动多',\n",
       " '玩家互动少',\n",
       " '玩法较差',\n",
       " '画面优良',\n",
       " '画面粗糙',\n",
       " '福利好',\n",
       " '福利差',\n",
       " '自由度低',\n",
       " '自由度高',\n",
       " '过于氪金',\n",
       " '运营不足',\n",
       " '运营给力',\n",
       " '配置要求低',\n",
       " '配置要求高',\n",
       " '音效很棒',\n",
       " '音效较差'}"
      ]
     },
     "execution_count": 19,
     "metadata": {},
     "output_type": "execute_result"
    }
   ],
   "source": [
    "tags = set(chain.from_iterable(df_basic.标签.apply(list).tolist()))\n",
    "print(len(tags))\n",
    "tags"
   ]
  },
  {
   "cell_type": "code",
   "execution_count": 20,
   "id": "laden-pottery",
   "metadata": {},
   "outputs": [
    {
     "data": {
      "text/plain": [
       "(182070, 14)"
      ]
     },
     "execution_count": 20,
     "metadata": {},
     "output_type": "execute_result"
    }
   ],
   "source": [
    "df_comments.drop_duplicates('内容').shape"
   ]
  },
  {
   "cell_type": "code",
   "execution_count": 21,
   "id": "typical-placement",
   "metadata": {},
   "outputs": [
    {
     "data": {
      "text/plain": [
       "1    20056\n",
       "2     7069\n",
       "3     2228\n",
       "4      694\n",
       "5      222\n",
       "6       83\n",
       "7       20\n",
       "8        6\n",
       "Name: 标签, dtype: int64"
      ]
     },
     "execution_count": 21,
     "metadata": {},
     "output_type": "execute_result"
    }
   ],
   "source": [
    "df_comments_topics.标签.apply(len).value_counts()"
   ]
  },
  {
   "cell_type": "markdown",
   "id": "designing-banking",
   "metadata": {},
   "source": [
    "#### +1/0/-1"
   ]
  },
  {
   "cell_type": "code",
   "execution_count": 22,
   "id": "noted-literacy",
   "metadata": {},
   "outputs": [
    {
     "name": "stdout",
     "output_type": "stream",
     "text": [
      "(195017, 14)\n"
     ]
    },
    {
     "data": {
      "text/html": [
       "<div>\n",
       "<style scoped>\n",
       "    .dataframe tbody tr th:only-of-type {\n",
       "        vertical-align: middle;\n",
       "    }\n",
       "\n",
       "    .dataframe tbody tr th {\n",
       "        vertical-align: top;\n",
       "    }\n",
       "\n",
       "    .dataframe thead th {\n",
       "        text-align: right;\n",
       "    }\n",
       "</style>\n",
       "<table border=\"1\" class=\"dataframe\">\n",
       "  <thead>\n",
       "    <tr style=\"text-align: right;\">\n",
       "      <th></th>\n",
       "      <th>用户名</th>\n",
       "      <th>评论时间</th>\n",
       "      <th>游戏评分</th>\n",
       "      <th>游戏时长</th>\n",
       "      <th>内容</th>\n",
       "      <th>手机型号</th>\n",
       "      <th>欢乐</th>\n",
       "      <th>点赞</th>\n",
       "      <th>点踩</th>\n",
       "      <th>回复量</th>\n",
       "      <th>标签</th>\n",
       "      <th>游戏名</th>\n",
       "      <th>游戏url</th>\n",
       "      <th>评论数量</th>\n",
       "    </tr>\n",
       "  </thead>\n",
       "  <tbody>\n",
       "    <tr>\n",
       "      <th>1369</th>\n",
       "      <td>白鳞小蛇</td>\n",
       "      <td>2021-01-26 11:37:59</td>\n",
       "      <td>6.8</td>\n",
       "      <td>0</td>\n",
       "      <td>还不错，就是太依赖于抽卡，没什么英雄搭配\\r\\n\\r\\n这游戏凉了么？\\r\\n</td>\n",
       "      <td></td>\n",
       "      <td>1</td>\n",
       "      <td>0</td>\n",
       "      <td>0</td>\n",
       "      <td>0</td>\n",
       "      <td>好评</td>\n",
       "      <td>精灵契约</td>\n",
       "      <td>https://www.taptap.com/app/142111</td>\n",
       "      <td>870</td>\n",
       "    </tr>\n",
       "  </tbody>\n",
       "</table>\n",
       "</div>"
      ],
      "text/plain": [
       "       用户名                 评论时间 游戏评分 游戏时长  \\\n",
       "1369  白鳞小蛇  2021-01-26 11:37:59  6.8    0   \n",
       "\n",
       "                                           内容 手机型号  欢乐  点赞  点踩  回复量  标签   游戏名  \\\n",
       "1369  还不错，就是太依赖于抽卡，没什么英雄搭配\\r\\n\\r\\n这游戏凉了么？\\r\\n        1   0   0    0  好评  精灵契约   \n",
       "\n",
       "                                  游戏url  评论数量  \n",
       "1369  https://www.taptap.com/app/142111   870  "
      ]
     },
     "execution_count": 22,
     "metadata": {},
     "output_type": "execute_result"
    }
   ],
   "source": [
    "df_comments_pnn = df_comments[df_comments.标签.isin(['好评', '中评', '差评'])]\n",
    "print(df_comments_pnn.shape)\n",
    "df_comments_pnn.head(1)"
   ]
  },
  {
   "cell_type": "code",
   "execution_count": 23,
   "id": "chronic-discussion",
   "metadata": {},
   "outputs": [
    {
     "data": {
      "text/plain": [
       "(173610, 14)"
      ]
     },
     "execution_count": 23,
     "metadata": {},
     "output_type": "execute_result"
    }
   ],
   "source": [
    "df_comments_pnn.drop_duplicates('内容').shape"
   ]
  },
  {
   "cell_type": "code",
   "execution_count": 24,
   "id": "blind-necessity",
   "metadata": {},
   "outputs": [
    {
     "data": {
      "text/plain": [
       "好评    0.591400\n",
       "差评    0.291764\n",
       "中评    0.116836\n",
       "Name: 标签, dtype: float64"
      ]
     },
     "execution_count": 24,
     "metadata": {},
     "output_type": "execute_result"
    }
   ],
   "source": [
    "df_comments_pnn.标签.value_counts(normalize=True)"
   ]
  },
  {
   "cell_type": "markdown",
   "id": "alpha-productivity",
   "metadata": {},
   "source": [
    "### save"
   ]
  },
  {
   "cell_type": "code",
   "execution_count": 25,
   "id": "protecting-conversion",
   "metadata": {},
   "outputs": [
    {
     "name": "stdout",
     "output_type": "stream",
     "text": [
      "Stored 'df_comments' (DataFrame)\n",
      "Stored 'df_comments_length' (Series)\n",
      "Stored 'df_comments_topics' (DataFrame)\n"
     ]
    }
   ],
   "source": [
    "%store df_comments\n",
    "%store df_comments_length\n",
    "%store df_comments_topics"
   ]
  },
  {
   "cell_type": "markdown",
   "id": "computational-prairie",
   "metadata": {},
   "source": [
    "## Ref"
   ]
  },
  {
   "cell_type": "markdown",
   "id": "adequate-registration",
   "metadata": {},
   "source": [
    "save var in notebook <br>\n",
    "TODO: why del in desc\n",
    "\n",
    "[1] https://stackoverflow.com/questions/35935670/share-variables-between-different-jupyter-notebooks"
   ]
  }
 ],
 "metadata": {
  "kernelspec": {
   "display_name": "Python 3",
   "language": "python",
   "name": "python3"
  },
  "language_info": {
   "codemirror_mode": {
    "name": "ipython",
    "version": 3
   },
   "file_extension": ".py",
   "mimetype": "text/x-python",
   "name": "python",
   "nbconvert_exporter": "python",
   "pygments_lexer": "ipython3",
   "version": "3.7.9"
  }
 },
 "nbformat": 4,
 "nbformat_minor": 5
}
