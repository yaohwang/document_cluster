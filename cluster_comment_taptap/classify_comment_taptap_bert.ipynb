{
 "cells": [
  {
   "cell_type": "code",
   "execution_count": 1,
   "id": "positive-essex",
   "metadata": {},
   "outputs": [],
   "source": [
    "import json\n",
    "import torch\n",
    "import transformers\n",
    "\n",
    "import numpy as np\n",
    "import pandas as pd"
   ]
  },
  {
   "cell_type": "code",
   "execution_count": 2,
   "id": "explicit-yield",
   "metadata": {},
   "outputs": [],
   "source": [
    "from pathlib import Path\n",
    "from itertools import chain\n",
    "from tqdm import tqdm"
   ]
  },
  {
   "cell_type": "code",
   "execution_count": 3,
   "id": "allied-fields",
   "metadata": {},
   "outputs": [],
   "source": [
    "from sklearn import metrics\n",
    "from sklearn.preprocessing import MultiLabelBinarizer\n",
    "from sklearn.metrics import classification_report\n",
    "\n",
    "from torch.utils.data import Dataset\n",
    "from torch.utils.data import DataLoader\n",
    "\n",
    "from transformers import BertTokenizer\n",
    "from transformers import BertModel"
   ]
  },
  {
   "cell_type": "code",
   "execution_count": 4,
   "id": "biological-cooking",
   "metadata": {},
   "outputs": [],
   "source": [
    "from torch import cuda\n",
    "device = 'cuda' if cuda.is_available() else 'cpu'"
   ]
  },
  {
   "cell_type": "markdown",
   "id": "latest-combination",
   "metadata": {},
   "source": [
    "## Data"
   ]
  },
  {
   "cell_type": "code",
   "execution_count": 5,
   "id": "seeing-method",
   "metadata": {},
   "outputs": [],
   "source": [
    "class CustomDataset(Dataset):\n",
    "\n",
    "    def __init__(self, dataframe, tokenizer, max_len):\n",
    "        self.tokenizer = tokenizer\n",
    "        self.data = dataframe\n",
    "        self.max_len = max_len\n",
    "        \n",
    "        self.comment_text = dataframe['内容']    # X\n",
    "        self.targets = self.data['标签']    # y(s)\n",
    "        \n",
    "\n",
    "    def __len__(self):\n",
    "        return len(self.comment_text)\n",
    "    \n",
    "\n",
    "    def __getitem__(self, index):\n",
    "        comment_text = str(self.comment_text[index])\n",
    "        comment_text = \" \".join(comment_text.split()) # split, 默认为所有的空字符，包括空格、换行(\\n)、制表符(\\t)等\n",
    "\n",
    "        inputs = self.tokenizer.encode_plus(\n",
    "            comment_text,\n",
    "            None,\n",
    "            add_special_tokens=True,\n",
    "            max_length=self.max_len,\n",
    "            # pad_to_max_length=True,  # @deprecated\n",
    "            padding='max_length',\n",
    "            truncation=True,\n",
    "            return_token_type_ids=True\n",
    "        )\n",
    "        \n",
    "        ids = inputs['input_ids']\n",
    "        mask = inputs['attention_mask'] # sentence 有效token位置掩码\n",
    "        token_type_ids = inputs[\"token_type_ids\"] # 多sentence(s)合并为一个sentence时，不同sentence的掩码\n",
    "\n",
    "\n",
    "        return {\n",
    "            'ids': torch.tensor(ids, dtype=torch.long),\n",
    "            'mask': torch.tensor(mask, dtype=torch.long),\n",
    "            'token_type_ids': torch.tensor(token_type_ids, dtype=torch.long),\n",
    "            \n",
    "            'targets': torch.tensor(self.targets[index], dtype=torch.float) # y(s) 没有特别处理\n",
    "        }"
   ]
  },
  {
   "cell_type": "code",
   "execution_count": 6,
   "id": "contrary-relevance",
   "metadata": {},
   "outputs": [],
   "source": [
    "def get_basic(p):\n",
    "    with p.open() as f:\n",
    "        d = json.load(f)\n",
    "        d['标签'] = d['标签'].keys()\n",
    "        return d"
   ]
  },
  {
   "cell_type": "code",
   "execution_count": 7,
   "id": "graphic-formation",
   "metadata": {},
   "outputs": [],
   "source": [
    "def get_comment(d, tag, comment):\n",
    "    comment['标签'] = tag\n",
    "    del comment['回复']\n",
    "    comment.update(d)\n",
    "    return comment"
   ]
  },
  {
   "cell_type": "code",
   "execution_count": 8,
   "id": "interested-finance",
   "metadata": {},
   "outputs": [],
   "source": [
    "def get_comments(p):\n",
    "    with p.open() as f:\n",
    "        d = json.load(f)\n",
    "        tag_comments = d['标签']\n",
    "        del d['标签']\n",
    "        return [get_comment(d, tag, comment) for tag, comments in tag_comments.items() for comment in comments]"
   ]
  },
  {
   "cell_type": "markdown",
   "id": "earlier-archive",
   "metadata": {},
   "source": [
    "### load"
   ]
  },
  {
   "cell_type": "code",
   "execution_count": 9,
   "id": "forced-configuration",
   "metadata": {},
   "outputs": [],
   "source": [
    "path_root = Path('./data')"
   ]
  },
  {
   "cell_type": "code",
   "execution_count": 10,
   "id": "confirmed-ghost",
   "metadata": {},
   "outputs": [],
   "source": [
    "path_data = Path('comment.taptap-20210203-1')"
   ]
  },
  {
   "cell_type": "code",
   "execution_count": 11,
   "id": "removed-applicant",
   "metadata": {},
   "outputs": [],
   "source": [
    "path = path_root/path_data"
   ]
  },
  {
   "cell_type": "code",
   "execution_count": 12,
   "id": "allied-judge",
   "metadata": {
    "scrolled": false
   },
   "outputs": [
    {
     "name": "stdout",
     "output_type": "stream",
     "text": [
      "CPU times: user 10.9 s, sys: 3.39 s, total: 14.2 s\n",
      "Wall time: 14.2 s\n",
      "(150, 5)\n"
     ]
    },
    {
     "data": {
      "text/html": [
       "<div>\n",
       "<style scoped>\n",
       "    .dataframe tbody tr th:only-of-type {\n",
       "        vertical-align: middle;\n",
       "    }\n",
       "\n",
       "    .dataframe tbody tr th {\n",
       "        vertical-align: top;\n",
       "    }\n",
       "\n",
       "    .dataframe thead th {\n",
       "        text-align: right;\n",
       "    }\n",
       "</style>\n",
       "<table border=\"1\" class=\"dataframe\">\n",
       "  <thead>\n",
       "    <tr style=\"text-align: right;\">\n",
       "      <th></th>\n",
       "      <th>游戏名</th>\n",
       "      <th>游戏评分</th>\n",
       "      <th>游戏url</th>\n",
       "      <th>评论数量</th>\n",
       "      <th>标签</th>\n",
       "    </tr>\n",
       "  </thead>\n",
       "  <tbody>\n",
       "    <tr>\n",
       "      <th>0</th>\n",
       "      <td>精灵契约</td>\n",
       "      <td>6.8</td>\n",
       "      <td>https://www.taptap.com/app/142111</td>\n",
       "      <td>870</td>\n",
       "      <td>(过于氪金, 体验不错, 画面优良, 运营不足, 有趣好玩, 玩家互动多, 抽卡概率低, 厂...</td>\n",
       "    </tr>\n",
       "  </tbody>\n",
       "</table>\n",
       "</div>"
      ],
      "text/plain": [
       "    游戏名 游戏评分                              游戏url  评论数量  \\\n",
       "0  精灵契约  6.8  https://www.taptap.com/app/142111   870   \n",
       "\n",
       "                                                  标签  \n",
       "0  (过于氪金, 体验不错, 画面优良, 运营不足, 有趣好玩, 玩家互动多, 抽卡概率低, 厂...  "
      ]
     },
     "execution_count": 12,
     "metadata": {},
     "output_type": "execute_result"
    }
   ],
   "source": [
    "%time df_basic = pd.DataFrame([get_basic(p) for p in path.glob('*.json')])\n",
    "print(df_basic.shape)\n",
    "df_basic.head(1)"
   ]
  },
  {
   "cell_type": "code",
   "execution_count": 13,
   "id": "assisted-mapping",
   "metadata": {
    "scrolled": true
   },
   "outputs": [
    {
     "name": "stderr",
     "output_type": "stream",
     "text": [
      "150it [00:14, 10.61it/s]\n"
     ]
    },
    {
     "name": "stdout",
     "output_type": "stream",
     "text": [
      "CPU times: user 13.7 s, sys: 2.86 s, total: 16.5 s\n",
      "Wall time: 16.5 s\n",
      "(488452, 14)\n"
     ]
    },
    {
     "data": {
      "text/html": [
       "<div>\n",
       "<style scoped>\n",
       "    .dataframe tbody tr th:only-of-type {\n",
       "        vertical-align: middle;\n",
       "    }\n",
       "\n",
       "    .dataframe tbody tr th {\n",
       "        vertical-align: top;\n",
       "    }\n",
       "\n",
       "    .dataframe thead th {\n",
       "        text-align: right;\n",
       "    }\n",
       "</style>\n",
       "<table border=\"1\" class=\"dataframe\">\n",
       "  <thead>\n",
       "    <tr style=\"text-align: right;\">\n",
       "      <th></th>\n",
       "      <th>用户名</th>\n",
       "      <th>评论时间</th>\n",
       "      <th>游戏评分</th>\n",
       "      <th>游戏时长</th>\n",
       "      <th>内容</th>\n",
       "      <th>手机型号</th>\n",
       "      <th>欢乐</th>\n",
       "      <th>点赞</th>\n",
       "      <th>点踩</th>\n",
       "      <th>回复量</th>\n",
       "      <th>标签</th>\n",
       "      <th>游戏名</th>\n",
       "      <th>游戏url</th>\n",
       "      <th>评论数量</th>\n",
       "    </tr>\n",
       "  </thead>\n",
       "  <tbody>\n",
       "    <tr>\n",
       "      <th>0</th>\n",
       "      <td>Foo云少</td>\n",
       "      <td>2021-01-19 10:07:37</td>\n",
       "      <td>6.8</td>\n",
       "      <td>0</td>\n",
       "      <td>不好玩太氪金了我有段时间没有玩号在那个区都不知道了而且这个游戏刚刚出来的时候玩的10区的</td>\n",
       "      <td>华为畅享9 Plus</td>\n",
       "      <td>0</td>\n",
       "      <td>0</td>\n",
       "      <td>0</td>\n",
       "      <td>0</td>\n",
       "      <td>过于氪金</td>\n",
       "      <td>精灵契约</td>\n",
       "      <td>https://www.taptap.com/app/142111</td>\n",
       "      <td>870</td>\n",
       "    </tr>\n",
       "  </tbody>\n",
       "</table>\n",
       "</div>"
      ],
      "text/plain": [
       "     用户名                 评论时间 游戏评分 游戏时长  \\\n",
       "0  Foo云少  2021-01-19 10:07:37  6.8    0   \n",
       "\n",
       "                                             内容        手机型号  欢乐  点赞  点踩  回复量  \\\n",
       "0  不好玩太氪金了我有段时间没有玩号在那个区都不知道了而且这个游戏刚刚出来的时候玩的10区的  华为畅享9 Plus   0   0   0    0   \n",
       "\n",
       "     标签   游戏名                              游戏url  评论数量  \n",
       "0  过于氪金  精灵契约  https://www.taptap.com/app/142111   870  "
      ]
     },
     "execution_count": 13,
     "metadata": {},
     "output_type": "execute_result"
    }
   ],
   "source": [
    "%time df_comments = pd.DataFrame(chain.from_iterable([get_comments(p) for p in tqdm(path.glob('*.json'))]))\n",
    "print(df_comments.shape)\n",
    "df_comments.head(1)"
   ]
  },
  {
   "cell_type": "code",
   "execution_count": 14,
   "id": "generous-exploration",
   "metadata": {},
   "outputs": [
    {
     "name": "stdout",
     "output_type": "stream",
     "text": [
      "(45450, 14)\n"
     ]
    },
    {
     "data": {
      "text/html": [
       "<div>\n",
       "<style scoped>\n",
       "    .dataframe tbody tr th:only-of-type {\n",
       "        vertical-align: middle;\n",
       "    }\n",
       "\n",
       "    .dataframe tbody tr th {\n",
       "        vertical-align: top;\n",
       "    }\n",
       "\n",
       "    .dataframe thead th {\n",
       "        text-align: right;\n",
       "    }\n",
       "</style>\n",
       "<table border=\"1\" class=\"dataframe\">\n",
       "  <thead>\n",
       "    <tr style=\"text-align: right;\">\n",
       "      <th></th>\n",
       "      <th>用户名</th>\n",
       "      <th>评论时间</th>\n",
       "      <th>游戏评分</th>\n",
       "      <th>游戏时长</th>\n",
       "      <th>内容</th>\n",
       "      <th>手机型号</th>\n",
       "      <th>欢乐</th>\n",
       "      <th>点赞</th>\n",
       "      <th>点踩</th>\n",
       "      <th>回复量</th>\n",
       "      <th>标签</th>\n",
       "      <th>游戏名</th>\n",
       "      <th>游戏url</th>\n",
       "      <th>评论数量</th>\n",
       "    </tr>\n",
       "  </thead>\n",
       "  <tbody>\n",
       "    <tr>\n",
       "      <th>0</th>\n",
       "      <td>Foo云少</td>\n",
       "      <td>2021-01-19 10:07:37</td>\n",
       "      <td>6.8</td>\n",
       "      <td>0</td>\n",
       "      <td>不好玩太氪金了我有段时间没有玩号在那个区都不知道了而且这个游戏刚刚出来的时候玩的10区的</td>\n",
       "      <td>华为畅享9 Plus</td>\n",
       "      <td>0</td>\n",
       "      <td>0</td>\n",
       "      <td>0</td>\n",
       "      <td>0</td>\n",
       "      <td>过于氪金</td>\n",
       "      <td>精灵契约</td>\n",
       "      <td>https://www.taptap.com/app/142111</td>\n",
       "      <td>870</td>\n",
       "    </tr>\n",
       "  </tbody>\n",
       "</table>\n",
       "</div>"
      ],
      "text/plain": [
       "     用户名                 评论时间 游戏评分 游戏时长  \\\n",
       "0  Foo云少  2021-01-19 10:07:37  6.8    0   \n",
       "\n",
       "                                             内容        手机型号  欢乐  点赞  点踩  回复量  \\\n",
       "0  不好玩太氪金了我有段时间没有玩号在那个区都不知道了而且这个游戏刚刚出来的时候玩的10区的  华为畅享9 Plus   0   0   0    0   \n",
       "\n",
       "     标签   游戏名                              游戏url  评论数量  \n",
       "0  过于氪金  精灵契约  https://www.taptap.com/app/142111   870  "
      ]
     },
     "execution_count": 14,
     "metadata": {},
     "output_type": "execute_result"
    }
   ],
   "source": [
    "df_comments_topic = df_comments[~df_comments.标签.isin(['好评', '中评', '差评', 'android', 'ios', 'web', '有游戏时长'])]\n",
    "print(df_comments_topic.shape)\n",
    "df_comments_topic.head(1)"
   ]
  },
  {
   "cell_type": "code",
   "execution_count": 15,
   "id": "narrow-norwegian",
   "metadata": {},
   "outputs": [
    {
     "name": "stdout",
     "output_type": "stream",
     "text": [
      "CPU times: user 988 ms, sys: 12 ms, total: 1 s\n",
      "Wall time: 997 ms\n",
      "(30378, 2)\n"
     ]
    },
    {
     "data": {
      "text/html": [
       "<div>\n",
       "<style scoped>\n",
       "    .dataframe tbody tr th:only-of-type {\n",
       "        vertical-align: middle;\n",
       "    }\n",
       "\n",
       "    .dataframe tbody tr th {\n",
       "        vertical-align: top;\n",
       "    }\n",
       "\n",
       "    .dataframe thead th {\n",
       "        text-align: right;\n",
       "    }\n",
       "</style>\n",
       "<table border=\"1\" class=\"dataframe\">\n",
       "  <thead>\n",
       "    <tr style=\"text-align: right;\">\n",
       "      <th></th>\n",
       "      <th>内容</th>\n",
       "      <th>标签</th>\n",
       "    </tr>\n",
       "  </thead>\n",
       "  <tbody>\n",
       "    <tr>\n",
       "      <th>0</th>\n",
       "      <td>\\n\\n\\n玩过两个赛季的人，游戏消遣还不错，不过卡池锁卡劝退，一赛季初期获得刘备张飞，二赛...</td>\n",
       "      <td>[运营不足]</td>\n",
       "    </tr>\n",
       "    <tr>\n",
       "      <th>1</th>\n",
       "      <td>\\n\\n10:30开始进游戏就各种bug，各种系统维护。下午玩了不到一个小时，服务器又崩。无...</td>\n",
       "      <td>[运营不足]</td>\n",
       "    </tr>\n",
       "    <tr>\n",
       "      <th>2</th>\n",
       "      <td>\\n\\n游戏模式还是挺有意思，可以自己铺路建设,把不同文明的帝国从几个人发展到上万人建成自己...</td>\n",
       "      <td>[体验不错, 有趣好玩]</td>\n",
       "    </tr>\n",
       "  </tbody>\n",
       "</table>\n",
       "</div>"
      ],
      "text/plain": [
       "                                                  内容            标签\n",
       "0  \\n\\n\\n玩过两个赛季的人，游戏消遣还不错，不过卡池锁卡劝退，一赛季初期获得刘备张飞，二赛...        [运营不足]\n",
       "1  \\n\\n10:30开始进游戏就各种bug，各种系统维护。下午玩了不到一个小时，服务器又崩。无...        [运营不足]\n",
       "2  \\n\\n游戏模式还是挺有意思，可以自己铺路建设,把不同文明的帝国从几个人发展到上万人建成自己...  [体验不错, 有趣好玩]"
      ]
     },
     "execution_count": 15,
     "metadata": {},
     "output_type": "execute_result"
    }
   ],
   "source": [
    "%time df_comments_topics = df_comments_topic[['内容', '标签']].groupby(['内容']).agg(list).reset_index()\n",
    "print(df_comments_topics.shape)\n",
    "df_comments_topics.head(3)"
   ]
  },
  {
   "cell_type": "code",
   "execution_count": 16,
   "id": "solved-latter",
   "metadata": {},
   "outputs": [
    {
     "data": {
      "text/plain": [
       "1    20056\n",
       "2     7069\n",
       "3     2228\n",
       "4      694\n",
       "5      222\n",
       "6       83\n",
       "7       20\n",
       "8        6\n",
       "Name: 标签, dtype: int64"
      ]
     },
     "execution_count": 16,
     "metadata": {},
     "output_type": "execute_result"
    }
   ],
   "source": [
    "df_comments_topics['标签'].apply(len).value_counts()"
   ]
  },
  {
   "cell_type": "code",
   "execution_count": 17,
   "id": "thick-government",
   "metadata": {},
   "outputs": [
    {
     "data": {
      "text/html": [
       "<div>\n",
       "<style scoped>\n",
       "    .dataframe tbody tr th:only-of-type {\n",
       "        vertical-align: middle;\n",
       "    }\n",
       "\n",
       "    .dataframe tbody tr th {\n",
       "        vertical-align: top;\n",
       "    }\n",
       "\n",
       "    .dataframe thead th {\n",
       "        text-align: right;\n",
       "    }\n",
       "</style>\n",
       "<table border=\"1\" class=\"dataframe\">\n",
       "  <thead>\n",
       "    <tr style=\"text-align: right;\">\n",
       "      <th></th>\n",
       "      <th>内容</th>\n",
       "      <th>标签</th>\n",
       "    </tr>\n",
       "  </thead>\n",
       "  <tbody>\n",
       "    <tr>\n",
       "      <th>2</th>\n",
       "      <td>\\n\\n游戏模式还是挺有意思，可以自己铺路建设,把不同文明的帝国从几个人发展到上万人建成自己...</td>\n",
       "      <td>[体验不错, 有趣好玩]</td>\n",
       "    </tr>\n",
       "    <tr>\n",
       "      <th>4</th>\n",
       "      <td>\\n\\n玩了差不多一个月了，这两天游戏里的汉家松鼠让我评论，那么我就来评一评。游戏立意不错，...</td>\n",
       "      <td>[体验不错, 值得花钱, 厂商良心]</td>\n",
       "    </tr>\n",
       "    <tr>\n",
       "      <th>5</th>\n",
       "      <td>\\n\\n这款游戏整体来说挺好的，剧情画风都挺不错，但是还是有一些问题。\\n①难度设置的有些不...</td>\n",
       "      <td>[剧情丰富, 画面优良]</td>\n",
       "    </tr>\n",
       "  </tbody>\n",
       "</table>\n",
       "</div>"
      ],
      "text/plain": [
       "                                                  内容                  标签\n",
       "2  \\n\\n游戏模式还是挺有意思，可以自己铺路建设,把不同文明的帝国从几个人发展到上万人建成自己...        [体验不错, 有趣好玩]\n",
       "4  \\n\\n玩了差不多一个月了，这两天游戏里的汉家松鼠让我评论，那么我就来评一评。游戏立意不错，...  [体验不错, 值得花钱, 厂商良心]\n",
       "5  \\n\\n这款游戏整体来说挺好的，剧情画风都挺不错，但是还是有一些问题。\\n①难度设置的有些不...        [剧情丰富, 画面优良]"
      ]
     },
     "execution_count": 17,
     "metadata": {},
     "output_type": "execute_result"
    }
   ],
   "source": [
    "df_comments_topics[df_comments_topics['标签'].apply(len) > 1].head(3)"
   ]
  },
  {
   "cell_type": "code",
   "execution_count": 18,
   "id": "occasional-trade",
   "metadata": {},
   "outputs": [
    {
     "name": "stdout",
     "output_type": "stream",
     "text": [
      "(30378, 2)\n"
     ]
    },
    {
     "data": {
      "text/html": [
       "<div>\n",
       "<style scoped>\n",
       "    .dataframe tbody tr th:only-of-type {\n",
       "        vertical-align: middle;\n",
       "    }\n",
       "\n",
       "    .dataframe tbody tr th {\n",
       "        vertical-align: top;\n",
       "    }\n",
       "\n",
       "    .dataframe thead th {\n",
       "        text-align: right;\n",
       "    }\n",
       "</style>\n",
       "<table border=\"1\" class=\"dataframe\">\n",
       "  <thead>\n",
       "    <tr style=\"text-align: right;\">\n",
       "      <th></th>\n",
       "      <th>内容</th>\n",
       "      <th>标签</th>\n",
       "    </tr>\n",
       "  </thead>\n",
       "  <tbody>\n",
       "    <tr>\n",
       "      <th>0</th>\n",
       "      <td>\\n\\n\\n玩过两个赛季的人，游戏消遣还不错，不过卡池锁卡劝退，一赛季初期获得刘备张飞，二赛...</td>\n",
       "      <td>[0, 0, 0, 0, 0, 0, 0, 0, 0, 0, 0, 0, 0, 0, 0, ...</td>\n",
       "    </tr>\n",
       "    <tr>\n",
       "      <th>1</th>\n",
       "      <td>\\n\\n10:30开始进游戏就各种bug，各种系统维护。下午玩了不到一个小时，服务器又崩。无...</td>\n",
       "      <td>[0, 0, 0, 0, 0, 0, 0, 0, 0, 0, 0, 0, 0, 0, 0, ...</td>\n",
       "    </tr>\n",
       "    <tr>\n",
       "      <th>2</th>\n",
       "      <td>\\n\\n游戏模式还是挺有意思，可以自己铺路建设,把不同文明的帝国从几个人发展到上万人建成自己...</td>\n",
       "      <td>[0, 0, 0, 0, 0, 1, 0, 0, 0, 0, 0, 0, 0, 0, 0, ...</td>\n",
       "    </tr>\n",
       "  </tbody>\n",
       "</table>\n",
       "</div>"
      ],
      "text/plain": [
       "                                                  内容  \\\n",
       "0  \\n\\n\\n玩过两个赛季的人，游戏消遣还不错，不过卡池锁卡劝退，一赛季初期获得刘备张飞，二赛...   \n",
       "1  \\n\\n10:30开始进游戏就各种bug，各种系统维护。下午玩了不到一个小时，服务器又崩。无...   \n",
       "2  \\n\\n游戏模式还是挺有意思，可以自己铺路建设,把不同文明的帝国从几个人发展到上万人建成自己...   \n",
       "\n",
       "                                                  标签  \n",
       "0  [0, 0, 0, 0, 0, 0, 0, 0, 0, 0, 0, 0, 0, 0, 0, ...  \n",
       "1  [0, 0, 0, 0, 0, 0, 0, 0, 0, 0, 0, 0, 0, 0, 0, ...  \n",
       "2  [0, 0, 0, 0, 0, 1, 0, 0, 0, 0, 0, 0, 0, 0, 0, ...  "
      ]
     },
     "execution_count": 18,
     "metadata": {},
     "output_type": "execute_result"
    }
   ],
   "source": [
    "mlb = MultiLabelBinarizer()\n",
    "# df_comments_topics.loc[:,'标签'] = mlb.fit_transform(df_comments_topics['标签']).tolist()\n",
    "df_comments_topics['标签'] = mlb.fit_transform(df_comments_topics['标签']).tolist()\n",
    "print(df_comments_topics.shape)\n",
    "df_comments_topics.head(3)"
   ]
  },
  {
   "cell_type": "code",
   "execution_count": 19,
   "id": "superb-generation",
   "metadata": {},
   "outputs": [
    {
     "data": {
      "text/html": [
       "<div>\n",
       "<style scoped>\n",
       "    .dataframe tbody tr th:only-of-type {\n",
       "        vertical-align: middle;\n",
       "    }\n",
       "\n",
       "    .dataframe tbody tr th {\n",
       "        vertical-align: top;\n",
       "    }\n",
       "\n",
       "    .dataframe thead th {\n",
       "        text-align: right;\n",
       "    }\n",
       "</style>\n",
       "<table border=\"1\" class=\"dataframe\">\n",
       "  <thead>\n",
       "    <tr style=\"text-align: right;\">\n",
       "      <th></th>\n",
       "      <th>内容</th>\n",
       "      <th>标签</th>\n",
       "    </tr>\n",
       "  </thead>\n",
       "  <tbody>\n",
       "    <tr>\n",
       "      <th>0</th>\n",
       "      <td>\\n\\n\\n玩过两个赛季的人，游戏消遣还不错，不过卡池锁卡劝退，一赛季初期获得刘备张飞，二赛...</td>\n",
       "      <td>[0, 0, 0, 0, 0, 0, 0, 0, 0, 0, 0, 0, 0, 0, 0, ...</td>\n",
       "    </tr>\n",
       "    <tr>\n",
       "      <th>1</th>\n",
       "      <td>\\n\\n10:30开始进游戏就各种bug，各种系统维护。下午玩了不到一个小时，服务器又崩。无...</td>\n",
       "      <td>[0, 0, 0, 0, 0, 0, 0, 0, 0, 0, 0, 0, 0, 0, 0, ...</td>\n",
       "    </tr>\n",
       "    <tr>\n",
       "      <th>2</th>\n",
       "      <td>\\n\\n游戏模式还是挺有意思，可以自己铺路建设,把不同文明的帝国从几个人发展到上万人建成自己...</td>\n",
       "      <td>[0, 0, 0, 0, 0, 1, 0, 0, 0, 0, 0, 0, 0, 0, 0, ...</td>\n",
       "    </tr>\n",
       "  </tbody>\n",
       "</table>\n",
       "</div>"
      ],
      "text/plain": [
       "                                                  内容  \\\n",
       "0  \\n\\n\\n玩过两个赛季的人，游戏消遣还不错，不过卡池锁卡劝退，一赛季初期获得刘备张飞，二赛...   \n",
       "1  \\n\\n10:30开始进游戏就各种bug，各种系统维护。下午玩了不到一个小时，服务器又崩。无...   \n",
       "2  \\n\\n游戏模式还是挺有意思，可以自己铺路建设,把不同文明的帝国从几个人发展到上万人建成自己...   \n",
       "\n",
       "                                                  标签  \n",
       "0  [0, 0, 0, 0, 0, 0, 0, 0, 0, 0, 0, 0, 0, 0, 0, ...  \n",
       "1  [0, 0, 0, 0, 0, 0, 0, 0, 0, 0, 0, 0, 0, 0, 0, ...  \n",
       "2  [0, 0, 0, 0, 0, 1, 0, 0, 0, 0, 0, 0, 0, 0, 0, ...  "
      ]
     },
     "execution_count": 19,
     "metadata": {},
     "output_type": "execute_result"
    }
   ],
   "source": [
    "df_comments_topics[df_comments_topics['标签'].apply(lambda x: 1 if int == type(x) else len(x)) > 1].head(3)"
   ]
  },
  {
   "cell_type": "code",
   "execution_count": 20,
   "id": "inside-adrian",
   "metadata": {},
   "outputs": [
    {
     "data": {
      "text/plain": [
       "array(['IP还原差', 'UI体验好', 'UI体验差', '上手难度大', '优化相关', '体验不错', '体验较差', '值得花钱',\n",
       "       '剧情丰富', '剧情单调', '厂商不给力', '厂商良心', '太肝了', '尊重原著', '平衡性好', '平衡性差',\n",
       "       '广告太多', '广告影响小', '抄袭嫌疑', '护肝', '抽卡概率低', '抽卡概率高', '操作简单', '操作麻烦',\n",
       "       '新手友好', '有创新', '有趣好玩', '玩家互动多', '玩家互动少', '玩法较差', '画面优良', '画面粗糙',\n",
       "       '福利好', '福利差', '自由度低', '自由度高', '过于氪金', '运营不足', '运营给力', '配置要求低',\n",
       "       '配置要求高', '音效很棒', '音效较差'], dtype=object)"
      ]
     },
     "execution_count": 20,
     "metadata": {},
     "output_type": "execute_result"
    }
   ],
   "source": [
    "mlb.classes_"
   ]
  },
  {
   "cell_type": "markdown",
   "id": "split-builder",
   "metadata": {},
   "source": [
    "### eda"
   ]
  },
  {
   "cell_type": "markdown",
   "id": "collected-ceremony",
   "metadata": {},
   "source": [
    "#### content length"
   ]
  },
  {
   "cell_type": "code",
   "execution_count": 21,
   "id": "ordinary-school",
   "metadata": {},
   "outputs": [],
   "source": [
    "df_comments_length = df_comments_topics['内容'].apply(len)"
   ]
  },
  {
   "cell_type": "code",
   "execution_count": 22,
   "id": "wired-crest",
   "metadata": {},
   "outputs": [
    {
     "data": {
      "text/plain": [
       "count    30378.000000\n",
       "mean       183.025446\n",
       "std        286.144866\n",
       "min         21.000000\n",
       "25%         44.000000\n",
       "50%         87.000000\n",
       "75%        203.000000\n",
       "max      13714.000000\n",
       "Name: 内容, dtype: float64"
      ]
     },
     "execution_count": 22,
     "metadata": {},
     "output_type": "execute_result"
    }
   ],
   "source": [
    "df_comments_length.describe()"
   ]
  },
  {
   "cell_type": "code",
   "execution_count": 23,
   "id": "identical-curtis",
   "metadata": {},
   "outputs": [
    {
     "name": "stdout",
     "output_type": "stream",
     "text": [
      "(30378,)\n",
      "(27670,)\n",
      "0.9108565409177695\n"
     ]
    }
   ],
   "source": [
    "k = 1\n",
    "mu_1std = df_comments_length.mean(axis=0) + k * df_comments_length.std(axis=0) \n",
    "\n",
    "print(df_comments_length.shape)\n",
    "print(df_comments_length[df_comments_length < mu_1std].shape)\n",
    "print(df_comments_length[df_comments_length < mu_1std].shape[0] / df_comments_length.shape[0])"
   ]
  },
  {
   "cell_type": "markdown",
   "id": "psychological-oasis",
   "metadata": {},
   "source": [
    "#### topic"
   ]
  },
  {
   "cell_type": "code",
   "execution_count": 24,
   "id": "chinese-clothing",
   "metadata": {},
   "outputs": [
    {
     "name": "stdout",
     "output_type": "stream",
     "text": [
      "50\n"
     ]
    },
    {
     "data": {
      "text/plain": [
       "{'IP还原差',\n",
       " 'UI体验好',\n",
       " 'UI体验差',\n",
       " 'android',\n",
       " 'ios',\n",
       " 'web',\n",
       " '上手难度大',\n",
       " '中评',\n",
       " '优化相关',\n",
       " '体验不错',\n",
       " '体验较差',\n",
       " '值得花钱',\n",
       " '剧情丰富',\n",
       " '剧情单调',\n",
       " '厂商不给力',\n",
       " '厂商良心',\n",
       " '太肝了',\n",
       " '好评',\n",
       " '尊重原著',\n",
       " '差评',\n",
       " '平衡性好',\n",
       " '平衡性差',\n",
       " '广告太多',\n",
       " '广告影响小',\n",
       " '抄袭嫌疑',\n",
       " '护肝',\n",
       " '抽卡概率低',\n",
       " '抽卡概率高',\n",
       " '操作简单',\n",
       " '操作麻烦',\n",
       " '新手友好',\n",
       " '有创新',\n",
       " '有游戏时长',\n",
       " '有趣好玩',\n",
       " '玩家互动多',\n",
       " '玩家互动少',\n",
       " '玩法较差',\n",
       " '画面优良',\n",
       " '画面粗糙',\n",
       " '福利好',\n",
       " '福利差',\n",
       " '自由度低',\n",
       " '自由度高',\n",
       " '过于氪金',\n",
       " '运营不足',\n",
       " '运营给力',\n",
       " '配置要求低',\n",
       " '配置要求高',\n",
       " '音效很棒',\n",
       " '音效较差'}"
      ]
     },
     "execution_count": 24,
     "metadata": {},
     "output_type": "execute_result"
    }
   ],
   "source": [
    "tags = set(chain.from_iterable(df_basic.标签.apply(list).tolist()))\n",
    "print(len(tags))\n",
    "tags"
   ]
  },
  {
   "cell_type": "code",
   "execution_count": 25,
   "id": "laden-pottery",
   "metadata": {},
   "outputs": [
    {
     "data": {
      "text/plain": [
       "(182070, 14)"
      ]
     },
     "execution_count": 25,
     "metadata": {},
     "output_type": "execute_result"
    }
   ],
   "source": [
    "df_comments.drop_duplicates('内容').shape"
   ]
  },
  {
   "cell_type": "code",
   "execution_count": 26,
   "id": "typical-placement",
   "metadata": {},
   "outputs": [
    {
     "data": {
      "text/plain": [
       "43    30378\n",
       "Name: 标签, dtype: int64"
      ]
     },
     "execution_count": 26,
     "metadata": {},
     "output_type": "execute_result"
    }
   ],
   "source": [
    "df_comments_topics.标签.apply(len).value_counts()"
   ]
  },
  {
   "cell_type": "markdown",
   "id": "designing-banking",
   "metadata": {},
   "source": [
    "#### +1/0/-1"
   ]
  },
  {
   "cell_type": "code",
   "execution_count": 27,
   "id": "noted-literacy",
   "metadata": {},
   "outputs": [
    {
     "name": "stdout",
     "output_type": "stream",
     "text": [
      "(195017, 14)\n"
     ]
    },
    {
     "data": {
      "text/html": [
       "<div>\n",
       "<style scoped>\n",
       "    .dataframe tbody tr th:only-of-type {\n",
       "        vertical-align: middle;\n",
       "    }\n",
       "\n",
       "    .dataframe tbody tr th {\n",
       "        vertical-align: top;\n",
       "    }\n",
       "\n",
       "    .dataframe thead th {\n",
       "        text-align: right;\n",
       "    }\n",
       "</style>\n",
       "<table border=\"1\" class=\"dataframe\">\n",
       "  <thead>\n",
       "    <tr style=\"text-align: right;\">\n",
       "      <th></th>\n",
       "      <th>用户名</th>\n",
       "      <th>评论时间</th>\n",
       "      <th>游戏评分</th>\n",
       "      <th>游戏时长</th>\n",
       "      <th>内容</th>\n",
       "      <th>手机型号</th>\n",
       "      <th>欢乐</th>\n",
       "      <th>点赞</th>\n",
       "      <th>点踩</th>\n",
       "      <th>回复量</th>\n",
       "      <th>标签</th>\n",
       "      <th>游戏名</th>\n",
       "      <th>游戏url</th>\n",
       "      <th>评论数量</th>\n",
       "    </tr>\n",
       "  </thead>\n",
       "  <tbody>\n",
       "    <tr>\n",
       "      <th>1369</th>\n",
       "      <td>白鳞小蛇</td>\n",
       "      <td>2021-01-26 11:37:59</td>\n",
       "      <td>6.8</td>\n",
       "      <td>0</td>\n",
       "      <td>还不错，就是太依赖于抽卡，没什么英雄搭配\\r\\n\\r\\n这游戏凉了么？\\r\\n</td>\n",
       "      <td></td>\n",
       "      <td>1</td>\n",
       "      <td>0</td>\n",
       "      <td>0</td>\n",
       "      <td>0</td>\n",
       "      <td>好评</td>\n",
       "      <td>精灵契约</td>\n",
       "      <td>https://www.taptap.com/app/142111</td>\n",
       "      <td>870</td>\n",
       "    </tr>\n",
       "  </tbody>\n",
       "</table>\n",
       "</div>"
      ],
      "text/plain": [
       "       用户名                 评论时间 游戏评分 游戏时长  \\\n",
       "1369  白鳞小蛇  2021-01-26 11:37:59  6.8    0   \n",
       "\n",
       "                                           内容 手机型号  欢乐  点赞  点踩  回复量  标签   游戏名  \\\n",
       "1369  还不错，就是太依赖于抽卡，没什么英雄搭配\\r\\n\\r\\n这游戏凉了么？\\r\\n        1   0   0    0  好评  精灵契约   \n",
       "\n",
       "                                  游戏url  评论数量  \n",
       "1369  https://www.taptap.com/app/142111   870  "
      ]
     },
     "execution_count": 27,
     "metadata": {},
     "output_type": "execute_result"
    }
   ],
   "source": [
    "df_comments_pnn = df_comments[df_comments.标签.isin(['好评', '中评', '差评'])]\n",
    "print(df_comments_pnn.shape)\n",
    "df_comments_pnn.head(1)"
   ]
  },
  {
   "cell_type": "code",
   "execution_count": 28,
   "id": "chronic-discussion",
   "metadata": {},
   "outputs": [
    {
     "data": {
      "text/plain": [
       "(173610, 14)"
      ]
     },
     "execution_count": 28,
     "metadata": {},
     "output_type": "execute_result"
    }
   ],
   "source": [
    "df_comments_pnn.drop_duplicates('内容').shape"
   ]
  },
  {
   "cell_type": "code",
   "execution_count": 29,
   "id": "blind-necessity",
   "metadata": {},
   "outputs": [
    {
     "data": {
      "text/plain": [
       "好评    0.591400\n",
       "差评    0.291764\n",
       "中评    0.116836\n",
       "Name: 标签, dtype: float64"
      ]
     },
     "execution_count": 29,
     "metadata": {},
     "output_type": "execute_result"
    }
   ],
   "source": [
    "df_comments_pnn.标签.value_counts(normalize=True)"
   ]
  },
  {
   "cell_type": "markdown",
   "id": "express-laptop",
   "metadata": {},
   "source": [
    "### to dataset"
   ]
  },
  {
   "cell_type": "code",
   "execution_count": 30,
   "id": "oriented-adventure",
   "metadata": {},
   "outputs": [
    {
     "data": {
      "text/plain": [
       "469"
      ]
     },
     "execution_count": 30,
     "metadata": {},
     "output_type": "execute_result"
    }
   ],
   "source": [
    "int(mu_1std)"
   ]
  },
  {
   "cell_type": "code",
   "execution_count": 31,
   "id": "optical-favor",
   "metadata": {
    "colab": {
     "base_uri": "https://localhost:8080/",
     "height": 66,
     "referenced_widgets": [
      "4ff1e0e231244d79a4d1ebdc2e7b8235",
      "51d4c2a94e654b83916d011c65248d04",
      "a7354b526df9448d8fd6c4a264c2ac24",
      "1b67b76cd9394e3b8addf6195ca9611a",
      "b9510b24e7e64b9d822d025a9b30757b",
      "84c7d4fb46924b7fa412d188ea7e05da",
      "23b26013d0144f468af29109e37e3a60",
      "b5dd7f6b28d542ea9d3831028c888f44"
     ]
    },
    "colab_type": "code",
    "id": "ikfbFlNHgi8T",
    "outputId": "21188d80-cd21-4d66-bdf0-8308af26a0fd"
   },
   "outputs": [],
   "source": [
    "# MAX_LEN = 128\n",
    "# MAX_LEN = int(mu_1std)\n",
    "MAX_LEN = 512\n",
    "\n",
    "TRAIN_BATCH_SIZE = 4 # 8 # 4\n",
    "VALID_BATCH_SIZE = 4 # 8 # 4\n",
    "EPOCHS = 20\n",
    "LEARNING_RATE = 1e-05"
   ]
  },
  {
   "cell_type": "code",
   "execution_count": 32,
   "id": "surprised-matter",
   "metadata": {},
   "outputs": [],
   "source": [
    "new_df = df_comments_topics"
   ]
  },
  {
   "cell_type": "code",
   "execution_count": 33,
   "id": "attempted-durham",
   "metadata": {
    "colab": {
     "base_uri": "https://localhost:8080/",
     "height": 70
    },
    "colab_type": "code",
    "id": "PkDGqarcPowL",
    "outputId": "e834ea5d-5d00-4bb6-ad52-6f21e744da95"
   },
   "outputs": [
    {
     "name": "stdout",
     "output_type": "stream",
     "text": [
      "FULL Dataset: (30378, 2)\n",
      "TRAIN Dataset: (24302, 2)\n",
      "TEST Dataset: (6076, 2)\n"
     ]
    }
   ],
   "source": [
    "# split train & test\n",
    "\n",
    "train_size = 0.8\n",
    "\n",
    "train_dataset = new_df.sample(frac=train_size, random_state=200)\n",
    "test_dataset = new_df.drop(train_dataset.index).reset_index(drop=True)\n",
    "train_dataset = train_dataset.reset_index(drop=True)\n",
    "\n",
    "print(\"FULL Dataset: {}\".format(new_df.shape))\n",
    "print(\"TRAIN Dataset: {}\".format(train_dataset.shape))\n",
    "print(\"TEST Dataset: {}\".format(test_dataset.shape))"
   ]
  },
  {
   "cell_type": "code",
   "execution_count": 34,
   "id": "hollow-evans",
   "metadata": {},
   "outputs": [],
   "source": [
    "# model_name = 'bert-base-chinese'\n",
    "\n",
    "# model_name = 'hfl/chinese-bert-wwm'\n",
    "model_name = 'hfl/chinese-bert-wwm-ext'\n",
    "\n",
    "# model_name = 'hfl/chinese-roberta-wwm-ext'\n",
    "# model_name = 'hfl/chinese-roberta-wwm-ext-large'    # not working\n",
    "\n",
    "# model_name = 'hfl/chinese-macbert-base'\n",
    "\n",
    "# model_name = 'ckiplab/bert-base-chinese'\n",
    "\n",
    "# model_name = 'ckiplab/albert-tiny-chinese'    # not working"
   ]
  },
  {
   "cell_type": "code",
   "execution_count": 35,
   "id": "distributed-barbados",
   "metadata": {},
   "outputs": [],
   "source": [
    "# tokenizer = BertTokenizer.from_pretrained('bert-base-uncased')  # diff\n",
    "# tokenizer = DistilBertTokenizer.from_pretrained('distilbert-base-uncased', truncation=True, do_lower_case=True)\n",
    "# tokenizer = BertTokenizer.from_pretrained('bert-base-chinese')\n",
    "tokenizer = BertTokenizer.from_pretrained(model_name)"
   ]
  },
  {
   "cell_type": "code",
   "execution_count": 36,
   "id": "radio-surface",
   "metadata": {},
   "outputs": [],
   "source": [
    "training_set = CustomDataset(train_dataset, tokenizer, MAX_LEN) # diff MultiLabelDataset\n",
    "testing_set = CustomDataset(test_dataset, tokenizer, MAX_LEN)"
   ]
  },
  {
   "cell_type": "markdown",
   "id": "classical-grade",
   "metadata": {},
   "source": [
    "## Model"
   ]
  },
  {
   "cell_type": "code",
   "execution_count": 37,
   "id": "standard-topic",
   "metadata": {
    "colab": {
     "base_uri": "https://localhost:8080/",
     "height": 1000
    },
    "colab_type": "code",
    "id": "FeftvDhjDSPp",
    "outputId": "4ba915de-3a1e-4650-d253-2b43857f2d99"
   },
   "outputs": [],
   "source": [
    "class BERTClass(torch.nn.Module):\n",
    "    \n",
    "    def __init__(self):\n",
    "        super(BERTClass, self).__init__()\n",
    "        # self.l1 = transformers.BertModel.from_pretrained('bert-base-chinese')\n",
    "        self.l1 = transformers.BertModel.from_pretrained(model_name)\n",
    "        self.l2 = torch.nn.Dropout(0.3)\n",
    "        self.l3 = torch.nn.Linear(768, len(mlb.classes_))\n",
    "    \n",
    "    def forward(self, ids, mask, token_type_ids):\n",
    "        output_1 = self.l1(ids, attention_mask = mask, token_type_ids = token_type_ids)\n",
    "        output_2 = self.l2(output_1.pooler_output)\n",
    "        output = self.l3(output_2)\n",
    "        return output"
   ]
  },
  {
   "cell_type": "code",
   "execution_count": 38,
   "id": "polished-monthly",
   "metadata": {
    "colab": {},
    "colab_type": "code",
    "id": "7KnNeQx6SI78"
   },
   "outputs": [],
   "source": [
    "def loss_fn(outputs, targets):\n",
    "    return torch.nn.BCEWithLogitsLoss()(outputs, targets)"
   ]
  },
  {
   "cell_type": "code",
   "execution_count": 39,
   "id": "racial-dakota",
   "metadata": {
    "colab": {},
    "colab_type": "code",
    "id": "B9_DjWmfWx1q"
   },
   "outputs": [],
   "source": [
    "def train(model, optimizer, training_loader, epoch, device):\n",
    "    model.train()\n",
    "    \n",
    "    for _, data in enumerate(training_loader, 0): # enumerate(iterable, start=0)\n",
    "        \n",
    "        # _, by batch?\n",
    "        \n",
    "        # X\n",
    "        ids = data['ids'].to(device, dtype = torch.long)\n",
    "        mask = data['mask'].to(device, dtype = torch.long)\n",
    "        token_type_ids = data['token_type_ids'].to(device, dtype = torch.long)\n",
    "        \n",
    "        # y\n",
    "        targets = data['targets'].to(device, dtype = torch.float)\n",
    "\n",
    "        # train\n",
    "        outputs = model(ids, mask, token_type_ids)\n",
    "\n",
    "        # optimizer clean\n",
    "        optimizer.zero_grad()\n",
    "        \n",
    "        # loss\n",
    "        loss = loss_fn(outputs, targets)\n",
    "        if 0 == _ % 5000:\n",
    "            print(f'Epoch: {epoch}, Loss:  {loss.item()}')\n",
    "        \n",
    "        # TODO: why?\n",
    "        # optimizer.zero_grad()\n",
    "        \n",
    "        # optimize\n",
    "        loss.backward() # get new gradient, upon zero grad\n",
    "        optimizer.step()"
   ]
  },
  {
   "cell_type": "code",
   "execution_count": 40,
   "id": "solved-baking",
   "metadata": {},
   "outputs": [],
   "source": [
    "def hamming_score(y_true, y_pred, normalize=True, sample_weight=None):\n",
    "    acc_list = []\n",
    "    for i in range(y_true.shape[0]):\n",
    "        set_true = set( np.where(y_true[i])[0] )\n",
    "        set_pred = set( np.where(y_pred[i])[0] )\n",
    "        tmp_a = None\n",
    "        if len(set_true) == 0 and len(set_pred) == 0:\n",
    "            tmp_a = 1\n",
    "        else:\n",
    "            tmp_a = len(set_true.intersection(set_pred))/\\\n",
    "                    float( len(set_true.union(set_pred)) )\n",
    "        acc_list.append(tmp_a)\n",
    "    return np.mean(acc_list)"
   ]
  },
  {
   "cell_type": "code",
   "execution_count": 41,
   "id": "economic-petersburg",
   "metadata": {
    "colab": {},
    "colab_type": "code",
    "id": "nIEoUm4aQkyl"
   },
   "outputs": [],
   "source": [
    "def validation(model, epoch):\n",
    "    model.eval()\n",
    "    \n",
    "    fin_targets=[]\n",
    "    fin_outputs=[]\n",
    "    \n",
    "    with torch.no_grad():\n",
    "        for _, data in enumerate(testing_loader, 0):\n",
    "            \n",
    "            # X\n",
    "            ids = data['ids'].to(device, dtype = torch.long)\n",
    "            mask = data['mask'].to(device, dtype = torch.long)\n",
    "            token_type_ids = data['token_type_ids'].to(device, dtype = torch.long)\n",
    "            \n",
    "            # y\n",
    "            targets = data['targets'].to(device, dtype = torch.float)\n",
    "            \n",
    "            # pred\n",
    "            outputs = model(ids, mask, token_type_ids)\n",
    "            \n",
    "            # TODO:\n",
    "            fin_targets.extend(targets.cpu().detach().numpy().tolist())\n",
    "            fin_outputs.extend(torch.sigmoid(outputs).cpu().detach().numpy().tolist())\n",
    "            \n",
    "    return fin_outputs, fin_targets"
   ]
  },
  {
   "cell_type": "code",
   "execution_count": 42,
   "id": "radio-values",
   "metadata": {
    "colab": {},
    "colab_type": "code",
    "id": "vLpilV73QrXJ"
   },
   "outputs": [],
   "source": [
    "train_params = {'batch_size': TRAIN_BATCH_SIZE,\n",
    "                'shuffle': True,\n",
    "                'num_workers': 0\n",
    "                }\n",
    "\n",
    "test_params = {'batch_size': VALID_BATCH_SIZE,\n",
    "                'shuffle': True,\n",
    "                'num_workers': 0\n",
    "                }\n",
    "\n",
    "training_loader = DataLoader(training_set, **train_params)\n",
    "testing_loader = DataLoader(testing_set, **test_params)"
   ]
  },
  {
   "cell_type": "code",
   "execution_count": 43,
   "id": "floppy-incidence",
   "metadata": {
    "colab": {
     "base_uri": "https://localhost:8080/",
     "height": 1000,
     "referenced_widgets": [
      "29b605fec9d34649888ee7ec36b89595",
      "2bd7ade54b7841f2840e5187d9e3bc99",
      "fa0ae9bc665b47d89ebee73bf6ddaccf",
      "6cb5f40281524c1ba78f1260cadbfe66",
      "6ee0645e22b54ceebff09091598bce28",
      "448cd06bb18548a39d5fb88adad5cb20",
      "bfbb87e4c4ad44b285edd376b5659a3a",
      "c4e387689be7453d9c65b1b3bbd99d7d",
      "7d2a9c4d56524de7a3783cdf0760254d",
      "46c0394c31e44192a4ada6073cd915bc",
      "bd2b7813f0974e52b4a966ee2455909e",
      "183e12f5b9f64f02ae2e31bc390045f2",
      "e8bcca8b06834420a6863751c4ed53e3",
      "19acfedb0f974ad1aac62da45273d5fb",
      "68da6b73b1f14542a48401a7d4ca3e28",
      "ddec16ebb40a4ab9ba3172959596ecc2"
     ]
    },
    "colab_type": "code",
    "id": "DegHNyIEQxB2",
    "outputId": "9d8c15f8-aa49-4c4e-e1c9-e112eb0ed19b",
    "scrolled": true
   },
   "outputs": [],
   "source": [
    "model = BERTClass()\n",
    "model.to(device);"
   ]
  },
  {
   "cell_type": "code",
   "execution_count": 44,
   "id": "clinical-schedule",
   "metadata": {
    "colab": {},
    "colab_type": "code",
    "id": "gUD8j0c7WsA-"
   },
   "outputs": [],
   "source": [
    "optimizer = torch.optim.Adam(params =  model.parameters(), lr=LEARNING_RATE)"
   ]
  },
  {
   "cell_type": "code",
   "execution_count": 45,
   "id": "timely-fairy",
   "metadata": {
    "colab": {
     "base_uri": "https://localhost:8080/",
     "height": 87
    },
    "colab_type": "code",
    "id": "D4Yl7gXHYSRU",
    "outputId": "94be5496-6ab5-4744-b8db-c6370fbd9f88"
   },
   "outputs": [
    {
     "name": "stdout",
     "output_type": "stream",
     "text": [
      "Epoch: 0, Loss:  0.7324339747428894\n",
      "Epoch: 0, Loss:  0.10072188079357147\n",
      "Epoch: 1, Loss:  0.0728960707783699\n",
      "Epoch: 1, Loss:  0.0804666131734848\n",
      "Epoch: 2, Loss:  0.0238090418279171\n",
      "Epoch: 2, Loss:  0.016669299453496933\n",
      "Epoch: 3, Loss:  0.055355045944452286\n",
      "Epoch: 3, Loss:  0.022622251883149147\n",
      "Epoch: 4, Loss:  0.020894266664981842\n",
      "Epoch: 4, Loss:  0.00910936202853918\n",
      "Epoch: 5, Loss:  0.013909827917814255\n",
      "Epoch: 5, Loss:  0.0190872922539711\n",
      "Epoch: 6, Loss:  0.013641482219099998\n",
      "Epoch: 6, Loss:  0.013360929675400257\n",
      "Epoch: 7, Loss:  0.0034214952029287815\n",
      "Epoch: 7, Loss:  0.007820475846529007\n",
      "Epoch: 8, Loss:  0.006304231937974691\n",
      "Epoch: 8, Loss:  0.011300300247967243\n",
      "Epoch: 9, Loss:  0.0058611733838915825\n",
      "Epoch: 9, Loss:  0.03254132717847824\n",
      "Epoch: 10, Loss:  0.0009811695199459791\n",
      "Epoch: 10, Loss:  0.001174618722870946\n",
      "Epoch: 11, Loss:  0.0021096165291965008\n",
      "Epoch: 11, Loss:  0.0009032439556904137\n",
      "Epoch: 12, Loss:  0.001238300814293325\n",
      "Epoch: 12, Loss:  0.0005179581930860877\n",
      "Epoch: 13, Loss:  0.000958286109380424\n",
      "Epoch: 13, Loss:  0.0018027893966063857\n",
      "Epoch: 14, Loss:  0.002926132408902049\n",
      "Epoch: 14, Loss:  0.005919680465012789\n",
      "Epoch: 15, Loss:  0.0008485053549520671\n",
      "Epoch: 15, Loss:  0.0013788489159196615\n",
      "Epoch: 16, Loss:  0.0013910614652559161\n",
      "Epoch: 16, Loss:  0.014957946725189686\n",
      "Epoch: 17, Loss:  0.0007612990448251367\n",
      "Epoch: 17, Loss:  0.004561836831271648\n",
      "Epoch: 18, Loss:  0.020940158516168594\n",
      "Epoch: 18, Loss:  0.021745136007666588\n",
      "Epoch: 19, Loss:  0.008478510193526745\n",
      "Epoch: 19, Loss:  0.003277258714661002\n",
      "CPU times: user 7h 13min 38s, sys: 1h 22min 45s, total: 8h 36min 23s\n",
      "Wall time: 8h 36min 9s\n"
     ]
    }
   ],
   "source": [
    "%time for epoch in range(EPOCHS): train(model, optimizer, training_loader, epoch, device)"
   ]
  },
  {
   "cell_type": "code",
   "execution_count": 46,
   "id": "narrative-notebook",
   "metadata": {
    "colab": {
     "base_uri": "https://localhost:8080/",
     "height": 70
    },
    "colab_type": "code",
    "id": "Ov1_3R_pAcMo",
    "outputId": "96d0de09-1943-44b0-9f48-692f045e2863",
    "scrolled": false
   },
   "outputs": [
    {
     "name": "stdout",
     "output_type": "stream",
     "text": [
      "Accuracy Score = 0.6362738643844634\n",
      "F1 Score (Micro) = 0.8176365699465067\n",
      "F1 Score (Macro) = 0.6242869341240169\n",
      "Hamming Score = 0.7876820851228358\n",
      "Hamming Loss = 0.012917770258891254\n",
      "              precision    recall  f1-score   support\n",
      "\n",
      "       IP还原差       0.60      0.53      0.56        17\n",
      "       UI体验好       0.77      0.39      0.52        44\n",
      "       UI体验差       0.91      0.71      0.79        68\n",
      "       上手难度大       0.75      0.74      0.74       185\n",
      "        优化相关       0.73      0.85      0.78        66\n",
      "        体验不错       0.83      0.85      0.84       943\n",
      "        体验较差       0.71      0.74      0.72       419\n",
      "        值得花钱       0.69      0.68      0.68       291\n",
      "        剧情丰富       0.87      0.92      0.89       391\n",
      "        剧情单调       0.71      0.55      0.62        22\n",
      "       厂商不给力       0.80      0.82      0.81       351\n",
      "        厂商良心       0.83      0.84      0.83       190\n",
      "         太肝了       0.67      0.75      0.71       252\n",
      "        尊重原著       0.60      0.79      0.68        68\n",
      "        平衡性好       0.44      0.68      0.54        22\n",
      "        平衡性差       0.63      0.80      0.70       105\n",
      "        广告太多       0.86      0.81      0.83        84\n",
      "       广告影响小       0.50      0.25      0.33         4\n",
      "        抄袭嫌疑       0.82      0.78      0.80        65\n",
      "          护肝       0.00      0.00      0.00         9\n",
      "       抽卡概率低       0.71      0.64      0.67       151\n",
      "       抽卡概率高       0.63      0.54      0.58        50\n",
      "        操作简单       0.00      0.00      0.00         5\n",
      "        操作麻烦       1.00      0.50      0.67         4\n",
      "        新手友好       0.78      0.82      0.80       195\n",
      "         有创新       1.00      0.50      0.67         4\n",
      "        有趣好玩       0.83      0.85      0.84       952\n",
      "       玩家互动多       0.63      0.79      0.70        58\n",
      "       玩家互动少       0.33      0.45      0.38        11\n",
      "        玩法较差       0.55      0.62      0.58       136\n",
      "        画面优良       0.87      0.92      0.90       732\n",
      "        画面粗糙       0.20      0.08      0.12        12\n",
      "         福利好       0.78      0.81      0.79       113\n",
      "         福利差       0.50      0.29      0.36         7\n",
      "        自由度低       0.50      1.00      0.67         1\n",
      "        自由度高       0.92      0.96      0.94       134\n",
      "        过于氪金       0.86      0.91      0.89      1794\n",
      "        运营不足       0.83      0.90      0.86       849\n",
      "        运营给力       0.58      0.68      0.63       120\n",
      "       配置要求低       0.29      0.25      0.27         8\n",
      "       配置要求高       0.00      0.00      0.00         3\n",
      "        音效很棒       0.79      0.81      0.80       119\n",
      "        音效较差       0.33      0.33      0.33         3\n",
      "\n",
      "   micro avg       0.80      0.84      0.82      9057\n",
      "   macro avg       0.64      0.63      0.62      9057\n",
      "weighted avg       0.80      0.84      0.82      9057\n",
      " samples avg       0.84      0.87      0.84      9057\n",
      "\n"
     ]
    },
    {
     "name": "stderr",
     "output_type": "stream",
     "text": [
      "/home/wangyh/anaconda3/envs/tf2.4/lib/python3.7/site-packages/sklearn/metrics/_classification.py:1245: UndefinedMetricWarning: Precision and F-score are ill-defined and being set to 0.0 in samples with no predicted labels. Use `zero_division` parameter to control this behavior.\n",
      "  _warn_prf(average, modifier, msg_start, len(result))\n"
     ]
    },
    {
     "name": "stdout",
     "output_type": "stream",
     "text": [
      "Accuracy Score = 0.6362738643844634\n",
      "F1 Score (Micro) = 0.8176365699465067\n",
      "F1 Score (Macro) = 0.6242869341240169\n",
      "Hamming Score = 0.7876820851228358\n",
      "Hamming Loss = 0.012917770258891254\n",
      "              precision    recall  f1-score   support\n",
      "\n",
      "       IP还原差       0.60      0.53      0.56        17\n",
      "       UI体验好       0.77      0.39      0.52        44\n",
      "       UI体验差       0.91      0.71      0.79        68\n",
      "       上手难度大       0.75      0.74      0.74       185\n",
      "        优化相关       0.73      0.85      0.78        66\n",
      "        体验不错       0.83      0.85      0.84       943\n",
      "        体验较差       0.71      0.74      0.72       419\n",
      "        值得花钱       0.69      0.68      0.68       291\n",
      "        剧情丰富       0.87      0.92      0.89       391\n",
      "        剧情单调       0.71      0.55      0.62        22\n",
      "       厂商不给力       0.80      0.82      0.81       351\n",
      "        厂商良心       0.83      0.84      0.83       190\n",
      "         太肝了       0.67      0.75      0.71       252\n",
      "        尊重原著       0.60      0.79      0.68        68\n",
      "        平衡性好       0.44      0.68      0.54        22\n",
      "        平衡性差       0.63      0.80      0.70       105\n",
      "        广告太多       0.86      0.81      0.83        84\n",
      "       广告影响小       0.50      0.25      0.33         4\n",
      "        抄袭嫌疑       0.82      0.78      0.80        65\n",
      "          护肝       0.00      0.00      0.00         9\n",
      "       抽卡概率低       0.71      0.64      0.67       151\n",
      "       抽卡概率高       0.63      0.54      0.58        50\n",
      "        操作简单       0.00      0.00      0.00         5\n",
      "        操作麻烦       1.00      0.50      0.67         4\n",
      "        新手友好       0.78      0.82      0.80       195\n",
      "         有创新       1.00      0.50      0.67         4\n",
      "        有趣好玩       0.83      0.85      0.84       952\n",
      "       玩家互动多       0.63      0.79      0.70        58\n",
      "       玩家互动少       0.33      0.45      0.38        11\n",
      "        玩法较差       0.55      0.62      0.58       136\n",
      "        画面优良       0.87      0.92      0.90       732\n",
      "        画面粗糙       0.20      0.08      0.12        12\n",
      "         福利好       0.78      0.81      0.79       113\n",
      "         福利差       0.50      0.29      0.36         7\n",
      "        自由度低       0.50      1.00      0.67         1\n",
      "        自由度高       0.92      0.96      0.94       134\n",
      "        过于氪金       0.86      0.91      0.89      1794\n",
      "        运营不足       0.83      0.90      0.86       849\n",
      "        运营给力       0.58      0.68      0.63       120\n",
      "       配置要求低       0.29      0.25      0.27         8\n",
      "       配置要求高       0.00      0.00      0.00         3\n",
      "        音效很棒       0.79      0.81      0.80       119\n",
      "        音效较差       0.33      0.33      0.33         3\n",
      "\n",
      "   micro avg       0.80      0.84      0.82      9057\n",
      "   macro avg       0.64      0.63      0.62      9057\n",
      "weighted avg       0.80      0.84      0.82      9057\n",
      " samples avg       0.84      0.87      0.84      9057\n",
      "\n"
     ]
    },
    {
     "name": "stderr",
     "output_type": "stream",
     "text": [
      "/home/wangyh/anaconda3/envs/tf2.4/lib/python3.7/site-packages/sklearn/metrics/_classification.py:1245: UndefinedMetricWarning: Precision and F-score are ill-defined and being set to 0.0 in samples with no predicted labels. Use `zero_division` parameter to control this behavior.\n",
      "  _warn_prf(average, modifier, msg_start, len(result))\n"
     ]
    },
    {
     "name": "stdout",
     "output_type": "stream",
     "text": [
      "Accuracy Score = 0.6362738643844634\n",
      "F1 Score (Micro) = 0.8176365699465067\n",
      "F1 Score (Macro) = 0.6242869341240169\n",
      "Hamming Score = 0.7876820851228358\n",
      "Hamming Loss = 0.012917770258891254\n",
      "              precision    recall  f1-score   support\n",
      "\n",
      "       IP还原差       0.60      0.53      0.56        17\n",
      "       UI体验好       0.77      0.39      0.52        44\n",
      "       UI体验差       0.91      0.71      0.79        68\n",
      "       上手难度大       0.75      0.74      0.74       185\n",
      "        优化相关       0.73      0.85      0.78        66\n",
      "        体验不错       0.83      0.85      0.84       943\n",
      "        体验较差       0.71      0.74      0.72       419\n",
      "        值得花钱       0.69      0.68      0.68       291\n",
      "        剧情丰富       0.87      0.92      0.89       391\n",
      "        剧情单调       0.71      0.55      0.62        22\n",
      "       厂商不给力       0.80      0.82      0.81       351\n",
      "        厂商良心       0.83      0.84      0.83       190\n",
      "         太肝了       0.67      0.75      0.71       252\n",
      "        尊重原著       0.60      0.79      0.68        68\n",
      "        平衡性好       0.44      0.68      0.54        22\n",
      "        平衡性差       0.63      0.80      0.70       105\n",
      "        广告太多       0.86      0.81      0.83        84\n",
      "       广告影响小       0.50      0.25      0.33         4\n",
      "        抄袭嫌疑       0.82      0.78      0.80        65\n",
      "          护肝       0.00      0.00      0.00         9\n",
      "       抽卡概率低       0.71      0.64      0.67       151\n",
      "       抽卡概率高       0.63      0.54      0.58        50\n",
      "        操作简单       0.00      0.00      0.00         5\n",
      "        操作麻烦       1.00      0.50      0.67         4\n",
      "        新手友好       0.78      0.82      0.80       195\n",
      "         有创新       1.00      0.50      0.67         4\n",
      "        有趣好玩       0.83      0.85      0.84       952\n",
      "       玩家互动多       0.63      0.79      0.70        58\n",
      "       玩家互动少       0.33      0.45      0.38        11\n",
      "        玩法较差       0.55      0.62      0.58       136\n",
      "        画面优良       0.87      0.92      0.90       732\n",
      "        画面粗糙       0.20      0.08      0.12        12\n",
      "         福利好       0.78      0.81      0.79       113\n",
      "         福利差       0.50      0.29      0.36         7\n",
      "        自由度低       0.50      1.00      0.67         1\n",
      "        自由度高       0.92      0.96      0.94       134\n",
      "        过于氪金       0.86      0.91      0.89      1794\n",
      "        运营不足       0.83      0.90      0.86       849\n",
      "        运营给力       0.58      0.68      0.63       120\n",
      "       配置要求低       0.29      0.25      0.27         8\n",
      "       配置要求高       0.00      0.00      0.00         3\n",
      "        音效很棒       0.79      0.81      0.80       119\n",
      "        音效较差       0.33      0.33      0.33         3\n",
      "\n",
      "   micro avg       0.80      0.84      0.82      9057\n",
      "   macro avg       0.64      0.63      0.62      9057\n",
      "weighted avg       0.80      0.84      0.82      9057\n",
      " samples avg       0.84      0.87      0.84      9057\n",
      "\n"
     ]
    },
    {
     "name": "stderr",
     "output_type": "stream",
     "text": [
      "/home/wangyh/anaconda3/envs/tf2.4/lib/python3.7/site-packages/sklearn/metrics/_classification.py:1245: UndefinedMetricWarning: Precision and F-score are ill-defined and being set to 0.0 in samples with no predicted labels. Use `zero_division` parameter to control this behavior.\n",
      "  _warn_prf(average, modifier, msg_start, len(result))\n"
     ]
    },
    {
     "name": "stdout",
     "output_type": "stream",
     "text": [
      "Accuracy Score = 0.6362738643844634\n",
      "F1 Score (Micro) = 0.8176365699465067\n",
      "F1 Score (Macro) = 0.6242869341240169\n",
      "Hamming Score = 0.7876820851228356\n",
      "Hamming Loss = 0.012917770258891254\n",
      "              precision    recall  f1-score   support\n",
      "\n",
      "       IP还原差       0.60      0.53      0.56        17\n",
      "       UI体验好       0.77      0.39      0.52        44\n",
      "       UI体验差       0.91      0.71      0.79        68\n",
      "       上手难度大       0.75      0.74      0.74       185\n",
      "        优化相关       0.73      0.85      0.78        66\n",
      "        体验不错       0.83      0.85      0.84       943\n",
      "        体验较差       0.71      0.74      0.72       419\n",
      "        值得花钱       0.69      0.68      0.68       291\n",
      "        剧情丰富       0.87      0.92      0.89       391\n",
      "        剧情单调       0.71      0.55      0.62        22\n",
      "       厂商不给力       0.80      0.82      0.81       351\n",
      "        厂商良心       0.83      0.84      0.83       190\n",
      "         太肝了       0.67      0.75      0.71       252\n",
      "        尊重原著       0.60      0.79      0.68        68\n",
      "        平衡性好       0.44      0.68      0.54        22\n",
      "        平衡性差       0.63      0.80      0.70       105\n",
      "        广告太多       0.86      0.81      0.83        84\n",
      "       广告影响小       0.50      0.25      0.33         4\n",
      "        抄袭嫌疑       0.82      0.78      0.80        65\n",
      "          护肝       0.00      0.00      0.00         9\n",
      "       抽卡概率低       0.71      0.64      0.67       151\n",
      "       抽卡概率高       0.63      0.54      0.58        50\n",
      "        操作简单       0.00      0.00      0.00         5\n",
      "        操作麻烦       1.00      0.50      0.67         4\n",
      "        新手友好       0.78      0.82      0.80       195\n",
      "         有创新       1.00      0.50      0.67         4\n",
      "        有趣好玩       0.83      0.85      0.84       952\n",
      "       玩家互动多       0.63      0.79      0.70        58\n",
      "       玩家互动少       0.33      0.45      0.38        11\n",
      "        玩法较差       0.55      0.62      0.58       136\n",
      "        画面优良       0.87      0.92      0.90       732\n",
      "        画面粗糙       0.20      0.08      0.12        12\n",
      "         福利好       0.78      0.81      0.79       113\n",
      "         福利差       0.50      0.29      0.36         7\n",
      "        自由度低       0.50      1.00      0.67         1\n",
      "        自由度高       0.92      0.96      0.94       134\n",
      "        过于氪金       0.86      0.91      0.89      1794\n",
      "        运营不足       0.83      0.90      0.86       849\n",
      "        运营给力       0.58      0.68      0.63       120\n",
      "       配置要求低       0.29      0.25      0.27         8\n",
      "       配置要求高       0.00      0.00      0.00         3\n",
      "        音效很棒       0.79      0.81      0.80       119\n",
      "        音效较差       0.33      0.33      0.33         3\n",
      "\n",
      "   micro avg       0.80      0.84      0.82      9057\n",
      "   macro avg       0.64      0.63      0.62      9057\n",
      "weighted avg       0.80      0.84      0.82      9057\n",
      " samples avg       0.84      0.87      0.84      9057\n",
      "\n"
     ]
    },
    {
     "name": "stderr",
     "output_type": "stream",
     "text": [
      "/home/wangyh/anaconda3/envs/tf2.4/lib/python3.7/site-packages/sklearn/metrics/_classification.py:1245: UndefinedMetricWarning: Precision and F-score are ill-defined and being set to 0.0 in samples with no predicted labels. Use `zero_division` parameter to control this behavior.\n",
      "  _warn_prf(average, modifier, msg_start, len(result))\n"
     ]
    },
    {
     "name": "stdout",
     "output_type": "stream",
     "text": [
      "Accuracy Score = 0.6362738643844634\n",
      "F1 Score (Micro) = 0.8176365699465067\n",
      "F1 Score (Macro) = 0.6242869341240169\n",
      "Hamming Score = 0.7876820851228356\n",
      "Hamming Loss = 0.012917770258891254\n",
      "              precision    recall  f1-score   support\n",
      "\n",
      "       IP还原差       0.60      0.53      0.56        17\n",
      "       UI体验好       0.77      0.39      0.52        44\n",
      "       UI体验差       0.91      0.71      0.79        68\n",
      "       上手难度大       0.75      0.74      0.74       185\n",
      "        优化相关       0.73      0.85      0.78        66\n",
      "        体验不错       0.83      0.85      0.84       943\n",
      "        体验较差       0.71      0.74      0.72       419\n",
      "        值得花钱       0.69      0.68      0.68       291\n",
      "        剧情丰富       0.87      0.92      0.89       391\n",
      "        剧情单调       0.71      0.55      0.62        22\n",
      "       厂商不给力       0.80      0.82      0.81       351\n",
      "        厂商良心       0.83      0.84      0.83       190\n",
      "         太肝了       0.67      0.75      0.71       252\n",
      "        尊重原著       0.60      0.79      0.68        68\n",
      "        平衡性好       0.44      0.68      0.54        22\n",
      "        平衡性差       0.63      0.80      0.70       105\n",
      "        广告太多       0.86      0.81      0.83        84\n",
      "       广告影响小       0.50      0.25      0.33         4\n",
      "        抄袭嫌疑       0.82      0.78      0.80        65\n",
      "          护肝       0.00      0.00      0.00         9\n",
      "       抽卡概率低       0.71      0.64      0.67       151\n",
      "       抽卡概率高       0.63      0.54      0.58        50\n",
      "        操作简单       0.00      0.00      0.00         5\n",
      "        操作麻烦       1.00      0.50      0.67         4\n",
      "        新手友好       0.78      0.82      0.80       195\n",
      "         有创新       1.00      0.50      0.67         4\n",
      "        有趣好玩       0.83      0.85      0.84       952\n",
      "       玩家互动多       0.63      0.79      0.70        58\n",
      "       玩家互动少       0.33      0.45      0.38        11\n",
      "        玩法较差       0.55      0.62      0.58       136\n",
      "        画面优良       0.87      0.92      0.90       732\n",
      "        画面粗糙       0.20      0.08      0.12        12\n",
      "         福利好       0.78      0.81      0.79       113\n",
      "         福利差       0.50      0.29      0.36         7\n",
      "        自由度低       0.50      1.00      0.67         1\n",
      "        自由度高       0.92      0.96      0.94       134\n",
      "        过于氪金       0.86      0.91      0.89      1794\n",
      "        运营不足       0.83      0.90      0.86       849\n",
      "        运营给力       0.58      0.68      0.63       120\n",
      "       配置要求低       0.29      0.25      0.27         8\n",
      "       配置要求高       0.00      0.00      0.00         3\n",
      "        音效很棒       0.79      0.81      0.80       119\n",
      "        音效较差       0.33      0.33      0.33         3\n",
      "\n",
      "   micro avg       0.80      0.84      0.82      9057\n",
      "   macro avg       0.64      0.63      0.62      9057\n",
      "weighted avg       0.80      0.84      0.82      9057\n",
      " samples avg       0.84      0.87      0.84      9057\n",
      "\n"
     ]
    },
    {
     "name": "stderr",
     "output_type": "stream",
     "text": [
      "/home/wangyh/anaconda3/envs/tf2.4/lib/python3.7/site-packages/sklearn/metrics/_classification.py:1245: UndefinedMetricWarning: Precision and F-score are ill-defined and being set to 0.0 in samples with no predicted labels. Use `zero_division` parameter to control this behavior.\n",
      "  _warn_prf(average, modifier, msg_start, len(result))\n"
     ]
    },
    {
     "name": "stdout",
     "output_type": "stream",
     "text": [
      "Accuracy Score = 0.6362738643844634\n",
      "F1 Score (Micro) = 0.8176365699465067\n",
      "F1 Score (Macro) = 0.6242869341240169\n",
      "Hamming Score = 0.7876820851228358\n",
      "Hamming Loss = 0.012917770258891254\n",
      "              precision    recall  f1-score   support\n",
      "\n",
      "       IP还原差       0.60      0.53      0.56        17\n",
      "       UI体验好       0.77      0.39      0.52        44\n",
      "       UI体验差       0.91      0.71      0.79        68\n",
      "       上手难度大       0.75      0.74      0.74       185\n",
      "        优化相关       0.73      0.85      0.78        66\n",
      "        体验不错       0.83      0.85      0.84       943\n",
      "        体验较差       0.71      0.74      0.72       419\n",
      "        值得花钱       0.69      0.68      0.68       291\n",
      "        剧情丰富       0.87      0.92      0.89       391\n",
      "        剧情单调       0.71      0.55      0.62        22\n",
      "       厂商不给力       0.80      0.82      0.81       351\n",
      "        厂商良心       0.83      0.84      0.83       190\n",
      "         太肝了       0.67      0.75      0.71       252\n",
      "        尊重原著       0.60      0.79      0.68        68\n",
      "        平衡性好       0.44      0.68      0.54        22\n",
      "        平衡性差       0.63      0.80      0.70       105\n",
      "        广告太多       0.86      0.81      0.83        84\n",
      "       广告影响小       0.50      0.25      0.33         4\n",
      "        抄袭嫌疑       0.82      0.78      0.80        65\n",
      "          护肝       0.00      0.00      0.00         9\n",
      "       抽卡概率低       0.71      0.64      0.67       151\n",
      "       抽卡概率高       0.63      0.54      0.58        50\n",
      "        操作简单       0.00      0.00      0.00         5\n",
      "        操作麻烦       1.00      0.50      0.67         4\n",
      "        新手友好       0.78      0.82      0.80       195\n",
      "         有创新       1.00      0.50      0.67         4\n",
      "        有趣好玩       0.83      0.85      0.84       952\n",
      "       玩家互动多       0.63      0.79      0.70        58\n",
      "       玩家互动少       0.33      0.45      0.38        11\n",
      "        玩法较差       0.55      0.62      0.58       136\n",
      "        画面优良       0.87      0.92      0.90       732\n",
      "        画面粗糙       0.20      0.08      0.12        12\n",
      "         福利好       0.78      0.81      0.79       113\n",
      "         福利差       0.50      0.29      0.36         7\n",
      "        自由度低       0.50      1.00      0.67         1\n",
      "        自由度高       0.92      0.96      0.94       134\n",
      "        过于氪金       0.86      0.91      0.89      1794\n",
      "        运营不足       0.83      0.90      0.86       849\n",
      "        运营给力       0.58      0.68      0.63       120\n",
      "       配置要求低       0.29      0.25      0.27         8\n",
      "       配置要求高       0.00      0.00      0.00         3\n",
      "        音效很棒       0.79      0.81      0.80       119\n",
      "        音效较差       0.33      0.33      0.33         3\n",
      "\n",
      "   micro avg       0.80      0.84      0.82      9057\n",
      "   macro avg       0.64      0.63      0.62      9057\n",
      "weighted avg       0.80      0.84      0.82      9057\n",
      " samples avg       0.84      0.87      0.84      9057\n",
      "\n"
     ]
    },
    {
     "name": "stderr",
     "output_type": "stream",
     "text": [
      "/home/wangyh/anaconda3/envs/tf2.4/lib/python3.7/site-packages/sklearn/metrics/_classification.py:1245: UndefinedMetricWarning: Precision and F-score are ill-defined and being set to 0.0 in samples with no predicted labels. Use `zero_division` parameter to control this behavior.\n",
      "  _warn_prf(average, modifier, msg_start, len(result))\n"
     ]
    },
    {
     "name": "stdout",
     "output_type": "stream",
     "text": [
      "Accuracy Score = 0.6362738643844634\n",
      "F1 Score (Micro) = 0.8176365699465067\n",
      "F1 Score (Macro) = 0.6242869341240169\n",
      "Hamming Score = 0.7876820851228358\n",
      "Hamming Loss = 0.012917770258891254\n",
      "              precision    recall  f1-score   support\n",
      "\n",
      "       IP还原差       0.60      0.53      0.56        17\n",
      "       UI体验好       0.77      0.39      0.52        44\n",
      "       UI体验差       0.91      0.71      0.79        68\n",
      "       上手难度大       0.75      0.74      0.74       185\n",
      "        优化相关       0.73      0.85      0.78        66\n",
      "        体验不错       0.83      0.85      0.84       943\n",
      "        体验较差       0.71      0.74      0.72       419\n",
      "        值得花钱       0.69      0.68      0.68       291\n",
      "        剧情丰富       0.87      0.92      0.89       391\n",
      "        剧情单调       0.71      0.55      0.62        22\n",
      "       厂商不给力       0.80      0.82      0.81       351\n",
      "        厂商良心       0.83      0.84      0.83       190\n",
      "         太肝了       0.67      0.75      0.71       252\n",
      "        尊重原著       0.60      0.79      0.68        68\n",
      "        平衡性好       0.44      0.68      0.54        22\n",
      "        平衡性差       0.63      0.80      0.70       105\n",
      "        广告太多       0.86      0.81      0.83        84\n",
      "       广告影响小       0.50      0.25      0.33         4\n",
      "        抄袭嫌疑       0.82      0.78      0.80        65\n",
      "          护肝       0.00      0.00      0.00         9\n",
      "       抽卡概率低       0.71      0.64      0.67       151\n",
      "       抽卡概率高       0.63      0.54      0.58        50\n",
      "        操作简单       0.00      0.00      0.00         5\n",
      "        操作麻烦       1.00      0.50      0.67         4\n",
      "        新手友好       0.78      0.82      0.80       195\n",
      "         有创新       1.00      0.50      0.67         4\n",
      "        有趣好玩       0.83      0.85      0.84       952\n",
      "       玩家互动多       0.63      0.79      0.70        58\n",
      "       玩家互动少       0.33      0.45      0.38        11\n",
      "        玩法较差       0.55      0.62      0.58       136\n",
      "        画面优良       0.87      0.92      0.90       732\n",
      "        画面粗糙       0.20      0.08      0.12        12\n",
      "         福利好       0.78      0.81      0.79       113\n",
      "         福利差       0.50      0.29      0.36         7\n",
      "        自由度低       0.50      1.00      0.67         1\n",
      "        自由度高       0.92      0.96      0.94       134\n",
      "        过于氪金       0.86      0.91      0.89      1794\n",
      "        运营不足       0.83      0.90      0.86       849\n",
      "        运营给力       0.58      0.68      0.63       120\n",
      "       配置要求低       0.29      0.25      0.27         8\n",
      "       配置要求高       0.00      0.00      0.00         3\n",
      "        音效很棒       0.79      0.81      0.80       119\n",
      "        音效较差       0.33      0.33      0.33         3\n",
      "\n",
      "   micro avg       0.80      0.84      0.82      9057\n",
      "   macro avg       0.64      0.63      0.62      9057\n",
      "weighted avg       0.80      0.84      0.82      9057\n",
      " samples avg       0.84      0.87      0.84      9057\n",
      "\n"
     ]
    },
    {
     "name": "stderr",
     "output_type": "stream",
     "text": [
      "/home/wangyh/anaconda3/envs/tf2.4/lib/python3.7/site-packages/sklearn/metrics/_classification.py:1245: UndefinedMetricWarning: Precision and F-score are ill-defined and being set to 0.0 in samples with no predicted labels. Use `zero_division` parameter to control this behavior.\n",
      "  _warn_prf(average, modifier, msg_start, len(result))\n"
     ]
    },
    {
     "name": "stdout",
     "output_type": "stream",
     "text": [
      "Accuracy Score = 0.6362738643844634\n",
      "F1 Score (Micro) = 0.8176365699465067\n",
      "F1 Score (Macro) = 0.6242869341240169\n",
      "Hamming Score = 0.7876820851228358\n",
      "Hamming Loss = 0.012917770258891254\n",
      "              precision    recall  f1-score   support\n",
      "\n",
      "       IP还原差       0.60      0.53      0.56        17\n",
      "       UI体验好       0.77      0.39      0.52        44\n",
      "       UI体验差       0.91      0.71      0.79        68\n",
      "       上手难度大       0.75      0.74      0.74       185\n",
      "        优化相关       0.73      0.85      0.78        66\n",
      "        体验不错       0.83      0.85      0.84       943\n",
      "        体验较差       0.71      0.74      0.72       419\n",
      "        值得花钱       0.69      0.68      0.68       291\n",
      "        剧情丰富       0.87      0.92      0.89       391\n",
      "        剧情单调       0.71      0.55      0.62        22\n",
      "       厂商不给力       0.80      0.82      0.81       351\n",
      "        厂商良心       0.83      0.84      0.83       190\n",
      "         太肝了       0.67      0.75      0.71       252\n",
      "        尊重原著       0.60      0.79      0.68        68\n",
      "        平衡性好       0.44      0.68      0.54        22\n",
      "        平衡性差       0.63      0.80      0.70       105\n",
      "        广告太多       0.86      0.81      0.83        84\n",
      "       广告影响小       0.50      0.25      0.33         4\n",
      "        抄袭嫌疑       0.82      0.78      0.80        65\n",
      "          护肝       0.00      0.00      0.00         9\n",
      "       抽卡概率低       0.71      0.64      0.67       151\n",
      "       抽卡概率高       0.63      0.54      0.58        50\n",
      "        操作简单       0.00      0.00      0.00         5\n",
      "        操作麻烦       1.00      0.50      0.67         4\n",
      "        新手友好       0.78      0.82      0.80       195\n",
      "         有创新       1.00      0.50      0.67         4\n",
      "        有趣好玩       0.83      0.85      0.84       952\n",
      "       玩家互动多       0.63      0.79      0.70        58\n",
      "       玩家互动少       0.33      0.45      0.38        11\n",
      "        玩法较差       0.55      0.62      0.58       136\n",
      "        画面优良       0.87      0.92      0.90       732\n",
      "        画面粗糙       0.20      0.08      0.12        12\n",
      "         福利好       0.78      0.81      0.79       113\n",
      "         福利差       0.50      0.29      0.36         7\n",
      "        自由度低       0.50      1.00      0.67         1\n",
      "        自由度高       0.92      0.96      0.94       134\n",
      "        过于氪金       0.86      0.91      0.89      1794\n",
      "        运营不足       0.83      0.90      0.86       849\n",
      "        运营给力       0.58      0.68      0.63       120\n",
      "       配置要求低       0.29      0.25      0.27         8\n",
      "       配置要求高       0.00      0.00      0.00         3\n",
      "        音效很棒       0.79      0.81      0.80       119\n",
      "        音效较差       0.33      0.33      0.33         3\n",
      "\n",
      "   micro avg       0.80      0.84      0.82      9057\n",
      "   macro avg       0.64      0.63      0.62      9057\n",
      "weighted avg       0.80      0.84      0.82      9057\n",
      " samples avg       0.84      0.87      0.84      9057\n",
      "\n"
     ]
    },
    {
     "name": "stderr",
     "output_type": "stream",
     "text": [
      "/home/wangyh/anaconda3/envs/tf2.4/lib/python3.7/site-packages/sklearn/metrics/_classification.py:1245: UndefinedMetricWarning: Precision and F-score are ill-defined and being set to 0.0 in samples with no predicted labels. Use `zero_division` parameter to control this behavior.\n",
      "  _warn_prf(average, modifier, msg_start, len(result))\n"
     ]
    },
    {
     "name": "stdout",
     "output_type": "stream",
     "text": [
      "Accuracy Score = 0.6362738643844634\n",
      "F1 Score (Micro) = 0.8176365699465067\n",
      "F1 Score (Macro) = 0.6242869341240169\n",
      "Hamming Score = 0.7876820851228358\n",
      "Hamming Loss = 0.012917770258891254\n",
      "              precision    recall  f1-score   support\n",
      "\n",
      "       IP还原差       0.60      0.53      0.56        17\n",
      "       UI体验好       0.77      0.39      0.52        44\n",
      "       UI体验差       0.91      0.71      0.79        68\n",
      "       上手难度大       0.75      0.74      0.74       185\n",
      "        优化相关       0.73      0.85      0.78        66\n",
      "        体验不错       0.83      0.85      0.84       943\n",
      "        体验较差       0.71      0.74      0.72       419\n",
      "        值得花钱       0.69      0.68      0.68       291\n",
      "        剧情丰富       0.87      0.92      0.89       391\n",
      "        剧情单调       0.71      0.55      0.62        22\n",
      "       厂商不给力       0.80      0.82      0.81       351\n",
      "        厂商良心       0.83      0.84      0.83       190\n",
      "         太肝了       0.67      0.75      0.71       252\n",
      "        尊重原著       0.60      0.79      0.68        68\n",
      "        平衡性好       0.44      0.68      0.54        22\n",
      "        平衡性差       0.63      0.80      0.70       105\n",
      "        广告太多       0.86      0.81      0.83        84\n",
      "       广告影响小       0.50      0.25      0.33         4\n",
      "        抄袭嫌疑       0.82      0.78      0.80        65\n",
      "          护肝       0.00      0.00      0.00         9\n",
      "       抽卡概率低       0.71      0.64      0.67       151\n",
      "       抽卡概率高       0.63      0.54      0.58        50\n",
      "        操作简单       0.00      0.00      0.00         5\n",
      "        操作麻烦       1.00      0.50      0.67         4\n",
      "        新手友好       0.78      0.82      0.80       195\n",
      "         有创新       1.00      0.50      0.67         4\n",
      "        有趣好玩       0.83      0.85      0.84       952\n",
      "       玩家互动多       0.63      0.79      0.70        58\n",
      "       玩家互动少       0.33      0.45      0.38        11\n",
      "        玩法较差       0.55      0.62      0.58       136\n",
      "        画面优良       0.87      0.92      0.90       732\n",
      "        画面粗糙       0.20      0.08      0.12        12\n",
      "         福利好       0.78      0.81      0.79       113\n",
      "         福利差       0.50      0.29      0.36         7\n",
      "        自由度低       0.50      1.00      0.67         1\n",
      "        自由度高       0.92      0.96      0.94       134\n",
      "        过于氪金       0.86      0.91      0.89      1794\n",
      "        运营不足       0.83      0.90      0.86       849\n",
      "        运营给力       0.58      0.68      0.63       120\n",
      "       配置要求低       0.29      0.25      0.27         8\n",
      "       配置要求高       0.00      0.00      0.00         3\n",
      "        音效很棒       0.79      0.81      0.80       119\n",
      "        音效较差       0.33      0.33      0.33         3\n",
      "\n",
      "   micro avg       0.80      0.84      0.82      9057\n",
      "   macro avg       0.64      0.63      0.62      9057\n",
      "weighted avg       0.80      0.84      0.82      9057\n",
      " samples avg       0.84      0.87      0.84      9057\n",
      "\n"
     ]
    },
    {
     "name": "stderr",
     "output_type": "stream",
     "text": [
      "/home/wangyh/anaconda3/envs/tf2.4/lib/python3.7/site-packages/sklearn/metrics/_classification.py:1245: UndefinedMetricWarning: Precision and F-score are ill-defined and being set to 0.0 in samples with no predicted labels. Use `zero_division` parameter to control this behavior.\n",
      "  _warn_prf(average, modifier, msg_start, len(result))\n"
     ]
    },
    {
     "name": "stdout",
     "output_type": "stream",
     "text": [
      "Accuracy Score = 0.6362738643844634\n",
      "F1 Score (Micro) = 0.8176365699465067\n",
      "F1 Score (Macro) = 0.6242869341240169\n",
      "Hamming Score = 0.7876820851228356\n",
      "Hamming Loss = 0.012917770258891254\n",
      "              precision    recall  f1-score   support\n",
      "\n",
      "       IP还原差       0.60      0.53      0.56        17\n",
      "       UI体验好       0.77      0.39      0.52        44\n",
      "       UI体验差       0.91      0.71      0.79        68\n",
      "       上手难度大       0.75      0.74      0.74       185\n",
      "        优化相关       0.73      0.85      0.78        66\n",
      "        体验不错       0.83      0.85      0.84       943\n",
      "        体验较差       0.71      0.74      0.72       419\n",
      "        值得花钱       0.69      0.68      0.68       291\n",
      "        剧情丰富       0.87      0.92      0.89       391\n",
      "        剧情单调       0.71      0.55      0.62        22\n",
      "       厂商不给力       0.80      0.82      0.81       351\n",
      "        厂商良心       0.83      0.84      0.83       190\n",
      "         太肝了       0.67      0.75      0.71       252\n",
      "        尊重原著       0.60      0.79      0.68        68\n",
      "        平衡性好       0.44      0.68      0.54        22\n",
      "        平衡性差       0.63      0.80      0.70       105\n",
      "        广告太多       0.86      0.81      0.83        84\n",
      "       广告影响小       0.50      0.25      0.33         4\n",
      "        抄袭嫌疑       0.82      0.78      0.80        65\n",
      "          护肝       0.00      0.00      0.00         9\n",
      "       抽卡概率低       0.71      0.64      0.67       151\n",
      "       抽卡概率高       0.63      0.54      0.58        50\n",
      "        操作简单       0.00      0.00      0.00         5\n",
      "        操作麻烦       1.00      0.50      0.67         4\n",
      "        新手友好       0.78      0.82      0.80       195\n",
      "         有创新       1.00      0.50      0.67         4\n",
      "        有趣好玩       0.83      0.85      0.84       952\n",
      "       玩家互动多       0.63      0.79      0.70        58\n",
      "       玩家互动少       0.33      0.45      0.38        11\n",
      "        玩法较差       0.55      0.62      0.58       136\n",
      "        画面优良       0.87      0.92      0.90       732\n",
      "        画面粗糙       0.20      0.08      0.12        12\n",
      "         福利好       0.78      0.81      0.79       113\n",
      "         福利差       0.50      0.29      0.36         7\n",
      "        自由度低       0.50      1.00      0.67         1\n",
      "        自由度高       0.92      0.96      0.94       134\n",
      "        过于氪金       0.86      0.91      0.89      1794\n",
      "        运营不足       0.83      0.90      0.86       849\n",
      "        运营给力       0.58      0.68      0.63       120\n",
      "       配置要求低       0.29      0.25      0.27         8\n",
      "       配置要求高       0.00      0.00      0.00         3\n",
      "        音效很棒       0.79      0.81      0.80       119\n",
      "        音效较差       0.33      0.33      0.33         3\n",
      "\n",
      "   micro avg       0.80      0.84      0.82      9057\n",
      "   macro avg       0.64      0.63      0.62      9057\n",
      "weighted avg       0.80      0.84      0.82      9057\n",
      " samples avg       0.84      0.87      0.84      9057\n",
      "\n"
     ]
    },
    {
     "name": "stderr",
     "output_type": "stream",
     "text": [
      "/home/wangyh/anaconda3/envs/tf2.4/lib/python3.7/site-packages/sklearn/metrics/_classification.py:1245: UndefinedMetricWarning: Precision and F-score are ill-defined and being set to 0.0 in samples with no predicted labels. Use `zero_division` parameter to control this behavior.\n",
      "  _warn_prf(average, modifier, msg_start, len(result))\n"
     ]
    },
    {
     "name": "stdout",
     "output_type": "stream",
     "text": [
      "Accuracy Score = 0.6362738643844634\n",
      "F1 Score (Micro) = 0.8176365699465067\n",
      "F1 Score (Macro) = 0.6242869341240169\n",
      "Hamming Score = 0.7876820851228356\n",
      "Hamming Loss = 0.012917770258891254\n",
      "              precision    recall  f1-score   support\n",
      "\n",
      "       IP还原差       0.60      0.53      0.56        17\n",
      "       UI体验好       0.77      0.39      0.52        44\n",
      "       UI体验差       0.91      0.71      0.79        68\n",
      "       上手难度大       0.75      0.74      0.74       185\n",
      "        优化相关       0.73      0.85      0.78        66\n",
      "        体验不错       0.83      0.85      0.84       943\n",
      "        体验较差       0.71      0.74      0.72       419\n",
      "        值得花钱       0.69      0.68      0.68       291\n",
      "        剧情丰富       0.87      0.92      0.89       391\n",
      "        剧情单调       0.71      0.55      0.62        22\n",
      "       厂商不给力       0.80      0.82      0.81       351\n",
      "        厂商良心       0.83      0.84      0.83       190\n",
      "         太肝了       0.67      0.75      0.71       252\n",
      "        尊重原著       0.60      0.79      0.68        68\n",
      "        平衡性好       0.44      0.68      0.54        22\n",
      "        平衡性差       0.63      0.80      0.70       105\n",
      "        广告太多       0.86      0.81      0.83        84\n",
      "       广告影响小       0.50      0.25      0.33         4\n",
      "        抄袭嫌疑       0.82      0.78      0.80        65\n",
      "          护肝       0.00      0.00      0.00         9\n",
      "       抽卡概率低       0.71      0.64      0.67       151\n",
      "       抽卡概率高       0.63      0.54      0.58        50\n",
      "        操作简单       0.00      0.00      0.00         5\n",
      "        操作麻烦       1.00      0.50      0.67         4\n",
      "        新手友好       0.78      0.82      0.80       195\n",
      "         有创新       1.00      0.50      0.67         4\n",
      "        有趣好玩       0.83      0.85      0.84       952\n",
      "       玩家互动多       0.63      0.79      0.70        58\n",
      "       玩家互动少       0.33      0.45      0.38        11\n",
      "        玩法较差       0.55      0.62      0.58       136\n",
      "        画面优良       0.87      0.92      0.90       732\n",
      "        画面粗糙       0.20      0.08      0.12        12\n",
      "         福利好       0.78      0.81      0.79       113\n",
      "         福利差       0.50      0.29      0.36         7\n",
      "        自由度低       0.50      1.00      0.67         1\n",
      "        自由度高       0.92      0.96      0.94       134\n",
      "        过于氪金       0.86      0.91      0.89      1794\n",
      "        运营不足       0.83      0.90      0.86       849\n",
      "        运营给力       0.58      0.68      0.63       120\n",
      "       配置要求低       0.29      0.25      0.27         8\n",
      "       配置要求高       0.00      0.00      0.00         3\n",
      "        音效很棒       0.79      0.81      0.80       119\n",
      "        音效较差       0.33      0.33      0.33         3\n",
      "\n",
      "   micro avg       0.80      0.84      0.82      9057\n",
      "   macro avg       0.64      0.63      0.62      9057\n",
      "weighted avg       0.80      0.84      0.82      9057\n",
      " samples avg       0.84      0.87      0.84      9057\n",
      "\n"
     ]
    },
    {
     "name": "stderr",
     "output_type": "stream",
     "text": [
      "/home/wangyh/anaconda3/envs/tf2.4/lib/python3.7/site-packages/sklearn/metrics/_classification.py:1245: UndefinedMetricWarning: Precision and F-score are ill-defined and being set to 0.0 in samples with no predicted labels. Use `zero_division` parameter to control this behavior.\n",
      "  _warn_prf(average, modifier, msg_start, len(result))\n"
     ]
    },
    {
     "name": "stdout",
     "output_type": "stream",
     "text": [
      "Accuracy Score = 0.6362738643844634\n",
      "F1 Score (Micro) = 0.8176365699465067\n",
      "F1 Score (Macro) = 0.6242869341240169\n",
      "Hamming Score = 0.7876820851228358\n",
      "Hamming Loss = 0.012917770258891254\n",
      "              precision    recall  f1-score   support\n",
      "\n",
      "       IP还原差       0.60      0.53      0.56        17\n",
      "       UI体验好       0.77      0.39      0.52        44\n",
      "       UI体验差       0.91      0.71      0.79        68\n",
      "       上手难度大       0.75      0.74      0.74       185\n",
      "        优化相关       0.73      0.85      0.78        66\n",
      "        体验不错       0.83      0.85      0.84       943\n",
      "        体验较差       0.71      0.74      0.72       419\n",
      "        值得花钱       0.69      0.68      0.68       291\n",
      "        剧情丰富       0.87      0.92      0.89       391\n",
      "        剧情单调       0.71      0.55      0.62        22\n",
      "       厂商不给力       0.80      0.82      0.81       351\n",
      "        厂商良心       0.83      0.84      0.83       190\n",
      "         太肝了       0.67      0.75      0.71       252\n",
      "        尊重原著       0.60      0.79      0.68        68\n",
      "        平衡性好       0.44      0.68      0.54        22\n",
      "        平衡性差       0.63      0.80      0.70       105\n",
      "        广告太多       0.86      0.81      0.83        84\n",
      "       广告影响小       0.50      0.25      0.33         4\n",
      "        抄袭嫌疑       0.82      0.78      0.80        65\n",
      "          护肝       0.00      0.00      0.00         9\n",
      "       抽卡概率低       0.71      0.64      0.67       151\n",
      "       抽卡概率高       0.63      0.54      0.58        50\n",
      "        操作简单       0.00      0.00      0.00         5\n",
      "        操作麻烦       1.00      0.50      0.67         4\n",
      "        新手友好       0.78      0.82      0.80       195\n",
      "         有创新       1.00      0.50      0.67         4\n",
      "        有趣好玩       0.83      0.85      0.84       952\n",
      "       玩家互动多       0.63      0.79      0.70        58\n",
      "       玩家互动少       0.33      0.45      0.38        11\n",
      "        玩法较差       0.55      0.62      0.58       136\n",
      "        画面优良       0.87      0.92      0.90       732\n",
      "        画面粗糙       0.20      0.08      0.12        12\n",
      "         福利好       0.78      0.81      0.79       113\n",
      "         福利差       0.50      0.29      0.36         7\n",
      "        自由度低       0.50      1.00      0.67         1\n",
      "        自由度高       0.92      0.96      0.94       134\n",
      "        过于氪金       0.86      0.91      0.89      1794\n",
      "        运营不足       0.83      0.90      0.86       849\n",
      "        运营给力       0.58      0.68      0.63       120\n",
      "       配置要求低       0.29      0.25      0.27         8\n",
      "       配置要求高       0.00      0.00      0.00         3\n",
      "        音效很棒       0.79      0.81      0.80       119\n",
      "        音效较差       0.33      0.33      0.33         3\n",
      "\n",
      "   micro avg       0.80      0.84      0.82      9057\n",
      "   macro avg       0.64      0.63      0.62      9057\n",
      "weighted avg       0.80      0.84      0.82      9057\n",
      " samples avg       0.84      0.87      0.84      9057\n",
      "\n"
     ]
    },
    {
     "name": "stderr",
     "output_type": "stream",
     "text": [
      "/home/wangyh/anaconda3/envs/tf2.4/lib/python3.7/site-packages/sklearn/metrics/_classification.py:1245: UndefinedMetricWarning: Precision and F-score are ill-defined and being set to 0.0 in samples with no predicted labels. Use `zero_division` parameter to control this behavior.\n",
      "  _warn_prf(average, modifier, msg_start, len(result))\n"
     ]
    },
    {
     "name": "stdout",
     "output_type": "stream",
     "text": [
      "Accuracy Score = 0.6362738643844634\n",
      "F1 Score (Micro) = 0.8176365699465067\n",
      "F1 Score (Macro) = 0.6242869341240169\n",
      "Hamming Score = 0.7876820851228358\n",
      "Hamming Loss = 0.012917770258891254\n",
      "              precision    recall  f1-score   support\n",
      "\n",
      "       IP还原差       0.60      0.53      0.56        17\n",
      "       UI体验好       0.77      0.39      0.52        44\n",
      "       UI体验差       0.91      0.71      0.79        68\n",
      "       上手难度大       0.75      0.74      0.74       185\n",
      "        优化相关       0.73      0.85      0.78        66\n",
      "        体验不错       0.83      0.85      0.84       943\n",
      "        体验较差       0.71      0.74      0.72       419\n",
      "        值得花钱       0.69      0.68      0.68       291\n",
      "        剧情丰富       0.87      0.92      0.89       391\n",
      "        剧情单调       0.71      0.55      0.62        22\n",
      "       厂商不给力       0.80      0.82      0.81       351\n",
      "        厂商良心       0.83      0.84      0.83       190\n",
      "         太肝了       0.67      0.75      0.71       252\n",
      "        尊重原著       0.60      0.79      0.68        68\n",
      "        平衡性好       0.44      0.68      0.54        22\n",
      "        平衡性差       0.63      0.80      0.70       105\n",
      "        广告太多       0.86      0.81      0.83        84\n",
      "       广告影响小       0.50      0.25      0.33         4\n",
      "        抄袭嫌疑       0.82      0.78      0.80        65\n",
      "          护肝       0.00      0.00      0.00         9\n",
      "       抽卡概率低       0.71      0.64      0.67       151\n",
      "       抽卡概率高       0.63      0.54      0.58        50\n",
      "        操作简单       0.00      0.00      0.00         5\n",
      "        操作麻烦       1.00      0.50      0.67         4\n",
      "        新手友好       0.78      0.82      0.80       195\n",
      "         有创新       1.00      0.50      0.67         4\n",
      "        有趣好玩       0.83      0.85      0.84       952\n",
      "       玩家互动多       0.63      0.79      0.70        58\n",
      "       玩家互动少       0.33      0.45      0.38        11\n",
      "        玩法较差       0.55      0.62      0.58       136\n",
      "        画面优良       0.87      0.92      0.90       732\n",
      "        画面粗糙       0.20      0.08      0.12        12\n",
      "         福利好       0.78      0.81      0.79       113\n",
      "         福利差       0.50      0.29      0.36         7\n",
      "        自由度低       0.50      1.00      0.67         1\n",
      "        自由度高       0.92      0.96      0.94       134\n",
      "        过于氪金       0.86      0.91      0.89      1794\n",
      "        运营不足       0.83      0.90      0.86       849\n",
      "        运营给力       0.58      0.68      0.63       120\n",
      "       配置要求低       0.29      0.25      0.27         8\n",
      "       配置要求高       0.00      0.00      0.00         3\n",
      "        音效很棒       0.79      0.81      0.80       119\n",
      "        音效较差       0.33      0.33      0.33         3\n",
      "\n",
      "   micro avg       0.80      0.84      0.82      9057\n",
      "   macro avg       0.64      0.63      0.62      9057\n",
      "weighted avg       0.80      0.84      0.82      9057\n",
      " samples avg       0.84      0.87      0.84      9057\n",
      "\n"
     ]
    },
    {
     "name": "stderr",
     "output_type": "stream",
     "text": [
      "/home/wangyh/anaconda3/envs/tf2.4/lib/python3.7/site-packages/sklearn/metrics/_classification.py:1245: UndefinedMetricWarning: Precision and F-score are ill-defined and being set to 0.0 in samples with no predicted labels. Use `zero_division` parameter to control this behavior.\n",
      "  _warn_prf(average, modifier, msg_start, len(result))\n"
     ]
    },
    {
     "ename": "KeyboardInterrupt",
     "evalue": "",
     "output_type": "error",
     "traceback": [
      "\u001b[0;31m---------------------------------------------------------------------------\u001b[0m",
      "\u001b[0;31mKeyboardInterrupt\u001b[0m                         Traceback (most recent call last)",
      "\u001b[0;32m<ipython-input-46-f412b16a539b>\u001b[0m in \u001b[0;36m<module>\u001b[0;34m\u001b[0m\n\u001b[1;32m      1\u001b[0m \u001b[0;32mfor\u001b[0m \u001b[0mepoch\u001b[0m \u001b[0;32min\u001b[0m \u001b[0mrange\u001b[0m\u001b[0;34m(\u001b[0m\u001b[0mEPOCHS\u001b[0m\u001b[0;34m)\u001b[0m\u001b[0;34m:\u001b[0m\u001b[0;34m\u001b[0m\u001b[0;34m\u001b[0m\u001b[0m\n\u001b[1;32m      2\u001b[0m \u001b[0;34m\u001b[0m\u001b[0m\n\u001b[0;32m----> 3\u001b[0;31m     \u001b[0moutputs\u001b[0m\u001b[0;34m,\u001b[0m \u001b[0mtargets\u001b[0m \u001b[0;34m=\u001b[0m \u001b[0mvalidation\u001b[0m\u001b[0;34m(\u001b[0m\u001b[0mmodel\u001b[0m\u001b[0;34m,\u001b[0m \u001b[0mepoch\u001b[0m\u001b[0;34m)\u001b[0m\u001b[0;34m\u001b[0m\u001b[0;34m\u001b[0m\u001b[0m\n\u001b[0m\u001b[1;32m      4\u001b[0m     \u001b[0moutputs\u001b[0m \u001b[0;34m=\u001b[0m \u001b[0mnp\u001b[0m\u001b[0;34m.\u001b[0m\u001b[0marray\u001b[0m\u001b[0;34m(\u001b[0m\u001b[0moutputs\u001b[0m\u001b[0;34m)\u001b[0m \u001b[0;34m>=\u001b[0m \u001b[0;36m0.5\u001b[0m\u001b[0;34m\u001b[0m\u001b[0;34m\u001b[0m\u001b[0m\n\u001b[1;32m      5\u001b[0m \u001b[0;34m\u001b[0m\u001b[0m\n",
      "\u001b[0;32m<ipython-input-41-1cc738790e97>\u001b[0m in \u001b[0;36mvalidation\u001b[0;34m(model, epoch)\u001b[0m\n\u001b[1;32m     17\u001b[0m \u001b[0;34m\u001b[0m\u001b[0m\n\u001b[1;32m     18\u001b[0m             \u001b[0;31m# pred\u001b[0m\u001b[0;34m\u001b[0m\u001b[0;34m\u001b[0m\u001b[0;34m\u001b[0m\u001b[0m\n\u001b[0;32m---> 19\u001b[0;31m             \u001b[0moutputs\u001b[0m \u001b[0;34m=\u001b[0m \u001b[0mmodel\u001b[0m\u001b[0;34m(\u001b[0m\u001b[0mids\u001b[0m\u001b[0;34m,\u001b[0m \u001b[0mmask\u001b[0m\u001b[0;34m,\u001b[0m \u001b[0mtoken_type_ids\u001b[0m\u001b[0;34m)\u001b[0m\u001b[0;34m\u001b[0m\u001b[0;34m\u001b[0m\u001b[0m\n\u001b[0m\u001b[1;32m     20\u001b[0m \u001b[0;34m\u001b[0m\u001b[0m\n\u001b[1;32m     21\u001b[0m             \u001b[0;31m# TODO:\u001b[0m\u001b[0;34m\u001b[0m\u001b[0;34m\u001b[0m\u001b[0;34m\u001b[0m\u001b[0m\n",
      "\u001b[0;32m~/anaconda3/envs/tf2.4/lib/python3.7/site-packages/torch/nn/modules/module.py\u001b[0m in \u001b[0;36m_call_impl\u001b[0;34m(self, *input, **kwargs)\u001b[0m\n\u001b[1;32m    725\u001b[0m             \u001b[0mresult\u001b[0m \u001b[0;34m=\u001b[0m \u001b[0mself\u001b[0m\u001b[0;34m.\u001b[0m\u001b[0m_slow_forward\u001b[0m\u001b[0;34m(\u001b[0m\u001b[0;34m*\u001b[0m\u001b[0minput\u001b[0m\u001b[0;34m,\u001b[0m \u001b[0;34m**\u001b[0m\u001b[0mkwargs\u001b[0m\u001b[0;34m)\u001b[0m\u001b[0;34m\u001b[0m\u001b[0;34m\u001b[0m\u001b[0m\n\u001b[1;32m    726\u001b[0m         \u001b[0;32melse\u001b[0m\u001b[0;34m:\u001b[0m\u001b[0;34m\u001b[0m\u001b[0;34m\u001b[0m\u001b[0m\n\u001b[0;32m--> 727\u001b[0;31m             \u001b[0mresult\u001b[0m \u001b[0;34m=\u001b[0m \u001b[0mself\u001b[0m\u001b[0;34m.\u001b[0m\u001b[0mforward\u001b[0m\u001b[0;34m(\u001b[0m\u001b[0;34m*\u001b[0m\u001b[0minput\u001b[0m\u001b[0;34m,\u001b[0m \u001b[0;34m**\u001b[0m\u001b[0mkwargs\u001b[0m\u001b[0;34m)\u001b[0m\u001b[0;34m\u001b[0m\u001b[0;34m\u001b[0m\u001b[0m\n\u001b[0m\u001b[1;32m    728\u001b[0m         for hook in itertools.chain(\n\u001b[1;32m    729\u001b[0m                 \u001b[0m_global_forward_hooks\u001b[0m\u001b[0;34m.\u001b[0m\u001b[0mvalues\u001b[0m\u001b[0;34m(\u001b[0m\u001b[0;34m)\u001b[0m\u001b[0;34m,\u001b[0m\u001b[0;34m\u001b[0m\u001b[0;34m\u001b[0m\u001b[0m\n",
      "\u001b[0;32m<ipython-input-37-ab9e7454fc36>\u001b[0m in \u001b[0;36mforward\u001b[0;34m(self, ids, mask, token_type_ids)\u001b[0m\n\u001b[1;32m      9\u001b[0m \u001b[0;34m\u001b[0m\u001b[0m\n\u001b[1;32m     10\u001b[0m     \u001b[0;32mdef\u001b[0m \u001b[0mforward\u001b[0m\u001b[0;34m(\u001b[0m\u001b[0mself\u001b[0m\u001b[0;34m,\u001b[0m \u001b[0mids\u001b[0m\u001b[0;34m,\u001b[0m \u001b[0mmask\u001b[0m\u001b[0;34m,\u001b[0m \u001b[0mtoken_type_ids\u001b[0m\u001b[0;34m)\u001b[0m\u001b[0;34m:\u001b[0m\u001b[0;34m\u001b[0m\u001b[0;34m\u001b[0m\u001b[0m\n\u001b[0;32m---> 11\u001b[0;31m         \u001b[0moutput_1\u001b[0m \u001b[0;34m=\u001b[0m \u001b[0mself\u001b[0m\u001b[0;34m.\u001b[0m\u001b[0ml1\u001b[0m\u001b[0;34m(\u001b[0m\u001b[0mids\u001b[0m\u001b[0;34m,\u001b[0m \u001b[0mattention_mask\u001b[0m \u001b[0;34m=\u001b[0m \u001b[0mmask\u001b[0m\u001b[0;34m,\u001b[0m \u001b[0mtoken_type_ids\u001b[0m \u001b[0;34m=\u001b[0m \u001b[0mtoken_type_ids\u001b[0m\u001b[0;34m)\u001b[0m\u001b[0;34m\u001b[0m\u001b[0;34m\u001b[0m\u001b[0m\n\u001b[0m\u001b[1;32m     12\u001b[0m         \u001b[0moutput_2\u001b[0m \u001b[0;34m=\u001b[0m \u001b[0mself\u001b[0m\u001b[0;34m.\u001b[0m\u001b[0ml2\u001b[0m\u001b[0;34m(\u001b[0m\u001b[0moutput_1\u001b[0m\u001b[0;34m.\u001b[0m\u001b[0mpooler_output\u001b[0m\u001b[0;34m)\u001b[0m\u001b[0;34m\u001b[0m\u001b[0;34m\u001b[0m\u001b[0m\n\u001b[1;32m     13\u001b[0m         \u001b[0moutput\u001b[0m \u001b[0;34m=\u001b[0m \u001b[0mself\u001b[0m\u001b[0;34m.\u001b[0m\u001b[0ml3\u001b[0m\u001b[0;34m(\u001b[0m\u001b[0moutput_2\u001b[0m\u001b[0;34m)\u001b[0m\u001b[0;34m\u001b[0m\u001b[0;34m\u001b[0m\u001b[0m\n",
      "\u001b[0;32m~/anaconda3/envs/tf2.4/lib/python3.7/site-packages/torch/nn/modules/module.py\u001b[0m in \u001b[0;36m_call_impl\u001b[0;34m(self, *input, **kwargs)\u001b[0m\n\u001b[1;32m    725\u001b[0m             \u001b[0mresult\u001b[0m \u001b[0;34m=\u001b[0m \u001b[0mself\u001b[0m\u001b[0;34m.\u001b[0m\u001b[0m_slow_forward\u001b[0m\u001b[0;34m(\u001b[0m\u001b[0;34m*\u001b[0m\u001b[0minput\u001b[0m\u001b[0;34m,\u001b[0m \u001b[0;34m**\u001b[0m\u001b[0mkwargs\u001b[0m\u001b[0;34m)\u001b[0m\u001b[0;34m\u001b[0m\u001b[0;34m\u001b[0m\u001b[0m\n\u001b[1;32m    726\u001b[0m         \u001b[0;32melse\u001b[0m\u001b[0;34m:\u001b[0m\u001b[0;34m\u001b[0m\u001b[0;34m\u001b[0m\u001b[0m\n\u001b[0;32m--> 727\u001b[0;31m             \u001b[0mresult\u001b[0m \u001b[0;34m=\u001b[0m \u001b[0mself\u001b[0m\u001b[0;34m.\u001b[0m\u001b[0mforward\u001b[0m\u001b[0;34m(\u001b[0m\u001b[0;34m*\u001b[0m\u001b[0minput\u001b[0m\u001b[0;34m,\u001b[0m \u001b[0;34m**\u001b[0m\u001b[0mkwargs\u001b[0m\u001b[0;34m)\u001b[0m\u001b[0;34m\u001b[0m\u001b[0;34m\u001b[0m\u001b[0m\n\u001b[0m\u001b[1;32m    728\u001b[0m         for hook in itertools.chain(\n\u001b[1;32m    729\u001b[0m                 \u001b[0m_global_forward_hooks\u001b[0m\u001b[0;34m.\u001b[0m\u001b[0mvalues\u001b[0m\u001b[0;34m(\u001b[0m\u001b[0;34m)\u001b[0m\u001b[0;34m,\u001b[0m\u001b[0;34m\u001b[0m\u001b[0;34m\u001b[0m\u001b[0m\n",
      "\u001b[0;32m~/anaconda3/envs/tf2.4/lib/python3.7/site-packages/transformers/models/bert/modeling_bert.py\u001b[0m in \u001b[0;36mforward\u001b[0;34m(self, input_ids, attention_mask, token_type_ids, position_ids, head_mask, inputs_embeds, encoder_hidden_states, encoder_attention_mask, past_key_values, use_cache, output_attentions, output_hidden_states, return_dict)\u001b[0m\n\u001b[1;32m    974\u001b[0m             \u001b[0moutput_attentions\u001b[0m\u001b[0;34m=\u001b[0m\u001b[0moutput_attentions\u001b[0m\u001b[0;34m,\u001b[0m\u001b[0;34m\u001b[0m\u001b[0;34m\u001b[0m\u001b[0m\n\u001b[1;32m    975\u001b[0m             \u001b[0moutput_hidden_states\u001b[0m\u001b[0;34m=\u001b[0m\u001b[0moutput_hidden_states\u001b[0m\u001b[0;34m,\u001b[0m\u001b[0;34m\u001b[0m\u001b[0;34m\u001b[0m\u001b[0m\n\u001b[0;32m--> 976\u001b[0;31m             \u001b[0mreturn_dict\u001b[0m\u001b[0;34m=\u001b[0m\u001b[0mreturn_dict\u001b[0m\u001b[0;34m,\u001b[0m\u001b[0;34m\u001b[0m\u001b[0;34m\u001b[0m\u001b[0m\n\u001b[0m\u001b[1;32m    977\u001b[0m         )\n\u001b[1;32m    978\u001b[0m         \u001b[0msequence_output\u001b[0m \u001b[0;34m=\u001b[0m \u001b[0mencoder_outputs\u001b[0m\u001b[0;34m[\u001b[0m\u001b[0;36m0\u001b[0m\u001b[0;34m]\u001b[0m\u001b[0;34m\u001b[0m\u001b[0;34m\u001b[0m\u001b[0m\n",
      "\u001b[0;32m~/anaconda3/envs/tf2.4/lib/python3.7/site-packages/torch/nn/modules/module.py\u001b[0m in \u001b[0;36m_call_impl\u001b[0;34m(self, *input, **kwargs)\u001b[0m\n\u001b[1;32m    725\u001b[0m             \u001b[0mresult\u001b[0m \u001b[0;34m=\u001b[0m \u001b[0mself\u001b[0m\u001b[0;34m.\u001b[0m\u001b[0m_slow_forward\u001b[0m\u001b[0;34m(\u001b[0m\u001b[0;34m*\u001b[0m\u001b[0minput\u001b[0m\u001b[0;34m,\u001b[0m \u001b[0;34m**\u001b[0m\u001b[0mkwargs\u001b[0m\u001b[0;34m)\u001b[0m\u001b[0;34m\u001b[0m\u001b[0;34m\u001b[0m\u001b[0m\n\u001b[1;32m    726\u001b[0m         \u001b[0;32melse\u001b[0m\u001b[0;34m:\u001b[0m\u001b[0;34m\u001b[0m\u001b[0;34m\u001b[0m\u001b[0m\n\u001b[0;32m--> 727\u001b[0;31m             \u001b[0mresult\u001b[0m \u001b[0;34m=\u001b[0m \u001b[0mself\u001b[0m\u001b[0;34m.\u001b[0m\u001b[0mforward\u001b[0m\u001b[0;34m(\u001b[0m\u001b[0;34m*\u001b[0m\u001b[0minput\u001b[0m\u001b[0;34m,\u001b[0m \u001b[0;34m**\u001b[0m\u001b[0mkwargs\u001b[0m\u001b[0;34m)\u001b[0m\u001b[0;34m\u001b[0m\u001b[0;34m\u001b[0m\u001b[0m\n\u001b[0m\u001b[1;32m    728\u001b[0m         for hook in itertools.chain(\n\u001b[1;32m    729\u001b[0m                 \u001b[0m_global_forward_hooks\u001b[0m\u001b[0;34m.\u001b[0m\u001b[0mvalues\u001b[0m\u001b[0;34m(\u001b[0m\u001b[0;34m)\u001b[0m\u001b[0;34m,\u001b[0m\u001b[0;34m\u001b[0m\u001b[0;34m\u001b[0m\u001b[0m\n",
      "\u001b[0;32m~/anaconda3/envs/tf2.4/lib/python3.7/site-packages/transformers/models/bert/modeling_bert.py\u001b[0m in \u001b[0;36mforward\u001b[0;34m(self, hidden_states, attention_mask, head_mask, encoder_hidden_states, encoder_attention_mask, past_key_values, use_cache, output_attentions, output_hidden_states, return_dict)\u001b[0m\n\u001b[1;32m    572\u001b[0m                     \u001b[0mencoder_attention_mask\u001b[0m\u001b[0;34m,\u001b[0m\u001b[0;34m\u001b[0m\u001b[0;34m\u001b[0m\u001b[0m\n\u001b[1;32m    573\u001b[0m                     \u001b[0mpast_key_value\u001b[0m\u001b[0;34m,\u001b[0m\u001b[0;34m\u001b[0m\u001b[0;34m\u001b[0m\u001b[0m\n\u001b[0;32m--> 574\u001b[0;31m                     \u001b[0moutput_attentions\u001b[0m\u001b[0;34m,\u001b[0m\u001b[0;34m\u001b[0m\u001b[0;34m\u001b[0m\u001b[0m\n\u001b[0m\u001b[1;32m    575\u001b[0m                 )\n\u001b[1;32m    576\u001b[0m \u001b[0;34m\u001b[0m\u001b[0m\n",
      "\u001b[0;32m~/anaconda3/envs/tf2.4/lib/python3.7/site-packages/torch/nn/modules/module.py\u001b[0m in \u001b[0;36m_call_impl\u001b[0;34m(self, *input, **kwargs)\u001b[0m\n\u001b[1;32m    725\u001b[0m             \u001b[0mresult\u001b[0m \u001b[0;34m=\u001b[0m \u001b[0mself\u001b[0m\u001b[0;34m.\u001b[0m\u001b[0m_slow_forward\u001b[0m\u001b[0;34m(\u001b[0m\u001b[0;34m*\u001b[0m\u001b[0minput\u001b[0m\u001b[0;34m,\u001b[0m \u001b[0;34m**\u001b[0m\u001b[0mkwargs\u001b[0m\u001b[0;34m)\u001b[0m\u001b[0;34m\u001b[0m\u001b[0;34m\u001b[0m\u001b[0m\n\u001b[1;32m    726\u001b[0m         \u001b[0;32melse\u001b[0m\u001b[0;34m:\u001b[0m\u001b[0;34m\u001b[0m\u001b[0;34m\u001b[0m\u001b[0m\n\u001b[0;32m--> 727\u001b[0;31m             \u001b[0mresult\u001b[0m \u001b[0;34m=\u001b[0m \u001b[0mself\u001b[0m\u001b[0;34m.\u001b[0m\u001b[0mforward\u001b[0m\u001b[0;34m(\u001b[0m\u001b[0;34m*\u001b[0m\u001b[0minput\u001b[0m\u001b[0;34m,\u001b[0m \u001b[0;34m**\u001b[0m\u001b[0mkwargs\u001b[0m\u001b[0;34m)\u001b[0m\u001b[0;34m\u001b[0m\u001b[0;34m\u001b[0m\u001b[0m\n\u001b[0m\u001b[1;32m    728\u001b[0m         for hook in itertools.chain(\n\u001b[1;32m    729\u001b[0m                 \u001b[0m_global_forward_hooks\u001b[0m\u001b[0;34m.\u001b[0m\u001b[0mvalues\u001b[0m\u001b[0;34m(\u001b[0m\u001b[0;34m)\u001b[0m\u001b[0;34m,\u001b[0m\u001b[0;34m\u001b[0m\u001b[0;34m\u001b[0m\u001b[0m\n",
      "\u001b[0;32m~/anaconda3/envs/tf2.4/lib/python3.7/site-packages/transformers/models/bert/modeling_bert.py\u001b[0m in \u001b[0;36mforward\u001b[0;34m(self, hidden_states, attention_mask, head_mask, encoder_hidden_states, encoder_attention_mask, past_key_value, output_attentions)\u001b[0m\n\u001b[1;32m    494\u001b[0m \u001b[0;34m\u001b[0m\u001b[0m\n\u001b[1;32m    495\u001b[0m         layer_output = apply_chunking_to_forward(\n\u001b[0;32m--> 496\u001b[0;31m             \u001b[0mself\u001b[0m\u001b[0;34m.\u001b[0m\u001b[0mfeed_forward_chunk\u001b[0m\u001b[0;34m,\u001b[0m \u001b[0mself\u001b[0m\u001b[0;34m.\u001b[0m\u001b[0mchunk_size_feed_forward\u001b[0m\u001b[0;34m,\u001b[0m \u001b[0mself\u001b[0m\u001b[0;34m.\u001b[0m\u001b[0mseq_len_dim\u001b[0m\u001b[0;34m,\u001b[0m \u001b[0mattention_output\u001b[0m\u001b[0;34m\u001b[0m\u001b[0;34m\u001b[0m\u001b[0m\n\u001b[0m\u001b[1;32m    497\u001b[0m         )\n\u001b[1;32m    498\u001b[0m         \u001b[0moutputs\u001b[0m \u001b[0;34m=\u001b[0m \u001b[0;34m(\u001b[0m\u001b[0mlayer_output\u001b[0m\u001b[0;34m,\u001b[0m\u001b[0;34m)\u001b[0m \u001b[0;34m+\u001b[0m \u001b[0moutputs\u001b[0m\u001b[0;34m\u001b[0m\u001b[0;34m\u001b[0m\u001b[0m\n",
      "\u001b[0;32m~/anaconda3/envs/tf2.4/lib/python3.7/site-packages/transformers/modeling_utils.py\u001b[0m in \u001b[0;36mapply_chunking_to_forward\u001b[0;34m(forward_fn, chunk_size, chunk_dim, *input_tensors)\u001b[0m\n\u001b[1;32m   1785\u001b[0m         \u001b[0;32mreturn\u001b[0m \u001b[0mtorch\u001b[0m\u001b[0;34m.\u001b[0m\u001b[0mcat\u001b[0m\u001b[0;34m(\u001b[0m\u001b[0moutput_chunks\u001b[0m\u001b[0;34m,\u001b[0m \u001b[0mdim\u001b[0m\u001b[0;34m=\u001b[0m\u001b[0mchunk_dim\u001b[0m\u001b[0;34m)\u001b[0m\u001b[0;34m\u001b[0m\u001b[0;34m\u001b[0m\u001b[0m\n\u001b[1;32m   1786\u001b[0m \u001b[0;34m\u001b[0m\u001b[0m\n\u001b[0;32m-> 1787\u001b[0;31m     \u001b[0;32mreturn\u001b[0m \u001b[0mforward_fn\u001b[0m\u001b[0;34m(\u001b[0m\u001b[0;34m*\u001b[0m\u001b[0minput_tensors\u001b[0m\u001b[0;34m)\u001b[0m\u001b[0;34m\u001b[0m\u001b[0;34m\u001b[0m\u001b[0m\n\u001b[0m",
      "\u001b[0;32m~/anaconda3/envs/tf2.4/lib/python3.7/site-packages/transformers/models/bert/modeling_bert.py\u001b[0m in \u001b[0;36mfeed_forward_chunk\u001b[0;34m(self, attention_output)\u001b[0m\n\u001b[1;32m    506\u001b[0m     \u001b[0;32mdef\u001b[0m \u001b[0mfeed_forward_chunk\u001b[0m\u001b[0;34m(\u001b[0m\u001b[0mself\u001b[0m\u001b[0;34m,\u001b[0m \u001b[0mattention_output\u001b[0m\u001b[0;34m)\u001b[0m\u001b[0;34m:\u001b[0m\u001b[0;34m\u001b[0m\u001b[0;34m\u001b[0m\u001b[0m\n\u001b[1;32m    507\u001b[0m         \u001b[0mintermediate_output\u001b[0m \u001b[0;34m=\u001b[0m \u001b[0mself\u001b[0m\u001b[0;34m.\u001b[0m\u001b[0mintermediate\u001b[0m\u001b[0;34m(\u001b[0m\u001b[0mattention_output\u001b[0m\u001b[0;34m)\u001b[0m\u001b[0;34m\u001b[0m\u001b[0;34m\u001b[0m\u001b[0m\n\u001b[0;32m--> 508\u001b[0;31m         \u001b[0mlayer_output\u001b[0m \u001b[0;34m=\u001b[0m \u001b[0mself\u001b[0m\u001b[0;34m.\u001b[0m\u001b[0moutput\u001b[0m\u001b[0;34m(\u001b[0m\u001b[0mintermediate_output\u001b[0m\u001b[0;34m,\u001b[0m \u001b[0mattention_output\u001b[0m\u001b[0;34m)\u001b[0m\u001b[0;34m\u001b[0m\u001b[0;34m\u001b[0m\u001b[0m\n\u001b[0m\u001b[1;32m    509\u001b[0m         \u001b[0;32mreturn\u001b[0m \u001b[0mlayer_output\u001b[0m\u001b[0;34m\u001b[0m\u001b[0;34m\u001b[0m\u001b[0m\n\u001b[1;32m    510\u001b[0m \u001b[0;34m\u001b[0m\u001b[0m\n",
      "\u001b[0;32m~/anaconda3/envs/tf2.4/lib/python3.7/site-packages/torch/nn/modules/module.py\u001b[0m in \u001b[0;36m_call_impl\u001b[0;34m(self, *input, **kwargs)\u001b[0m\n\u001b[1;32m    725\u001b[0m             \u001b[0mresult\u001b[0m \u001b[0;34m=\u001b[0m \u001b[0mself\u001b[0m\u001b[0;34m.\u001b[0m\u001b[0m_slow_forward\u001b[0m\u001b[0;34m(\u001b[0m\u001b[0;34m*\u001b[0m\u001b[0minput\u001b[0m\u001b[0;34m,\u001b[0m \u001b[0;34m**\u001b[0m\u001b[0mkwargs\u001b[0m\u001b[0;34m)\u001b[0m\u001b[0;34m\u001b[0m\u001b[0;34m\u001b[0m\u001b[0m\n\u001b[1;32m    726\u001b[0m         \u001b[0;32melse\u001b[0m\u001b[0;34m:\u001b[0m\u001b[0;34m\u001b[0m\u001b[0;34m\u001b[0m\u001b[0m\n\u001b[0;32m--> 727\u001b[0;31m             \u001b[0mresult\u001b[0m \u001b[0;34m=\u001b[0m \u001b[0mself\u001b[0m\u001b[0;34m.\u001b[0m\u001b[0mforward\u001b[0m\u001b[0;34m(\u001b[0m\u001b[0;34m*\u001b[0m\u001b[0minput\u001b[0m\u001b[0;34m,\u001b[0m \u001b[0;34m**\u001b[0m\u001b[0mkwargs\u001b[0m\u001b[0;34m)\u001b[0m\u001b[0;34m\u001b[0m\u001b[0;34m\u001b[0m\u001b[0m\n\u001b[0m\u001b[1;32m    728\u001b[0m         for hook in itertools.chain(\n\u001b[1;32m    729\u001b[0m                 \u001b[0m_global_forward_hooks\u001b[0m\u001b[0;34m.\u001b[0m\u001b[0mvalues\u001b[0m\u001b[0;34m(\u001b[0m\u001b[0;34m)\u001b[0m\u001b[0;34m,\u001b[0m\u001b[0;34m\u001b[0m\u001b[0;34m\u001b[0m\u001b[0m\n",
      "\u001b[0;32m~/anaconda3/envs/tf2.4/lib/python3.7/site-packages/transformers/models/bert/modeling_bert.py\u001b[0m in \u001b[0;36mforward\u001b[0;34m(self, hidden_states, input_tensor)\u001b[0m\n\u001b[1;32m    421\u001b[0m \u001b[0;34m\u001b[0m\u001b[0m\n\u001b[1;32m    422\u001b[0m     \u001b[0;32mdef\u001b[0m \u001b[0mforward\u001b[0m\u001b[0;34m(\u001b[0m\u001b[0mself\u001b[0m\u001b[0;34m,\u001b[0m \u001b[0mhidden_states\u001b[0m\u001b[0;34m,\u001b[0m \u001b[0minput_tensor\u001b[0m\u001b[0;34m)\u001b[0m\u001b[0;34m:\u001b[0m\u001b[0;34m\u001b[0m\u001b[0;34m\u001b[0m\u001b[0m\n\u001b[0;32m--> 423\u001b[0;31m         \u001b[0mhidden_states\u001b[0m \u001b[0;34m=\u001b[0m \u001b[0mself\u001b[0m\u001b[0;34m.\u001b[0m\u001b[0mdense\u001b[0m\u001b[0;34m(\u001b[0m\u001b[0mhidden_states\u001b[0m\u001b[0;34m)\u001b[0m\u001b[0;34m\u001b[0m\u001b[0;34m\u001b[0m\u001b[0m\n\u001b[0m\u001b[1;32m    424\u001b[0m         \u001b[0mhidden_states\u001b[0m \u001b[0;34m=\u001b[0m \u001b[0mself\u001b[0m\u001b[0;34m.\u001b[0m\u001b[0mdropout\u001b[0m\u001b[0;34m(\u001b[0m\u001b[0mhidden_states\u001b[0m\u001b[0;34m)\u001b[0m\u001b[0;34m\u001b[0m\u001b[0;34m\u001b[0m\u001b[0m\n\u001b[1;32m    425\u001b[0m         \u001b[0mhidden_states\u001b[0m \u001b[0;34m=\u001b[0m \u001b[0mself\u001b[0m\u001b[0;34m.\u001b[0m\u001b[0mLayerNorm\u001b[0m\u001b[0;34m(\u001b[0m\u001b[0mhidden_states\u001b[0m \u001b[0;34m+\u001b[0m \u001b[0minput_tensor\u001b[0m\u001b[0;34m)\u001b[0m\u001b[0;34m\u001b[0m\u001b[0;34m\u001b[0m\u001b[0m\n",
      "\u001b[0;32m~/anaconda3/envs/tf2.4/lib/python3.7/site-packages/torch/nn/modules/module.py\u001b[0m in \u001b[0;36m_call_impl\u001b[0;34m(self, *input, **kwargs)\u001b[0m\n\u001b[1;32m    725\u001b[0m             \u001b[0mresult\u001b[0m \u001b[0;34m=\u001b[0m \u001b[0mself\u001b[0m\u001b[0;34m.\u001b[0m\u001b[0m_slow_forward\u001b[0m\u001b[0;34m(\u001b[0m\u001b[0;34m*\u001b[0m\u001b[0minput\u001b[0m\u001b[0;34m,\u001b[0m \u001b[0;34m**\u001b[0m\u001b[0mkwargs\u001b[0m\u001b[0;34m)\u001b[0m\u001b[0;34m\u001b[0m\u001b[0;34m\u001b[0m\u001b[0m\n\u001b[1;32m    726\u001b[0m         \u001b[0;32melse\u001b[0m\u001b[0;34m:\u001b[0m\u001b[0;34m\u001b[0m\u001b[0;34m\u001b[0m\u001b[0m\n\u001b[0;32m--> 727\u001b[0;31m             \u001b[0mresult\u001b[0m \u001b[0;34m=\u001b[0m \u001b[0mself\u001b[0m\u001b[0;34m.\u001b[0m\u001b[0mforward\u001b[0m\u001b[0;34m(\u001b[0m\u001b[0;34m*\u001b[0m\u001b[0minput\u001b[0m\u001b[0;34m,\u001b[0m \u001b[0;34m**\u001b[0m\u001b[0mkwargs\u001b[0m\u001b[0;34m)\u001b[0m\u001b[0;34m\u001b[0m\u001b[0;34m\u001b[0m\u001b[0m\n\u001b[0m\u001b[1;32m    728\u001b[0m         for hook in itertools.chain(\n\u001b[1;32m    729\u001b[0m                 \u001b[0m_global_forward_hooks\u001b[0m\u001b[0;34m.\u001b[0m\u001b[0mvalues\u001b[0m\u001b[0;34m(\u001b[0m\u001b[0;34m)\u001b[0m\u001b[0;34m,\u001b[0m\u001b[0;34m\u001b[0m\u001b[0;34m\u001b[0m\u001b[0m\n",
      "\u001b[0;32m~/anaconda3/envs/tf2.4/lib/python3.7/site-packages/torch/nn/modules/linear.py\u001b[0m in \u001b[0;36mforward\u001b[0;34m(self, input)\u001b[0m\n\u001b[1;32m     91\u001b[0m \u001b[0;34m\u001b[0m\u001b[0m\n\u001b[1;32m     92\u001b[0m     \u001b[0;32mdef\u001b[0m \u001b[0mforward\u001b[0m\u001b[0;34m(\u001b[0m\u001b[0mself\u001b[0m\u001b[0;34m,\u001b[0m \u001b[0minput\u001b[0m\u001b[0;34m:\u001b[0m \u001b[0mTensor\u001b[0m\u001b[0;34m)\u001b[0m \u001b[0;34m->\u001b[0m \u001b[0mTensor\u001b[0m\u001b[0;34m:\u001b[0m\u001b[0;34m\u001b[0m\u001b[0;34m\u001b[0m\u001b[0m\n\u001b[0;32m---> 93\u001b[0;31m         \u001b[0;32mreturn\u001b[0m \u001b[0mF\u001b[0m\u001b[0;34m.\u001b[0m\u001b[0mlinear\u001b[0m\u001b[0;34m(\u001b[0m\u001b[0minput\u001b[0m\u001b[0;34m,\u001b[0m \u001b[0mself\u001b[0m\u001b[0;34m.\u001b[0m\u001b[0mweight\u001b[0m\u001b[0;34m,\u001b[0m \u001b[0mself\u001b[0m\u001b[0;34m.\u001b[0m\u001b[0mbias\u001b[0m\u001b[0;34m)\u001b[0m\u001b[0;34m\u001b[0m\u001b[0;34m\u001b[0m\u001b[0m\n\u001b[0m\u001b[1;32m     94\u001b[0m \u001b[0;34m\u001b[0m\u001b[0m\n\u001b[1;32m     95\u001b[0m     \u001b[0;32mdef\u001b[0m \u001b[0mextra_repr\u001b[0m\u001b[0;34m(\u001b[0m\u001b[0mself\u001b[0m\u001b[0;34m)\u001b[0m \u001b[0;34m->\u001b[0m \u001b[0mstr\u001b[0m\u001b[0;34m:\u001b[0m\u001b[0;34m\u001b[0m\u001b[0;34m\u001b[0m\u001b[0m\n",
      "\u001b[0;32m~/anaconda3/envs/tf2.4/lib/python3.7/site-packages/torch/nn/functional.py\u001b[0m in \u001b[0;36mlinear\u001b[0;34m(input, weight, bias)\u001b[0m\n\u001b[1;32m   1692\u001b[0m         \u001b[0moutput\u001b[0m \u001b[0;34m=\u001b[0m \u001b[0minput\u001b[0m\u001b[0;34m.\u001b[0m\u001b[0mmatmul\u001b[0m\u001b[0;34m(\u001b[0m\u001b[0mweight\u001b[0m\u001b[0;34m.\u001b[0m\u001b[0mt\u001b[0m\u001b[0;34m(\u001b[0m\u001b[0;34m)\u001b[0m\u001b[0;34m)\u001b[0m\u001b[0;34m\u001b[0m\u001b[0;34m\u001b[0m\u001b[0m\n\u001b[1;32m   1693\u001b[0m         \u001b[0;32mif\u001b[0m \u001b[0mbias\u001b[0m \u001b[0;32mis\u001b[0m \u001b[0;32mnot\u001b[0m \u001b[0;32mNone\u001b[0m\u001b[0;34m:\u001b[0m\u001b[0;34m\u001b[0m\u001b[0;34m\u001b[0m\u001b[0m\n\u001b[0;32m-> 1694\u001b[0;31m             \u001b[0moutput\u001b[0m \u001b[0;34m+=\u001b[0m \u001b[0mbias\u001b[0m\u001b[0;34m\u001b[0m\u001b[0;34m\u001b[0m\u001b[0m\n\u001b[0m\u001b[1;32m   1695\u001b[0m         \u001b[0mret\u001b[0m \u001b[0;34m=\u001b[0m \u001b[0moutput\u001b[0m\u001b[0;34m\u001b[0m\u001b[0;34m\u001b[0m\u001b[0m\n\u001b[1;32m   1696\u001b[0m     \u001b[0;32mreturn\u001b[0m \u001b[0mret\u001b[0m\u001b[0;34m\u001b[0m\u001b[0;34m\u001b[0m\u001b[0m\n",
      "\u001b[0;31mKeyboardInterrupt\u001b[0m: "
     ]
    }
   ],
   "source": [
    "for epoch in range(EPOCHS):\n",
    "    \n",
    "    outputs, targets = validation(model, epoch)\n",
    "    outputs = np.array(outputs) >= 0.5\n",
    "    \n",
    "    accuracy = metrics.accuracy_score(targets, outputs)\n",
    "    f1_score_micro = metrics.f1_score(targets, outputs, average='micro')\n",
    "    f1_score_macro = metrics.f1_score(targets, outputs, average='macro')\n",
    "    \n",
    "    # TODO:\n",
    "    print(f\"Accuracy Score = {accuracy}\")\n",
    "    print(f\"F1 Score (Micro) = {f1_score_micro}\")\n",
    "    print(f\"F1 Score (Macro) = {f1_score_macro}\")\n",
    "    \n",
    "    val_hamming_loss = metrics.hamming_loss(targets, outputs)\n",
    "    val_hamming_score = hamming_score(np.array(targets), np.array(outputs))\n",
    "\n",
    "    print(f\"Hamming Score = {val_hamming_score}\")\n",
    "    print(f\"Hamming Loss = {val_hamming_loss}\")\n",
    "    \n",
    "    print(classification_report(targets, outputs, target_names=mlb.classes_))"
   ]
  },
  {
   "cell_type": "raw",
   "id": "strange-newcastle",
   "metadata": {},
   "source": [
    "bert-base-chinese\n",
    "\n",
    "              precision    recall  f1-score   support\n",
    "\n",
    "       IP还原差       0.00      0.00      0.00        17\n",
    "       UI体验好       0.00      0.00      0.00        44\n",
    "       UI体验差       0.00      0.00      0.00        68\n",
    "       上手难度大       0.88      0.27      0.41       185\n",
    "        优化相关       0.00      0.00      0.00        66\n",
    "        体验不错       0.91      0.49      0.63       943\n",
    "        体验较差       0.84      0.19      0.31       419\n",
    "        值得花钱       0.89      0.20      0.33       291\n",
    "        剧情丰富       0.82      0.88      0.85       391\n",
    "        剧情单调       0.00      0.00      0.00        22\n",
    "       厂商不给力       0.82      0.41      0.55       351\n",
    "        厂商良心       0.88      0.32      0.47       190\n",
    "         太肝了       0.79      0.23      0.36       252\n",
    "        尊重原著       0.00      0.00      0.00        68\n",
    "        平衡性好       0.00      0.00      0.00        22\n",
    "        平衡性差       0.00      0.00      0.00       105\n",
    "        广告太多       0.00      0.00      0.00        84\n",
    "       广告影响小       0.00      0.00      0.00         4\n",
    "        抄袭嫌疑       0.00      0.00      0.00        65\n",
    "          护肝       0.00      0.00      0.00         9\n",
    "       抽卡概率低       0.00      0.00      0.00       151\n",
    "       抽卡概率高       0.00      0.00      0.00        50\n",
    "        操作简单       0.00      0.00      0.00         5\n",
    "        操作麻烦       0.00      0.00      0.00         4\n",
    "        新手友好       0.89      0.42      0.57       195\n",
    "         有创新       0.00      0.00      0.00         4\n",
    "        有趣好玩       0.84      0.70      0.76       952\n",
    "       玩家互动多       0.00      0.00      0.00        58\n",
    "       玩家互动少       0.00      0.00      0.00        11\n",
    "        玩法较差       0.00      0.00      0.00       136\n",
    "        画面优良       0.86      0.87      0.86       732\n",
    "        画面粗糙       0.00      0.00      0.00        12\n",
    "         福利好       0.86      0.58      0.69       113\n",
    "         福利差       0.00      0.00      0.00         7\n",
    "        自由度低       0.00      0.00      0.00         1\n",
    "        自由度高       0.87      0.49      0.63       134\n",
    "        过于氪金       0.83      0.87      0.85      1794\n",
    "        运营不足       0.80      0.75      0.77       849\n",
    "        运营给力       1.00      0.03      0.06       120\n",
    "       配置要求低       0.00      0.00      0.00         8\n",
    "       配置要求高       0.00      0.00      0.00         3\n",
    "        音效很棒       0.88      0.41      0.56       119\n",
    "        音效较差       0.00      0.00      0.00         3"
   ]
  },
  {
   "cell_type": "raw",
   "id": "african-mistake",
   "metadata": {},
   "source": [
    "chinese-bert-wwm\n",
    "\n",
    "              precision    recall  f1-score   support\n",
    "\n",
    "       IP还原差       0.00      0.00      0.00        17\n",
    "       UI体验好       0.00      0.00      0.00        44\n",
    "       UI体验差       0.00      0.00      0.00        68\n",
    "       上手难度大       1.00      0.01      0.02       185\n",
    "        优化相关       0.00      0.00      0.00        66\n",
    "        体验不错       0.80      0.71      0.75       943\n",
    "        体验较差       0.80      0.02      0.04       419\n",
    "        值得花钱       0.90      0.03      0.06       291\n",
    "        剧情丰富       0.85      0.76      0.81       391\n",
    "        剧情单调       0.00      0.00      0.00        22\n",
    "       厂商不给力       0.80      0.46      0.58       351\n",
    "        厂商良心       0.00      0.00      0.00       190\n",
    "         太肝了       0.91      0.08      0.15       252\n",
    "        尊重原著       0.00      0.00      0.00        68\n",
    "        平衡性好       0.00      0.00      0.00        22\n",
    "        平衡性差       0.00      0.00      0.00       105\n",
    "        广告太多       0.00      0.00      0.00        84\n",
    "       广告影响小       0.00      0.00      0.00         4\n",
    "        抄袭嫌疑       0.00      0.00      0.00        65\n",
    "          护肝       0.00      0.00      0.00         9\n",
    "       抽卡概率低       0.00      0.00      0.00       151\n",
    "       抽卡概率高       0.00      0.00      0.00        50\n",
    "        操作简单       0.00      0.00      0.00         5\n",
    "        操作麻烦       0.00      0.00      0.00         4\n",
    "        新手友好       0.00      0.00      0.00       195\n",
    "         有创新       0.00      0.00      0.00         4\n",
    "        有趣好玩       0.82      0.63      0.71       952\n",
    "       玩家互动多       0.00      0.00      0.00        58\n",
    "       玩家互动少       0.00      0.00      0.00        11\n",
    "        玩法较差       0.00      0.00      0.00       136\n",
    "        画面优良       0.84      0.85      0.84       732\n",
    "        画面粗糙       0.00      0.00      0.00        12\n",
    "         福利好       0.00      0.00      0.00       113\n",
    "         福利差       0.00      0.00      0.00         7\n",
    "        自由度低       0.00      0.00      0.00         1\n",
    "        自由度高       0.95      0.43      0.59       134\n",
    "        过于氪金       0.82      0.88      0.85      1794\n",
    "        运营不足       0.80      0.72      0.76       849\n",
    "        运营给力       0.00      0.00      0.00       120\n",
    "       配置要求低       0.00      0.00      0.00         8\n",
    "       配置要求高       0.00      0.00      0.00         3\n",
    "        音效很棒       0.93      0.24      0.38       119\n",
    "        音效较差       0.00      0.00      0.00         3"
   ]
  },
  {
   "cell_type": "raw",
   "id": "overall-school",
   "metadata": {},
   "source": [
    "hfl/chinese-bert-wwm-ext\n",
    "\n",
    "              precision    recall  f1-score   support\n",
    "\n",
    "       IP还原差       0.00      0.00      0.00        17\n",
    "       UI体验好       0.00      0.00      0.00        44\n",
    "       UI体验差       0.00      0.00      0.00        68\n",
    "       上手难度大       0.00      0.00      0.00       185\n",
    "        优化相关       0.00      0.00      0.00        66\n",
    "        体验不错       0.82      0.72      0.77       943\n",
    "        体验较差       0.80      0.15      0.25       419\n",
    "        值得花钱       0.00      0.00      0.00       291\n",
    "        剧情丰富       0.73      0.92      0.81       391\n",
    "        剧情单调       0.00      0.00      0.00        22\n",
    "       厂商不给力       1.00      0.03      0.05       351\n",
    "        厂商良心       0.00      0.00      0.00       190\n",
    "         太肝了       0.00      0.00      0.00       252\n",
    "        尊重原著       0.00      0.00      0.00        68\n",
    "        平衡性好       0.00      0.00      0.00        22\n",
    "        平衡性差       0.00      0.00      0.00       105\n",
    "        广告太多       0.00      0.00      0.00        84\n",
    "       广告影响小       0.00      0.00      0.00         4\n",
    "        抄袭嫌疑       0.00      0.00      0.00        65\n",
    "          护肝       0.00      0.00      0.00         9\n",
    "       抽卡概率低       0.00      0.00      0.00       151\n",
    "       抽卡概率高       0.00      0.00      0.00        50\n",
    "        操作简单       0.00      0.00      0.00         5\n",
    "        操作麻烦       0.00      0.00      0.00         4\n",
    "        新手友好       0.00      0.00      0.00       195\n",
    "         有创新       0.00      0.00      0.00         4\n",
    "        有趣好玩       0.86      0.58      0.69       952\n",
    "       玩家互动多       0.00      0.00      0.00        58\n",
    "       玩家互动少       0.00      0.00      0.00        11\n",
    "        玩法较差       0.00      0.00      0.00       136\n",
    "        画面优良       0.86      0.81      0.83       732\n",
    "        画面粗糙       0.00      0.00      0.00        12\n",
    "         福利好       0.00      0.00      0.00       113\n",
    "         福利差       0.00      0.00      0.00         7\n",
    "        自由度低       0.00      0.00      0.00         1\n",
    "        自由度高       0.00      0.00      0.00       134\n",
    "        过于氪金       0.84      0.88      0.86      1794\n",
    "        运营不足       0.81      0.78      0.79       849\n",
    "        运营给力       0.00      0.00      0.00       120\n",
    "       配置要求低       0.00      0.00      0.00         8\n",
    "       配置要求高       0.00      0.00      0.00         3\n",
    "        音效很棒       0.00      0.00      0.00       119\n",
    "        音效较差       0.00      0.00      0.00         3"
   ]
  },
  {
   "cell_type": "raw",
   "id": "passive-easter",
   "metadata": {},
   "source": [
    "hfl/chinese-roberta-wwm-ext\n",
    "\n",
    "              precision    recall  f1-score   support\n",
    "\n",
    "       IP还原差       0.00      0.00      0.00        17\n",
    "       UI体验好       0.00      0.00      0.00        44\n",
    "       UI体验差       0.00      0.00      0.00        68\n",
    "       上手难度大       0.00      0.00      0.00       185\n",
    "        优化相关       0.00      0.00      0.00        66\n",
    "        体验不错       0.79      0.66      0.72       943\n",
    "        体验较差       0.77      0.04      0.08       419\n",
    "        值得花钱       0.00      0.00      0.00       291\n",
    "        剧情丰富       0.79      0.90      0.84       391\n",
    "        剧情单调       0.00      0.00      0.00        22\n",
    "       厂商不给力       0.82      0.50      0.62       351\n",
    "        厂商良心       0.00      0.00      0.00       190\n",
    "         太肝了       0.00      0.00      0.00       252\n",
    "        尊重原著       0.00      0.00      0.00        68\n",
    "        平衡性好       0.00      0.00      0.00        22\n",
    "        平衡性差       0.00      0.00      0.00       105\n",
    "        广告太多       0.00      0.00      0.00        84\n",
    "       广告影响小       0.00      0.00      0.00         4\n",
    "        抄袭嫌疑       0.00      0.00      0.00        65\n",
    "          护肝       0.00      0.00      0.00         9\n",
    "       抽卡概率低       0.00      0.00      0.00       151\n",
    "       抽卡概率高       0.00      0.00      0.00        50\n",
    "        操作简单       0.00      0.00      0.00         5\n",
    "        操作麻烦       0.00      0.00      0.00         4\n",
    "        新手友好       0.00      0.00      0.00       195\n",
    "         有创新       0.00      0.00      0.00         4\n",
    "        有趣好玩       0.83      0.63      0.72       952\n",
    "       玩家互动多       0.00      0.00      0.00        58\n",
    "       玩家互动少       0.00      0.00      0.00        11\n",
    "        玩法较差       0.00      0.00      0.00       136\n",
    "        画面优良       0.83      0.82      0.83       732\n",
    "        画面粗糙       0.00      0.00      0.00        12\n",
    "         福利好       0.00      0.00      0.00       113\n",
    "         福利差       0.00      0.00      0.00         7\n",
    "        自由度低       0.00      0.00      0.00         1\n",
    "        自由度高       0.00      0.00      0.00       134\n",
    "        过于氪金       0.84      0.86      0.85      1794\n",
    "        运营不足       0.82      0.67      0.74       849\n",
    "        运营给力       0.00      0.00      0.00       120\n",
    "       配置要求低       0.00      0.00      0.00         8\n",
    "       配置要求高       0.00      0.00      0.00         3\n",
    "        音效很棒       0.00      0.00      0.00       119\n",
    "        音效较差       0.00      0.00      0.00         3"
   ]
  },
  {
   "cell_type": "raw",
   "id": "neither-fever",
   "metadata": {},
   "source": [
    "chinese-roberta-wwm-ext-large\n",
    "\n"
   ]
  },
  {
   "cell_type": "raw",
   "id": "judicial-charity",
   "metadata": {},
   "source": [
    "chinese-macbert-base\n",
    "\n",
    "              precision    recall  f1-score   support\n",
    "\n",
    "       IP还原差       0.00      0.00      0.00        17\n",
    "       UI体验好       0.00      0.00      0.00        44\n",
    "       UI体验差       0.00      0.00      0.00        68\n",
    "       上手难度大       0.79      0.42      0.54       185\n",
    "        优化相关       0.00      0.00      0.00        66\n",
    "        体验不错       0.81      0.77      0.79       943\n",
    "        体验较差       0.81      0.27      0.40       419\n",
    "        值得花钱       0.86      0.20      0.32       291\n",
    "        剧情丰富       0.88      0.70      0.78       391\n",
    "        剧情单调       0.00      0.00      0.00        22\n",
    "       厂商不给力       0.86      0.40      0.54       351\n",
    "        厂商良心       0.89      0.31      0.45       190\n",
    "         太肝了       1.00      0.01      0.02       252\n",
    "        尊重原著       0.00      0.00      0.00        68\n",
    "        平衡性好       0.00      0.00      0.00        22\n",
    "        平衡性差       0.00      0.00      0.00       105\n",
    "        广告太多       0.00      0.00      0.00        84\n",
    "       广告影响小       0.00      0.00      0.00         4\n",
    "        抄袭嫌疑       0.00      0.00      0.00        65\n",
    "          护肝       0.00      0.00      0.00         9\n",
    "       抽卡概率低       0.00      0.00      0.00       151\n",
    "       抽卡概率高       0.00      0.00      0.00        50\n",
    "        操作简单       0.00      0.00      0.00         5\n",
    "        操作麻烦       0.00      0.00      0.00         4\n",
    "        新手友好       0.85      0.48      0.61       195\n",
    "         有创新       0.00      0.00      0.00         4\n",
    "        有趣好玩       0.89      0.67      0.76       952\n",
    "       玩家互动多       0.00      0.00      0.00        58\n",
    "       玩家互动少       0.00      0.00      0.00        11\n",
    "        玩法较差       0.00      0.00      0.00       136\n",
    "        画面优良       0.90      0.83      0.87       732\n",
    "        画面粗糙       0.00      0.00      0.00        12\n",
    "         福利好       1.00      0.02      0.03       113\n",
    "         福利差       0.00      0.00      0.00         7\n",
    "        自由度低       0.00      0.00      0.00         1\n",
    "        自由度高       0.96      0.51      0.67       134\n",
    "        过于氪金       0.87      0.81      0.84      1794\n",
    "        运营不足       0.75      0.87      0.81       849\n",
    "        运营给力       0.00      0.00      0.00       120\n",
    "       配置要求低       0.00      0.00      0.00         8\n",
    "       配置要求高       0.00      0.00      0.00         3\n",
    "        音效很棒       0.95      0.33      0.49       119\n",
    "        音效较差       0.00      0.00      0.00         3"
   ]
  },
  {
   "cell_type": "raw",
   "id": "younger-cooler",
   "metadata": {},
   "source": [
    "ckiplab/bert-base-chinese\n",
    "\n",
    "              precision    recall  f1-score   support\n",
    "\n",
    "       IP还原差       0.00      0.00      0.00        17\n",
    "       UI体验好       0.00      0.00      0.00        44\n",
    "       UI体验差       0.00      0.00      0.00        68\n",
    "       上手难度大       0.68      0.58      0.63       185\n",
    "        优化相关       0.00      0.00      0.00        66\n",
    "        体验不错       0.82      0.71      0.76       943\n",
    "        体验较差       0.79      0.07      0.13       419\n",
    "        值得花钱       0.72      0.26      0.39       291\n",
    "        剧情丰富       0.87      0.73      0.79       391\n",
    "        剧情单调       0.00      0.00      0.00        22\n",
    "       厂商不给力       0.77      0.65      0.70       351\n",
    "        厂商良心       0.76      0.65      0.70       190\n",
    "         太肝了       0.00      0.00      0.00       252\n",
    "        尊重原著       0.00      0.00      0.00        68\n",
    "        平衡性好       0.00      0.00      0.00        22\n",
    "        平衡性差       0.00      0.00      0.00       105\n",
    "        广告太多       0.82      0.50      0.62        84\n",
    "       广告影响小       0.00      0.00      0.00         4\n",
    "        抄袭嫌疑       0.00      0.00      0.00        65\n",
    "          护肝       0.00      0.00      0.00         9\n",
    "       抽卡概率低       0.00      0.00      0.00       151\n",
    "       抽卡概率高       0.00      0.00      0.00        50\n",
    "        操作简单       0.00      0.00      0.00         5\n",
    "        操作麻烦       0.00      0.00      0.00         4\n",
    "        新手友好       0.90      0.37      0.53       195\n",
    "         有创新       0.00      0.00      0.00         4\n",
    "        有趣好玩       0.89      0.65      0.75       952\n",
    "       玩家互动多       0.00      0.00      0.00        58\n",
    "       玩家互动少       0.00      0.00      0.00        11\n",
    "        玩法较差       0.00      0.00      0.00       136\n",
    "        画面优良       0.85      0.88      0.87       732\n",
    "        画面粗糙       0.00      0.00      0.00        12\n",
    "         福利好       0.81      0.71      0.75       113\n",
    "         福利差       0.00      0.00      0.00         7\n",
    "        自由度低       0.00      0.00      0.00         1\n",
    "        自由度高       0.93      0.50      0.65       134\n",
    "        过于氪金       0.85      0.83      0.84      1794\n",
    "        运营不足       0.79      0.73      0.76       849\n",
    "        运营给力       0.00      0.00      0.00       120\n",
    "       配置要求低       0.00      0.00      0.00         8\n",
    "       配置要求高       0.00      0.00      0.00         3\n",
    "        音效很棒       0.81      0.21      0.33       119\n",
    "        音效较差       0.00      0.00      0.00         3"
   ]
  },
  {
   "cell_type": "raw",
   "id": "sealed-south",
   "metadata": {},
   "source": [
    "ckiplab/albert-tiny-chinese\n",
    "\n"
   ]
  },
  {
   "cell_type": "code",
   "execution_count": 47,
   "id": "czech-response",
   "metadata": {},
   "outputs": [
    {
     "name": "stdout",
     "output_type": "stream",
     "text": [
      "Saved\n"
     ]
    }
   ],
   "source": [
    "# Saving the files for inference\n",
    "\n",
    "output_model_file = './model/chinese-bert-wwm-ext.bin'\n",
    "output_vocab_file = './model/vocab_chinese-bert-wwm-ext.bin'\n",
    "\n",
    "torch.save(model, output_model_file)\n",
    "tokenizer.save_vocabulary(output_vocab_file)\n",
    "\n",
    "print('Saved')"
   ]
  },
  {
   "cell_type": "markdown",
   "id": "fixed-genre",
   "metadata": {},
   "source": [
    "## Ref"
   ]
  },
  {
   "cell_type": "markdown",
   "id": "active-bruce",
   "metadata": {},
   "source": [
    "[1] https://scikit-learn.org/stable/modules/generated/sklearn.preprocessing.MultiLabelBinarizer.html"
   ]
  },
  {
   "cell_type": "markdown",
   "id": "fifteen-nelson",
   "metadata": {},
   "source": [
    "[2] https://huggingface.co/hfl/chinese-bert-wwm <br>\n",
    "[3] https://huggingface.co/hfl/chinese-bert-wwm-ext <br>\n",
    "\n",
    "[4] https://huggingface.co/hfl/chinese-roberta-wwm-ext <br>\n",
    "[5] https://huggingface.co/hfl/chinese-roberta-wwm-ext-large <br>\n",
    "\n",
    "[6] https://huggingface.co/hfl/chinese-macbert-base"
   ]
  },
  {
   "cell_type": "markdown",
   "id": "forward-valve",
   "metadata": {},
   "source": [
    "[7] https://huggingface.co/ckiplab/bert-base-chinese <br>\n",
    "[8] https://huggingface.co/ckiplab/albert-tiny-chinese"
   ]
  }
 ],
 "metadata": {
  "kernelspec": {
   "display_name": "Python 3",
   "language": "python",
   "name": "python3"
  },
  "language_info": {
   "codemirror_mode": {
    "name": "ipython",
    "version": 3
   },
   "file_extension": ".py",
   "mimetype": "text/x-python",
   "name": "python",
   "nbconvert_exporter": "python",
   "pygments_lexer": "ipython3",
   "version": "3.7.9"
  }
 },
 "nbformat": 4,
 "nbformat_minor": 5
}
