{
 "cells": [
  {
   "cell_type": "code",
   "execution_count": null,
   "id": "positive-essex",
   "metadata": {},
   "outputs": [],
   "source": [
    "import os\n",
    "import json\n",
    "import math\n",
    "import torch\n",
    "import pickle\n",
    "import pathlib\n",
    "import shutil\n",
    "import warnings\n",
    "import transformers\n",
    "\n",
    "import numpy as np\n",
    "import pandas as pd\n",
    "import plotly.express as px"
   ]
  },
  {
   "cell_type": "code",
   "execution_count": null,
   "id": "explicit-yield",
   "metadata": {},
   "outputs": [],
   "source": [
    "from pathlib import Path\n",
    "from itertools import chain\n",
    "from tqdm import tqdm"
   ]
  },
  {
   "cell_type": "code",
   "execution_count": null,
   "id": "allied-fields",
   "metadata": {},
   "outputs": [],
   "source": [
    "from sklearn import metrics\n",
    "from sklearn.preprocessing import MultiLabelBinarizer\n",
    "from sklearn.metrics import classification_report\n",
    "\n",
    "from torch.utils.data import Dataset\n",
    "from torch.utils.data import DataLoader\n",
    "\n",
    "from transformers import BertTokenizer\n",
    "from transformers import BertModel"
   ]
  },
  {
   "cell_type": "code",
   "execution_count": null,
   "id": "protected-record",
   "metadata": {},
   "outputs": [],
   "source": [
    "import nbimporter\n",
    "\n",
    "from classify_comment_taptap_model import BERTClass"
   ]
  },
  {
   "cell_type": "markdown",
   "id": "color-nitrogen",
   "metadata": {},
   "source": [
    "best model, loss, epoch\n",
    "last  model,       , epoch"
   ]
  },
  {
   "cell_type": "code",
   "execution_count": null,
   "id": "sorted-situation",
   "metadata": {},
   "outputs": [],
   "source": [
    "def clean(flag, first_round):\n",
    "    if first_round: \n",
    "        warnings.warn(f'1st round, path ./model/{flag} will be removed if exists!')\n",
    "        path = os.path.join('./model', flag)\n",
    "        shutil.rmtree(path, ignore_errors=True)"
   ]
  },
  {
   "cell_type": "code",
   "execution_count": null,
   "id": "announced-albert",
   "metadata": {},
   "outputs": [],
   "source": [
    "def load_or_create_model(flag, model_name=None, mlb=None, device='cpu'):\n",
    "    \"\"\" models split into best, last, epoch flaged\n",
    "    \"\"\"\n",
    "    path = os.path.join('./model', flag)\n",
    "    path_model_last = os.path.join(path, 'last.bin')\n",
    "    \n",
    "    # no dir exist\n",
    "    if not os.path.exists(path):\n",
    "        # os.mkdir(path)\n",
    "        pathlib.Path(path).mkdir(parents=True)\n",
    "    \n",
    "    model = BERTClass(model_name, mlb) if not os.path.exists(path_model_last) else torch.load(path_model_last)\n",
    "    model.to(device)\n",
    "    \n",
    "    return model"
   ]
  },
  {
   "cell_type": "code",
   "execution_count": null,
   "id": "consolidated-preserve",
   "metadata": {},
   "outputs": [],
   "source": [
    "def better_loss(loss1, loss2):\n",
    "    return loss1[0] < loss2[0] and loss1[1] < loss2[1]"
   ]
  },
  {
   "cell_type": "code",
   "execution_count": null,
   "id": "alone-closer",
   "metadata": {},
   "outputs": [],
   "source": [
    "# find and save best model\n",
    "\n",
    "def create_or_update_best(flag, model, loss, epoch):\n",
    "    path = os.path.join('./model', flag)\n",
    "    path_best_epoch = os.path.join(path, 'best.epoch')\n",
    "    path_best_model = os.path.join(path, 'best.bin')\n",
    "    path_best_loss = os.path.join(path, 'best.loss')\n",
    "    \n",
    "    \n",
    "    # not exist\n",
    "    if not os.path.exists(path_best_model):\n",
    "        with open(path_best_epoch, 'wb') as f:\n",
    "            pickle.dump(epoch, f)\n",
    "            \n",
    "        print(f'current best, epoch accumulate: {epoch}')\n",
    "        \n",
    "        torch.save(model, path_best_model)\n",
    "        with open(path_best_loss, 'wb') as f:\n",
    "            pickle.dump(loss, f)\n",
    "        return\n",
    "    \n",
    "    \n",
    "    # exists\n",
    "    with open(path_best_loss, 'rb') as f:\n",
    "        history_best_loss = pickle.load(f)\n",
    "    \n",
    "    if better_loss(loss, history_best_loss):\n",
    "        # best epoch\n",
    "        best_epoch = load_or_create_acc_epoch(flag) + epoch\n",
    "        with open(path_best_epoch, 'wb') as f:\n",
    "            pickle.dump(best_epoch, f)\n",
    "        \n",
    "        print(f'current best, epoch accumulate: {best_epoch}')\n",
    "        \n",
    "        # best model\n",
    "        torch.save(model, path_best_model)\n",
    "        # best loss\n",
    "        with open(path_best_loss, 'wb') as f:\n",
    "            pickle.dump(loss, f)"
   ]
  },
  {
   "cell_type": "code",
   "execution_count": null,
   "id": "obvious-found",
   "metadata": {},
   "outputs": [],
   "source": [
    "def load_best(flag):\n",
    "    path = os.path.join('./model', flag)\n",
    "    path_best_model = os.path.join(path, 'best.bin')\n",
    "    return torch.load(path_best_model)"
   ]
  },
  {
   "cell_type": "code",
   "execution_count": null,
   "id": "inappropriate-waters",
   "metadata": {},
   "outputs": [],
   "source": [
    "def load_acc_epoch(flag):\n",
    "    path = os.path.join('./model', flag)\n",
    "    path_epoch = os.path.join(path, 'last.epoch')\n",
    "    \n",
    "    with open(path_epoch, 'rb') as f:\n",
    "        return pickle.load(f)"
   ]
  },
  {
   "cell_type": "code",
   "execution_count": null,
   "id": "christian-edition",
   "metadata": {},
   "outputs": [],
   "source": [
    "def load_or_create_acc_epoch(flag, epoch=0):\n",
    "    path = os.path.join('./model', flag)\n",
    "    path_epoch = os.path.join(path, 'last.epoch')\n",
    "    \n",
    "    # non exist\n",
    "    if not os.path.exists(path_epoch):\n",
    "        with open(path_epoch, 'wb') as f:\n",
    "            pickle.dump(epoch, f)\n",
    "        return epoch\n",
    "    \n",
    "    # exists\n",
    "    with open(path_epoch, 'rb') as f:\n",
    "        history_epoch = pickle.load(f)\n",
    "        \n",
    "    acc_epoch = history_epoch + epoch\n",
    "    with open(path_epoch, 'wb') as f:\n",
    "        pickle.dump(acc_epoch, f)\n",
    "        \n",
    "    return acc_epoch"
   ]
  },
  {
   "cell_type": "code",
   "execution_count": null,
   "id": "central-ordinance",
   "metadata": {},
   "outputs": [],
   "source": [
    "# find and save best model\n",
    "\n",
    "def create_or_update_last(flag, model, epoch):\n",
    "    path = os.path.join('./model', flag)\n",
    "    path_last_model = os.path.join(path, 'last.bin')\n",
    "    \n",
    "    \n",
    "    # not exist\n",
    "    acc_epoch = load_or_create_acc_epoch(flag, epoch)\n",
    "    print(f'last epoch accumulate: {acc_epoch}')\n",
    "        \n",
    "    torch.save(model, path_last_model)"
   ]
  },
  {
   "cell_type": "raw",
   "id": "native-portal",
   "metadata": {},
   "source": [
    "# save current model, auto increment\n",
    "\n",
    "# for next train use, such as best epoch 5, but current trained 10 epoch, \n",
    "# for continue train the best epoch maybe 15,\n",
    "# if use best epoch 5, the next time, the train process from epoch 5 to 10 is repeated, and waste time\n",
    "\n",
    "def save_current_model(model, flag, epoch):\n",
    "    path = os.path.join('./model', flag)\n",
    "    torch.save(model, os.path.join(path, '%s.bin' % load_or_create_acc_epoch(flag, epoch)))"
   ]
  },
  {
   "cell_type": "code",
   "execution_count": null,
   "id": "satisfied-people",
   "metadata": {},
   "outputs": [],
   "source": [
    "# save train loss, auto increment\n",
    "\n",
    "def create_or_update_loss(flag, loss):\n",
    "    path = os.path.join('./model', flag)\n",
    "    path_loss = os.path.join(path, 'loss')\n",
    "    \n",
    "    # non exist\n",
    "    if not os.path.exists(path_loss):\n",
    "        with open(path_loss, 'wb') as f:\n",
    "            pickle.dump(loss, f)\n",
    "        return\n",
    "    \n",
    "    # exists\n",
    "    with open(path_loss, 'rb') as f:\n",
    "        history_loss = pickle.load(f)\n",
    "        \n",
    "    with open(path_loss, 'wb') as f:\n",
    "        pickle.dump(history_loss+loss, f)"
   ]
  },
  {
   "cell_type": "code",
   "execution_count": null,
   "id": "waiting-formula",
   "metadata": {},
   "outputs": [],
   "source": [
    "# load exist loss\n",
    "\n",
    "def load_loss(flag):\n",
    "    path = os.path.join('./model', flag)\n",
    "    path_loss = os.path.join(path, 'loss')\n",
    "    \n",
    "    with open(path_loss, 'rb') as f:\n",
    "        loss = pickle.load(f)\n",
    "        \n",
    "    return loss"
   ]
  },
  {
   "cell_type": "code",
   "execution_count": null,
   "id": "equivalent-collins",
   "metadata": {},
   "outputs": [],
   "source": [
    "# plot loss, with history\n",
    "\n",
    "def plot_loss(flag):\n",
    "    loss = load_loss(flag)\n",
    "    \n",
    "    df = pd.DataFrame(loss, columns=['train', 'test'])\n",
    "    #print(df)\n",
    "    \n",
    "    df = df.stack()\n",
    "    df.name = 'loss'\n",
    "    df = df.reset_index().rename(columns={'level_0':'epoch', 'level_1':'stage'})\n",
    "    df.loc[:, 'epoch'] += 1\n",
    "    \n",
    "    fig = px.line(df, x=\"epoch\", y=\"loss\", color='stage')\n",
    "    fig.show()\n",
    "    \n",
    "    return df"
   ]
  }
 ],
 "metadata": {
  "kernelspec": {
   "display_name": "Python 3",
   "language": "python",
   "name": "python3"
  },
  "language_info": {
   "codemirror_mode": {
    "name": "ipython",
    "version": 3
   },
   "file_extension": ".py",
   "mimetype": "text/x-python",
   "name": "python",
   "nbconvert_exporter": "python",
   "pygments_lexer": "ipython3",
   "version": "3.7.9"
  }
 },
 "nbformat": 4,
 "nbformat_minor": 5
}
