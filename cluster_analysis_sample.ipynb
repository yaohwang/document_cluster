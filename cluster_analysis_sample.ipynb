{
 "cells": [
  {
   "cell_type": "code",
   "execution_count": 1,
   "metadata": {},
   "outputs": [],
   "source": [
    "import os\n",
    "import re\n",
    "import nltk\n",
    "import mpld3\n",
    "import joblib\n",
    "import string\n",
    "import codecs\n",
    "# import sklearn.externals\n",
    "import numpy as np\n",
    "import pandas as pd\n",
    "import matplotlib as mpl\n",
    "import matplotlib.pyplot as plt\n",
    "\n",
    "from bs4 import BeautifulSoup\n",
    "from itertools import chain\n",
    "from functools import partial\n",
    "\n",
    "from nltk.tag import pos_tag\n",
    "from nltk.stem.snowball import SnowballStemmer\n",
    "\n",
    "from sklearn.manifold import MDS\n",
    "from sklearn.cluster import KMeans\n",
    "from sklearn import feature_extraction\n",
    "from sklearn.metrics.pairwise import cosine_similarity\n",
    "from sklearn.feature_extraction.text import TfidfVectorizer\n",
    "\n",
    "from scipy.cluster.hierarchy import ward\n",
    "from scipy.cluster.hierarchy import dendrogram\n",
    "\n",
    "from gensim import corpora\n",
    "from gensim import models\n",
    "from gensim import similarities "
   ]
  },
  {
   "cell_type": "code",
   "execution_count": 2,
   "metadata": {},
   "outputs": [],
   "source": [
    "%matplotlib inline"
   ]
  },
  {
   "cell_type": "code",
   "execution_count": 3,
   "metadata": {},
   "outputs": [
    {
     "data": {
      "text/html": [
       "<style>\n",
       "table {float:left}\n",
       "</style>\n"
      ],
      "text/plain": [
       "<IPython.core.display.HTML object>"
      ]
     },
     "metadata": {},
     "output_type": "display_data"
    }
   ],
   "source": [
    "%%html\n",
    "<style>\n",
    "table {float:left}\n",
    "</style>"
   ]
  },
  {
   "cell_type": "markdown",
   "metadata": {},
   "source": [
    "# Data"
   ]
  },
  {
   "cell_type": "markdown",
   "metadata": {},
   "source": [
    "## load"
   ]
  },
  {
   "cell_type": "code",
   "execution_count": 4,
   "metadata": {},
   "outputs": [],
   "source": [
    "#import three lists: titles, links and wikipedia synopses\n",
    "titles = open('title_list.txt').read().split('\\n')\n",
    "links = open('link_list_imdb.txt').read().split('\\n')\n",
    "synopses_wiki = open('synopses_list_wiki.txt').read().split('\\n BREAKS HERE')\n",
    "genres = open('genres_list.txt').read().split('\\n')\n",
    "synopses_imdb = open('synopses_list_imdb.txt').read().split('\\n BREAKS HERE')"
   ]
  },
  {
   "cell_type": "markdown",
   "metadata": {},
   "source": [
    "## etl"
   ]
  },
  {
   "cell_type": "code",
   "execution_count": 5,
   "metadata": {},
   "outputs": [],
   "source": [
    "n = 100\n",
    "\n",
    "titles = titles[:n]\n",
    "links = links[:n]\n",
    "synopses_wiki = synopses_wiki[:n]\n",
    "genres = genres[:n]\n",
    "synopses_imdb = synopses_imdb[:n]"
   ]
  },
  {
   "cell_type": "code",
   "execution_count": 6,
   "metadata": {},
   "outputs": [],
   "source": [
    "synopses_clean_wiki = []\n",
    "for text in synopses_wiki:\n",
    "    text = BeautifulSoup(text, 'html.parser').getText()\n",
    "    #strips html formatting and converts to unicode\n",
    "    synopses_clean_wiki.append(text)\n",
    "\n",
    "synopses_wiki = synopses_clean_wiki"
   ]
  },
  {
   "cell_type": "code",
   "execution_count": 7,
   "metadata": {},
   "outputs": [],
   "source": [
    "synopses_clean_imdb = []\n",
    "\n",
    "for text in synopses_imdb:\n",
    "    text = BeautifulSoup(text, 'html.parser').getText()\n",
    "    #strips html formatting and converts to unicode\n",
    "    synopses_clean_imdb.append(text)\n",
    "\n",
    "synopses_imdb = synopses_clean_imdb"
   ]
  },
  {
   "cell_type": "code",
   "execution_count": 8,
   "metadata": {},
   "outputs": [],
   "source": [
    "synopses = []\n",
    "\n",
    "for i in range(len(synopses_wiki)):\n",
    "    item = synopses_wiki[i] + synopses_imdb[i]\n",
    "    synopses.append(item)"
   ]
  },
  {
   "cell_type": "code",
   "execution_count": 9,
   "metadata": {},
   "outputs": [],
   "source": [
    "ranks = range(len(titles))"
   ]
  },
  {
   "cell_type": "code",
   "execution_count": 10,
   "metadata": {},
   "outputs": [
    {
     "name": "stdout",
     "output_type": "stream",
     "text": [
      "100 titles\n",
      "100 links\n",
      "100 synopses\n",
      "100 genres\n"
     ]
    }
   ],
   "source": [
    "print(str(len(titles)) + ' titles')\n",
    "print(str(len(links)) + ' links')\n",
    "print(str(len(synopses_wiki)) + ' synopses')\n",
    "print(str(len(genres)) + ' genres')"
   ]
  },
  {
   "cell_type": "markdown",
   "metadata": {},
   "source": [
    "## table"
   ]
  },
  {
   "cell_type": "markdown",
   "metadata": {},
   "source": [
    "films, 电影\n",
    "\n",
    "| 字段名| 字段说明 |\n",
    "| :-- | :-- |\n",
    "| title | 名称 |\n",
    "| rank | 排名 |\n",
    "| synopses | 概要 |\n",
    "| genres | 流派 |"
   ]
  },
  {
   "cell_type": "code",
   "execution_count": 11,
   "metadata": {},
   "outputs": [],
   "source": [
    "films = { 'title': titles, 'rank': ranks, 'synopsis': synopses, 'genre': genres}\n",
    "df_films = pd.DataFrame(films)"
   ]
  },
  {
   "cell_type": "code",
   "execution_count": 12,
   "metadata": {},
   "outputs": [
    {
     "data": {
      "text/plain": [
       "(100, 4)"
      ]
     },
     "execution_count": 12,
     "metadata": {},
     "output_type": "execute_result"
    }
   ],
   "source": [
    "df_films.shape"
   ]
  },
  {
   "cell_type": "code",
   "execution_count": 13,
   "metadata": {},
   "outputs": [
    {
     "data": {
      "text/html": [
       "<div>\n",
       "<style scoped>\n",
       "    .dataframe tbody tr th:only-of-type {\n",
       "        vertical-align: middle;\n",
       "    }\n",
       "\n",
       "    .dataframe tbody tr th {\n",
       "        vertical-align: top;\n",
       "    }\n",
       "\n",
       "    .dataframe thead th {\n",
       "        text-align: right;\n",
       "    }\n",
       "</style>\n",
       "<table border=\"1\" class=\"dataframe\">\n",
       "  <thead>\n",
       "    <tr style=\"text-align: right;\">\n",
       "      <th></th>\n",
       "      <th>title</th>\n",
       "      <th>rank</th>\n",
       "      <th>synopsis</th>\n",
       "      <th>genre</th>\n",
       "    </tr>\n",
       "  </thead>\n",
       "  <tbody>\n",
       "    <tr>\n",
       "      <th>0</th>\n",
       "      <td>The Godfather</td>\n",
       "      <td>0</td>\n",
       "      <td>Plot  [edit]  [  [  edit  edit  ]  ]  \\n  On ...</td>\n",
       "      <td>[u' Crime', u' Drama']</td>\n",
       "    </tr>\n",
       "  </tbody>\n",
       "</table>\n",
       "</div>"
      ],
      "text/plain": [
       "           title  rank                                           synopsis  \\\n",
       "0  The Godfather     0   Plot  [edit]  [  [  edit  edit  ]  ]  \\n  On ...   \n",
       "\n",
       "                    genre  \n",
       "0  [u' Crime', u' Drama']  "
      ]
     },
     "execution_count": 13,
     "metadata": {},
     "output_type": "execute_result"
    }
   ],
   "source": [
    "df_films.head(1)"
   ]
  },
  {
   "cell_type": "markdown",
   "metadata": {},
   "source": [
    "# Preprocess"
   ]
  },
  {
   "cell_type": "markdown",
   "metadata": {},
   "source": [
    "## tokenizing"
   ]
  },
  {
   "cell_type": "code",
   "execution_count": 14,
   "metadata": {},
   "outputs": [],
   "source": [
    "def tokenize(stemmer, text):\n",
    "    tokens = [word for sent in nltk.sent_tokenize(text) for word in nltk.word_tokenize(sent)]\n",
    "    filtered_tokens = [token for token in tokens if re.search('[a-zA-Z]', token)]\n",
    "    stemmed = [stemmer.stem(t) for t in filtered_tokens]\n",
    "    return filtered_tokens, stemmed"
   ]
  },
  {
   "cell_type": "code",
   "execution_count": 15,
   "metadata": {
    "scrolled": false
   },
   "outputs": [
    {
     "name": "stderr",
     "output_type": "stream",
     "text": [
      "[nltk_data] Downloading package punkt to /home/wangyh/nltk_data...\n",
      "[nltk_data]   Package punkt is already up-to-date!\n"
     ]
    }
   ],
   "source": [
    "nltk.download('punkt')\n",
    "stemmer = SnowballStemmer(\"english\")"
   ]
  },
  {
   "cell_type": "code",
   "execution_count": 16,
   "metadata": {},
   "outputs": [],
   "source": [
    "totalvocab_tokenized, totalvocab_stemmed = zip(*map(partial(tokenize, stemmer), synopses))\n",
    "totalvocab_tokenized = chain.from_iterable(totalvocab_tokenized)\n",
    "totalvocab_stemmed = chain.from_iterable(totalvocab_stemmed)"
   ]
  },
  {
   "cell_type": "code",
   "execution_count": 17,
   "metadata": {},
   "outputs": [],
   "source": [
    "df_tokens = pd.DataFrame({'words': totalvocab_tokenized}, index = totalvocab_stemmed)"
   ]
  },
  {
   "cell_type": "code",
   "execution_count": 18,
   "metadata": {
    "scrolled": true
   },
   "outputs": [
    {
     "data": {
      "text/html": [
       "<div>\n",
       "<style scoped>\n",
       "    .dataframe tbody tr th:only-of-type {\n",
       "        vertical-align: middle;\n",
       "    }\n",
       "\n",
       "    .dataframe tbody tr th {\n",
       "        vertical-align: top;\n",
       "    }\n",
       "\n",
       "    .dataframe thead th {\n",
       "        text-align: right;\n",
       "    }\n",
       "</style>\n",
       "<table border=\"1\" class=\"dataframe\">\n",
       "  <thead>\n",
       "    <tr style=\"text-align: right;\">\n",
       "      <th></th>\n",
       "      <th>words</th>\n",
       "    </tr>\n",
       "  </thead>\n",
       "  <tbody>\n",
       "    <tr>\n",
       "      <th>plot</th>\n",
       "      <td>Plot</td>\n",
       "    </tr>\n",
       "  </tbody>\n",
       "</table>\n",
       "</div>"
      ],
      "text/plain": [
       "     words\n",
       "plot  Plot"
      ]
     },
     "execution_count": 18,
     "metadata": {},
     "output_type": "execute_result"
    }
   ],
   "source": [
    "df_tokens.head(1)"
   ]
  },
  {
   "cell_type": "markdown",
   "metadata": {},
   "source": [
    "# Embedding"
   ]
  },
  {
   "cell_type": "markdown",
   "metadata": {},
   "source": [
    "## n-dim"
   ]
  },
  {
   "cell_type": "code",
   "execution_count": 19,
   "metadata": {},
   "outputs": [],
   "source": [
    "def tokenizer(stemmer, text):\n",
    "    _, stemmed = tokenize(stemmer, text)\n",
    "    return stemmed"
   ]
  },
  {
   "cell_type": "code",
   "execution_count": 20,
   "metadata": {},
   "outputs": [],
   "source": [
    "tfidf_vectorizer = TfidfVectorizer(\n",
    "    max_df=0.8, \n",
    "    max_features=200000,\n",
    "    min_df=0.2, \n",
    "    stop_words='english',\n",
    "    use_idf=True, \n",
    "    tokenizer=partial(tokenizer, stemmer), \n",
    "    ngram_range=(1,3)\n",
    ")"
   ]
  },
  {
   "cell_type": "code",
   "execution_count": 21,
   "metadata": {},
   "outputs": [
    {
     "name": "stderr",
     "output_type": "stream",
     "text": [
      "/home/wangyh/anaconda3/lib/python3.8/site-packages/sklearn/feature_extraction/text.py:383: UserWarning: Your stop_words may be inconsistent with your preprocessing. Tokenizing the stop words generated tokens ['abov', 'afterward', 'alon', 'alreadi', 'alway', 'ani', 'anoth', 'anyon', 'anyth', 'anywher', 'becam', 'becaus', 'becom', 'befor', 'besid', 'cri', 'describ', 'dure', 'els', 'elsewher', 'empti', 'everi', 'everyon', 'everyth', 'everywher', 'fifti', 'forti', 'henc', 'hereaft', 'herebi', 'howev', 'hundr', 'inde', 'mani', 'meanwhil', 'moreov', 'nobodi', 'noon', 'noth', 'nowher', 'onc', 'onli', 'otherwis', 'ourselv', 'perhap', 'pleas', 'sever', 'sinc', 'sincer', 'sixti', 'someon', 'someth', 'sometim', 'somewher', 'themselv', 'thenc', 'thereaft', 'therebi', 'therefor', 'togeth', 'twelv', 'twenti', 'veri', 'whatev', 'whenc', 'whenev', 'wherea', 'whereaft', 'wherebi', 'wherev', 'whi', 'yourselv'] not in stop_words.\n",
      "  warnings.warn('Your stop_words may be inconsistent with '\n"
     ]
    },
    {
     "name": "stdout",
     "output_type": "stream",
     "text": [
      "CPU times: user 6.82 s, sys: 56 ms, total: 6.88 s\n",
      "Wall time: 6.87 s\n"
     ]
    }
   ],
   "source": [
    "%time tfidf_matrix = tfidf_vectorizer.fit_transform(synopses)"
   ]
  },
  {
   "cell_type": "code",
   "execution_count": 22,
   "metadata": {},
   "outputs": [
    {
     "name": "stdout",
     "output_type": "stream",
     "text": [
      "(100, 563)\n"
     ]
    }
   ],
   "source": [
    "print(tfidf_matrix.shape)"
   ]
  },
  {
   "cell_type": "markdown",
   "metadata": {},
   "source": [
    "## n-dim distance"
   ]
  },
  {
   "cell_type": "code",
   "execution_count": 23,
   "metadata": {},
   "outputs": [],
   "source": [
    "dist = 1 - cosine_similarity(tfidf_matrix)"
   ]
  },
  {
   "cell_type": "code",
   "execution_count": 24,
   "metadata": {},
   "outputs": [
    {
     "data": {
      "text/plain": [
       "(100, 100)"
      ]
     },
     "execution_count": 24,
     "metadata": {},
     "output_type": "execute_result"
    }
   ],
   "source": [
    "dist.shape"
   ]
  },
  {
   "cell_type": "markdown",
   "metadata": {},
   "source": [
    "## 2-dim"
   ]
  },
  {
   "cell_type": "code",
   "execution_count": 25,
   "metadata": {},
   "outputs": [],
   "source": [
    "MDS()\n",
    "\n",
    "# two components as we're plotting points in a two-dimensional plane\n",
    "# \"precomputed\" because we provide a distance matrix\n",
    "# we will also specify `random_state` so the plot is reproducible.\n",
    "mds = MDS(n_components=2, dissimilarity=\"precomputed\", random_state=1)"
   ]
  },
  {
   "cell_type": "code",
   "execution_count": 26,
   "metadata": {},
   "outputs": [
    {
     "data": {
      "text/plain": [
       "(100, 2)"
      ]
     },
     "execution_count": 26,
     "metadata": {},
     "output_type": "execute_result"
    }
   ],
   "source": [
    "# shape = (n_samples, n_components)\n",
    "pos = mds.fit_transform(dist)\n",
    "pos.shape"
   ]
  },
  {
   "cell_type": "code",
   "execution_count": 27,
   "metadata": {},
   "outputs": [],
   "source": [
    "xs, ys = pos[:, 0], pos[:, 1]"
   ]
  },
  {
   "cell_type": "markdown",
   "metadata": {},
   "source": [
    "# Clustering"
   ]
  },
  {
   "cell_type": "markdown",
   "metadata": {},
   "source": [
    "## k-means"
   ]
  },
  {
   "cell_type": "code",
   "execution_count": 28,
   "metadata": {},
   "outputs": [],
   "source": [
    "num_clusters = 5\n",
    "km = KMeans(n_clusters=num_clusters)"
   ]
  },
  {
   "cell_type": "code",
   "execution_count": 29,
   "metadata": {},
   "outputs": [],
   "source": [
    "# TODO: may be need normalize/scaling before clustering"
   ]
  },
  {
   "cell_type": "code",
   "execution_count": 30,
   "metadata": {},
   "outputs": [
    {
     "name": "stdout",
     "output_type": "stream",
     "text": [
      "CPU times: user 388 ms, sys: 8 ms, total: 396 ms\n",
      "Wall time: 98.8 ms\n"
     ]
    },
    {
     "data": {
      "text/plain": [
       "KMeans(n_clusters=5)"
      ]
     },
     "execution_count": 30,
     "metadata": {},
     "output_type": "execute_result"
    }
   ],
   "source": [
    "%time km.fit(tfidf_matrix)"
   ]
  },
  {
   "cell_type": "code",
   "execution_count": 32,
   "metadata": {},
   "outputs": [],
   "source": [
    "# joblib.dump(km,  'doc_cluster.pkl')\n",
    "# km = joblib.load('doc_cluster.pkl')\n",
    "# clusters = km.labels_.tolist()"
   ]
  },
  {
   "cell_type": "markdown",
   "metadata": {},
   "source": [
    "## linkage ward"
   ]
  },
  {
   "cell_type": "code",
   "execution_count": 33,
   "metadata": {},
   "outputs": [],
   "source": [
    "# TODO:\n",
    "# \n",
    "# each level cluster num, keywords\n",
    "# evaluate which level give best clustering"
   ]
  },
  {
   "cell_type": "code",
   "execution_count": 34,
   "metadata": {
    "scrolled": true
   },
   "outputs": [
    {
     "data": {
      "text/plain": [
       "(99, 4)"
      ]
     },
     "execution_count": 34,
     "metadata": {},
     "output_type": "execute_result"
    }
   ],
   "source": [
    "linkage_matrix = ward(dist) #define the linkage_matrix using ward clustering pre-computed distances\n",
    "linkage_matrix.shape"
   ]
  },
  {
   "cell_type": "markdown",
   "metadata": {},
   "source": [
    "## latent dirichlet allocation"
   ]
  },
  {
   "cell_type": "code",
   "execution_count": 35,
   "metadata": {},
   "outputs": [],
   "source": [
    "# TODO:\n",
    "\n",
    "#strip any proper names from a text...unfortunately right now this is yanking the first word from a sentence too.\n",
    "def strip_proppers(text):\n",
    "    # first tokenize by sentence, then by word to ensure that punctuation is caught as it's own token\n",
    "    tokens = [word for sent in nltk.sent_tokenize(text) for word in nltk.word_tokenize(sent) if word.islower()]\n",
    "    return \"\".join([\" \"+i if not i.startswith(\"'\") and i not in string.punctuation else i for i in tokens]).strip()"
   ]
  },
  {
   "cell_type": "code",
   "execution_count": 36,
   "metadata": {},
   "outputs": [
    {
     "name": "stderr",
     "output_type": "stream",
     "text": [
      "[nltk_data] Downloading package stopwords to /home/wangyh/nltk_data...\n",
      "[nltk_data]   Package stopwords is already up-to-date!\n"
     ]
    }
   ],
   "source": [
    "nltk.download(\"stopwords\")\n",
    "stopwords = nltk.corpus.stopwords.words('english')"
   ]
  },
  {
   "cell_type": "code",
   "execution_count": 37,
   "metadata": {},
   "outputs": [
    {
     "data": {
      "text/plain": [
       "100"
      ]
     },
     "execution_count": 37,
     "metadata": {},
     "output_type": "execute_result"
    }
   ],
   "source": [
    "#remove proper names\n",
    "preprocess = [strip_proppers(doc) for doc in synopses]\n",
    "len(preprocess)"
   ]
  },
  {
   "cell_type": "code",
   "execution_count": 38,
   "metadata": {},
   "outputs": [
    {
     "name": "stdout",
     "output_type": "stream",
     "text": [
      "CPU times: user 3.31 s, sys: 8 ms, total: 3.32 s\n",
      "Wall time: 3.32 s\n"
     ]
    }
   ],
   "source": [
    "%time tokenized_text = [tokenize(stemmer, text)[1] for text in preprocess]"
   ]
  },
  {
   "cell_type": "code",
   "execution_count": 39,
   "metadata": {},
   "outputs": [
    {
     "name": "stdout",
     "output_type": "stream",
     "text": [
      "CPU times: user 424 ms, sys: 4 ms, total: 428 ms\n",
      "Wall time: 424 ms\n",
      "1839\n"
     ]
    }
   ],
   "source": [
    "%time texts = [[word for word in text if word not in stopwords] for text in tokenized_text]\n",
    "print(len(texts[0]))"
   ]
  },
  {
   "cell_type": "code",
   "execution_count": 40,
   "metadata": {},
   "outputs": [],
   "source": [
    "dictionary = corpora.Dictionary(texts)\n",
    "dictionary.filter_extremes(no_below=1, no_above=0.8)"
   ]
  },
  {
   "cell_type": "code",
   "execution_count": 41,
   "metadata": {},
   "outputs": [
    {
     "data": {
      "text/plain": [
       "100"
      ]
     },
     "execution_count": 41,
     "metadata": {},
     "output_type": "execute_result"
    }
   ],
   "source": [
    "corpus = [dictionary.doc2bow(text) for text in texts]\n",
    "len(corpus)"
   ]
  },
  {
   "cell_type": "code",
   "execution_count": 42,
   "metadata": {},
   "outputs": [
    {
     "name": "stdout",
     "output_type": "stream",
     "text": [
      "CPU times: user 2min 47s, sys: 4.26 s, total: 2min 51s\n",
      "Wall time: 43 s\n",
      "[(0, 0.45510268), (3, 0.54452395)]\n"
     ]
    }
   ],
   "source": [
    "%time lda = models.LdaModel(corpus, num_topics=5, id2word=dictionary, update_every=5, chunksize=10000, passes=100)\n",
    "print(lda[corpus[0]])"
   ]
  },
  {
   "cell_type": "code",
   "execution_count": 43,
   "metadata": {},
   "outputs": [],
   "source": [
    "topics = lda.print_topics(5, num_words=20)\n",
    "\n",
    "topics_matrix = lda.show_topics(formatted=False, num_words=20)\n",
    "# topics_matrix"
   ]
  },
  {
   "cell_type": "markdown",
   "metadata": {},
   "source": [
    "# Report"
   ]
  },
  {
   "cell_type": "code",
   "execution_count": 44,
   "metadata": {},
   "outputs": [],
   "source": [
    "# TODO: show each alg result"
   ]
  },
  {
   "cell_type": "code",
   "execution_count": 56,
   "metadata": {},
   "outputs": [],
   "source": [
    "def pprint(num_clusters, order_centroids, terms, df_tokens, df_films):\n",
    "    print(\"Top terms per cluster:\")\n",
    "    print()\n",
    "\n",
    "    for i in range(num_clusters):\n",
    "\n",
    "        \"\"\" term import -> term vector\n",
    "        \"\"\"\n",
    "\n",
    "        print(\"Cluster %d words:\" % i, end='')\n",
    "\n",
    "        for ind in order_centroids[i, :6]:\n",
    "            term = terms[ind]\n",
    "            term = term.split(' ')\n",
    "            token = df_tokens.loc[term].values.tolist()[0][0]\n",
    "            token = token.encode('utf-8', errors='ignore')\n",
    "            print(token, end=',')\n",
    "\n",
    "        print()\n",
    "        print()\n",
    "\n",
    "        \"\"\" cluster id -> title\n",
    "        \"\"\"\n",
    "\n",
    "        print(\"Cluster %d titles:\" % i, end='')\n",
    "\n",
    "        for title in df_films[df_films['cluster']==i]['title'].values.tolist():\n",
    "            print(' %s,' % title, end='')\n",
    "\n",
    "        print()\n",
    "        print()"
   ]
  },
  {
   "cell_type": "code",
   "execution_count": 57,
   "metadata": {},
   "outputs": [],
   "source": [
    "def report_pprint(df_films, clusters, tfidf_vectorizer, cluster_centers_, num_clusters, df_tokens):\n",
    "    \n",
    "    # add cluster info\n",
    "    df_films['cluster'] = clusters\n",
    "    df_films['cluster'].value_counts()\n",
    "    df_films[['rank', 'cluster']].groupby('cluster').mean()\n",
    "    \n",
    "    # top tokens\n",
    "    terms = tfidf_vectorizer.get_feature_names()\n",
    "    print(len(terms))\n",
    "    print(cluster_centers_.shape)\n",
    "    order_centroids = cluster_centers_.argsort()[:, ::-1]\n",
    "    \n",
    "    pprint(num_clusters, order_centroids, terms, df_tokens, df_films)"
   ]
  },
  {
   "cell_type": "code",
   "execution_count": 58,
   "metadata": {},
   "outputs": [],
   "source": [
    "def visualizing(groups, cluster_names, cluster_colors, df_cluster):\n",
    "    \n",
    "    fig, ax = plt.subplots(figsize=(17, 9)) # set size\n",
    "    ax.margins(0.05) # adds 5% padding to the autoscaling\n",
    "\n",
    "\n",
    "    for name, group in groups:\n",
    "        ax.plot(group.x, group.y, marker='o', linestyle='', ms=12, label=cluster_names[name], color=cluster_colors[name], mec='none')\n",
    "\n",
    "        ax.set_aspect('auto')\n",
    "\n",
    "        ax.tick_params(\\\n",
    "            axis= 'x',          # changes apply to the x-axis\n",
    "            which='both',   # both major and minor ticks are affected\n",
    "            bottom='off',    # ticks along the bottom edge are off\n",
    "            top='off',         # ticks along the top edge are off\n",
    "            labelbottom='off')\n",
    "\n",
    "        ax.tick_params(\\\n",
    "            axis= 'y',\n",
    "            which='both',\n",
    "            left='off',\n",
    "            top='off',\n",
    "            labelleft='off')\n",
    "\n",
    "    ax.legend(numpoints=1)  #show legend with only 1 point\n",
    "\n",
    "\n",
    "    #add label in x,y position with the label as the film title\n",
    "    for i in range(len(df_cluster)):\n",
    "        ax.text(df_cluster.iloc[i]['x'], df_cluster.iloc[i]['y'], df_cluster.iloc[i]['title'], size=8)  \n",
    "\n",
    "\n",
    "    plt.show()\n",
    "    #plt.savefig('clusters_small_noaxes.png', dpi=200)"
   ]
  },
  {
   "cell_type": "code",
   "execution_count": 59,
   "metadata": {},
   "outputs": [],
   "source": [
    "def report_visualizing(xs, ys, clusters, titles, cluster_colors, cluster_names):\n",
    "\n",
    "    df_cluster = pd.DataFrame(dict(x=xs, y=ys, label=clusters, title=titles))\n",
    "    print(df_cluster.shape)\n",
    "    print(df_cluster.head(1))\n",
    "\n",
    "    # cluster_colors = {0: '#1b9e77', 1: '#d95f02', 2: '#7570b3', 3: '#e7298a', 4: '#66a61e'}\n",
    "\n",
    "    # cluster_names = {\n",
    "    #     0: 'Family, home, war', \n",
    "    #     1: 'Police, killed, murders', \n",
    "    #     2: 'Father, New York, brothers', \n",
    "    #     3: 'Dance, singing, love', \n",
    "    #     4: 'Killed, soldiers, captain'}\n",
    "\n",
    "    groups = df_cluster.groupby('label')\n",
    "    \n",
    "    visualizing(groups, cluster_names, cluster_colors, df_cluster)"
   ]
  },
  {
   "cell_type": "code",
   "execution_count": 60,
   "metadata": {},
   "outputs": [],
   "source": [
    "def report(df_films, clusters, tfidf_vectorizer, cluster_centers_, num_clusters, df_tokens, xs, ys, titles, cluster_colors, cluster_names):\n",
    "    report_pprint(df_films, clusters, tfidf_vectorizer, cluster_centers_, num_clusters, df_tokens)\n",
    "    report_visualizing(xs, ys, clusters, titles, cluster_colors, cluster_names)"
   ]
  },
  {
   "cell_type": "code",
   "execution_count": 61,
   "metadata": {},
   "outputs": [],
   "source": [
    "clusters = km.labels_.tolist()\n",
    "cluter_centers_ = km.cluster_centers_\n",
    "\n",
    "cluster_colors = {0: '#1b9e77', 1: '#d95f02', 2: '#7570b3', 3: '#e7298a', 4: '#66a61e'}\n",
    "\n",
    "cluster_names = {\n",
    "    0: 'Family, home, war', \n",
    "    1: 'Police, killed, murders', \n",
    "    2: 'Father, New York, brothers', \n",
    "    3: 'Dance, singing, love', \n",
    "    4: 'Killed, soldiers, captain'}"
   ]
  },
  {
   "cell_type": "code",
   "execution_count": 62,
   "metadata": {},
   "outputs": [
    {
     "name": "stdout",
     "output_type": "stream",
     "text": [
      "563\n",
      "(5, 563)\n",
      "Top terms per cluster:\n",
      "\n",
      "Cluster 0 words:b'water',b'ship',b'killed',b'home',b'friends',b'set',\n",
      "\n",
      "Cluster 0 titles: The Wizard of Oz, On the Waterfront, Star Wars, 2001: A Space Odyssey, Chinatown, Unforgiven, Raiders of the Lost Ark, A Streetcar Named Desire, To Kill a Mockingbird, Jaws, The Good, the Bad and the Ugly, The Treasure of the Sierra Madre, Mr. Smith Goes to Washington, Close Encounters of the Third Kind, The African Queen, Mutiny on the Bounty,\n",
      "\n",
      "Cluster 1 words:b'car',b'Police',b'love',b'father',b'house',b'mother',\n",
      "\n",
      "Cluster 1 titles: Citizen Kane, Titanic, Psycho, Sunset Blvd., Vertigo, Forrest Gump, West Side Story, E.T. the Extra-Terrestrial, The Silence of the Lambs, Singin' in the Rain, Some Like It Hot, 12 Angry Men, Amadeus, Rocky, My Fair Lady, The Apartment, The Exorcist, The French Connection, City Lights, It Happened One Night, Midnight Cowboy, Rain Man, Annie Hall, Out of Africa, Good Will Hunting, Terms of Endearment, Fargo, The Green Mile, Nashville, The Graduate, American Graffiti, Pulp Fiction, The Maltese Falcon, A Clockwork Orange, Taxi Driver, Wuthering Heights, Double Indemnity, Rebel Without a Cause, Rear Window, The Third Man, North by Northwest,\n",
      "\n",
      "Cluster 2 words:b'George',b'marries',b'perform',b'family',b'woman',b'friends',\n",
      "\n",
      "Cluster 2 titles: It's a Wonderful Life, The Philadelphia Story, An American in Paris, The King's Speech, A Place in the Sun, Tootsie, Yankee Doodle Dandy,\n",
      "\n",
      "Cluster 3 words:b'family',b'camps',b'War',b'killed',b'living',b'II',\n",
      "\n",
      "Cluster 3 titles: The Godfather, Schindler's List, The Godfather: Part II, Doctor Zhivago, The Pianist, Goodfellas, Giant, The Grapes of Wrath,\n",
      "\n",
      "Cluster 4 words:b'Army',b'soldiers',b'killed',b'War',b'orders',b'general',\n",
      "\n",
      "Cluster 4 titles: The Shawshank Redemption, Raging Bull, Casablanca, One Flew Over the Cuckoo's Nest, Gone with the Wind, Lawrence of Arabia, The Sound of Music, The Bridge on the River Kwai, Dr. Strangelove or: How I Learned to Stop Worrying and Love the Bomb, Apocalypse Now, Gandhi, The Lord of the Rings: The Return of the King, Gladiator, From Here to Eternity, Saving Private Ryan, The Best Years of Our Lives, Ben-Hur, Patton, Braveheart, Butch Cassidy and the Sundance Kid, Platoon, High Noon, Dances with Wolves, The Deer Hunter, All Quiet on the Western Front, Shane, Network, Stagecoach,\n",
      "\n",
      "(100, 4)\n",
      "          x         y  label          title\n",
      "0  0.184273 -0.011716      3  The Godfather\n"
     ]
    },
    {
     "data": {
      "image/png": "[encoded data removed]",
      "text/plain": [
       "<Figure size 1224x648 with 1 Axes>"
      ]
     },
     "metadata": {
      "needs_background": "light"
     },
     "output_type": "display_data"
    }
   ],
   "source": [
    "report(df_films, clusters, tfidf_vectorizer, cluter_centers_, num_clusters, df_tokens, xs, ys, titles, cluster_colors, cluster_names)"
   ]
  },
  {
   "cell_type": "markdown",
   "metadata": {},
   "source": [
    "## add cluster info"
   ]
  },
  {
   "cell_type": "raw",
   "metadata": {},
   "source": [
    "# films = { 'title': titles, 'rank': ranks, 'synopsis': synopses, 'genre': genres, 'cluster': clusters, }\n",
    "# frame = pd.DataFrame(films, index = [clusters] , columns = ['rank', 'title', 'cluster', 'genre'])"
   ]
  },
  {
   "cell_type": "raw",
   "metadata": {},
   "source": [
    "df_films['cluster'] = clusters"
   ]
  },
  {
   "cell_type": "raw",
   "metadata": {},
   "source": [
    "df_films['cluster'].value_counts()"
   ]
  },
  {
   "cell_type": "raw",
   "metadata": {},
   "source": [
    "df_films[['rank', 'cluster']].groupby('cluster').mean()"
   ]
  },
  {
   "cell_type": "markdown",
   "metadata": {},
   "source": [
    "## top tokens"
   ]
  },
  {
   "cell_type": "raw",
   "metadata": {},
   "source": [
    "terms = tfidf_vectorizer.get_feature_names()"
   ]
  },
  {
   "cell_type": "raw",
   "metadata": {},
   "source": [
    "print(len(terms))"
   ]
  },
  {
   "cell_type": "raw",
   "metadata": {},
   "source": [
    "# shape = (num_clusters, num_hidden)\n",
    "km.cluster_centers_.shape"
   ]
  },
  {
   "cell_type": "raw",
   "metadata": {},
   "source": [
    "type(km.cluster_centers_)"
   ]
  },
  {
   "cell_type": "raw",
   "metadata": {
    "scrolled": true
   },
   "source": [
    "# km.cluster_centers_\n",
    "# km.cluster_centers_.argsort()\n",
    "# km.cluster_centers_[0][km.cluster_centers_.argsort()[0]]\n",
    "\n",
    "order_centroids = km.cluster_centers_.argsort()[:, ::-1]"
   ]
  },
  {
   "cell_type": "raw",
   "metadata": {},
   "source": [
    "order_centroids"
   ]
  },
  {
   "cell_type": "raw",
   "metadata": {},
   "source": [
    "# help('s'.encode)"
   ]
  },
  {
   "cell_type": "raw",
   "metadata": {},
   "source": [
    "print(\"Top terms per cluster:\")\n",
    "print()\n",
    "\n",
    "for i in range(num_clusters):\n",
    "    \n",
    "    \"\"\" term import -> term vector\n",
    "    \"\"\"\n",
    "    \n",
    "    print(\"Cluster %d words:\" % i, end='')\n",
    "    \n",
    "    for ind in order_centroids[i, :6]:\n",
    "        term = terms[ind]\n",
    "        term = term.split(' ')\n",
    "        token = df_tokens.loc[term].values.tolist()[0][0]\n",
    "        token = token.encode('utf-8', errors='ignore')\n",
    "        print(token, end=',')\n",
    "        \n",
    "    print()\n",
    "    print()\n",
    "    \n",
    "    \"\"\" cluster id -> title\n",
    "    \"\"\"\n",
    "    \n",
    "    print(\"Cluster %d titles:\" % i, end='')\n",
    "    \n",
    "    for title in df_films[df_films['cluster']==i]['title'].values.tolist():\n",
    "        print(' %s,' % title, end='')\n",
    "        \n",
    "    print()\n",
    "    print()"
   ]
  },
  {
   "cell_type": "markdown",
   "metadata": {},
   "source": [
    "## visualizing 2-dim"
   ]
  },
  {
   "cell_type": "raw",
   "metadata": {},
   "source": [
    "#create data frame that has the result of the MDS plus the cluster numbers and titles\n",
    "df_cluster = pd.DataFrame(dict(x=xs, y=ys, label=clusters, title=titles))\n",
    "print(df_cluster.shape)\n",
    "df_cluster.head(1)"
   ]
  },
  {
   "cell_type": "raw",
   "metadata": {},
   "source": [
    "#set up colors per clusters using a dict\n",
    "cluster_colors = {0: '#1b9e77', 1: '#d95f02', 2: '#7570b3', 3: '#e7298a', 4: '#66a61e'}"
   ]
  },
  {
   "cell_type": "raw",
   "metadata": {},
   "source": [
    "#set up cluster names using a dict\n",
    "cluster_names = {0: 'Family, home, war', \n",
    "                 1: 'Police, killed, murders', \n",
    "                 2: 'Father, New York, brothers', \n",
    "                 3: 'Dance, singing, love', \n",
    "                 4: 'Killed, soldiers, captain'}"
   ]
  },
  {
   "cell_type": "raw",
   "metadata": {},
   "source": [
    "#group by cluster\n",
    "groups = df_cluster.groupby('label')"
   ]
  },
  {
   "cell_type": "raw",
   "metadata": {},
   "source": [
    "# set up plot\n",
    "fig, ax = plt.subplots(figsize=(17, 9)) # set size\n",
    "ax.margins(0.05) # adds 5% padding to the autoscaling\n",
    "\n",
    "\n",
    "for name, group in groups:\n",
    "    ax.plot(group.x, group.y, marker='o', linestyle='', ms=12, label=cluster_names[name], color=cluster_colors[name], mec='none')\n",
    "    \n",
    "    ax.set_aspect('auto')\n",
    "    \n",
    "    ax.tick_params(\\\n",
    "        axis= 'x',          # changes apply to the x-axis\n",
    "        which='both',   # both major and minor ticks are affected\n",
    "        bottom='off',    # ticks along the bottom edge are off\n",
    "        top='off',         # ticks along the top edge are off\n",
    "        labelbottom='off')\n",
    "    \n",
    "    ax.tick_params(\\\n",
    "        axis= 'y',\n",
    "        which='both',\n",
    "        left='off',\n",
    "        top='off',\n",
    "        labelleft='off')\n",
    "    \n",
    "ax.legend(numpoints=1)  #show legend with only 1 point\n",
    "\n",
    "\n",
    "#add label in x,y position with the label as the film title\n",
    "for i in range(len(df_cluster)):\n",
    "    ax.text(df_cluster.iloc[i]['x'], df_cluster.iloc[i]['y'], df_cluster.iloc[i]['title'], size=8)  \n",
    "\n",
    "    \n",
    "plt.show()\n",
    "#plt.savefig('clusters_small_noaxes.png', dpi=200)"
   ]
  },
  {
   "cell_type": "raw",
   "metadata": {},
   "source": [
    "plt.close()"
   ]
  },
  {
   "cell_type": "markdown",
   "metadata": {},
   "source": [
    "## visualizing hierarchical"
   ]
  },
  {
   "cell_type": "raw",
   "metadata": {},
   "source": [
    "fig, ax = plt.subplots(figsize=(15, 20)) # set size\n",
    "ax = dendrogram(linkage_matrix, orientation=\"left\", labels=titles);\n",
    "\n",
    "plt.tick_params(\\\n",
    "    axis= 'x',          # changes apply to the x-axis\n",
    "    which='both',    # both major and minor ticks are affected\n",
    "    bottom='off',    # ticks along the bottom edge are off\n",
    "    top='off',         # ticks along the top edge are off\n",
    "    labelbottom='off')\n",
    "\n",
    "plt.tight_layout() #show plot with tight layout\n",
    "\n",
    "plt.savefig('ward_clusters.png', dpi=200)"
   ]
  },
  {
   "cell_type": "raw",
   "metadata": {},
   "source": [
    "plt.close()"
   ]
  }
 ],
 "metadata": {
  "kernelspec": {
   "display_name": "Python 3",
   "language": "python",
   "name": "python3"
  },
  "language_info": {
   "codemirror_mode": {
    "name": "ipython",
    "version": 3
   },
   "file_extension": ".py",
   "mimetype": "text/x-python",
   "name": "python",
   "nbconvert_exporter": "python",
   "pygments_lexer": "ipython3",
   "version": "3.8.5"
  }
 },
 "nbformat": 4,
 "nbformat_minor": 1
}
