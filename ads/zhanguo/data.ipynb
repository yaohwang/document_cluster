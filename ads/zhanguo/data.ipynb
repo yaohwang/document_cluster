{
 "cells": [
  {
   "cell_type": "code",
   "execution_count": 1,
   "id": "interpreted-transaction",
   "metadata": {},
   "outputs": [],
   "source": [
    "import traceback\n",
    "import pandas as pd"
   ]
  },
  {
   "cell_type": "code",
   "execution_count": 2,
   "id": "foster-valentine",
   "metadata": {},
   "outputs": [
    {
     "name": "stderr",
     "output_type": "stream",
     "text": [
      "/home/wangyh/anaconda3/envs/tf2.4/lib/python3.7/site-packages/ipykernel_launcher.py:2: FutureWarning: Passing a negative integer is deprecated in version 1.0 and will not be supported in future version. Instead, use None to not limit the column width.\n",
      "  \n"
     ]
    }
   ],
   "source": [
    "pd.set_option('display.max_rows', 10**6)\n",
    "pd.set_option('display.max_colwidth', -1)"
   ]
  },
  {
   "cell_type": "code",
   "execution_count": 3,
   "id": "signed-sweet",
   "metadata": {},
   "outputs": [],
   "source": [
    "from tqdm import tqdm\n",
    "from pathlib import Path\n",
    "\n",
    "from typing import (\n",
    "    List,\n",
    "    Union,\n",
    ")"
   ]
  },
  {
   "cell_type": "markdown",
   "id": "liberal-power",
   "metadata": {},
   "source": [
    "## Load"
   ]
  },
  {
   "cell_type": "code",
   "execution_count": 4,
   "id": "gross-entry",
   "metadata": {},
   "outputs": [],
   "source": [
    "def load(path: Path, columns: Union[str, List[str]] = None) -> pd.DataFrame:\n",
    "    \n",
    "    if isinstance(columns, str):\n",
    "        columns = [columns]\n",
    "    elif (not isinstance(columns, List)) and columns is not None:\n",
    "        raise ValueError(\n",
    "            f\"type of columns unknown: {type(columns)}. \"\n",
    "            f\"Should be one of a str or list[str].\"\n",
    "        )  \n",
    "        \n",
    "    return _load(path, columns)"
   ]
  },
  {
   "cell_type": "code",
   "execution_count": 5,
   "id": "statutory-apparel",
   "metadata": {},
   "outputs": [],
   "source": [
    "def _load(path: Path, columns: List[str]) -> pd.DataFrame:\n",
    "    \n",
    "    def load_dir(path: Path) -> pd.DataFrame:\n",
    "        try:\n",
    "            return pd.concat(load_file(p) for p in path.iterdir())\n",
    "        except:\n",
    "            # traceback.print_exc()\n",
    "            pass\n",
    "    \n",
    "    def load_file(path: Path) -> pd.DataFrame:\n",
    "        try:\n",
    "            if path.name.startswith('chat_record'):\n",
    "                return pd.read_csv(path, sep='\\t', header=None)\n",
    "        except:\n",
    "            pass\n",
    "    \n",
    "    df = pd.concat(load_dir(p) for p in tqdm(list(path.iterdir())))\n",
    "    \n",
    "    df.columns = [\n",
    "        '_id',\n",
    "        'platform',\n",
    "        'server_id',\n",
    "        'role_uid',\n",
    "        'name',\n",
    "        'level',\n",
    "        'vip',\n",
    "        'target_uid',\n",
    "        'channel',\n",
    "        'msg_type',\n",
    "        'is_audio',\n",
    "        'chat_content',\n",
    "        'time',\n",
    "    ]\n",
    "    \n",
    "    df['chat_content'] = df['chat_content'].apply(lambda x: x[1:-1] if \"'\"==x[0] and \"'\"==x[-1] else x)\n",
    "    \n",
    "    return df if columns is None else df[columns]"
   ]
  },
  {
   "cell_type": "code",
   "execution_count": 6,
   "id": "duplicate-restoration",
   "metadata": {},
   "outputs": [
    {
     "data": {
      "text/plain": [
       "PosixPath('/home/wangyh/data/yk-zhanguo-chat/dl')"
      ]
     },
     "execution_count": 6,
     "metadata": {},
     "output_type": "execute_result"
    }
   ],
   "source": [
    "# path = Path('~/data/yk-zhanguo-chat/tw').expanduser()\n",
    "path = Path('~/data/yk-zhanguo-chat/dl').expanduser()\n",
    "path"
   ]
  },
  {
   "cell_type": "code",
   "execution_count": 7,
   "id": "immune-programming",
   "metadata": {
    "scrolled": false
   },
   "outputs": [
    {
     "name": "stderr",
     "output_type": "stream",
     "text": [
      "100%|██████████| 320/320 [00:01<00:00, 254.06it/s]\n"
     ]
    },
    {
     "data": {
      "text/html": [
       "<div>\n",
       "<style scoped>\n",
       "    .dataframe tbody tr th:only-of-type {\n",
       "        vertical-align: middle;\n",
       "    }\n",
       "\n",
       "    .dataframe tbody tr th {\n",
       "        vertical-align: top;\n",
       "    }\n",
       "\n",
       "    .dataframe thead th {\n",
       "        text-align: right;\n",
       "    }\n",
       "</style>\n",
       "<table border=\"1\" class=\"dataframe\">\n",
       "  <thead>\n",
       "    <tr style=\"text-align: right;\">\n",
       "      <th></th>\n",
       "      <th>chat_content</th>\n",
       "    </tr>\n",
       "  </thead>\n",
       "  <tbody>\n",
       "    <tr>\n",
       "      <th>0</th>\n",
       "      <td>喊一嗓子！</td>\n",
       "    </tr>\n",
       "    <tr>\n",
       "      <th>1</th>\n",
       "      <td>进攻了高冷村:进攻了高冷村</td>\n",
       "    </tr>\n",
       "    <tr>\n",
       "      <th>2</th>\n",
       "      <td>chatemoji:1</td>\n",
       "    </tr>\n",
       "  </tbody>\n",
       "</table>\n",
       "</div>"
      ],
      "text/plain": [
       "    chat_content\n",
       "0  喊一嗓子！        \n",
       "1  进攻了高冷村:进攻了高冷村\n",
       "2  chatemoji:1  "
      ]
     },
     "execution_count": 7,
     "metadata": {},
     "output_type": "execute_result"
    }
   ],
   "source": [
    "df = load(path, columns='chat_content')\n",
    "df.head(3)"
   ]
  }
 ],
 "metadata": {
  "kernelspec": {
   "display_name": "Python 3",
   "language": "python",
   "name": "python3"
  },
  "language_info": {
   "codemirror_mode": {
    "name": "ipython",
    "version": 3
   },
   "file_extension": ".py",
   "mimetype": "text/x-python",
   "name": "python",
   "nbconvert_exporter": "python",
   "pygments_lexer": "ipython3",
   "version": "3.7.9"
  }
 },
 "nbformat": 4,
 "nbformat_minor": 5
}
