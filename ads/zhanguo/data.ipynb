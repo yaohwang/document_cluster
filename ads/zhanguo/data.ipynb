{
 "cells": [
  {
   "cell_type": "code",
   "execution_count": null,
   "id": "interpreted-transaction",
   "metadata": {},
   "outputs": [],
   "source": [
    "import traceback\n",
    "import pandas as pd"
   ]
  },
  {
   "cell_type": "code",
   "execution_count": null,
   "id": "foster-valentine",
   "metadata": {},
   "outputs": [],
   "source": [
    "pd.set_option('display.max_rows', 10**6)\n",
    "pd.set_option('display.max_colwidth', -1)"
   ]
  },
  {
   "cell_type": "code",
   "execution_count": null,
   "id": "signed-sweet",
   "metadata": {},
   "outputs": [],
   "source": [
    "from tqdm import tqdm\n",
    "from pathlib import Path\n",
    "\n",
    "from typing import (\n",
    "    List,\n",
    "    Union,\n",
    ")"
   ]
  },
  {
   "cell_type": "markdown",
   "id": "liberal-power",
   "metadata": {},
   "source": [
    "## Load"
   ]
  },
  {
   "cell_type": "code",
   "execution_count": null,
   "id": "gross-entry",
   "metadata": {},
   "outputs": [],
   "source": [
    "def load(path: Path, columns: Union[str, List[str]] = None) -> pd.DataFrame:\n",
    "    \n",
    "    if isinstance(columns, str):\n",
    "        columns = [columns]\n",
    "    elif (not isinstance(columns, List)) and columns is not None:\n",
    "        raise ValueError(\n",
    "            f\"type of columns unknown: {type(columns)}. \"\n",
    "            f\"Should be one of a str or list[str].\"\n",
    "        )  \n",
    "        \n",
    "    return _load(path, columns)"
   ]
  },
  {
   "cell_type": "code",
   "execution_count": null,
   "id": "statutory-apparel",
   "metadata": {},
   "outputs": [],
   "source": [
    "def _load(path: Path, columns: List[str]) -> pd.DataFrame:\n",
    "    \n",
    "    def load_dir(path: Path) -> pd.DataFrame:\n",
    "        try:\n",
    "            return pd.concat(load_file(p) for p in path.iterdir())\n",
    "        except:\n",
    "            # traceback.print_exc()\n",
    "            pass\n",
    "    \n",
    "    def load_file(path: Path) -> pd.DataFrame:\n",
    "        try:\n",
    "            if path.name.startswith('chat_record'):\n",
    "                return pd.read_csv(path, sep='\\t', header=None)\n",
    "        except:\n",
    "            pass\n",
    "    \n",
    "    df = pd.concat(load_dir(p) for p in tqdm(list(path.iterdir())))\n",
    "    \n",
    "    if 13 == len(df.columns):\n",
    "        df.columns = [\n",
    "            '_id',\n",
    "            'platform',\n",
    "            'server_id',\n",
    "            'role_uid',\n",
    "            'name',\n",
    "            'level',\n",
    "            'vip',\n",
    "            'target_uid',\n",
    "            'channel',\n",
    "            'msg_type',\n",
    "            'is_audio',\n",
    "            'chat_content',\n",
    "            'time',\n",
    "        ]\n",
    "    elif 27 == len(df.columns):\n",
    "        df.columns = [\n",
    "            '_id',\n",
    "            'platform',\n",
    "            'server_id',\n",
    "            'role_uid',\n",
    "            'role_name',\n",
    "            'role_level',\n",
    "            'role_vip',\n",
    "            \n",
    "            'target_uid',\n",
    "            'target_name',\n",
    "            'target_level',\n",
    "            'target_vip',\n",
    "            \n",
    "            'channel',\n",
    "            'msg_type',\n",
    "            'is_audio',\n",
    "            'chat_content',\n",
    "            'time',\n",
    "            \n",
    "            'role_is_ai',\n",
    "            'target_is_ai',\n",
    "            'role_corpus_id',\n",
    "            'role_corpus_title',\n",
    "            'role_country_id',\n",
    "            'role_country_title',\n",
    "            'target_corpus_id',\n",
    "            'target_corpus_title',\n",
    "            'target_country_id',\n",
    "            'target_country_title',\n",
    "            'charge',\n",
    "        ]\n",
    "    else:\n",
    "        raise ValueError(f'Expected 13 or 27 fields, Now get {len(df.columns)} fields')\n",
    "    \n",
    "    df['chat_content'] = df['chat_content'].apply(lambda x: x[1:-1] if \"'\"==x[0] and \"'\"==x[-1] else x)\n",
    "    \n",
    "    return df if columns is None else df[columns]"
   ]
  },
  {
   "cell_type": "code",
   "execution_count": null,
   "id": "duplicate-restoration",
   "metadata": {},
   "outputs": [],
   "source": [
    "# path = Path('~/data/yk-zhanguo-chat/tw').expanduser()\n",
    "path = Path('~/data/yk-zhanguo-chat/dl').expanduser()\n",
    "path"
   ]
  },
  {
   "cell_type": "code",
   "execution_count": null,
   "id": "immune-programming",
   "metadata": {
    "scrolled": false
   },
   "outputs": [],
   "source": [
    "df = load(path, columns='chat_content')\n",
    "df.head(3)"
   ]
  }
 ],
 "metadata": {
  "kernelspec": {
   "display_name": "Python 3",
   "language": "python",
   "name": "python3"
  },
  "language_info": {
   "codemirror_mode": {
    "name": "ipython",
    "version": 3
   },
   "file_extension": ".py",
   "mimetype": "text/x-python",
   "name": "python",
   "nbconvert_exporter": "python",
   "pygments_lexer": "ipython3",
   "version": "3.7.9"
  }
 },
 "nbformat": 4,
 "nbformat_minor": 5
}
