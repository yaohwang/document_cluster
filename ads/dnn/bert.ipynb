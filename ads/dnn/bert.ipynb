{
 "cells": [
  {
   "cell_type": "code",
   "execution_count": 75,
   "id": "positive-essex",
   "metadata": {},
   "outputs": [],
   "source": [
    "import json\n",
    "import torch\n",
    "import pickle\n",
    "import transformers\n",
    "\n",
    "import numpy as np\n",
    "import pandas as pd"
   ]
  },
  {
   "cell_type": "code",
   "execution_count": 76,
   "id": "explicit-yield",
   "metadata": {},
   "outputs": [],
   "source": [
    "from pathlib import Path\n",
    "from itertools import chain\n",
    "from tqdm import tqdm"
   ]
  },
  {
   "cell_type": "code",
   "execution_count": 77,
   "id": "allied-fields",
   "metadata": {},
   "outputs": [],
   "source": [
    "from sklearn import metrics\n",
    "from sklearn.preprocessing import MultiLabelBinarizer\n",
    "from sklearn.metrics import classification_report\n",
    "\n",
    "from torch.utils.data import Dataset\n",
    "from torch.utils.data import DataLoader\n",
    "\n",
    "from transformers import BertTokenizer\n",
    "from transformers import BertModel"
   ]
  },
  {
   "cell_type": "code",
   "execution_count": 78,
   "id": "biological-cooking",
   "metadata": {},
   "outputs": [],
   "source": [
    "from torch import cuda\n",
    "device = 'cuda' if cuda.is_available() else 'cpu'"
   ]
  },
  {
   "cell_type": "markdown",
   "id": "latest-combination",
   "metadata": {},
   "source": [
    "## Data"
   ]
  },
  {
   "cell_type": "code",
   "execution_count": 79,
   "id": "seeing-method",
   "metadata": {},
   "outputs": [],
   "source": [
    "class CustomDataset(Dataset):\n",
    "\n",
    "    def __init__(self, dataframe, tokenizer, max_len):\n",
    "        self.tokenizer = tokenizer\n",
    "        self.data = dataframe\n",
    "        self.max_len = max_len\n",
    "        \n",
    "        self.comment_text = dataframe['内容']    # X\n",
    "        self.targets = self.data['标签']    # y(s)\n",
    "        \n",
    "\n",
    "    def __len__(self):\n",
    "        return len(self.comment_text)\n",
    "    \n",
    "\n",
    "    def __getitem__(self, index):\n",
    "        comment_text = str(self.comment_text[index])\n",
    "        comment_text = \" \".join(comment_text.split()) # split, 默认为所有的空字符，包括空格、换行(\\n)、制表符(\\t)等\n",
    "\n",
    "        inputs = self.tokenizer.encode_plus(\n",
    "            comment_text,\n",
    "            None,\n",
    "            add_special_tokens=True,\n",
    "            max_length=self.max_len,\n",
    "            # pad_to_max_length=True,  # @deprecated\n",
    "            padding='max_length',\n",
    "            truncation=True,\n",
    "            return_token_type_ids=True\n",
    "        )\n",
    "        \n",
    "        ids = inputs['input_ids']\n",
    "        mask = inputs['attention_mask'] # sentence 有效token位置掩码\n",
    "        token_type_ids = inputs[\"token_type_ids\"] # 多sentence(s)合并为一个sentence时，不同sentence的掩码\n",
    "\n",
    "\n",
    "        return {\n",
    "            'ids': torch.tensor(ids, dtype=torch.long),\n",
    "            'mask': torch.tensor(mask, dtype=torch.long),\n",
    "            'token_type_ids': torch.tensor(token_type_ids, dtype=torch.long),\n",
    "            \n",
    "            'targets': torch.tensor(self.targets[index], dtype=torch.float) # y(s) 没有特别处理\n",
    "        }"
   ]
  },
  {
   "cell_type": "code",
   "execution_count": 80,
   "id": "contrary-relevance",
   "metadata": {},
   "outputs": [],
   "source": [
    "def get_basic(p):\n",
    "    with p.open() as f:\n",
    "        d = json.load(f)\n",
    "        d['标签'] = d['标签'].keys()\n",
    "        return d"
   ]
  },
  {
   "cell_type": "code",
   "execution_count": 81,
   "id": "graphic-formation",
   "metadata": {},
   "outputs": [],
   "source": [
    "def get_comment(d, tag, comment):\n",
    "    comment['标签'] = tag\n",
    "    del comment['回复']\n",
    "    comment.update(d)\n",
    "    return comment"
   ]
  },
  {
   "cell_type": "code",
   "execution_count": 82,
   "id": "interested-finance",
   "metadata": {},
   "outputs": [],
   "source": [
    "def get_comments(p):\n",
    "    with p.open() as f:\n",
    "        d = json.load(f)\n",
    "        tag_comments = d['标签']\n",
    "        del d['标签']\n",
    "        return [get_comment(d, tag, comment) for tag, comments in tag_comments.items() for comment in comments]"
   ]
  },
  {
   "cell_type": "markdown",
   "id": "earlier-archive",
   "metadata": {},
   "source": [
    "### load"
   ]
  },
  {
   "cell_type": "code",
   "execution_count": 83,
   "id": "forced-configuration",
   "metadata": {},
   "outputs": [],
   "source": [
    "path_root = Path('./data')"
   ]
  },
  {
   "cell_type": "code",
   "execution_count": 84,
   "id": "confirmed-ghost",
   "metadata": {},
   "outputs": [],
   "source": [
    "path_data = Path('comment.taptap-20210203-1')"
   ]
  },
  {
   "cell_type": "code",
   "execution_count": 85,
   "id": "removed-applicant",
   "metadata": {},
   "outputs": [],
   "source": [
    "path = path_root/path_data"
   ]
  },
  {
   "cell_type": "code",
   "execution_count": 86,
   "id": "allied-judge",
   "metadata": {
    "scrolled": false
   },
   "outputs": [
    {
     "name": "stdout",
     "output_type": "stream",
     "text": [
      "CPU times: user 14.8 s, sys: 4.57 s, total: 19.4 s\n",
      "Wall time: 19.3 s\n",
      "(150, 5)\n"
     ]
    },
    {
     "data": {
      "text/html": [
       "<div>\n",
       "<style scoped>\n",
       "    .dataframe tbody tr th:only-of-type {\n",
       "        vertical-align: middle;\n",
       "    }\n",
       "\n",
       "    .dataframe tbody tr th {\n",
       "        vertical-align: top;\n",
       "    }\n",
       "\n",
       "    .dataframe thead th {\n",
       "        text-align: right;\n",
       "    }\n",
       "</style>\n",
       "<table border=\"1\" class=\"dataframe\">\n",
       "  <thead>\n",
       "    <tr style=\"text-align: right;\">\n",
       "      <th></th>\n",
       "      <th>游戏名</th>\n",
       "      <th>游戏评分</th>\n",
       "      <th>游戏url</th>\n",
       "      <th>评论数量</th>\n",
       "      <th>标签</th>\n",
       "    </tr>\n",
       "  </thead>\n",
       "  <tbody>\n",
       "    <tr>\n",
       "      <th>0</th>\n",
       "      <td>精灵契约</td>\n",
       "      <td>6.8</td>\n",
       "      <td>https://www.taptap.com/app/142111</td>\n",
       "      <td>870</td>\n",
       "      <td>(过于氪金, 体验不错, 画面优良, 运营不足, 有趣好玩, 玩家互动多, 抽卡概率低, 厂...</td>\n",
       "    </tr>\n",
       "  </tbody>\n",
       "</table>\n",
       "</div>"
      ],
      "text/plain": [
       "    游戏名 游戏评分                              游戏url  评论数量  \\\n",
       "0  精灵契约  6.8  https://www.taptap.com/app/142111   870   \n",
       "\n",
       "                                                  标签  \n",
       "0  (过于氪金, 体验不错, 画面优良, 运营不足, 有趣好玩, 玩家互动多, 抽卡概率低, 厂...  "
      ]
     },
     "execution_count": 86,
     "metadata": {},
     "output_type": "execute_result"
    }
   ],
   "source": [
    "%time df_basic = pd.DataFrame([get_basic(p) for p in path.glob('*.json')])\n",
    "print(df_basic.shape)\n",
    "df_basic.head(1)"
   ]
  },
  {
   "cell_type": "code",
   "execution_count": 87,
   "id": "assisted-mapping",
   "metadata": {
    "scrolled": true
   },
   "outputs": [
    {
     "name": "stderr",
     "output_type": "stream",
     "text": [
      "150it [00:15,  9.89it/s]\n"
     ]
    },
    {
     "name": "stdout",
     "output_type": "stream",
     "text": [
      "CPU times: user 13.8 s, sys: 3.74 s, total: 17.6 s\n",
      "Wall time: 17.5 s\n",
      "(488452, 14)\n"
     ]
    },
    {
     "data": {
      "text/html": [
       "<div>\n",
       "<style scoped>\n",
       "    .dataframe tbody tr th:only-of-type {\n",
       "        vertical-align: middle;\n",
       "    }\n",
       "\n",
       "    .dataframe tbody tr th {\n",
       "        vertical-align: top;\n",
       "    }\n",
       "\n",
       "    .dataframe thead th {\n",
       "        text-align: right;\n",
       "    }\n",
       "</style>\n",
       "<table border=\"1\" class=\"dataframe\">\n",
       "  <thead>\n",
       "    <tr style=\"text-align: right;\">\n",
       "      <th></th>\n",
       "      <th>用户名</th>\n",
       "      <th>评论时间</th>\n",
       "      <th>游戏评分</th>\n",
       "      <th>游戏时长</th>\n",
       "      <th>内容</th>\n",
       "      <th>手机型号</th>\n",
       "      <th>欢乐</th>\n",
       "      <th>点赞</th>\n",
       "      <th>点踩</th>\n",
       "      <th>回复量</th>\n",
       "      <th>标签</th>\n",
       "      <th>游戏名</th>\n",
       "      <th>游戏url</th>\n",
       "      <th>评论数量</th>\n",
       "    </tr>\n",
       "  </thead>\n",
       "  <tbody>\n",
       "    <tr>\n",
       "      <th>0</th>\n",
       "      <td>Foo云少</td>\n",
       "      <td>2021-01-19 10:07:37</td>\n",
       "      <td>6.8</td>\n",
       "      <td>0</td>\n",
       "      <td>不好玩太氪金了我有段时间没有玩号在那个区都不知道了而且这个游戏刚刚出来的时候玩的10区的</td>\n",
       "      <td>华为畅享9 Plus</td>\n",
       "      <td>0</td>\n",
       "      <td>0</td>\n",
       "      <td>0</td>\n",
       "      <td>0</td>\n",
       "      <td>过于氪金</td>\n",
       "      <td>精灵契约</td>\n",
       "      <td>https://www.taptap.com/app/142111</td>\n",
       "      <td>870</td>\n",
       "    </tr>\n",
       "  </tbody>\n",
       "</table>\n",
       "</div>"
      ],
      "text/plain": [
       "     用户名                 评论时间 游戏评分 游戏时长  \\\n",
       "0  Foo云少  2021-01-19 10:07:37  6.8    0   \n",
       "\n",
       "                                             内容        手机型号  欢乐  点赞  点踩  回复量  \\\n",
       "0  不好玩太氪金了我有段时间没有玩号在那个区都不知道了而且这个游戏刚刚出来的时候玩的10区的  华为畅享9 Plus   0   0   0    0   \n",
       "\n",
       "     标签   游戏名                              游戏url  评论数量  \n",
       "0  过于氪金  精灵契约  https://www.taptap.com/app/142111   870  "
      ]
     },
     "execution_count": 87,
     "metadata": {},
     "output_type": "execute_result"
    }
   ],
   "source": [
    "%time df_comments = pd.DataFrame(chain.from_iterable([get_comments(p) for p in tqdm(path.glob('*.json'))]))\n",
    "print(df_comments.shape)\n",
    "df_comments.head(1)"
   ]
  },
  {
   "cell_type": "code",
   "execution_count": 88,
   "id": "generous-exploration",
   "metadata": {},
   "outputs": [
    {
     "name": "stdout",
     "output_type": "stream",
     "text": [
      "(45450, 14)\n"
     ]
    },
    {
     "data": {
      "text/html": [
       "<div>\n",
       "<style scoped>\n",
       "    .dataframe tbody tr th:only-of-type {\n",
       "        vertical-align: middle;\n",
       "    }\n",
       "\n",
       "    .dataframe tbody tr th {\n",
       "        vertical-align: top;\n",
       "    }\n",
       "\n",
       "    .dataframe thead th {\n",
       "        text-align: right;\n",
       "    }\n",
       "</style>\n",
       "<table border=\"1\" class=\"dataframe\">\n",
       "  <thead>\n",
       "    <tr style=\"text-align: right;\">\n",
       "      <th></th>\n",
       "      <th>用户名</th>\n",
       "      <th>评论时间</th>\n",
       "      <th>游戏评分</th>\n",
       "      <th>游戏时长</th>\n",
       "      <th>内容</th>\n",
       "      <th>手机型号</th>\n",
       "      <th>欢乐</th>\n",
       "      <th>点赞</th>\n",
       "      <th>点踩</th>\n",
       "      <th>回复量</th>\n",
       "      <th>标签</th>\n",
       "      <th>游戏名</th>\n",
       "      <th>游戏url</th>\n",
       "      <th>评论数量</th>\n",
       "    </tr>\n",
       "  </thead>\n",
       "  <tbody>\n",
       "    <tr>\n",
       "      <th>0</th>\n",
       "      <td>Foo云少</td>\n",
       "      <td>2021-01-19 10:07:37</td>\n",
       "      <td>6.8</td>\n",
       "      <td>0</td>\n",
       "      <td>不好玩太氪金了我有段时间没有玩号在那个区都不知道了而且这个游戏刚刚出来的时候玩的10区的</td>\n",
       "      <td>华为畅享9 Plus</td>\n",
       "      <td>0</td>\n",
       "      <td>0</td>\n",
       "      <td>0</td>\n",
       "      <td>0</td>\n",
       "      <td>过于氪金</td>\n",
       "      <td>精灵契约</td>\n",
       "      <td>https://www.taptap.com/app/142111</td>\n",
       "      <td>870</td>\n",
       "    </tr>\n",
       "  </tbody>\n",
       "</table>\n",
       "</div>"
      ],
      "text/plain": [
       "     用户名                 评论时间 游戏评分 游戏时长  \\\n",
       "0  Foo云少  2021-01-19 10:07:37  6.8    0   \n",
       "\n",
       "                                             内容        手机型号  欢乐  点赞  点踩  回复量  \\\n",
       "0  不好玩太氪金了我有段时间没有玩号在那个区都不知道了而且这个游戏刚刚出来的时候玩的10区的  华为畅享9 Plus   0   0   0    0   \n",
       "\n",
       "     标签   游戏名                              游戏url  评论数量  \n",
       "0  过于氪金  精灵契约  https://www.taptap.com/app/142111   870  "
      ]
     },
     "execution_count": 88,
     "metadata": {},
     "output_type": "execute_result"
    }
   ],
   "source": [
    "df_comments_topic = df_comments[~df_comments.标签.isin(['好评', '中评', '差评', 'android', 'ios', 'web', '有游戏时长'])]\n",
    "print(df_comments_topic.shape)\n",
    "df_comments_topic.head(1)"
   ]
  },
  {
   "cell_type": "code",
   "execution_count": 89,
   "id": "narrow-norwegian",
   "metadata": {},
   "outputs": [
    {
     "name": "stdout",
     "output_type": "stream",
     "text": [
      "CPU times: user 992 ms, sys: 4 ms, total: 996 ms\n",
      "Wall time: 992 ms\n",
      "(30378, 2)\n"
     ]
    },
    {
     "data": {
      "text/html": [
       "<div>\n",
       "<style scoped>\n",
       "    .dataframe tbody tr th:only-of-type {\n",
       "        vertical-align: middle;\n",
       "    }\n",
       "\n",
       "    .dataframe tbody tr th {\n",
       "        vertical-align: top;\n",
       "    }\n",
       "\n",
       "    .dataframe thead th {\n",
       "        text-align: right;\n",
       "    }\n",
       "</style>\n",
       "<table border=\"1\" class=\"dataframe\">\n",
       "  <thead>\n",
       "    <tr style=\"text-align: right;\">\n",
       "      <th></th>\n",
       "      <th>内容</th>\n",
       "      <th>标签</th>\n",
       "    </tr>\n",
       "  </thead>\n",
       "  <tbody>\n",
       "    <tr>\n",
       "      <th>0</th>\n",
       "      <td>\\n\\n\\n玩过两个赛季的人，游戏消遣还不错，不过卡池锁卡劝退，一赛季初期获得刘备张飞，二赛...</td>\n",
       "      <td>[运营不足]</td>\n",
       "    </tr>\n",
       "    <tr>\n",
       "      <th>1</th>\n",
       "      <td>\\n\\n10:30开始进游戏就各种bug，各种系统维护。下午玩了不到一个小时，服务器又崩。无...</td>\n",
       "      <td>[运营不足]</td>\n",
       "    </tr>\n",
       "    <tr>\n",
       "      <th>2</th>\n",
       "      <td>\\n\\n游戏模式还是挺有意思，可以自己铺路建设,把不同文明的帝国从几个人发展到上万人建成自己...</td>\n",
       "      <td>[体验不错, 有趣好玩]</td>\n",
       "    </tr>\n",
       "  </tbody>\n",
       "</table>\n",
       "</div>"
      ],
      "text/plain": [
       "                                                  内容            标签\n",
       "0  \\n\\n\\n玩过两个赛季的人，游戏消遣还不错，不过卡池锁卡劝退，一赛季初期获得刘备张飞，二赛...        [运营不足]\n",
       "1  \\n\\n10:30开始进游戏就各种bug，各种系统维护。下午玩了不到一个小时，服务器又崩。无...        [运营不足]\n",
       "2  \\n\\n游戏模式还是挺有意思，可以自己铺路建设,把不同文明的帝国从几个人发展到上万人建成自己...  [体验不错, 有趣好玩]"
      ]
     },
     "execution_count": 89,
     "metadata": {},
     "output_type": "execute_result"
    }
   ],
   "source": [
    "%time df_comments_topics = df_comments_topic[['内容', '标签']].groupby(['内容']).agg(list).reset_index()\n",
    "print(df_comments_topics.shape)\n",
    "df_comments_topics.head(3)"
   ]
  },
  {
   "cell_type": "code",
   "execution_count": 90,
   "id": "solved-latter",
   "metadata": {},
   "outputs": [
    {
     "data": {
      "text/plain": [
       "1    20056\n",
       "2     7069\n",
       "3     2228\n",
       "4      694\n",
       "5      222\n",
       "6       83\n",
       "7       20\n",
       "8        6\n",
       "Name: 标签, dtype: int64"
      ]
     },
     "execution_count": 90,
     "metadata": {},
     "output_type": "execute_result"
    }
   ],
   "source": [
    "df_comments_topics['标签'].apply(len).value_counts()"
   ]
  },
  {
   "cell_type": "code",
   "execution_count": 91,
   "id": "thick-government",
   "metadata": {},
   "outputs": [
    {
     "data": {
      "text/html": [
       "<div>\n",
       "<style scoped>\n",
       "    .dataframe tbody tr th:only-of-type {\n",
       "        vertical-align: middle;\n",
       "    }\n",
       "\n",
       "    .dataframe tbody tr th {\n",
       "        vertical-align: top;\n",
       "    }\n",
       "\n",
       "    .dataframe thead th {\n",
       "        text-align: right;\n",
       "    }\n",
       "</style>\n",
       "<table border=\"1\" class=\"dataframe\">\n",
       "  <thead>\n",
       "    <tr style=\"text-align: right;\">\n",
       "      <th></th>\n",
       "      <th>内容</th>\n",
       "      <th>标签</th>\n",
       "    </tr>\n",
       "  </thead>\n",
       "  <tbody>\n",
       "    <tr>\n",
       "      <th>2</th>\n",
       "      <td>\\n\\n游戏模式还是挺有意思，可以自己铺路建设,把不同文明的帝国从几个人发展到上万人建成自己...</td>\n",
       "      <td>[体验不错, 有趣好玩]</td>\n",
       "    </tr>\n",
       "    <tr>\n",
       "      <th>4</th>\n",
       "      <td>\\n\\n玩了差不多一个月了，这两天游戏里的汉家松鼠让我评论，那么我就来评一评。游戏立意不错，...</td>\n",
       "      <td>[体验不错, 值得花钱, 厂商良心]</td>\n",
       "    </tr>\n",
       "    <tr>\n",
       "      <th>5</th>\n",
       "      <td>\\n\\n这款游戏整体来说挺好的，剧情画风都挺不错，但是还是有一些问题。\\n①难度设置的有些不...</td>\n",
       "      <td>[剧情丰富, 画面优良]</td>\n",
       "    </tr>\n",
       "  </tbody>\n",
       "</table>\n",
       "</div>"
      ],
      "text/plain": [
       "                                                  内容                  标签\n",
       "2  \\n\\n游戏模式还是挺有意思，可以自己铺路建设,把不同文明的帝国从几个人发展到上万人建成自己...        [体验不错, 有趣好玩]\n",
       "4  \\n\\n玩了差不多一个月了，这两天游戏里的汉家松鼠让我评论，那么我就来评一评。游戏立意不错，...  [体验不错, 值得花钱, 厂商良心]\n",
       "5  \\n\\n这款游戏整体来说挺好的，剧情画风都挺不错，但是还是有一些问题。\\n①难度设置的有些不...        [剧情丰富, 画面优良]"
      ]
     },
     "execution_count": 91,
     "metadata": {},
     "output_type": "execute_result"
    }
   ],
   "source": [
    "df_comments_topics[df_comments_topics['标签'].apply(len) > 1].head(3)"
   ]
  },
  {
   "cell_type": "code",
   "execution_count": 92,
   "id": "occasional-trade",
   "metadata": {},
   "outputs": [
    {
     "name": "stdout",
     "output_type": "stream",
     "text": [
      "(30378, 2)\n"
     ]
    },
    {
     "data": {
      "text/html": [
       "<div>\n",
       "<style scoped>\n",
       "    .dataframe tbody tr th:only-of-type {\n",
       "        vertical-align: middle;\n",
       "    }\n",
       "\n",
       "    .dataframe tbody tr th {\n",
       "        vertical-align: top;\n",
       "    }\n",
       "\n",
       "    .dataframe thead th {\n",
       "        text-align: right;\n",
       "    }\n",
       "</style>\n",
       "<table border=\"1\" class=\"dataframe\">\n",
       "  <thead>\n",
       "    <tr style=\"text-align: right;\">\n",
       "      <th></th>\n",
       "      <th>内容</th>\n",
       "      <th>标签</th>\n",
       "    </tr>\n",
       "  </thead>\n",
       "  <tbody>\n",
       "    <tr>\n",
       "      <th>0</th>\n",
       "      <td>\\n\\n\\n玩过两个赛季的人，游戏消遣还不错，不过卡池锁卡劝退，一赛季初期获得刘备张飞，二赛...</td>\n",
       "      <td>[0, 0, 0, 0, 0, 0, 0, 0, 0, 0, 0, 0, 0, 0, 0, ...</td>\n",
       "    </tr>\n",
       "    <tr>\n",
       "      <th>1</th>\n",
       "      <td>\\n\\n10:30开始进游戏就各种bug，各种系统维护。下午玩了不到一个小时，服务器又崩。无...</td>\n",
       "      <td>[0, 0, 0, 0, 0, 0, 0, 0, 0, 0, 0, 0, 0, 0, 0, ...</td>\n",
       "    </tr>\n",
       "    <tr>\n",
       "      <th>2</th>\n",
       "      <td>\\n\\n游戏模式还是挺有意思，可以自己铺路建设,把不同文明的帝国从几个人发展到上万人建成自己...</td>\n",
       "      <td>[0, 0, 0, 0, 0, 1, 0, 0, 0, 0, 0, 0, 0, 0, 0, ...</td>\n",
       "    </tr>\n",
       "  </tbody>\n",
       "</table>\n",
       "</div>"
      ],
      "text/plain": [
       "                                                  内容  \\\n",
       "0  \\n\\n\\n玩过两个赛季的人，游戏消遣还不错，不过卡池锁卡劝退，一赛季初期获得刘备张飞，二赛...   \n",
       "1  \\n\\n10:30开始进游戏就各种bug，各种系统维护。下午玩了不到一个小时，服务器又崩。无...   \n",
       "2  \\n\\n游戏模式还是挺有意思，可以自己铺路建设,把不同文明的帝国从几个人发展到上万人建成自己...   \n",
       "\n",
       "                                                  标签  \n",
       "0  [0, 0, 0, 0, 0, 0, 0, 0, 0, 0, 0, 0, 0, 0, 0, ...  \n",
       "1  [0, 0, 0, 0, 0, 0, 0, 0, 0, 0, 0, 0, 0, 0, 0, ...  \n",
       "2  [0, 0, 0, 0, 0, 1, 0, 0, 0, 0, 0, 0, 0, 0, 0, ...  "
      ]
     },
     "execution_count": 92,
     "metadata": {},
     "output_type": "execute_result"
    }
   ],
   "source": [
    "mlb = MultiLabelBinarizer()\n",
    "# df_comments_topics.loc[:,'标签'] = mlb.fit_transform(df_comments_topics['标签']).tolist()\n",
    "df_comments_topics['标签'] = mlb.fit_transform(df_comments_topics['标签']).tolist()\n",
    "print(df_comments_topics.shape)\n",
    "df_comments_topics.head(3)"
   ]
  },
  {
   "cell_type": "code",
   "execution_count": 93,
   "id": "superb-generation",
   "metadata": {},
   "outputs": [
    {
     "data": {
      "text/html": [
       "<div>\n",
       "<style scoped>\n",
       "    .dataframe tbody tr th:only-of-type {\n",
       "        vertical-align: middle;\n",
       "    }\n",
       "\n",
       "    .dataframe tbody tr th {\n",
       "        vertical-align: top;\n",
       "    }\n",
       "\n",
       "    .dataframe thead th {\n",
       "        text-align: right;\n",
       "    }\n",
       "</style>\n",
       "<table border=\"1\" class=\"dataframe\">\n",
       "  <thead>\n",
       "    <tr style=\"text-align: right;\">\n",
       "      <th></th>\n",
       "      <th>内容</th>\n",
       "      <th>标签</th>\n",
       "    </tr>\n",
       "  </thead>\n",
       "  <tbody>\n",
       "    <tr>\n",
       "      <th>0</th>\n",
       "      <td>\\n\\n\\n玩过两个赛季的人，游戏消遣还不错，不过卡池锁卡劝退，一赛季初期获得刘备张飞，二赛...</td>\n",
       "      <td>[0, 0, 0, 0, 0, 0, 0, 0, 0, 0, 0, 0, 0, 0, 0, ...</td>\n",
       "    </tr>\n",
       "    <tr>\n",
       "      <th>1</th>\n",
       "      <td>\\n\\n10:30开始进游戏就各种bug，各种系统维护。下午玩了不到一个小时，服务器又崩。无...</td>\n",
       "      <td>[0, 0, 0, 0, 0, 0, 0, 0, 0, 0, 0, 0, 0, 0, 0, ...</td>\n",
       "    </tr>\n",
       "    <tr>\n",
       "      <th>2</th>\n",
       "      <td>\\n\\n游戏模式还是挺有意思，可以自己铺路建设,把不同文明的帝国从几个人发展到上万人建成自己...</td>\n",
       "      <td>[0, 0, 0, 0, 0, 1, 0, 0, 0, 0, 0, 0, 0, 0, 0, ...</td>\n",
       "    </tr>\n",
       "  </tbody>\n",
       "</table>\n",
       "</div>"
      ],
      "text/plain": [
       "                                                  内容  \\\n",
       "0  \\n\\n\\n玩过两个赛季的人，游戏消遣还不错，不过卡池锁卡劝退，一赛季初期获得刘备张飞，二赛...   \n",
       "1  \\n\\n10:30开始进游戏就各种bug，各种系统维护。下午玩了不到一个小时，服务器又崩。无...   \n",
       "2  \\n\\n游戏模式还是挺有意思，可以自己铺路建设,把不同文明的帝国从几个人发展到上万人建成自己...   \n",
       "\n",
       "                                                  标签  \n",
       "0  [0, 0, 0, 0, 0, 0, 0, 0, 0, 0, 0, 0, 0, 0, 0, ...  \n",
       "1  [0, 0, 0, 0, 0, 0, 0, 0, 0, 0, 0, 0, 0, 0, 0, ...  \n",
       "2  [0, 0, 0, 0, 0, 1, 0, 0, 0, 0, 0, 0, 0, 0, 0, ...  "
      ]
     },
     "execution_count": 93,
     "metadata": {},
     "output_type": "execute_result"
    }
   ],
   "source": [
    "df_comments_topics[df_comments_topics['标签'].apply(lambda x: 1 if int == type(x) else len(x)) > 1].head(3)"
   ]
  },
  {
   "cell_type": "code",
   "execution_count": 94,
   "id": "inside-adrian",
   "metadata": {},
   "outputs": [
    {
     "data": {
      "text/plain": [
       "array(['IP还原差', 'UI体验好', 'UI体验差', '上手难度大', '优化相关', '体验不错', '体验较差', '值得花钱',\n",
       "       '剧情丰富', '剧情单调', '厂商不给力', '厂商良心', '太肝了', '尊重原著', '平衡性好', '平衡性差',\n",
       "       '广告太多', '广告影响小', '抄袭嫌疑', '护肝', '抽卡概率低', '抽卡概率高', '操作简单', '操作麻烦',\n",
       "       '新手友好', '有创新', '有趣好玩', '玩家互动多', '玩家互动少', '玩法较差', '画面优良', '画面粗糙',\n",
       "       '福利好', '福利差', '自由度低', '自由度高', '过于氪金', '运营不足', '运营给力', '配置要求低',\n",
       "       '配置要求高', '音效很棒', '音效较差'], dtype=object)"
      ]
     },
     "execution_count": 94,
     "metadata": {},
     "output_type": "execute_result"
    }
   ],
   "source": [
    "mlb.classes_"
   ]
  },
  {
   "cell_type": "raw",
   "id": "printable-tucson",
   "metadata": {},
   "source": [
    "mlb.classes_.sort()\n",
    "mlb.classes_"
   ]
  },
  {
   "cell_type": "raw",
   "id": "curious-olympus",
   "metadata": {},
   "source": [
    "for i, t in enumerate(mlb.classes_, 1):\n",
    "    print(f'|{i}|{t}|')"
   ]
  },
  {
   "cell_type": "code",
   "execution_count": 95,
   "id": "smoking-drove",
   "metadata": {},
   "outputs": [],
   "source": [
    "with open('./model/mlb.pkl', 'wb') as f:\n",
    "    pickle.dump(mlb, f)"
   ]
  },
  {
   "cell_type": "markdown",
   "id": "split-builder",
   "metadata": {},
   "source": [
    "### eda"
   ]
  },
  {
   "cell_type": "markdown",
   "id": "collected-ceremony",
   "metadata": {},
   "source": [
    "#### content length"
   ]
  },
  {
   "cell_type": "code",
   "execution_count": 21,
   "id": "ordinary-school",
   "metadata": {},
   "outputs": [],
   "source": [
    "df_comments_length = df_comments_topics['内容'].apply(len)"
   ]
  },
  {
   "cell_type": "code",
   "execution_count": 22,
   "id": "wired-crest",
   "metadata": {},
   "outputs": [
    {
     "data": {
      "text/plain": [
       "count    30378.000000\n",
       "mean       183.025446\n",
       "std        286.144866\n",
       "min         21.000000\n",
       "25%         44.000000\n",
       "50%         87.000000\n",
       "75%        203.000000\n",
       "max      13714.000000\n",
       "Name: 内容, dtype: float64"
      ]
     },
     "execution_count": 22,
     "metadata": {},
     "output_type": "execute_result"
    }
   ],
   "source": [
    "df_comments_length.describe()"
   ]
  },
  {
   "cell_type": "code",
   "execution_count": 23,
   "id": "identical-curtis",
   "metadata": {},
   "outputs": [
    {
     "name": "stdout",
     "output_type": "stream",
     "text": [
      "(30378,)\n",
      "(27670,)\n",
      "0.9108565409177695\n"
     ]
    }
   ],
   "source": [
    "k = 1\n",
    "mu_1std = df_comments_length.mean(axis=0) + k * df_comments_length.std(axis=0) \n",
    "\n",
    "print(df_comments_length.shape)\n",
    "print(df_comments_length[df_comments_length < mu_1std].shape)\n",
    "print(df_comments_length[df_comments_length < mu_1std].shape[0] / df_comments_length.shape[0])"
   ]
  },
  {
   "cell_type": "markdown",
   "id": "psychological-oasis",
   "metadata": {},
   "source": [
    "#### topic"
   ]
  },
  {
   "cell_type": "code",
   "execution_count": 24,
   "id": "chinese-clothing",
   "metadata": {},
   "outputs": [
    {
     "name": "stdout",
     "output_type": "stream",
     "text": [
      "50\n"
     ]
    },
    {
     "data": {
      "text/plain": [
       "{'IP还原差',\n",
       " 'UI体验好',\n",
       " 'UI体验差',\n",
       " 'android',\n",
       " 'ios',\n",
       " 'web',\n",
       " '上手难度大',\n",
       " '中评',\n",
       " '优化相关',\n",
       " '体验不错',\n",
       " '体验较差',\n",
       " '值得花钱',\n",
       " '剧情丰富',\n",
       " '剧情单调',\n",
       " '厂商不给力',\n",
       " '厂商良心',\n",
       " '太肝了',\n",
       " '好评',\n",
       " '尊重原著',\n",
       " '差评',\n",
       " '平衡性好',\n",
       " '平衡性差',\n",
       " '广告太多',\n",
       " '广告影响小',\n",
       " '抄袭嫌疑',\n",
       " '护肝',\n",
       " '抽卡概率低',\n",
       " '抽卡概率高',\n",
       " '操作简单',\n",
       " '操作麻烦',\n",
       " '新手友好',\n",
       " '有创新',\n",
       " '有游戏时长',\n",
       " '有趣好玩',\n",
       " '玩家互动多',\n",
       " '玩家互动少',\n",
       " '玩法较差',\n",
       " '画面优良',\n",
       " '画面粗糙',\n",
       " '福利好',\n",
       " '福利差',\n",
       " '自由度低',\n",
       " '自由度高',\n",
       " '过于氪金',\n",
       " '运营不足',\n",
       " '运营给力',\n",
       " '配置要求低',\n",
       " '配置要求高',\n",
       " '音效很棒',\n",
       " '音效较差'}"
      ]
     },
     "execution_count": 24,
     "metadata": {},
     "output_type": "execute_result"
    }
   ],
   "source": [
    "tags = set(chain.from_iterable(df_basic.标签.apply(list).tolist()))\n",
    "print(len(tags))\n",
    "tags"
   ]
  },
  {
   "cell_type": "code",
   "execution_count": 25,
   "id": "laden-pottery",
   "metadata": {},
   "outputs": [
    {
     "data": {
      "text/plain": [
       "(182070, 14)"
      ]
     },
     "execution_count": 25,
     "metadata": {},
     "output_type": "execute_result"
    }
   ],
   "source": [
    "df_comments.drop_duplicates('内容').shape"
   ]
  },
  {
   "cell_type": "code",
   "execution_count": 26,
   "id": "typical-placement",
   "metadata": {},
   "outputs": [
    {
     "data": {
      "text/plain": [
       "43    30378\n",
       "Name: 标签, dtype: int64"
      ]
     },
     "execution_count": 26,
     "metadata": {},
     "output_type": "execute_result"
    }
   ],
   "source": [
    "df_comments_topics.标签.apply(len).value_counts()"
   ]
  },
  {
   "cell_type": "markdown",
   "id": "designing-banking",
   "metadata": {},
   "source": [
    "#### +1/0/-1"
   ]
  },
  {
   "cell_type": "code",
   "execution_count": 27,
   "id": "noted-literacy",
   "metadata": {},
   "outputs": [
    {
     "name": "stdout",
     "output_type": "stream",
     "text": [
      "(195017, 14)\n"
     ]
    },
    {
     "data": {
      "text/html": [
       "<div>\n",
       "<style scoped>\n",
       "    .dataframe tbody tr th:only-of-type {\n",
       "        vertical-align: middle;\n",
       "    }\n",
       "\n",
       "    .dataframe tbody tr th {\n",
       "        vertical-align: top;\n",
       "    }\n",
       "\n",
       "    .dataframe thead th {\n",
       "        text-align: right;\n",
       "    }\n",
       "</style>\n",
       "<table border=\"1\" class=\"dataframe\">\n",
       "  <thead>\n",
       "    <tr style=\"text-align: right;\">\n",
       "      <th></th>\n",
       "      <th>用户名</th>\n",
       "      <th>评论时间</th>\n",
       "      <th>游戏评分</th>\n",
       "      <th>游戏时长</th>\n",
       "      <th>内容</th>\n",
       "      <th>手机型号</th>\n",
       "      <th>欢乐</th>\n",
       "      <th>点赞</th>\n",
       "      <th>点踩</th>\n",
       "      <th>回复量</th>\n",
       "      <th>标签</th>\n",
       "      <th>游戏名</th>\n",
       "      <th>游戏url</th>\n",
       "      <th>评论数量</th>\n",
       "    </tr>\n",
       "  </thead>\n",
       "  <tbody>\n",
       "    <tr>\n",
       "      <th>1369</th>\n",
       "      <td>白鳞小蛇</td>\n",
       "      <td>2021-01-26 11:37:59</td>\n",
       "      <td>6.8</td>\n",
       "      <td>0</td>\n",
       "      <td>还不错，就是太依赖于抽卡，没什么英雄搭配\\r\\n\\r\\n这游戏凉了么？\\r\\n</td>\n",
       "      <td></td>\n",
       "      <td>1</td>\n",
       "      <td>0</td>\n",
       "      <td>0</td>\n",
       "      <td>0</td>\n",
       "      <td>好评</td>\n",
       "      <td>精灵契约</td>\n",
       "      <td>https://www.taptap.com/app/142111</td>\n",
       "      <td>870</td>\n",
       "    </tr>\n",
       "  </tbody>\n",
       "</table>\n",
       "</div>"
      ],
      "text/plain": [
       "       用户名                 评论时间 游戏评分 游戏时长  \\\n",
       "1369  白鳞小蛇  2021-01-26 11:37:59  6.8    0   \n",
       "\n",
       "                                           内容 手机型号  欢乐  点赞  点踩  回复量  标签   游戏名  \\\n",
       "1369  还不错，就是太依赖于抽卡，没什么英雄搭配\\r\\n\\r\\n这游戏凉了么？\\r\\n        1   0   0    0  好评  精灵契约   \n",
       "\n",
       "                                  游戏url  评论数量  \n",
       "1369  https://www.taptap.com/app/142111   870  "
      ]
     },
     "execution_count": 27,
     "metadata": {},
     "output_type": "execute_result"
    }
   ],
   "source": [
    "df_comments_pnn = df_comments[df_comments.标签.isin(['好评', '中评', '差评'])]\n",
    "print(df_comments_pnn.shape)\n",
    "df_comments_pnn.head(1)"
   ]
  },
  {
   "cell_type": "code",
   "execution_count": 28,
   "id": "chronic-discussion",
   "metadata": {},
   "outputs": [
    {
     "data": {
      "text/plain": [
       "(173610, 14)"
      ]
     },
     "execution_count": 28,
     "metadata": {},
     "output_type": "execute_result"
    }
   ],
   "source": [
    "df_comments_pnn.drop_duplicates('内容').shape"
   ]
  },
  {
   "cell_type": "code",
   "execution_count": 29,
   "id": "blind-necessity",
   "metadata": {},
   "outputs": [
    {
     "data": {
      "text/plain": [
       "好评    0.591400\n",
       "差评    0.291764\n",
       "中评    0.116836\n",
       "Name: 标签, dtype: float64"
      ]
     },
     "execution_count": 29,
     "metadata": {},
     "output_type": "execute_result"
    }
   ],
   "source": [
    "df_comments_pnn.标签.value_counts(normalize=True)"
   ]
  },
  {
   "cell_type": "markdown",
   "id": "express-laptop",
   "metadata": {},
   "source": [
    "### to dataset"
   ]
  },
  {
   "cell_type": "code",
   "execution_count": 30,
   "id": "oriented-adventure",
   "metadata": {},
   "outputs": [
    {
     "data": {
      "text/plain": [
       "469"
      ]
     },
     "execution_count": 30,
     "metadata": {},
     "output_type": "execute_result"
    }
   ],
   "source": [
    "int(mu_1std)"
   ]
  },
  {
   "cell_type": "code",
   "execution_count": 31,
   "id": "optical-favor",
   "metadata": {
    "colab": {
     "base_uri": "https://localhost:8080/",
     "height": 66,
     "referenced_widgets": [
      "4ff1e0e231244d79a4d1ebdc2e7b8235",
      "51d4c2a94e654b83916d011c65248d04",
      "a7354b526df9448d8fd6c4a264c2ac24",
      "1b67b76cd9394e3b8addf6195ca9611a",
      "b9510b24e7e64b9d822d025a9b30757b",
      "84c7d4fb46924b7fa412d188ea7e05da",
      "23b26013d0144f468af29109e37e3a60",
      "b5dd7f6b28d542ea9d3831028c888f44"
     ]
    },
    "colab_type": "code",
    "id": "ikfbFlNHgi8T",
    "outputId": "21188d80-cd21-4d66-bdf0-8308af26a0fd"
   },
   "outputs": [],
   "source": [
    "# MAX_LEN = 128\n",
    "# MAX_LEN = int(mu_1std)\n",
    "MAX_LEN = 512\n",
    "\n",
    "TRAIN_BATCH_SIZE = 4 # 8 # 4\n",
    "VALID_BATCH_SIZE = 4 # 8 # 4\n",
    "EPOCHS = 20\n",
    "LEARNING_RATE = 1e-05"
   ]
  },
  {
   "cell_type": "code",
   "execution_count": 32,
   "id": "surprised-matter",
   "metadata": {},
   "outputs": [],
   "source": [
    "new_df = df_comments_topics"
   ]
  },
  {
   "cell_type": "code",
   "execution_count": 33,
   "id": "attempted-durham",
   "metadata": {
    "colab": {
     "base_uri": "https://localhost:8080/",
     "height": 70
    },
    "colab_type": "code",
    "id": "PkDGqarcPowL",
    "outputId": "e834ea5d-5d00-4bb6-ad52-6f21e744da95"
   },
   "outputs": [
    {
     "name": "stdout",
     "output_type": "stream",
     "text": [
      "FULL Dataset: (30378, 2)\n",
      "TRAIN Dataset: (24302, 2)\n",
      "TEST Dataset: (6076, 2)\n"
     ]
    }
   ],
   "source": [
    "# split train & test\n",
    "\n",
    "train_size = 0.8\n",
    "\n",
    "train_dataset = new_df.sample(frac=train_size, random_state=200)\n",
    "test_dataset = new_df.drop(train_dataset.index).reset_index(drop=True)\n",
    "train_dataset = train_dataset.reset_index(drop=True)\n",
    "\n",
    "print(\"FULL Dataset: {}\".format(new_df.shape))\n",
    "print(\"TRAIN Dataset: {}\".format(train_dataset.shape))\n",
    "print(\"TEST Dataset: {}\".format(test_dataset.shape))"
   ]
  },
  {
   "cell_type": "raw",
   "id": "possible-being",
   "metadata": {},
   "source": [
    "test_dataset['标签'] = mlb.inverse_transform(np.array(test_dataset['标签'].to_list()))"
   ]
  },
  {
   "cell_type": "raw",
   "id": "marked-oxygen",
   "metadata": {},
   "source": [
    "test_dataset.head(5).values"
   ]
  },
  {
   "cell_type": "code",
   "execution_count": null,
   "id": "hollow-evans",
   "metadata": {},
   "outputs": [],
   "source": [
    "# model_name = 'bert-base-chinese'\n",
    "\n",
    "# model_name = 'hfl/chinese-bert-wwm'\n",
    "model_name = 'hfl/chinese-bert-wwm-ext'\n",
    "\n",
    "# model_name = 'hfl/chinese-roberta-wwm-ext'\n",
    "# model_name = 'hfl/chinese-roberta-wwm-ext-large'    # not working\n",
    "\n",
    "# model_name = 'hfl/chinese-macbert-base'\n",
    "\n",
    "# model_name = 'ckiplab/bert-base-chinese'\n",
    "\n",
    "# model_name = 'ckiplab/albert-tiny-chinese'    # not working"
   ]
  },
  {
   "cell_type": "code",
   "execution_count": null,
   "id": "distributed-barbados",
   "metadata": {},
   "outputs": [],
   "source": [
    "tokenizer = BertTokenizer.from_pretrained(model_name)"
   ]
  },
  {
   "cell_type": "code",
   "execution_count": null,
   "id": "radio-surface",
   "metadata": {},
   "outputs": [],
   "source": [
    "training_set = CustomDataset(train_dataset, tokenizer, MAX_LEN) # diff MultiLabelDataset\n",
    "testing_set = CustomDataset(test_dataset, tokenizer, MAX_LEN)"
   ]
  },
  {
   "cell_type": "markdown",
   "id": "classical-grade",
   "metadata": {},
   "source": [
    "## Model"
   ]
  },
  {
   "cell_type": "code",
   "execution_count": null,
   "id": "gorgeous-tourist",
   "metadata": {},
   "outputs": [],
   "source": [
    "x = pipeline('a')\n",
    "x('wgoewno nowgno')"
   ]
  },
  {
   "cell_type": "code",
   "execution_count": 72,
   "id": "standard-topic",
   "metadata": {
    "colab": {
     "base_uri": "https://localhost:8080/",
     "height": 1000
    },
    "colab_type": "code",
    "id": "FeftvDhjDSPp",
    "outputId": "4ba915de-3a1e-4650-d253-2b43857f2d99"
   },
   "outputs": [],
   "source": [
    "class BERTClass(torch.nn.Module):\n",
    "    \n",
    "    \n",
    "    def __init__(self):\n",
    "        super(BERTClass, self).__init__()\n",
    "        self.l1 = transformers.BertModel.from_pretrained(model_name)\n",
    "        self.l2 = torch.nn.Dropout(0.3)\n",
    "        self.l3 = torch.nn.Linear(768, len(mlb.classes_))\n",
    "    \n",
    "    \n",
    "    def forward(self, ids, mask, token_type_ids):\n",
    "        output_1 = self.l1(ids, attention_mask = mask, token_type_ids = token_type_ids)\n",
    "        output_2 = self.l2(output_1.pooler_output)\n",
    "        output = self.l3(output_2)\n",
    "        return output"
   ]
  },
  {
   "cell_type": "code",
   "execution_count": null,
   "id": "polished-monthly",
   "metadata": {
    "colab": {},
    "colab_type": "code",
    "id": "7KnNeQx6SI78"
   },
   "outputs": [],
   "source": [
    "def loss_fn(outputs, targets):\n",
    "    return torch.nn.BCEWithLogitsLoss()(outputs, targets)"
   ]
  },
  {
   "cell_type": "code",
   "execution_count": null,
   "id": "racial-dakota",
   "metadata": {
    "colab": {},
    "colab_type": "code",
    "id": "B9_DjWmfWx1q"
   },
   "outputs": [],
   "source": [
    "def train(model, optimizer, training_loader, epoch, device):\n",
    "    model.train()\n",
    "    \n",
    "    for _, data in enumerate(training_loader, 0): # enumerate(iterable, start=0)\n",
    "        \n",
    "        # _, by batch?\n",
    "        \n",
    "        # X\n",
    "        ids = data['ids'].to(device, dtype = torch.long)\n",
    "        mask = data['mask'].to(device, dtype = torch.long)\n",
    "        token_type_ids = data['token_type_ids'].to(device, dtype = torch.long)\n",
    "        \n",
    "        # y\n",
    "        targets = data['targets'].to(device, dtype = torch.float)\n",
    "\n",
    "        # train\n",
    "        outputs = model(ids, mask, token_type_ids)\n",
    "\n",
    "        # optimizer clean\n",
    "        optimizer.zero_grad()\n",
    "        \n",
    "        # loss\n",
    "        loss = loss_fn(outputs, targets)\n",
    "        if 0 == _ % 5000:\n",
    "            print(f'Epoch: {epoch}, Loss:  {loss.item()}')\n",
    "        \n",
    "        # TODO: why?\n",
    "        # optimizer.zero_grad()\n",
    "        \n",
    "        # optimize\n",
    "        loss.backward() # get new gradient, upon zero grad\n",
    "        optimizer.step()"
   ]
  },
  {
   "cell_type": "code",
   "execution_count": null,
   "id": "solved-baking",
   "metadata": {},
   "outputs": [],
   "source": [
    "def hamming_score(y_true, y_pred, normalize=True, sample_weight=None):\n",
    "    acc_list = []\n",
    "    for i in range(y_true.shape[0]):\n",
    "        set_true = set( np.where(y_true[i])[0] )\n",
    "        set_pred = set( np.where(y_pred[i])[0] )\n",
    "        tmp_a = None\n",
    "        if len(set_true) == 0 and len(set_pred) == 0:\n",
    "            tmp_a = 1\n",
    "        else:\n",
    "            tmp_a = len(set_true.intersection(set_pred))/\\\n",
    "                    float( len(set_true.union(set_pred)) )\n",
    "        acc_list.append(tmp_a)\n",
    "    return np.mean(acc_list)"
   ]
  },
  {
   "cell_type": "code",
   "execution_count": null,
   "id": "economic-petersburg",
   "metadata": {
    "colab": {},
    "colab_type": "code",
    "id": "nIEoUm4aQkyl"
   },
   "outputs": [],
   "source": [
    "def validation(model, epoch):\n",
    "    model.eval()\n",
    "    \n",
    "    fin_targets=[]\n",
    "    fin_outputs=[]\n",
    "    \n",
    "    with torch.no_grad():\n",
    "        for _, data in enumerate(testing_loader, 0):\n",
    "            \n",
    "            # X\n",
    "            ids = data['ids'].to(device, dtype = torch.long)\n",
    "            mask = data['mask'].to(device, dtype = torch.long)\n",
    "            token_type_ids = data['token_type_ids'].to(device, dtype = torch.long)\n",
    "            \n",
    "            # y\n",
    "            targets = data['targets'].to(device, dtype = torch.float)\n",
    "            \n",
    "            # pred\n",
    "            outputs = model(ids, mask, token_type_ids)\n",
    "            \n",
    "            # TODO:\n",
    "            fin_targets.extend(targets.cpu().detach().numpy().tolist())\n",
    "            fin_outputs.extend(torch.sigmoid(outputs).cpu().detach().numpy().tolist())\n",
    "            \n",
    "    return fin_outputs, fin_targets"
   ]
  },
  {
   "cell_type": "code",
   "execution_count": null,
   "id": "radio-values",
   "metadata": {
    "colab": {},
    "colab_type": "code",
    "id": "vLpilV73QrXJ"
   },
   "outputs": [],
   "source": [
    "train_params = {'batch_size': TRAIN_BATCH_SIZE,\n",
    "                'shuffle': True,\n",
    "                'num_workers': 0\n",
    "                }\n",
    "\n",
    "test_params = {'batch_size': VALID_BATCH_SIZE,\n",
    "                'shuffle': True,\n",
    "                'num_workers': 0\n",
    "                }\n",
    "\n",
    "training_loader = DataLoader(training_set, **train_params)\n",
    "testing_loader = DataLoader(testing_set, **test_params)"
   ]
  },
  {
   "cell_type": "code",
   "execution_count": 73,
   "id": "forward-marker",
   "metadata": {},
   "outputs": [],
   "source": [
    "# model = BERTClass()\n",
    "\n",
    "model_file = './model/chinese-bert-wwm-ext-4.bin'\n",
    "model = torch.load(model_file)"
   ]
  },
  {
   "cell_type": "code",
   "execution_count": null,
   "id": "floppy-incidence",
   "metadata": {
    "colab": {
     "base_uri": "https://localhost:8080/",
     "height": 1000,
     "referenced_widgets": [
      "29b605fec9d34649888ee7ec36b89595",
      "2bd7ade54b7841f2840e5187d9e3bc99",
      "fa0ae9bc665b47d89ebee73bf6ddaccf",
      "6cb5f40281524c1ba78f1260cadbfe66",
      "6ee0645e22b54ceebff09091598bce28",
      "448cd06bb18548a39d5fb88adad5cb20",
      "bfbb87e4c4ad44b285edd376b5659a3a",
      "c4e387689be7453d9c65b1b3bbd99d7d",
      "7d2a9c4d56524de7a3783cdf0760254d",
      "46c0394c31e44192a4ada6073cd915bc",
      "bd2b7813f0974e52b4a966ee2455909e",
      "183e12f5b9f64f02ae2e31bc390045f2",
      "e8bcca8b06834420a6863751c4ed53e3",
      "19acfedb0f974ad1aac62da45273d5fb",
      "68da6b73b1f14542a48401a7d4ca3e28",
      "ddec16ebb40a4ab9ba3172959596ecc2"
     ]
    },
    "colab_type": "code",
    "id": "DegHNyIEQxB2",
    "outputId": "9d8c15f8-aa49-4c4e-e1c9-e112eb0ed19b",
    "scrolled": true
   },
   "outputs": [],
   "source": [
    "model.to(device);"
   ]
  },
  {
   "cell_type": "code",
   "execution_count": null,
   "id": "clinical-schedule",
   "metadata": {
    "colab": {},
    "colab_type": "code",
    "id": "gUD8j0c7WsA-"
   },
   "outputs": [],
   "source": [
    "optimizer = torch.optim.Adam(params =  model.parameters(), lr=LEARNING_RATE)"
   ]
  },
  {
   "cell_type": "code",
   "execution_count": null,
   "id": "timely-fairy",
   "metadata": {
    "colab": {
     "base_uri": "https://localhost:8080/",
     "height": 87
    },
    "colab_type": "code",
    "id": "D4Yl7gXHYSRU",
    "outputId": "94be5496-6ab5-4744-b8db-c6370fbd9f88"
   },
   "outputs": [],
   "source": [
    "%time for epoch in range(EPOCHS): train(model, optimizer, training_loader, epoch, device)"
   ]
  },
  {
   "cell_type": "code",
   "execution_count": null,
   "id": "narrative-notebook",
   "metadata": {
    "colab": {
     "base_uri": "https://localhost:8080/",
     "height": 70
    },
    "colab_type": "code",
    "id": "Ov1_3R_pAcMo",
    "outputId": "96d0de09-1943-44b0-9f48-692f045e2863",
    "scrolled": false
   },
   "outputs": [],
   "source": [
    "for epoch in range(EPOCHS):\n",
    "    \n",
    "    outputs, targets = validation(model, epoch)\n",
    "    outputs = np.array(outputs) >= 0.5\n",
    "    \n",
    "    accuracy = metrics.accuracy_score(targets, outputs)\n",
    "    f1_score_micro = metrics.f1_score(targets, outputs, average='micro')\n",
    "    f1_score_macro = metrics.f1_score(targets, outputs, average='macro')\n",
    "    \n",
    "    # TODO:\n",
    "    print(f\"Accuracy Score = {accuracy}\")\n",
    "    print(f\"F1 Score (Micro) = {f1_score_micro}\")\n",
    "    print(f\"F1 Score (Macro) = {f1_score_macro}\")\n",
    "    \n",
    "    val_hamming_loss = metrics.hamming_loss(targets, outputs)\n",
    "    val_hamming_score = hamming_score(np.array(targets), np.array(outputs))\n",
    "\n",
    "    print(f\"Hamming Score = {val_hamming_score}\")\n",
    "    print(f\"Hamming Loss = {val_hamming_loss}\")\n",
    "    \n",
    "    print(classification_report(targets, outputs, target_names=mlb.classes_))"
   ]
  },
  {
   "cell_type": "raw",
   "id": "effective-thursday",
   "metadata": {},
   "source": [
    "Epoch: 0, Loss:  0.7324339747428894\n",
    "Epoch: 0, Loss:  0.10072188079357147\n",
    "Epoch: 1, Loss:  0.0728960707783699\n",
    "Epoch: 1, Loss:  0.0804666131734848\n",
    "Epoch: 2, Loss:  0.0238090418279171\n",
    "Epoch: 2, Loss:  0.016669299453496933\n",
    "Epoch: 3, Loss:  0.055355045944452286\n",
    "Epoch: 3, Loss:  0.022622251883149147\n",
    "Epoch: 4, Loss:  0.020894266664981842\n",
    "Epoch: 4, Loss:  0.00910936202853918\n",
    "Epoch: 5, Loss:  0.013909827917814255\n",
    "Epoch: 5, Loss:  0.0190872922539711\n",
    "Epoch: 6, Loss:  0.013641482219099998\n",
    "Epoch: 6, Loss:  0.013360929675400257\n",
    "Epoch: 7, Loss:  0.0034214952029287815\n",
    "Epoch: 7, Loss:  0.007820475846529007\n",
    "Epoch: 8, Loss:  0.006304231937974691\n",
    "Epoch: 8, Loss:  0.011300300247967243\n",
    "Epoch: 9, Loss:  0.0058611733838915825\n",
    "Epoch: 9, Loss:  0.03254132717847824\n",
    "Epoch: 10, Loss:  0.0009811695199459791\n",
    "Epoch: 10, Loss:  0.001174618722870946\n",
    "Epoch: 11, Loss:  0.0021096165291965008\n",
    "Epoch: 11, Loss:  0.0009032439556904137\n",
    "Epoch: 12, Loss:  0.001238300814293325\n",
    "Epoch: 12, Loss:  0.0005179581930860877\n",
    "Epoch: 13, Loss:  0.000958286109380424\n",
    "Epoch: 13, Loss:  0.0018027893966063857\n",
    "Epoch: 14, Loss:  0.002926132408902049\n",
    "Epoch: 14, Loss:  0.005919680465012789\n",
    "Epoch: 15, Loss:  0.0008485053549520671\n",
    "Epoch: 15, Loss:  0.0013788489159196615\n",
    "Epoch: 16, Loss:  0.0013910614652559161\n",
    "Epoch: 16, Loss:  0.014957946725189686\n",
    "Epoch: 17, Loss:  0.0007612990448251367\n",
    "Epoch: 17, Loss:  0.004561836831271648\n",
    "Epoch: 18, Loss:  0.020940158516168594\n",
    "Epoch: 18, Loss:  0.021745136007666588\n",
    "Epoch: 19, Loss:  0.008478510193526745\n",
    "Epoch: 19, Loss:  0.003277258714661002"
   ]
  },
  {
   "cell_type": "raw",
   "id": "incident-startup",
   "metadata": {},
   "source": [
    "              precision    recall  f1-score   support\n",
    "\n",
    "       IP还原差       0.60      0.53      0.56        17\n",
    "       UI体验好       0.77      0.39      0.52        44\n",
    "       UI体验差       0.91      0.71      0.79        68\n",
    "       上手难度大       0.75      0.74      0.74       185\n",
    "        优化相关       0.73      0.85      0.78        66\n",
    "        体验不错       0.83      0.85      0.84       943\n",
    "        体验较差       0.71      0.74      0.72       419\n",
    "        值得花钱       0.69      0.68      0.68       291\n",
    "        剧情丰富       0.87      0.92      0.89       391\n",
    "        剧情单调       0.71      0.55      0.62        22\n",
    "       厂商不给力       0.80      0.82      0.81       351\n",
    "        厂商良心       0.83      0.84      0.83       190\n",
    "         太肝了       0.67      0.75      0.71       252\n",
    "        尊重原著       0.60      0.79      0.68        68\n",
    "        平衡性好       0.44      0.68      0.54        22\n",
    "        平衡性差       0.63      0.80      0.70       105\n",
    "        广告太多       0.86      0.81      0.83        84\n",
    "       广告影响小       0.50      0.25      0.33         4\n",
    "        抄袭嫌疑       0.82      0.78      0.80        65\n",
    "          护肝       0.00      0.00      0.00         9\n",
    "       抽卡概率低       0.71      0.64      0.67       151\n",
    "       抽卡概率高       0.63      0.54      0.58        50\n",
    "        操作简单       0.00      0.00      0.00         5\n",
    "        操作麻烦       1.00      0.50      0.67         4\n",
    "        新手友好       0.78      0.82      0.80       195\n",
    "         有创新       1.00      0.50      0.67         4\n",
    "        有趣好玩       0.83      0.85      0.84       952\n",
    "       玩家互动多       0.63      0.79      0.70        58\n",
    "       玩家互动少       0.33      0.45      0.38        11\n",
    "        玩法较差       0.55      0.62      0.58       136\n",
    "        画面优良       0.87      0.92      0.90       732\n",
    "        画面粗糙       0.20      0.08      0.12        12\n",
    "         福利好       0.78      0.81      0.79       113\n",
    "         福利差       0.50      0.29      0.36         7\n",
    "        自由度低       0.50      1.00      0.67         1\n",
    "        自由度高       0.92      0.96      0.94       134\n",
    "        过于氪金       0.86      0.91      0.89      1794\n",
    "        运营不足       0.83      0.90      0.86       849\n",
    "        运营给力       0.58      0.68      0.63       120\n",
    "       配置要求低       0.29      0.25      0.27         8\n",
    "       配置要求高       0.00      0.00      0.00         3\n",
    "        音效很棒       0.79      0.81      0.80       119\n",
    "        音效较差       0.33      0.33      0.33         3"
   ]
  },
  {
   "cell_type": "raw",
   "id": "imperial-filling",
   "metadata": {},
   "source": [
    "Epoch: 0, Loss:  0.0008096129167824984\n",
    "Epoch: 0, Loss:  0.010370850563049316\n",
    "Epoch: 1, Loss:  0.0014150984352454543\n",
    "Epoch: 1, Loss:  0.0007346888305619359\n",
    "Epoch: 2, Loss:  0.002049696398898959\n",
    "Epoch: 2, Loss:  0.0023183608427643776\n",
    "Epoch: 3, Loss:  0.00027167960070073605\n",
    "Epoch: 3, Loss:  0.0005660518654622138\n",
    "Epoch: 4, Loss:  0.00019168188737239689\n",
    "Epoch: 4, Loss:  0.00255094887688756\n",
    "Epoch: 5, Loss:  0.00033645861549302936\n",
    "Epoch: 5, Loss:  0.0017859921790659428\n",
    "Epoch: 6, Loss:  0.0009756535873748362\n",
    "Epoch: 6, Loss:  0.0003451902884989977\n",
    "Epoch: 7, Loss:  0.003956115338951349\n",
    "Epoch: 7, Loss:  0.00020610567298717797\n",
    "Epoch: 8, Loss:  0.0019303319277241826\n",
    "Epoch: 8, Loss:  0.0006202808581292629\n",
    "Epoch: 9, Loss:  0.016427207738161087\n",
    "Epoch: 9, Loss:  0.00014259820454753935\n",
    "Epoch: 10, Loss:  0.005780933890491724\n",
    "Epoch: 10, Loss:  0.00018913621897809207\n",
    "Epoch: 11, Loss:  0.0012899104040116072\n",
    "Epoch: 11, Loss:  0.010675787925720215\n",
    "Epoch: 12, Loss:  0.00017297526937909424\n",
    "Epoch: 12, Loss:  0.00027011302881874144\n",
    "Epoch: 13, Loss:  5.062320633442141e-05\n",
    "Epoch: 13, Loss:  0.021933527663350105\n",
    "Epoch: 14, Loss:  7.853435090510175e-05\n",
    "Epoch: 14, Loss:  0.000674906128551811\n",
    "Epoch: 15, Loss:  0.0001760106097208336\n",
    "Epoch: 15, Loss:  0.0009047091589309275\n",
    "Epoch: 16, Loss:  0.00010838940215762705\n",
    "Epoch: 16, Loss:  0.0009103220072574914\n",
    "Epoch: 17, Loss:  5.9883368521695957e-05\n",
    "Epoch: 17, Loss:  6.688063149340451e-05\n",
    "Epoch: 18, Loss:  0.000557397142983973\n",
    "Epoch: 18, Loss:  0.007293275557458401\n",
    "Epoch: 19, Loss:  0.0011979748960584402\n",
    "Epoch: 19, Loss:  0.006467210128903389"
   ]
  },
  {
   "cell_type": "raw",
   "id": "aerial-directory",
   "metadata": {},
   "source": [
    "              precision    recall  f1-score   support\n",
    "\n",
    "       IP还原差       0.67      0.35      0.46        17\n",
    "       UI体验好       0.68      0.57      0.62        44\n",
    "       UI体验差       0.80      0.72      0.76        68\n",
    "       上手难度大       0.78      0.73      0.76       185\n",
    "        优化相关       0.73      0.77      0.75        66\n",
    "        体验不错       0.85      0.84      0.84       943\n",
    "        体验较差       0.75      0.71      0.73       419\n",
    "        值得花钱       0.72      0.68      0.70       291\n",
    "        剧情丰富       0.85      0.90      0.88       391\n",
    "        剧情单调       0.55      0.50      0.52        22\n",
    "       厂商不给力       0.80      0.79      0.80       351\n",
    "        厂商良心       0.83      0.81      0.82       190\n",
    "         太肝了       0.70      0.69      0.70       252\n",
    "        尊重原著       0.66      0.72      0.69        68\n",
    "        平衡性好       0.53      0.45      0.49        22\n",
    "        平衡性差       0.74      0.70      0.72       105\n",
    "        广告太多       0.78      0.87      0.82        84\n",
    "       广告影响小       0.00      0.00      0.00         4\n",
    "        抄袭嫌疑       0.83      0.83      0.83        65\n",
    "          护肝       0.43      0.33      0.38         9\n",
    "       抽卡概率低       0.71      0.64      0.67       151\n",
    "       抽卡概率高       0.68      0.56      0.62        50\n",
    "        操作简单       0.50      0.20      0.29         5\n",
    "        操作麻烦       0.75      0.75      0.75         4\n",
    "        新手友好       0.84      0.78      0.81       195\n",
    "         有创新       1.00      0.25      0.40         4\n",
    "        有趣好玩       0.84      0.85      0.85       952\n",
    "       玩家互动多       0.70      0.79      0.74        58\n",
    "       玩家互动少       0.50      0.36      0.42        11\n",
    "        玩法较差       0.71      0.54      0.61       136\n",
    "        画面优良       0.89      0.91      0.90       732\n",
    "        画面粗糙       0.33      0.08      0.13        12\n",
    "         福利好       0.80      0.81      0.80       113\n",
    "         福利差       0.00      0.00      0.00         7\n",
    "        自由度低       0.50      1.00      0.67         1\n",
    "        自由度高       0.92      0.90      0.91       134\n",
    "        过于氪金       0.86      0.91      0.88      1794\n",
    "        运营不足       0.84      0.87      0.86       849\n",
    "        运营给力       0.62      0.71      0.66       120\n",
    "       配置要求低       0.40      0.25      0.31         8\n",
    "       配置要求高       1.00      0.67      0.80         3\n",
    "        音效很棒       0.84      0.79      0.81       119\n",
    "        音效较差       0.25      0.33      0.29         3"
   ]
  },
  {
   "cell_type": "raw",
   "id": "latter-fabric",
   "metadata": {},
   "source": [
    "Epoch: 0, Loss:  0.003406282514333725\n",
    "Epoch: 0, Loss:  5.273860369925387e-05\n",
    "Epoch: 1, Loss:  0.0004897823673672974\n",
    "Epoch: 1, Loss:  0.0006966276559978724\n",
    "Epoch: 2, Loss:  0.0025698523968458176\n",
    "Epoch: 2, Loss:  0.00016837756265886128\n",
    "Epoch: 3, Loss:  0.001027691992931068\n",
    "Epoch: 3, Loss:  0.0004176636866759509\n",
    "Epoch: 4, Loss:  0.00017776030290406197\n",
    "Epoch: 4, Loss:  0.00019497030007187277\n",
    "Epoch: 5, Loss:  5.820721708005294e-05\n",
    "Epoch: 5, Loss:  2.850276359822601e-05\n",
    "Epoch: 6, Loss:  0.0004534589243121445\n",
    "Epoch: 6, Loss:  2.602428685349878e-05\n",
    "Epoch: 7, Loss:  0.005282794591039419\n",
    "Epoch: 7, Loss:  0.00027759786462411284\n",
    "Epoch: 8, Loss:  4.4962711399421096e-05\n",
    "Epoch: 8, Loss:  0.017638850957155228\n",
    "Epoch: 9, Loss:  2.2841279132990167e-05\n",
    "Epoch: 9, Loss:  5.081835115561262e-05\n",
    "Epoch: 10, Loss:  0.008874081075191498\n",
    "Epoch: 10, Loss:  0.014278466813266277\n",
    "Epoch: 11, Loss:  0.03660136088728905\n",
    "Epoch: 11, Loss:  0.006190108601003885\n",
    "Epoch: 12, Loss:  6.345029396470636e-05\n",
    "Epoch: 12, Loss:  9.974876775231678e-06\n",
    "Epoch: 13, Loss:  0.004407441709190607\n",
    "Epoch: 13, Loss:  0.005173970013856888\n",
    "Epoch: 14, Loss:  0.0002411242458038032\n",
    "Epoch: 14, Loss:  0.0001435947051504627\n",
    "Epoch: 15, Loss:  0.0002263213973492384\n",
    "Epoch: 15, Loss:  0.008251836523413658\n",
    "Epoch: 16, Loss:  0.00041519556543789804\n",
    "Epoch: 16, Loss:  0.04709664732217789\n",
    "Epoch: 17, Loss:  4.211213672533631e-05\n",
    "Epoch: 17, Loss:  0.00016958270862232894\n",
    "Epoch: 18, Loss:  2.5829656806308776e-05\n",
    "Epoch: 18, Loss:  3.60514604835771e-05\n",
    "Epoch: 19, Loss:  0.00011403843382140622\n",
    "Epoch: 19, Loss:  0.00021217562607489526\n",
    "Epoch: 20, Loss:  0.01647302135825157\n",
    "Epoch: 20, Loss:  3.758990715141408e-05\n",
    "Epoch: 21, Loss:  0.001405725022777915\n",
    "Epoch: 21, Loss:  7.809980888850987e-05\n",
    "Epoch: 22, Loss:  0.00042180734453722835\n",
    "Epoch: 22, Loss:  0.003500558203086257\n",
    "Epoch: 23, Loss:  0.00027692431467585266\n",
    "Epoch: 23, Loss:  0.001054410357028246\n",
    "Epoch: 24, Loss:  0.00027395610231906176\n",
    "Epoch: 24, Loss:  0.0016775631811469793"
   ]
  },
  {
   "cell_type": "raw",
   "id": "patent-warrant",
   "metadata": {},
   "source": [
    "              precision    recall  f1-score   support\n",
    "\n",
    "       IP还原差       0.67      0.71      0.69        17\n",
    "       UI体验好       0.71      0.57      0.63        44\n",
    "       UI体验差       0.76      0.76      0.76        68\n",
    "       上手难度大       0.73      0.77      0.75       185\n",
    "        优化相关       0.66      0.83      0.74        66\n",
    "        体验不错       0.84      0.87      0.86       943\n",
    "        体验较差       0.78      0.72      0.75       419\n",
    "        值得花钱       0.72      0.66      0.69       291\n",
    "        剧情丰富       0.88      0.92      0.90       391\n",
    "        剧情单调       0.52      0.64      0.57        22\n",
    "       厂商不给力       0.78      0.86      0.82       351\n",
    "        厂商良心       0.83      0.80      0.82       190\n",
    "         太肝了       0.71      0.71      0.71       252\n",
    "        尊重原著       0.61      0.71      0.65        68\n",
    "        平衡性好       0.48      0.59      0.53        22\n",
    "        平衡性差       0.68      0.80      0.73       105\n",
    "        广告太多       0.80      0.83      0.81        84\n",
    "       广告影响小       1.00      0.50      0.67         4\n",
    "        抄袭嫌疑       0.87      0.80      0.83        65\n",
    "          护肝       0.60      0.33      0.43         9\n",
    "       抽卡概率低       0.72      0.68      0.70       151\n",
    "       抽卡概率高       0.60      0.54      0.57        50\n",
    "        操作简单       0.50      0.40      0.44         5\n",
    "        操作麻烦       0.50      0.75      0.60         4\n",
    "        新手友好       0.78      0.81      0.79       195\n",
    "         有创新       0.67      0.50      0.57         4\n",
    "        有趣好玩       0.86      0.84      0.85       952\n",
    "       玩家互动多       0.68      0.67      0.68        58\n",
    "       玩家互动少       0.67      0.18      0.29        11\n",
    "        玩法较差       0.62      0.62      0.62       136\n",
    "        画面优良       0.90      0.90      0.90       732\n",
    "        画面粗糙       0.33      0.50      0.40        12\n",
    "         福利好       0.81      0.81      0.81       113\n",
    "         福利差       0.30      0.43      0.35         7\n",
    "        自由度低       0.50      1.00      0.67         1\n",
    "        自由度高       0.93      0.94      0.94       134\n",
    "        过于氪金       0.86      0.91      0.89      1794\n",
    "        运营不足       0.81      0.91      0.85       849\n",
    "        运营给力       0.65      0.62      0.64       120\n",
    "       配置要求低       0.36      0.50      0.42         8\n",
    "       配置要求高       0.67      0.67      0.67         3\n",
    "        音效很棒       0.87      0.82      0.84       119\n",
    "        音效较差       0.14      0.33      0.20         3"
   ]
  },
  {
   "cell_type": "raw",
   "id": "desperate-toolbox",
   "metadata": {},
   "source": [
    "Epoch: 0, Loss:  0.00015421395073644817\n",
    "Epoch: 0, Loss:  0.00106569763738662\n",
    "Epoch: 1, Loss:  0.00034058259916491807\n",
    "Epoch: 1, Loss:  0.0019430103711783886\n",
    "Epoch: 2, Loss:  0.0001776095014065504\n",
    "Epoch: 2, Loss:  2.4416820451733656e-05\n",
    "Epoch: 3, Loss:  5.999220593366772e-05\n",
    "Epoch: 3, Loss:  5.576066905632615e-05\n",
    "Epoch: 4, Loss:  0.0012567085213959217\n",
    "Epoch: 4, Loss:  0.009382793679833412\n",
    "Epoch: 5, Loss:  0.0005961336428299546\n",
    "Epoch: 5, Loss:  0.00011700094910338521\n",
    "Epoch: 6, Loss:  2.3209380742628127e-05\n",
    "Epoch: 6, Loss:  0.0004142754478380084\n",
    "Epoch: 7, Loss:  2.9848812118871137e-05\n",
    "Epoch: 7, Loss:  0.010986716486513615\n",
    "Epoch: 8, Loss:  0.00024579648743383586\n",
    "Epoch: 8, Loss:  0.00041769410017877817\n",
    "Epoch: 9, Loss:  2.2488229660666548e-05\n",
    "Epoch: 9, Loss:  0.00016731067444197834\n",
    "Epoch: 10, Loss:  2.122180194419343e-05\n",
    "Epoch: 10, Loss:  0.00015213360893540084\n",
    "Epoch: 11, Loss:  3.039186049136333e-05\n",
    "Epoch: 11, Loss:  7.513913260481786e-06\n",
    "Epoch: 12, Loss:  0.00014216869021765888\n",
    "Epoch: 12, Loss:  8.833075116854161e-05\n",
    "Epoch: 13, Loss:  0.00036312270094640553\n",
    "Epoch: 13, Loss:  3.469562216196209e-05\n",
    "Epoch: 14, Loss:  1.1082258424721658e-05\n",
    "Epoch: 14, Loss:  0.01602918468415737\n",
    "Epoch: 15, Loss:  1.1381836884538643e-05\n",
    "Epoch: 15, Loss:  9.146248339675367e-05\n",
    "Epoch: 16, Loss:  4.7806297516217455e-05\n",
    "Epoch: 16, Loss:  3.166131136822514e-05\n",
    "Epoch: 17, Loss:  2.0787374523933977e-05\n",
    "Epoch: 17, Loss:  8.377854828722775e-05\n",
    "Epoch: 18, Loss:  1.786897519195918e-05\n",
    "Epoch: 18, Loss:  2.1846872186870314e-05\n",
    "Epoch: 19, Loss:  1.65043293236522e-05\n",
    "Epoch: 19, Loss:  0.00032947849831543863"
   ]
  },
  {
   "cell_type": "raw",
   "id": "funny-analysis",
   "metadata": {},
   "source": [
    "              precision    recall  f1-score   support\n",
    "\n",
    "       IP还原差       0.59      0.59      0.59        17\n",
    "       UI体验好       0.76      0.43      0.55        44\n",
    "       UI体验差       0.73      0.72      0.73        68\n",
    "       上手难度大       0.72      0.76      0.74       185\n",
    "        优化相关       0.74      0.76      0.75        66\n",
    "        体验不错       0.83      0.88      0.85       943\n",
    "        体验较差       0.71      0.78      0.74       419\n",
    "        值得花钱       0.71      0.70      0.70       291\n",
    "        剧情丰富       0.89      0.90      0.90       391\n",
    "        剧情单调       0.53      0.45      0.49        22\n",
    "       厂商不给力       0.80      0.86      0.83       351\n",
    "        厂商良心       0.84      0.80      0.82       190\n",
    "         太肝了       0.71      0.73      0.72       252\n",
    "        尊重原著       0.70      0.71      0.70        68\n",
    "        平衡性好       0.63      0.77      0.69        22\n",
    "        平衡性差       0.66      0.70      0.68       105\n",
    "        广告太多       0.76      0.88      0.82        84\n",
    "       广告影响小       1.00      0.25      0.40         4\n",
    "        抄袭嫌疑       0.80      0.91      0.85        65\n",
    "          护肝       0.67      0.44      0.53         9\n",
    "       抽卡概率低       0.61      0.69      0.65       151\n",
    "       抽卡概率高       0.60      0.60      0.60        50\n",
    "        操作简单       0.33      0.20      0.25         5\n",
    "        操作麻烦       1.00      0.75      0.86         4\n",
    "        新手友好       0.89      0.73      0.80       195\n",
    "         有创新       1.00      0.50      0.67         4\n",
    "        有趣好玩       0.87      0.82      0.84       952\n",
    "       玩家互动多       0.62      0.69      0.66        58\n",
    "       玩家互动少       0.25      0.36      0.30        11\n",
    "        玩法较差       0.68      0.56      0.61       136\n",
    "        画面优良       0.88      0.90      0.89       732\n",
    "        画面粗糙       0.50      0.33      0.40        12\n",
    "         福利好       0.82      0.79      0.81       113\n",
    "         福利差       0.60      0.43      0.50         7\n",
    "        自由度低       0.17      1.00      0.29         1\n",
    "        自由度高       0.91      0.94      0.93       134\n",
    "        过于氪金       0.87      0.91      0.89      1794\n",
    "        运营不足       0.80      0.90      0.85       849\n",
    "        运营给力       0.79      0.55      0.65       120\n",
    "       配置要求低       0.50      0.38      0.43         8\n",
    "       配置要求高       0.50      0.33      0.40         3\n",
    "        音效很棒       0.84      0.82      0.83       119\n",
    "        音效较差       0.14      0.33      0.20         3"
   ]
  },
  {
   "cell_type": "raw",
   "id": "promotional-surprise",
   "metadata": {},
   "source": [
    "Epoch: 0, Loss:  5.95747769693844e-05\n",
    "Epoch: 0, Loss:  7.836461008992046e-05\n",
    "Epoch: 1, Loss:  2.9083013941999525e-05\n",
    "Epoch: 1, Loss:  8.924072972149588e-06\n",
    "Epoch: 2, Loss:  3.50831905961968e-05\n",
    "Epoch: 2, Loss:  0.0188971608877182\n",
    "Epoch: 3, Loss:  2.4057686459855177e-05\n",
    "Epoch: 3, Loss:  0.0001911566505441442\n",
    "Epoch: 4, Loss:  0.00029476307099685073\n",
    "Epoch: 4, Loss:  1.3877355740987696e-05\n",
    "Epoch: 5, Loss:  0.013253537937998772\n",
    "Epoch: 5, Loss:  1.8030123101198114e-05\n",
    "Epoch: 6, Loss:  0.0008138455450534821\n",
    "Epoch: 6, Loss:  0.00010330201621400192\n",
    "Epoch: 7, Loss:  2.784340176731348e-05\n",
    "Epoch: 7, Loss:  1.152707864093827e-05\n",
    "Epoch: 8, Loss:  0.00016175961354747415\n",
    "Epoch: 8, Loss:  5.814104497403605e-06\n",
    "Epoch: 9, Loss:  6.2803846958559e-05\n",
    "Epoch: 9, Loss:  0.00011424553667893633\n",
    "Epoch: 10, Loss:  0.0005204388289712369\n",
    "Epoch: 10, Loss:  9.446653712075204e-05\n",
    "Epoch: 11, Loss:  2.4011751520447433e-05\n",
    "Epoch: 11, Loss:  0.00011369628191459924\n",
    "Epoch: 12, Loss:  0.00010155793279409409\n",
    "Epoch: 12, Loss:  5.7014767662622035e-05\n",
    "Epoch: 13, Loss:  8.193325811589602e-06\n",
    "Epoch: 13, Loss:  0.0006994259892962873\n",
    "Epoch: 14, Loss:  0.015463502146303654\n",
    "Epoch: 14, Loss:  0.022697249427437782\n",
    "Epoch: 15, Loss:  0.00018928256758954376\n",
    "Epoch: 15, Loss:  2.380605110374745e-05\n",
    "Epoch: 16, Loss:  7.36482470529154e-05\n",
    "Epoch: 16, Loss:  0.0011345294769853354\n",
    "Epoch: 17, Loss:  0.01654558628797531\n",
    "Epoch: 17, Loss:  1.168138533103047e-05\n",
    "Epoch: 18, Loss:  0.0005139672430232167\n",
    "Epoch: 18, Loss:  2.491396662662737e-05\n",
    "Epoch: 19, Loss:  3.381786518730223e-05\n",
    "Epoch: 19, Loss:  1.5609677575412206e-05"
   ]
  },
  {
   "cell_type": "raw",
   "id": "detailed-circus",
   "metadata": {},
   "source": [
    "              precision    recall  f1-score   support\n",
    "\n",
    "       IP还原差       0.62      0.47      0.53        17\n",
    "       UI体验好       0.73      0.55      0.62        44\n",
    "       UI体验差       0.73      0.69      0.71        68\n",
    "       上手难度大       0.77      0.72      0.75       185\n",
    "        优化相关       0.67      0.77      0.72        66\n",
    "        体验不错       0.81      0.89      0.85       943\n",
    "        体验较差       0.77      0.71      0.74       419\n",
    "        值得花钱       0.73      0.66      0.69       291\n",
    "        剧情丰富       0.89      0.88      0.88       391\n",
    "        剧情单调       0.58      0.68      0.62        22\n",
    "       厂商不给力       0.82      0.77      0.79       351\n",
    "        厂商良心       0.81      0.81      0.81       190\n",
    "         太肝了       0.74      0.65      0.70       252\n",
    "        尊重原著       0.59      0.72      0.65        68\n",
    "        平衡性好       0.59      0.77      0.67        22\n",
    "        平衡性差       0.70      0.73      0.72       105\n",
    "        广告太多       0.87      0.77      0.82        84\n",
    "       广告影响小       1.00      0.25      0.40         4\n",
    "        抄袭嫌疑       0.90      0.85      0.87        65\n",
    "          护肝       0.44      0.44      0.44         9\n",
    "       抽卡概率低       0.68      0.66      0.67       151\n",
    "       抽卡概率高       0.70      0.56      0.62        50\n",
    "        操作简单       0.75      0.60      0.67         5\n",
    "        操作麻烦       0.50      0.50      0.50         4\n",
    "        新手友好       0.82      0.79      0.81       195\n",
    "         有创新       0.50      0.50      0.50         4\n",
    "        有趣好玩       0.85      0.84      0.84       952\n",
    "       玩家互动多       0.68      0.67      0.68        58\n",
    "       玩家互动少       0.25      0.36      0.30        11\n",
    "        玩法较差       0.63      0.57      0.60       136\n",
    "        画面优良       0.91      0.90      0.90       732\n",
    "        画面粗糙       0.20      0.25      0.22        12\n",
    "         福利好       0.81      0.78      0.80       113\n",
    "         福利差       0.43      0.43      0.43         7\n",
    "        自由度低       0.25      1.00      0.40         1\n",
    "        自由度高       0.92      0.90      0.91       134\n",
    "        过于氪金       0.87      0.87      0.87      1794\n",
    "        运营不足       0.82      0.88      0.85       849\n",
    "        运营给力       0.64      0.66      0.65       120\n",
    "       配置要求低       0.40      0.25      0.31         8\n",
    "       配置要求高       1.00      0.67      0.80         3\n",
    "        音效很棒       0.80      0.89      0.84       119\n",
    "        音效较差       0.20      0.33      0.25         3"
   ]
  },
  {
   "cell_type": "code",
   "execution_count": null,
   "id": "czech-response",
   "metadata": {},
   "outputs": [],
   "source": [
    "# Saving the files for inference\n",
    "\n",
    "output_model_file = './model/chinese-bert-wwm-ext-5.bin'\n",
    "# output_vocab_file = './model/vocab_chinese-bert-wwm-ext-1.bin'\n",
    "\n",
    "torch.save(model, output_model_file)\n",
    "# tokenizer.save_vocabulary(output_vocab_file)\n",
    "\n",
    "print('Saved')"
   ]
  },
  {
   "cell_type": "markdown",
   "id": "fixed-genre",
   "metadata": {},
   "source": [
    "## Ref"
   ]
  },
  {
   "cell_type": "markdown",
   "id": "active-bruce",
   "metadata": {},
   "source": [
    "[1] https://scikit-learn.org/stable/modules/generated/sklearn.preprocessing.MultiLabelBinarizer.html"
   ]
  },
  {
   "cell_type": "markdown",
   "id": "fifteen-nelson",
   "metadata": {},
   "source": [
    "[2] https://huggingface.co/hfl/chinese-bert-wwm <br>\n",
    "[3] https://huggingface.co/hfl/chinese-bert-wwm-ext <br>\n",
    "\n",
    "[4] https://huggingface.co/hfl/chinese-roberta-wwm-ext <br>\n",
    "[5] https://huggingface.co/hfl/chinese-roberta-wwm-ext-large <br>\n",
    "\n",
    "[6] https://huggingface.co/hfl/chinese-macbert-base"
   ]
  },
  {
   "cell_type": "markdown",
   "id": "forward-valve",
   "metadata": {},
   "source": [
    "[7] https://huggingface.co/ckiplab/bert-base-chinese <br>\n",
    "[8] https://huggingface.co/ckiplab/albert-tiny-chinese"
   ]
  }
 ],
 "metadata": {
  "kernelspec": {
   "display_name": "Python 3",
   "language": "python",
   "name": "python3"
  },
  "language_info": {
   "codemirror_mode": {
    "name": "ipython",
    "version": 3
   },
   "file_extension": ".py",
   "mimetype": "text/x-python",
   "name": "python",
   "nbconvert_exporter": "python",
   "pygments_lexer": "ipython3",
   "version": "3.7.9"
  }
 },
 "nbformat": 4,
 "nbformat_minor": 5
}
