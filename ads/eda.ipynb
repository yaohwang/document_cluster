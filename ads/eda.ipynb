{
 "cells": [
  {
   "cell_type": "code",
   "execution_count": null,
   "id": "above-earth",
   "metadata": {},
   "outputs": [],
   "source": [
    "import pandas as pd"
   ]
  },
  {
   "cell_type": "code",
   "execution_count": null,
   "id": "automotive-concern",
   "metadata": {},
   "outputs": [],
   "source": [
    "from pathlib import Path\n",
    "from bisect import bisect\n",
    "from itertools import chain\n",
    "from collections import Counter\n",
    "from tqdm import tqdm\n",
    "from collections import defaultdict"
   ]
  },
  {
   "cell_type": "code",
   "execution_count": null,
   "id": "individual-scout",
   "metadata": {},
   "outputs": [],
   "source": [
    "from unicode import unicode_mapping\n",
    "from preprocess_v2 import NormalizerSGZChat"
   ]
  },
  {
   "cell_type": "code",
   "execution_count": null,
   "id": "frozen-picking",
   "metadata": {},
   "outputs": [],
   "source": [
    "pd.set_option('display.max_rows', 10**6)\n",
    "pd.set_option('display.max_colwidth', -1)"
   ]
  },
  {
   "cell_type": "markdown",
   "id": "exempt-kazakhstan",
   "metadata": {},
   "source": [
    "## Load"
   ]
  },
  {
   "cell_type": "code",
   "execution_count": null,
   "id": "alpine-report",
   "metadata": {},
   "outputs": [],
   "source": [
    "path_data = Path('~/data/yk-sgz2017-chat/').expanduser()"
   ]
  },
  {
   "cell_type": "code",
   "execution_count": null,
   "id": "billion-saver",
   "metadata": {},
   "outputs": [],
   "source": [
    "path_cwd = path_data / 'data-7-20210120'"
   ]
  },
  {
   "cell_type": "raw",
   "id": "numeric-grace",
   "metadata": {},
   "source": [
    "for _ in path_cwd.iterdir():\n",
    "    df = pd.read_csv(_, usecols=['content'])\n",
    "    break\n",
    "    \n",
    "# df"
   ]
  },
  {
   "cell_type": "markdown",
   "id": "linear-aberdeen",
   "metadata": {},
   "source": [
    "## EDA"
   ]
  },
  {
   "cell_type": "markdown",
   "id": "fundamental-sheep",
   "metadata": {},
   "source": [
    "### unicode range"
   ]
  },
  {
   "cell_type": "code",
   "execution_count": null,
   "id": "adjustable-stevens",
   "metadata": {},
   "outputs": [],
   "source": [
    "def str_to_unicode(s):\n",
    "    return [r'\\u{:04X}'.format(ord(c)) for c in s]\n",
    "    # return [ord(c) for c in s]\n",
    "    # return [r'{:04X}'.format(ord(c)) for c in s]\n",
    "    # return ['{:04X}'.format(ord(c)) for c in s]\n",
    "    # return ['\\u{:04X}'.format(ord(c)) for c in s]"
   ]
  },
  {
   "cell_type": "code",
   "execution_count": null,
   "id": "similar-static",
   "metadata": {},
   "outputs": [],
   "source": [
    "s = df.head(1).content.tolist()[0]\n",
    "for _ in str_to_unicode(s):\n",
    "    print(_)"
   ]
  },
  {
   "cell_type": "markdown",
   "id": "western-newport",
   "metadata": {},
   "source": [
    "count by range"
   ]
  },
  {
   "cell_type": "code",
   "execution_count": null,
   "id": "terminal-addiction",
   "metadata": {},
   "outputs": [],
   "source": [
    "_, breakpoints, names = zip(*unicode_mapping)\n",
    "\n",
    "names = list(names)\n",
    "names.append('unknown')\n",
    "names = tuple(names)"
   ]
  },
  {
   "cell_type": "code",
   "execution_count": null,
   "id": "prospective-analysis",
   "metadata": {},
   "outputs": [],
   "source": [
    "cnt = Counter()"
   ]
  },
  {
   "cell_type": "code",
   "execution_count": null,
   "id": "alpha-relief",
   "metadata": {},
   "outputs": [],
   "source": [
    "charset = defaultdict(set)"
   ]
  },
  {
   "cell_type": "code",
   "execution_count": null,
   "id": "authorized-hanging",
   "metadata": {},
   "outputs": [],
   "source": [
    "def halfwidth_and_fullwidth_forms_to_basic_latin(c):\n",
    "    code = ord(c)\n",
    "    if 0xff01 <= code and 0xff5e >= code:\n",
    "        return chr(code-0xfee0)\n",
    "    return c"
   ]
  },
  {
   "cell_type": "code",
   "execution_count": null,
   "id": "treated-rachel",
   "metadata": {},
   "outputs": [],
   "source": [
    "def index(c) -> int:\n",
    "    code = ord(c)\n",
    "    i = bisect(breakpoints, code)\n",
    "    return i-1 if code == breakpoints[i-1] else i"
   ]
  },
  {
   "cell_type": "code",
   "execution_count": null,
   "id": "enabling-retro",
   "metadata": {},
   "outputs": [],
   "source": [
    "def unicode_range(s, breakpoints=breakpoints, names=names):\n",
    "    # return [bisect(breakpoints, c) for c in s]\n",
    "    r = []\n",
    "    for c in s:\n",
    "        c = halfwidth_and_fullwidth_forms_to_basic_latin(c)\n",
    "        i = index(c)\n",
    "        charset[i].add(c)\n",
    "        r.append(i)\n",
    "    return r"
   ]
  },
  {
   "cell_type": "code",
   "execution_count": null,
   "id": "pending-genre",
   "metadata": {},
   "outputs": [],
   "source": [
    "for _ in tqdm(path_cwd.iterdir()):\n",
    "    df = pd.read_csv(_, usecols=['content'])\n",
    "    cnt.update(Counter(chain.from_iterable(df.content.apply(unicode_range).tolist())))\n",
    "    # break\n",
    "    \n",
    "#cnt"
   ]
  },
  {
   "cell_type": "code",
   "execution_count": null,
   "id": "concerned-drama",
   "metadata": {},
   "outputs": [],
   "source": [
    "for k, v in sorted(cnt.items()):\n",
    "    print(k, v, names[k])"
   ]
  },
  {
   "cell_type": "code",
   "execution_count": null,
   "id": "industrial-deviation",
   "metadata": {
    "scrolled": false
   },
   "outputs": [],
   "source": [
    "for k, v in sorted(cnt.items()):\n",
    "    print('-' * 80)\n",
    "    print(k, v, names[k])\n",
    "    print()\n",
    "    # if k not in [0, 71, 78, 82, 106, 119, 306]:\n",
    "    print(charset[k])\n",
    "    print('-' * 80)"
   ]
  },
  {
   "cell_type": "code",
   "execution_count": null,
   "id": "modified-apache",
   "metadata": {},
   "outputs": [],
   "source": [
    "for c in charset[71]:\n",
    "    print(c, r'\\u%04x'%ord(c))"
   ]
  },
  {
   "cell_type": "code",
   "execution_count": null,
   "id": "rotary-australia",
   "metadata": {},
   "outputs": [],
   "source": [
    "def has(s, i):\n",
    "    return i in unicode_range(s)"
   ]
  },
  {
   "cell_type": "code",
   "execution_count": null,
   "id": "quality-ready",
   "metadata": {},
   "outputs": [],
   "source": [
    "def get(s, i):\n",
    "    return [s[j] for j, _ in enumerate(unicode_range(s)) if i == _]"
   ]
  },
  {
   "cell_type": "markdown",
   "id": "fluid-program",
   "metadata": {},
   "source": [
    "表情\n",
    "- Latin-1 Supplement\n",
    "- Latin Extended-A\n",
    "- IPA Extensions\n",
    "- Spacing Modifier Letters\n",
    "- Combining Diacritical Marks\n",
    "- Greek and Coptic\n",
    "- Cyrillic\n",
    "- Cyrillic Supplement\n",
    "- Armenian\n",
    "- Arabic\n",
    "- Devanagari\n",
    "- Bengali\n",
    "- Gurmukhi\n",
    "- Gujarati\n",
    "- Oriya\n",
    "- Telugu\n",
    "- Kannada\n",
    "- Sinhala\n",
    "- Thai\n",
    "- Lao\n",
    "- Tibetan\n",
    "- Georgian\n",
    "- Hangul Jamo\n",
    "- Unified Canadian Aboriginal Syllabics\n",
    "- Balinese\n",
    "- Phonetic Extensions\n",
    "- Combining Diacritical Marks Supplement\n",
    "- Greek Extended\n",
    "- Superscripts and Subscripts\n",
    "- Arrows\n",
    "- Mathematical Operators\n",
    "- Optical Character Recognition\n",
    "- Box Drawing\n",
    "- Block Elements\n",
    "- Geometric Shapes\n",
    "- Supplemental Punctuation\n",
    "- Hiragana\n",
    "- Katakana （也有用作分隔符的时候）\n",
    "- Hangul Compatibility Jamo\n",
    "- Yi Syllables\n",
    "- Yi Radicals\n",
    "- Hangul Syllables\n",
    "- CJK Compatibility Forms\n",
    "- Small Form Variants\n",
    "- Arabic Presentation Forms-B\n",
    "- Halfwidth and Fullwidth Forms（已经完成的全角转半角，剩余部分基本用于表情）\n",
    "- Miscellaneous Symbols and Pictographs\n",
    "- Emoticons (Emoji)\n",
    "- Supplemental Symbols and Pictographs\n",
    "\n",
    "动作\n",
    "- Ethiopic\n",
    "- Tai Le\n",
    "\n",
    "乘号\n",
    "- Latin-1 Supplement\n",
    "- Number Forms\n",
    "\n",
    "字母\n",
    "- Spacing Modifier Letters,\n",
    "    - ˢ -> s\n",
    "- Cyrillic\n",
    "    - Ь -> b\n",
    "- Phonetic Extensions\n",
    "    - ᵒ -> o\n",
    "    - ᵏ -> k\n",
    "    - ᵇ -> b\n",
    "- Number Forms\n",
    "    - Ⅴ -> v\n",
    "    - ⅴ -> v\n",
    "    - ⅰ -> i\n",
    "- Mathematical Operators\n",
    "    - √ -> v\n",
    "    - ∨ -> v\n",
    "    \n",
    "数字\n",
    "- Cyrillic\n",
    "    - О -> 0\n",
    "- Superscripts and Subscripts\n",
    "    - ⁶ -> 6\n",
    "- Number Forms\n",
    "    - ⅱ -> 2\n",
    "    - Ⅱ -> 2\n",
    "- Hiragana\n",
    "    - ち -> 5\n",
    "   \n",
    "字母+数字\n",
    "- Number Forms\n",
    "    - Ⅵ -> v1\n",
    "    \n",
    "汉字\n",
    "- Arrows\n",
    "    - ↑ -> 上\n",
    "    - ↓ -> 下\n",
    "- Mathematical Operators\n",
    "    - √ -> 对（可先转v，再根据情境判断）\n",
    "    - ≡ -> 三（也有不少，用于表情之中）\n",
    "- Kangxi Radicals\n",
    "    - ⼃⼂⼁ -> 川 （仅一次）\n",
    "    \n",
    "标点符号\n",
    "- Mathematical Operators\n",
    "    - ⋯ -> General Punctuation 省略号\n",
    "- Box Drawing\n",
    "    - ━ -> - （偶尔起短横线分隔符的作用，也常起表情的作用。可统一转为短横线，不影响表情的分析。）\n",
    "    \n",
    "无意义\n",
    "- CJK Radicals Supplement\n",
    "    - ⻌\n",
    "- CJK Strokes\n",
    "    - ㇏\n",
    "- Specials\n",
    "    \n",
    "时间日期\n",
    "- CJK Compatibility\n",
    "\n",
    "其它\n",
    "- Small Form Variants 转 Basic Latin"
   ]
  },
  {
   "cell_type": "code",
   "execution_count": null,
   "id": "gentle-spiritual",
   "metadata": {
    "scrolled": false
   },
   "outputs": [],
   "source": [
    "dft = []\n",
    "\n",
    "for _ in tqdm(path_cwd.iterdir()):\n",
    "    df = pd.read_csv(_, usecols=['content'])\n",
    "\n",
    "    # dft.append(df[df.content.apply(lambda s: has(s, 1))])\n",
    "    df['substring'] = df.content.apply(lambda s: get(s, 162))\n",
    "    # print(df)\n",
    "    dft.append(df[df['substring'].apply(lambda x: 0 < len(x))])\n",
    "    \n",
    "df = pd.concat(dft, axis=0)\n",
    "df"
   ]
  },
  {
   "cell_type": "raw",
   "id": "discrete-group",
   "metadata": {},
   "source": [
    "df.to_excel('./CJK_Symbols_and_Punctuation.xlsx')"
   ]
  },
  {
   "cell_type": "markdown",
   "id": "distinct-trunk",
   "metadata": {},
   "source": [
    "## Ref"
   ]
  },
  {
   "cell_type": "raw",
   "id": "cubic-fashion",
   "metadata": {},
   "source": [
    "# ?ord\n",
    "\n",
    "Signature: ord(c, /)\n",
    "Docstring: Return the Unicode code point for a one-character string.\n",
    "Type:      builtin_function_or_method"
   ]
  },
  {
   "cell_type": "markdown",
   "id": "extraordinary-round",
   "metadata": {},
   "source": [
    "str -> unicode\n",
    "\n",
    "[1] https://www.geeksforgeeks.org/python-convert-string-to-unicode-characters/"
   ]
  },
  {
   "cell_type": "markdown",
   "id": "surrounded-bullet",
   "metadata": {},
   "source": [
    "str format\n",
    "\n",
    ": 号后面带填充的字符，只能是一个字符，不指定则默认是用空格填充。\n",
    "\n",
    "b、d、o、x 分别是二进制、十进制、八进制、十六进制。<br>\n",
    "其中x大小写，区分显示时采用大小写；\n",
    "\n",
    "^, <, > 分别是居中、左对齐、右对齐，后面带宽度<br>\n",
    "此处省略，宽度（示例：{:04X}中为4位）\n",
    "\n",
    "[2] https://www.runoob.com/python/att-string-format.html"
   ]
  },
  {
   "cell_type": "code",
   "execution_count": null,
   "id": "adolescent-biology",
   "metadata": {},
   "outputs": [],
   "source": [
    "'{:#x}'.format(11)"
   ]
  },
  {
   "cell_type": "code",
   "execution_count": null,
   "id": "otherwise-teens",
   "metadata": {},
   "outputs": [],
   "source": [
    "'{:#X}'.format(11)"
   ]
  },
  {
   "cell_type": "markdown",
   "id": "chief-sound",
   "metadata": {},
   "source": [
    "r string, r for raw\n",
    "\n",
    "表示转义字符时，自动单斜线转为又斜线。便于一些情况下的处理；\n",
    "\n",
    "[3] https://stackoverflow.com/questions/33729045/what-does-an-r-represent-before-a-string-in-python"
   ]
  },
  {
   "cell_type": "code",
   "execution_count": null,
   "id": "colored-macro",
   "metadata": {},
   "outputs": [],
   "source": [
    "r'\\'"
   ]
  },
  {
   "cell_type": "code",
   "execution_count": null,
   "id": "neural-terror",
   "metadata": {},
   "outputs": [],
   "source": [
    "r'\\n'"
   ]
  },
  {
   "cell_type": "code",
   "execution_count": null,
   "id": "religious-ultimate",
   "metadata": {},
   "outputs": [],
   "source": [
    "'\\n'"
   ]
  },
  {
   "cell_type": "code",
   "execution_count": null,
   "id": "aggressive-parallel",
   "metadata": {},
   "outputs": [],
   "source": [
    "'\\u1234'"
   ]
  },
  {
   "cell_type": "markdown",
   "id": "desperate-laser",
   "metadata": {},
   "source": [
    "全角 -> 半角\n",
    "\n",
    "TODO: 转换前后没有看出区别\n",
    "\n",
    "[4] https://www.jianshu.com/p/152e081fec1b"
   ]
  }
 ],
 "metadata": {
  "kernelspec": {
   "display_name": "Python 3",
   "language": "python",
   "name": "python3"
  },
  "language_info": {
   "codemirror_mode": {
    "name": "ipython",
    "version": 3
   },
   "file_extension": ".py",
   "mimetype": "text/x-python",
   "name": "python",
   "nbconvert_exporter": "python",
   "pygments_lexer": "ipython3",
   "version": "3.7.9"
  }
 },
 "nbformat": 4,
 "nbformat_minor": 5
}
