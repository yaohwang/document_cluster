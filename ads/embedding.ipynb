{
 "cells": [
  {
   "cell_type": "code",
   "execution_count": null,
   "id": "flexible-consultancy",
   "metadata": {},
   "outputs": [],
   "source": [
    "!pip -q install dill"
   ]
  },
  {
   "cell_type": "code",
   "execution_count": null,
   "id": "desperate-annual",
   "metadata": {},
   "outputs": [],
   "source": [
    "import dill\n",
    "import pickle\n",
    "import numpy as np"
   ]
  },
  {
   "cell_type": "code",
   "execution_count": null,
   "id": "essential-landscape",
   "metadata": {},
   "outputs": [],
   "source": [
    "from time import time\n",
    "from sklearn.feature_extraction.text import TfidfVectorizer"
   ]
  },
  {
   "cell_type": "code",
   "execution_count": null,
   "id": "above-ballot",
   "metadata": {},
   "outputs": [],
   "source": [
    "import nbimporter\n",
    "\n",
    "from tokenizer import split2\n",
    "# from preprocess_v2 import NormalizerSGZChat\n",
    "from preprocess_v3 import NormalizerSGZChat"
   ]
  },
  {
   "cell_type": "code",
   "execution_count": null,
   "id": "concerned-evolution",
   "metadata": {},
   "outputs": [],
   "source": [
    "from mih import VocabularyBPE\n",
    "from mih import TokenizerBPE"
   ]
  },
  {
   "cell_type": "code",
   "execution_count": null,
   "id": "weekly-framework",
   "metadata": {},
   "outputs": [],
   "source": [
    "%run tokenizer.ipynb"
   ]
  },
  {
   "cell_type": "raw",
   "id": "robust-formula",
   "metadata": {},
   "source": [
    "%run dataset.ipynb"
   ]
  },
  {
   "cell_type": "markdown",
   "id": "mighty-hopkins",
   "metadata": {},
   "source": [
    "## Load"
   ]
  },
  {
   "cell_type": "code",
   "execution_count": null,
   "id": "common-philadelphia",
   "metadata": {},
   "outputs": [],
   "source": [
    "%store -r X_train\n",
    "%store -r X_test"
   ]
  },
  {
   "cell_type": "markdown",
   "id": "identified-scope",
   "metadata": {},
   "source": [
    "## Feature"
   ]
  },
  {
   "cell_type": "code",
   "execution_count": null,
   "id": "french-separate",
   "metadata": {},
   "outputs": [],
   "source": [
    "split = split2"
   ]
  },
  {
   "cell_type": "raw",
   "id": "dependent-opinion",
   "metadata": {},
   "source": [
    "vocab = VocabularyBPE()\n",
    "vocab.load_vocab('./.vocab/.chechpoint-last-15000')\n",
    "tokenizer = TokenizerBPE(vocab, load_chars=False)\n",
    "\n",
    "# split = lambda x: tokenizer.tokenize([NormalizerSGZChat()(x)])[0]\n",
    "split = lambda x: NormalizerSGZChat()(x)"
   ]
  },
  {
   "cell_type": "code",
   "execution_count": null,
   "id": "objective-impression",
   "metadata": {},
   "outputs": [],
   "source": [
    "print(\"Extracting features from the training data using a sparse vectorizer\")\n",
    "\n",
    "t0 = time()\n",
    "\n",
    "vectorizer = TfidfVectorizer(sublinear_tf=True, tokenizer=split)\n",
    "X_train = vectorizer.fit_transform(X_train)\n",
    "    \n",
    "    \n",
    "duration = time() - t0\n",
    "\n",
    "print(\"done in %fs at %0.3fMB/s\" % (duration, data_train_size_mb / duration))\n",
    "print(\"n_samples: %d, n_features: %d\" % X_train.shape)\n",
    "print()"
   ]
  },
  {
   "cell_type": "code",
   "execution_count": null,
   "id": "advanced-railway",
   "metadata": {},
   "outputs": [],
   "source": [
    "print(\"Extracting features from the test data using the same vectorizer\")\n",
    "\n",
    "t0 = time()\n",
    "X_test = vectorizer.transform(X_test)\n",
    "duration = time() - t0\n",
    "\n",
    "print(\"done in %fs at %0.3fMB/s\" % (duration, data_test_size_mb / duration))\n",
    "print(\"n_samples: %d, n_features: %d\" % X_test.shape)\n",
    "print()"
   ]
  },
  {
   "cell_type": "code",
   "execution_count": null,
   "id": "sexual-referral",
   "metadata": {},
   "outputs": [],
   "source": [
    "# with open('./model/ads-detect-1-20210125.emb', 'wb') as f:\n",
    "# with open('./model/ads-detect-1-20210312.emb', 'wb') as f:\n",
    "with open('./model/ads-detect-1-20210401.emb', 'wb') as f:\n",
    "    # pickle.dump(vectorizer, f)\n",
    "    dill.dump(vectorizer, f)"
   ]
  },
  {
   "cell_type": "code",
   "execution_count": null,
   "id": "loved-cursor",
   "metadata": {},
   "outputs": [],
   "source": [
    "feature_names = vectorizer.get_feature_names()\n",
    "print(len(feature_names))\n",
    "feature_names"
   ]
  },
  {
   "cell_type": "raw",
   "id": "textile-stack",
   "metadata": {},
   "source": [
    "# get_support(indices=False)\n",
    "# Get a mask, or integer index, of the features selected\n",
    "#\n",
    "# indicesbool, default=False\n",
    "# If True, the return value will be an array of integers, rather than a boolean mask.\n",
    "\n",
    "if opts.select_chi2:\n",
    "    print(\"Extracting %d best features by a chi-squared test\" % opts.select_chi2)\n",
    "    \n",
    "    t0 = time()\n",
    "    \n",
    "    ch2 = SelectKBest(chi2, k=opts.select_chi2)\n",
    "    X_train = ch2.fit_transform(X_train, y_train)\n",
    "    X_test = ch2.transform(X_test)\n",
    "    \n",
    "    if feature_names: feature_names = [feature_names[i] for i in ch2.get_support(indices=True)]\n",
    "        \n",
    "    print(\"done in %fs\" % (time() - t0))\n",
    "    print()"
   ]
  },
  {
   "cell_type": "code",
   "execution_count": null,
   "id": "detected-building",
   "metadata": {},
   "outputs": [],
   "source": [
    "if feature_names: feature_names = np.asarray(feature_names)"
   ]
  },
  {
   "cell_type": "markdown",
   "id": "pressing-ebony",
   "metadata": {},
   "source": [
    "## Save"
   ]
  },
  {
   "cell_type": "code",
   "execution_count": null,
   "id": "apart-percentage",
   "metadata": {},
   "outputs": [],
   "source": [
    "%store X_train\n",
    "%store X_test"
   ]
  },
  {
   "cell_type": "code",
   "execution_count": null,
   "id": "postal-antibody",
   "metadata": {},
   "outputs": [],
   "source": [
    "%store feature_names"
   ]
  }
 ],
 "metadata": {
  "kernelspec": {
   "display_name": "Python 3",
   "language": "python",
   "name": "python3"
  },
  "language_info": {
   "codemirror_mode": {
    "name": "ipython",
    "version": 3
   },
   "file_extension": ".py",
   "mimetype": "text/x-python",
   "name": "python",
   "nbconvert_exporter": "python",
   "pygments_lexer": "ipython3",
   "version": "3.7.9"
  }
 },
 "nbformat": 4,
 "nbformat_minor": 5
}
