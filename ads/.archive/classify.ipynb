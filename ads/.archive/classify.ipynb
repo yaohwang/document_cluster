{
 "cells": [
  {
   "cell_type": "code",
   "execution_count": 1,
   "id": "phantom-columbus",
   "metadata": {},
   "outputs": [],
   "source": [
    "!pip -q install matplotlib"
   ]
  },
  {
   "cell_type": "code",
   "execution_count": 2,
   "id": "imperial-domain",
   "metadata": {},
   "outputs": [],
   "source": [
    "import sys\n",
    "import numpy as np\n",
    "import pandas as pd\n",
    "import lightgbm as lgb\n",
    "import matplotlib.pyplot as plt"
   ]
  },
  {
   "cell_type": "code",
   "execution_count": 3,
   "id": "reserved-record",
   "metadata": {},
   "outputs": [],
   "source": [
    "from time import time\n",
    "from functools import partial\n",
    "from optparse import OptionParser\n",
    "from scipy.sparse import csr_matrix"
   ]
  },
  {
   "cell_type": "code",
   "execution_count": 4,
   "id": "generous-craps",
   "metadata": {},
   "outputs": [],
   "source": [
    "from sklearn.linear_model import RidgeClassifier\n",
    "from sklearn.svm import LinearSVC\n",
    "from sklearn.linear_model import SGDClassifier\n",
    "from sklearn.linear_model import Perceptron\n",
    "from sklearn.linear_model import PassiveAggressiveClassifier\n",
    "from sklearn.naive_bayes import BernoulliNB, ComplementNB, MultinomialNB\n",
    "from sklearn.neighbors import KNeighborsClassifier\n",
    "from sklearn.neighbors import NearestCentroid\n",
    "from sklearn.ensemble import RandomForestClassifier\n",
    "\n",
    "from sklearn.feature_selection import SelectFromModel"
   ]
  },
  {
   "cell_type": "code",
   "execution_count": 5,
   "id": "progressive-mauritius",
   "metadata": {},
   "outputs": [],
   "source": [
    "from sklearn.pipeline import Pipeline\n",
    "from sklearn import metrics\n",
    "# from sklearn.utils.extmath import densityfeature_names"
   ]
  },
  {
   "cell_type": "code",
   "execution_count": 6,
   "id": "dominican-assessment",
   "metadata": {},
   "outputs": [],
   "source": [
    "%matplotlib inline"
   ]
  },
  {
   "cell_type": "code",
   "execution_count": 7,
   "id": "incredible-horse",
   "metadata": {},
   "outputs": [],
   "source": [
    "pd.set_option('display.max_colwidth', 512)"
   ]
  },
  {
   "cell_type": "code",
   "execution_count": 8,
   "id": "concrete-public",
   "metadata": {},
   "outputs": [
    {
     "name": "stdout",
     "output_type": "stream",
     "text": [
      "Importing Jupyter notebook from tokenizer.ipynb\n"
     ]
    },
    {
     "name": "stderr",
     "output_type": "stream",
     "text": [
      "2021-04-12 11:08:11 DEBUG Starting new HTTPS connection (1): huggingface.co:443\n",
      "2021-04-12 11:08:12 DEBUG https://huggingface.co:443 \"HEAD /xlm-roberta-base/resolve/main/config.json HTTP/1.1\" 200 0\n",
      "2021-04-12 11:08:12 DEBUG Starting new HTTPS connection (1): huggingface.co:443\n",
      "2021-04-12 11:08:13 DEBUG https://huggingface.co:443 \"HEAD /xlm-roberta-base/resolve/main/sentencepiece.bpe.model HTTP/1.1\" 200 0\n",
      "2021-04-12 11:08:13 DEBUG Starting new HTTPS connection (1): huggingface.co:443\n",
      "2021-04-12 11:08:13 DEBUG https://huggingface.co:443 \"HEAD /xlm-roberta-base/resolve/main/tokenizer.json HTTP/1.1\" 200 0\n",
      "Building model \u001b[5m\u001b[33m...\u001b[0m\u001b[0m2021-04-12 11:08:14 DEBUG Starting new HTTPS connection (1): huggingface.co:443\n",
      "2021-04-12 11:08:15 DEBUG https://huggingface.co:443 \"HEAD /xlm-roberta-base/resolve/main/config.json HTTP/1.1\" 200 0\n",
      "2021-04-12 11:08:15 DEBUG Starting new HTTPS connection (1): huggingface.co:443\n",
      "2021-04-12 11:08:16 DEBUG https://huggingface.co:443 \"HEAD /xlm-roberta-base/resolve/main/config.json HTTP/1.1\" 200 0\n",
      "Moving model to GPUs [0] \u001b[5m\u001b[33m...\u001b[0m\u001b[                          \r"
     ]
    },
    {
     "name": "stdout",
     "output_type": "stream",
     "text": [
      "(20000, 2)\n",
      "(14686, 2)\n",
      "34686 documents - 1.595MB (training set)\n",
      "1017 documents - 0.061MB (test set)\n",
      "\n",
      "Stored 'data_train' (DataFrame)\n",
      "Stored 'X_train' (Series)\n",
      "Stored 'X_test' (Series)\n",
      "Stored 'y_train' (list)\n",
      "Stored 'y_test' (list)\n",
      "Stored 'data_train_size_mb' (float)\n",
      "Extracting features from the training data using a sparse vectorizer\n",
      "done in 3.019120s at 0.528MB/s\n",
      "n_samples: 34686, n_features: 1046\n",
      "\n",
      "Extracting features from the training data using a sparse vectorizer\n",
      "done in 5.740400s at 0.278MB/s\n",
      "n_samples: 34686, n_features: 1047\n",
      "\n",
      "Extracting features from the test data using the same vectorizer\n",
      "done in 0.198273s at 0.308MB/s\n",
      "n_samples: 1017, n_features: 1047\n",
      "\n",
      "1047\n",
      "Stored 'X_train' (csr_matrix)\n",
      "Stored 'X_test' (csr_matrix)\n",
      "Stored 'feature_names' (ndarray)\n"
     ]
    }
   ],
   "source": [
    "%run embedding.ipynb"
   ]
  },
  {
   "cell_type": "code",
   "execution_count": 9,
   "id": "important-microphone",
   "metadata": {},
   "outputs": [],
   "source": [
    "def is_interactive():\n",
    "    return not hasattr(sys.modules['__main__'], '__file__')"
   ]
  },
  {
   "cell_type": "code",
   "execution_count": 10,
   "id": "automotive-investing",
   "metadata": {},
   "outputs": [
    {
     "data": {
      "text/plain": [
       "<Option at 0x7f5382eb6a50: --n_features>"
      ]
     },
     "execution_count": 10,
     "metadata": {},
     "output_type": "execute_result"
    }
   ],
   "source": [
    "op = OptionParser()\n",
    "\n",
    "op.add_option(\"--report\",\n",
    "              action=\"store_true\", dest=\"print_report\", default=True,\n",
    "              help=\"Print a detailed classification report.\")\n",
    "\n",
    "op.add_option(\"--chi2_select\",\n",
    "              action=\"store\", type=\"int\", dest=\"select_chi2\",\n",
    "              help=\"Select some number of features using a chi-squared test\")\n",
    "\n",
    "op.add_option(\"--confusion_matrix\",\n",
    "              action=\"store_true\", dest=\"print_cm\",\n",
    "              help=\"Print the confusion matrix.\")\n",
    "\n",
    "op.add_option(\"--top10\",\n",
    "              action=\"store_true\", dest=\"print_top10\",\n",
    "              help=\"Print ten most discriminative terms per class for every classifier.\")\n",
    "\n",
    "op.add_option(\"--use_hashing\",\n",
    "              action=\"store_true\",\n",
    "              help=\"Use a hashing vectorizer.\")\n",
    "\n",
    "op.add_option(\"--n_features\",\n",
    "              action=\"store\", type=int, default=2 ** 16,\n",
    "              help=\"n_features when using the hashing vectorizer.\")"
   ]
  },
  {
   "cell_type": "code",
   "execution_count": 11,
   "id": "transsexual-camera",
   "metadata": {},
   "outputs": [
    {
     "data": {
      "text/plain": [
       "<Values at 0x7f542245a950: {'print_report': True, 'select_chi2': None, 'print_cm': None, 'print_top10': None, 'use_hashing': None, 'n_features': 65536}>"
      ]
     },
     "execution_count": 11,
     "metadata": {},
     "output_type": "execute_result"
    }
   ],
   "source": [
    "# work-around for Jupyter notebook and IPython console\n",
    "\n",
    "# opts, an object containing values for all of your options\n",
    "#     e.g. if --file takes a single string argument, then options.file will be the filename supplied by the user, \n",
    "#     or None if the user did not supply that option\n",
    "# args, the list of positional arguments leftover after parsing options\n",
    "\n",
    "argv = [] if is_interactive() else sys.argv[1:]\n",
    "(opts, args) = op.parse_args(argv)\n",
    "opts"
   ]
  },
  {
   "cell_type": "code",
   "execution_count": 12,
   "id": "hungry-sentence",
   "metadata": {},
   "outputs": [
    {
     "name": "stdout",
     "output_type": "stream",
     "text": [
      "Automatically created module for IPython interactive environment\n",
      "Usage: ipykernel_launcher.py [options]\n",
      "\n",
      "Options:\n",
      "  -h, --help            show this help message and exit\n",
      "  --report              Print a detailed classification report.\n",
      "  --chi2_select=SELECT_CHI2\n",
      "                        Select some number of features using a chi-squared\n",
      "                        test\n",
      "  --confusion_matrix    Print the confusion matrix.\n",
      "  --top10               Print ten most discriminative terms per class for\n",
      "                        every classifier.\n",
      "  --use_hashing         Use a hashing vectorizer.\n",
      "  --n_features=N_FEATURES\n",
      "                        n_features when using the hashing vectorizer.\n",
      "\n"
     ]
    }
   ],
   "source": [
    "if len(args) > 0:\n",
    "    op.error(\"this script takes no arguments.\")\n",
    "    sys.exit(1)\n",
    "\n",
    "print(__doc__)\n",
    "op.print_help()\n",
    "print()"
   ]
  },
  {
   "cell_type": "markdown",
   "id": "compound-check",
   "metadata": {},
   "source": [
    "## Load"
   ]
  },
  {
   "cell_type": "code",
   "execution_count": 13,
   "id": "declared-saying",
   "metadata": {},
   "outputs": [],
   "source": [
    "%store -r X_train\n",
    "%store -r X_test\n",
    "%store -r y_train\n",
    "%store -r y_test\n",
    "\n",
    "%store -r feature_names"
   ]
  },
  {
   "cell_type": "markdown",
   "id": "discrete-shark",
   "metadata": {},
   "source": [
    "## Classify"
   ]
  },
  {
   "cell_type": "code",
   "execution_count": 14,
   "id": "built-cancer",
   "metadata": {},
   "outputs": [],
   "source": [
    "def trim(s):\n",
    "    \"\"\"Trim string to fit on terminal (assuming 80-column display)\"\"\"\n",
    "    return s if len(s) <= 80 else s[:77] + \"...\""
   ]
  },
  {
   "cell_type": "code",
   "execution_count": 15,
   "id": "careful-bulgaria",
   "metadata": {},
   "outputs": [],
   "source": [
    "def fit(clf, X_train, y_train):\n",
    "    \n",
    "    print('_' * 80)\n",
    "    print(\"Training: \")\n",
    "    print(clf)\n",
    "    t0 = time()\n",
    "    clf.fit(X_train, y_train)\n",
    "    train_time = time() - t0\n",
    "    print(\"train time: %0.3fs\" % train_time)\n",
    "    \n",
    "    return train_time"
   ]
  },
  {
   "cell_type": "code",
   "execution_count": 16,
   "id": "legendary-raise",
   "metadata": {},
   "outputs": [],
   "source": [
    "def predict(clf, X_test):\n",
    "    \n",
    "    t0 = time()\n",
    "    pred = clf.predict(X_test)\n",
    "    test_time = time() - t0\n",
    "    print(\"test time:  %0.3fs\" % test_time)\n",
    "    \n",
    "    return pred, test_time"
   ]
  },
  {
   "cell_type": "code",
   "execution_count": 17,
   "id": "modular-banking",
   "metadata": {},
   "outputs": [],
   "source": [
    "def accuracy(y_test, pred):\n",
    "    score = metrics.accuracy_score(y_test, pred)\n",
    "    print(\"accuracy:   %0.3f\" % score)\n",
    "    \n",
    "    return score"
   ]
  },
  {
   "cell_type": "code",
   "execution_count": 18,
   "id": "protecting-fantasy",
   "metadata": {},
   "outputs": [],
   "source": [
    "def print_coef(clf, opts, feature_names):\n",
    "    # TODO:\n",
    "    \n",
    "    if hasattr(clf, 'coef_'):\n",
    "        print(\"dimensionality: %d\" % clf.coef_.shape[1])\n",
    "        # print(\"density: %f\" % density(clf.coef_))\n",
    "\n",
    "        if opts.print_top10 and feature_names is not None:\n",
    "            print(\"top 10 keywords per class:\")\n",
    "            \n",
    "            #for i, label in enumerate(target_names):\n",
    "              #  top10 = np.argsort(clf.coef_[i])[-10:]\n",
    "                #print(trim(\"%s: %s\" % (label, \" \".join(feature_names[top10]))))\n",
    "        print()"
   ]
  },
  {
   "cell_type": "code",
   "execution_count": 19,
   "id": "handy-intention",
   "metadata": {},
   "outputs": [],
   "source": [
    "def print_report(opts, y_test, pred):\n",
    "    \n",
    "    if opts.print_report:\n",
    "        print(\"classification report:\")\n",
    "        print(metrics.classification_report(y_test, pred, digits=3))"
   ]
  },
  {
   "cell_type": "code",
   "execution_count": 20,
   "id": "entitled-tennis",
   "metadata": {},
   "outputs": [],
   "source": [
    "def print_cm(opts, y_test, pred):\n",
    "    \n",
    "    if opts.print_cm:\n",
    "        print(\"confusion matrix:\")\n",
    "        print(metrics.confusion_matrix(y_test, pred))"
   ]
  },
  {
   "cell_type": "code",
   "execution_count": 21,
   "id": "certain-usage",
   "metadata": {},
   "outputs": [],
   "source": [
    "def get_desc(clf):\n",
    "    return str(clf).split('(')[0]"
   ]
  },
  {
   "cell_type": "code",
   "execution_count": 22,
   "id": "artistic-celtic",
   "metadata": {},
   "outputs": [],
   "source": [
    "def __benchmark(X_train, y_train, X_test, y_test, opts, feature_names, clf):\n",
    "    \n",
    "    train_time = fit(clf, X_train, y_train)\n",
    "    pred, test_time = predict(clf, X_test)\n",
    "    score = accuracy(y_test, pred)\n",
    "    clf_descr = get_desc(clf)\n",
    "\n",
    "    print_coef(clf, opts, feature_names)\n",
    "    print_report(opts, y_test, pred)\n",
    "    print_cm(opts, y_test, pred)\n",
    "    print()\n",
    "    \n",
    "    return pred, clf_descr, score, train_time, test_time"
   ]
  },
  {
   "cell_type": "code",
   "execution_count": 23,
   "id": "fixed-collect",
   "metadata": {},
   "outputs": [],
   "source": [
    "benchmark = partial(__benchmark, X_train, y_train, X_test, y_test, opts, feature_names)"
   ]
  },
  {
   "cell_type": "markdown",
   "id": "computational-november",
   "metadata": {},
   "source": [
    "## score"
   ]
  },
  {
   "cell_type": "code",
   "execution_count": 24,
   "id": "demanding-subcommittee",
   "metadata": {},
   "outputs": [],
   "source": [
    "results = []"
   ]
  },
  {
   "cell_type": "code",
   "execution_count": 25,
   "id": "increased-investigator",
   "metadata": {
    "scrolled": false
   },
   "outputs": [
    {
     "name": "stdout",
     "output_type": "stream",
     "text": [
      "================================================================================\n",
      "Ridge Classifier\n",
      "________________________________________________________________________________\n",
      "Training: \n",
      "RidgeClassifier(solver='sag', tol=0.01)\n",
      "train time: 0.140s\n",
      "test time:  0.001s\n",
      "accuracy:   0.940\n",
      "dimensionality: 1047\n",
      "\n",
      "classification report:\n",
      "              precision    recall  f1-score   support\n",
      "\n",
      "          -1      0.942     0.852     0.895       305\n",
      "           1      0.939     0.978     0.958       712\n",
      "\n",
      "    accuracy                          0.940      1017\n",
      "   macro avg      0.941     0.915     0.927      1017\n",
      "weighted avg      0.940     0.940     0.939      1017\n",
      "\n",
      "\n",
      "================================================================================\n",
      "Perceptron\n",
      "________________________________________________________________________________\n",
      "Training: \n",
      "Perceptron(max_iter=50)\n",
      "train time: 0.025s\n",
      "test time:  0.000s\n",
      "accuracy:   0.926\n",
      "dimensionality: 1047\n",
      "\n",
      "classification report:\n",
      "              precision    recall  f1-score   support\n",
      "\n",
      "          -1      0.881     0.872     0.876       305\n",
      "           1      0.945     0.949     0.947       712\n",
      "\n",
      "    accuracy                          0.926      1017\n",
      "   macro avg      0.913     0.911     0.912      1017\n",
      "weighted avg      0.926     0.926     0.926      1017\n",
      "\n",
      "\n",
      "================================================================================\n",
      "Passive-Aggressive\n",
      "________________________________________________________________________________\n",
      "Training: \n",
      "PassiveAggressiveClassifier(max_iter=50)\n"
     ]
    },
    {
     "name": "stderr",
     "output_type": "stream",
     "text": [
      "/home/wangyh/anaconda3/envs/tf2.4/lib/python3.7/site-packages/sklearn/linear_model/_ridge.py:556: UserWarning: \"sag\" solver requires many iterations to fit an intercept with sparse inputs. Either set the solver to \"auto\" or \"sparse_cg\", or set a low \"tol\" and a high \"max_iter\" (especially if inputs are not standardized).\n",
      "  '\"sag\" solver requires many iterations to fit '\n"
     ]
    },
    {
     "name": "stdout",
     "output_type": "stream",
     "text": [
      "train time: 0.046s\n",
      "test time:  0.000s\n",
      "accuracy:   0.933\n",
      "dimensionality: 1047\n",
      "\n",
      "classification report:\n",
      "              precision    recall  f1-score   support\n",
      "\n",
      "          -1      0.889     0.889     0.889       305\n",
      "           1      0.952     0.952     0.952       712\n",
      "\n",
      "    accuracy                          0.933      1017\n",
      "   macro avg      0.920     0.920     0.920      1017\n",
      "weighted avg      0.933     0.933     0.933      1017\n",
      "\n",
      "\n",
      "================================================================================\n",
      "kNN\n",
      "________________________________________________________________________________\n",
      "Training: \n",
      "KNeighborsClassifier(n_neighbors=10)\n",
      "train time: 0.006s\n",
      "test time:  1.264s\n",
      "accuracy:   0.916\n",
      "classification report:\n",
      "              precision    recall  f1-score   support\n",
      "\n",
      "          -1      0.917     0.793     0.851       305\n",
      "           1      0.916     0.969     0.942       712\n",
      "\n",
      "    accuracy                          0.916      1017\n",
      "   macro avg      0.917     0.881     0.896      1017\n",
      "weighted avg      0.916     0.916     0.915      1017\n",
      "\n",
      "\n",
      "================================================================================\n",
      "Random forest\n",
      "________________________________________________________________________________\n",
      "Training: \n",
      "RandomForestClassifier()\n",
      "train time: 14.893s\n",
      "test time:  0.053s\n",
      "accuracy:   0.951\n",
      "classification report:\n",
      "              precision    recall  f1-score   support\n",
      "\n",
      "          -1      0.970     0.862     0.913       305\n",
      "           1      0.944     0.989     0.966       712\n",
      "\n",
      "    accuracy                          0.951      1017\n",
      "   macro avg      0.957     0.926     0.939      1017\n",
      "weighted avg      0.952     0.951     0.950      1017\n",
      "\n",
      "\n"
     ]
    }
   ],
   "source": [
    "for clf, name in (\n",
    "        (RidgeClassifier(tol=1e-2, solver=\"sag\"), \"Ridge Classifier\"),\n",
    "        (Perceptron(max_iter=50), \"Perceptron\"),\n",
    "        (PassiveAggressiveClassifier(max_iter=50), \"Passive-Aggressive\"),\n",
    "        (KNeighborsClassifier(n_neighbors=10), \"kNN\"),\n",
    "        (RandomForestClassifier(), \"Random forest\")):\n",
    "    print('=' * 80)\n",
    "    print(name)\n",
    "    results.append(benchmark(clf))"
   ]
  },
  {
   "cell_type": "code",
   "execution_count": 26,
   "id": "comparable-october",
   "metadata": {},
   "outputs": [
    {
     "name": "stdout",
     "output_type": "stream",
     "text": [
      "================================================================================\n",
      "L2 penalty\n",
      "________________________________________________________________________________\n",
      "Training: \n",
      "LinearSVC(dual=False, tol=0.001)\n",
      "train time: 0.076s\n",
      "test time:  0.000s\n",
      "accuracy:   0.948\n",
      "dimensionality: 1047\n",
      "\n",
      "classification report:\n",
      "              precision    recall  f1-score   support\n",
      "\n",
      "          -1      0.926     0.898     0.912       305\n",
      "           1      0.957     0.969     0.963       712\n",
      "\n",
      "    accuracy                          0.948      1017\n",
      "   macro avg      0.941     0.934     0.937      1017\n",
      "weighted avg      0.948     0.948     0.948      1017\n",
      "\n",
      "\n",
      "________________________________________________________________________________\n",
      "Training: \n",
      "SGDClassifier(max_iter=50)\n",
      "train time: 0.032s\n",
      "test time:  0.000s\n",
      "accuracy:   0.947\n",
      "dimensionality: 1047\n",
      "\n",
      "classification report:\n",
      "              precision    recall  f1-score   support\n",
      "\n",
      "          -1      0.943     0.875     0.908       305\n",
      "           1      0.948     0.978     0.963       712\n",
      "\n",
      "    accuracy                          0.947      1017\n",
      "   macro avg      0.946     0.926     0.935      1017\n",
      "weighted avg      0.947     0.947     0.946      1017\n",
      "\n",
      "\n",
      "================================================================================\n",
      "L1 penalty\n",
      "________________________________________________________________________________\n",
      "Training: \n",
      "LinearSVC(dual=False, penalty='l1', tol=0.001)\n",
      "train time: 0.597s\n",
      "test time:  0.001s\n",
      "accuracy:   0.947\n",
      "dimensionality: 1047\n",
      "\n",
      "classification report:\n",
      "              precision    recall  f1-score   support\n",
      "\n",
      "          -1      0.920     0.902     0.911       305\n",
      "           1      0.958     0.966     0.962       712\n",
      "\n",
      "    accuracy                          0.947      1017\n",
      "   macro avg      0.939     0.934     0.936      1017\n",
      "weighted avg      0.947     0.947     0.947      1017\n",
      "\n",
      "\n",
      "________________________________________________________________________________\n",
      "Training: \n",
      "SGDClassifier(max_iter=50, penalty='l1')\n",
      "train time: 0.049s\n",
      "test time:  0.001s\n",
      "accuracy:   0.931\n",
      "dimensionality: 1047\n",
      "\n",
      "classification report:\n",
      "              precision    recall  f1-score   support\n",
      "\n",
      "          -1      0.918     0.846     0.881       305\n",
      "           1      0.936     0.968     0.952       712\n",
      "\n",
      "    accuracy                          0.931      1017\n",
      "   macro avg      0.927     0.907     0.916      1017\n",
      "weighted avg      0.931     0.931     0.930      1017\n",
      "\n",
      "\n"
     ]
    }
   ],
   "source": [
    "for penalty in [\"l2\", \"l1\"]:\n",
    "    print('=' * 80)\n",
    "    print(\"%s penalty\" % penalty.upper())\n",
    "    # Train Liblinear model\n",
    "    results.append(benchmark(LinearSVC(penalty=penalty, dual=False, tol=1e-3)))\n",
    "\n",
    "    # Train SGD model\n",
    "    results.append(benchmark(SGDClassifier(alpha=.0001, max_iter=50, penalty=penalty)))"
   ]
  },
  {
   "cell_type": "code",
   "execution_count": 27,
   "id": "exposed-aquarium",
   "metadata": {},
   "outputs": [
    {
     "name": "stdout",
     "output_type": "stream",
     "text": [
      "================================================================================\n",
      "Elastic-Net penalty\n",
      "________________________________________________________________________________\n",
      "Training: \n",
      "SGDClassifier(max_iter=50, penalty='elasticnet')\n",
      "train time: 0.060s\n",
      "test time:  0.001s\n",
      "accuracy:   0.949\n",
      "dimensionality: 1047\n",
      "\n",
      "classification report:\n",
      "              precision    recall  f1-score   support\n",
      "\n",
      "          -1      0.944     0.882     0.912       305\n",
      "           1      0.951     0.978     0.964       712\n",
      "\n",
      "    accuracy                          0.949      1017\n",
      "   macro avg      0.947     0.930     0.938      1017\n",
      "weighted avg      0.949     0.949     0.948      1017\n",
      "\n",
      "\n"
     ]
    }
   ],
   "source": [
    "# Train SGD with Elastic Net penalty\n",
    "print('=' * 80)\n",
    "print(\"Elastic-Net penalty\")\n",
    "results.append(benchmark(SGDClassifier(alpha=.0001, max_iter=50, penalty=\"elasticnet\")))"
   ]
  },
  {
   "cell_type": "code",
   "execution_count": 28,
   "id": "digital-allergy",
   "metadata": {},
   "outputs": [
    {
     "name": "stdout",
     "output_type": "stream",
     "text": [
      "================================================================================\n",
      "NearestCentroid (aka Rocchio classifier)\n",
      "________________________________________________________________________________\n",
      "Training: \n",
      "NearestCentroid()\n",
      "train time: 0.012s\n",
      "test time:  0.001s\n",
      "accuracy:   0.872\n",
      "classification report:\n",
      "              precision    recall  f1-score   support\n",
      "\n",
      "          -1      0.799     0.767     0.783       305\n",
      "           1      0.902     0.917     0.909       712\n",
      "\n",
      "    accuracy                          0.872      1017\n",
      "   macro avg      0.850     0.842     0.846      1017\n",
      "weighted avg      0.871     0.872     0.871      1017\n",
      "\n",
      "\n"
     ]
    }
   ],
   "source": [
    "# Train NearestCentroid without threshold\n",
    "print('=' * 80)\n",
    "print(\"NearestCentroid (aka Rocchio classifier)\")\n",
    "results.append(benchmark(NearestCentroid()))"
   ]
  },
  {
   "cell_type": "code",
   "execution_count": 29,
   "id": "reasonable-characterization",
   "metadata": {},
   "outputs": [
    {
     "name": "stdout",
     "output_type": "stream",
     "text": [
      "================================================================================\n",
      "Naive Bayes\n",
      "________________________________________________________________________________\n",
      "Training: \n",
      "MultinomialNB(alpha=0.01)\n",
      "train time: 0.010s\n",
      "test time:  0.000s\n",
      "accuracy:   0.889\n",
      "dimensionality: 1047\n",
      "\n",
      "classification report:\n",
      "              precision    recall  f1-score   support\n",
      "\n",
      "          -1      0.887     0.721     0.796       305\n",
      "           1      0.889     0.961     0.924       712\n",
      "\n",
      "    accuracy                          0.889      1017\n",
      "   macro avg      0.888     0.841     0.860      1017\n",
      "weighted avg      0.889     0.889     0.885      1017\n",
      "\n",
      "\n",
      "________________________________________________________________________________\n",
      "Training: \n",
      "BernoulliNB(alpha=0.01)\n",
      "train time: 0.011s\n",
      "test time:  0.001s\n",
      "accuracy:   0.894\n",
      "dimensionality: 1047\n",
      "\n",
      "classification report:\n",
      "              precision    recall  f1-score   support\n",
      "\n",
      "          -1      0.916     0.711     0.801       305\n",
      "           1      0.887     0.972     0.928       712\n",
      "\n",
      "    accuracy                          0.894      1017\n",
      "   macro avg      0.901     0.842     0.864      1017\n",
      "weighted avg      0.896     0.894     0.890      1017\n",
      "\n",
      "\n",
      "________________________________________________________________________________\n",
      "Training: \n",
      "ComplementNB(alpha=0.1)\n",
      "train time: 0.008s\n",
      "test time:  0.000s\n",
      "accuracy:   0.892\n",
      "dimensionality: 1047\n",
      "\n",
      "classification report:\n",
      "              precision    recall  f1-score   support\n",
      "\n",
      "          -1      0.773     0.905     0.834       305\n",
      "           1      0.956     0.886     0.920       712\n",
      "\n",
      "    accuracy                          0.892      1017\n",
      "   macro avg      0.865     0.896     0.877      1017\n",
      "weighted avg      0.901     0.892     0.894      1017\n",
      "\n",
      "\n"
     ]
    },
    {
     "name": "stderr",
     "output_type": "stream",
     "text": [
      "/home/wangyh/anaconda3/envs/tf2.4/lib/python3.7/site-packages/sklearn/utils/deprecation.py:101: FutureWarning: Attribute coef_ was deprecated in version 0.24 and will be removed in 1.1 (renaming of 0.26).\n",
      "  warnings.warn(msg, category=FutureWarning)\n",
      "/home/wangyh/anaconda3/envs/tf2.4/lib/python3.7/site-packages/sklearn/utils/deprecation.py:101: FutureWarning: Attribute coef_ was deprecated in version 0.24 and will be removed in 1.1 (renaming of 0.26).\n",
      "  warnings.warn(msg, category=FutureWarning)\n",
      "/home/wangyh/anaconda3/envs/tf2.4/lib/python3.7/site-packages/sklearn/utils/deprecation.py:101: FutureWarning: Attribute coef_ was deprecated in version 0.24 and will be removed in 1.1 (renaming of 0.26).\n",
      "  warnings.warn(msg, category=FutureWarning)\n"
     ]
    }
   ],
   "source": [
    "# Train sparse Naive Bayes classifiers\n",
    "print('=' * 80)\n",
    "print(\"Naive Bayes\")\n",
    "results.append(benchmark(MultinomialNB(alpha=.01)))\n",
    "results.append(benchmark(BernoulliNB(alpha=.01)))\n",
    "results.append(benchmark(ComplementNB(alpha=.1)))"
   ]
  },
  {
   "cell_type": "code",
   "execution_count": 30,
   "id": "welsh-essence",
   "metadata": {},
   "outputs": [
    {
     "name": "stdout",
     "output_type": "stream",
     "text": [
      "================================================================================\n",
      "LinearSVC with L1-based feature selection\n",
      "________________________________________________________________________________\n",
      "Training: \n",
      "Pipeline(steps=[('feature_selection',\n",
      "                 SelectFromModel(estimator=LinearSVC(dual=False, penalty='l1',\n",
      "                                                     tol=0.001))),\n",
      "                ('classification', LinearSVC())])\n",
      "train time: 0.573s\n",
      "test time:  0.001s\n",
      "accuracy:   0.949\n",
      "classification report:\n",
      "              precision    recall  f1-score   support\n",
      "\n",
      "          -1      0.926     0.902     0.914       305\n",
      "           1      0.958     0.969     0.964       712\n",
      "\n",
      "    accuracy                          0.949      1017\n",
      "   macro avg      0.942     0.935     0.939      1017\n",
      "weighted avg      0.949     0.949     0.949      1017\n",
      "\n",
      "\n"
     ]
    }
   ],
   "source": [
    "\n"
   ]
  },
  {
   "cell_type": "code",
   "execution_count": 31,
   "id": "available-chain",
   "metadata": {},
   "outputs": [],
   "source": [
    "param = {'num_leaves': 2**5-1, 'objective': 'binary'}\n",
    "param['metric'] = 'auc'\n",
    "\n",
    "num_round = 1000"
   ]
  },
  {
   "cell_type": "code",
   "execution_count": 32,
   "id": "interracial-young",
   "metadata": {},
   "outputs": [
    {
     "data": {
      "text/plain": [
       "(34686, 1047)"
      ]
     },
     "execution_count": 32,
     "metadata": {},
     "output_type": "execute_result"
    }
   ],
   "source": [
    "X_train.shape"
   ]
  },
  {
   "cell_type": "code",
   "execution_count": 33,
   "id": "touched-edwards",
   "metadata": {},
   "outputs": [
    {
     "name": "stdout",
     "output_type": "stream",
     "text": [
      "(34686, 1047)\n",
      "(34686, 1)\n"
     ]
    },
    {
     "data": {
      "text/plain": [
       "(34686, 1048)"
      ]
     },
     "execution_count": 33,
     "metadata": {},
     "output_type": "execute_result"
    }
   ],
   "source": [
    "length = np.expand_dims(data_train['content'].apply(len).to_numpy(), axis=1)\n",
    "print(X_train.shape)\n",
    "print(length.shape)\n",
    "X_train = csr_matrix(np.concatenate((X_train.toarray(), length), axis=1))\n",
    "X_train.shape"
   ]
  },
  {
   "cell_type": "code",
   "execution_count": 34,
   "id": "massive-invitation",
   "metadata": {},
   "outputs": [
    {
     "name": "stdout",
     "output_type": "stream",
     "text": [
      "(1017, 1047)\n",
      "(1017, 1)\n"
     ]
    },
    {
     "data": {
      "text/plain": [
       "(1017, 1048)"
      ]
     },
     "execution_count": 34,
     "metadata": {},
     "output_type": "execute_result"
    }
   ],
   "source": [
    "length = np.expand_dims(data_test['content'].apply(len).to_numpy(), axis=1)\n",
    "print(X_test.shape)\n",
    "print(length.shape)\n",
    "X_test = csr_matrix(np.concatenate((X_test.toarray(), length), axis=1))\n",
    "X_test.shape"
   ]
  },
  {
   "cell_type": "code",
   "execution_count": 35,
   "id": "collected-efficiency",
   "metadata": {},
   "outputs": [],
   "source": [
    "train_data = lgb.Dataset(X_train, label=y_train)"
   ]
  },
  {
   "cell_type": "code",
   "execution_count": 36,
   "id": "according-benjamin",
   "metadata": {},
   "outputs": [
    {
     "name": "stdout",
     "output_type": "stream",
     "text": [
      "[LightGBM] [Info] Number of positive: 27908, number of negative: 6778\n",
      "[LightGBM] [Warning] Auto-choosing row-wise multi-threading, the overhead of testing was 0.065784 seconds.\n",
      "You can set `force_row_wise=true` to remove the overhead.\n",
      "And if memory is not enough, you can set `force_col_wise=true`.\n",
      "[LightGBM] [Info] Total Bins 80889\n",
      "[LightGBM] [Info] Number of data points in the train set: 34686, number of used features: 1048\n",
      "[LightGBM] [Info] [binary:BoostFromScore]: pavg=0.804590 -> initscore=1.415231\n",
      "[LightGBM] [Info] Start training from score 1.415231\n",
      "CPU times: user 1min 58s, sys: 824 ms, total: 1min 59s\n",
      "Wall time: 15.2 s\n"
     ]
    }
   ],
   "source": [
    "%time bst = lgb.train(param, train_data, num_round)"
   ]
  },
  {
   "cell_type": "code",
   "execution_count": 37,
   "id": "ranking-remedy",
   "metadata": {},
   "outputs": [],
   "source": [
    "y_pred = bst.predict(X_test)\n",
    "y_pred = np.where(y_pred > 0.5, 1, -1)"
   ]
  },
  {
   "cell_type": "code",
   "execution_count": 38,
   "id": "assured-conservation",
   "metadata": {},
   "outputs": [
    {
     "name": "stdout",
     "output_type": "stream",
     "text": [
      "              precision    recall  f1-score   support\n",
      "\n",
      "          -1      0.979     0.911     0.944       305\n",
      "           1      0.963     0.992     0.977       712\n",
      "\n",
      "    accuracy                          0.968      1017\n",
      "   macro avg      0.971     0.952     0.961      1017\n",
      "weighted avg      0.968     0.968     0.967      1017\n",
      "\n"
     ]
    }
   ],
   "source": [
    "print(metrics.classification_report(y_test, y_pred, digits=3))"
   ]
  },
  {
   "cell_type": "code",
   "execution_count": 39,
   "id": "headed-lighting",
   "metadata": {},
   "outputs": [
    {
     "data": {
      "text/plain": [
       "<lightgbm.basic.Booster at 0x7f5381d58c10>"
      ]
     },
     "execution_count": 39,
     "metadata": {},
     "output_type": "execute_result"
    }
   ],
   "source": [
    "# bst.save_model('./model/ads-detect-1-20210125.mdl')\n",
    "# bst.save_model('./model/ads-detect-1-20210312.mdl')\n",
    "bst.save_model('./model/ads-detect-1-20210401.mdl')"
   ]
  },
  {
   "cell_type": "markdown",
   "id": "familiar-junior",
   "metadata": {},
   "source": [
    "## efficiency"
   ]
  },
  {
   "cell_type": "raw",
   "id": "forced-subscriber",
   "metadata": {},
   "source": [
    "indices = np.arange(len(results))\n",
    "\n",
    "results = [[x[i] for x in results] for i in range(5)]\n",
    "\n",
    "preds, clf_names, score, training_time, test_time = results\n",
    "training_time = np.array(training_time) / np.max(training_time)\n",
    "test_time = np.array(test_time) / np.max(test_time)"
   ]
  },
  {
   "cell_type": "raw",
   "id": "handmade-village",
   "metadata": {},
   "source": [
    "plt.figure(figsize=(12, 8))\n",
    "\n",
    "plt.title(\"Score\")\n",
    "\n",
    "plt.barh(indices, score, .2, label=\"score\", color='navy')\n",
    "plt.barh(indices + .3, training_time, .2, label=\"training time\", color='c')\n",
    "plt.barh(indices + .6, test_time, .2, label=\"test time\", color='darkorange')\n",
    "\n",
    "plt.yticks(())\n",
    "plt.legend(loc='best')\n",
    "\n",
    "plt.subplots_adjust(left=.25)\n",
    "plt.subplots_adjust(top=.95)\n",
    "plt.subplots_adjust(bottom=.05)\n",
    "\n",
    "for i, c in zip(indices, clf_names):\n",
    "    plt.text(-.3, i, c)\n",
    "\n",
    "plt.show()"
   ]
  },
  {
   "cell_type": "markdown",
   "id": "sound-dancing",
   "metadata": {},
   "source": [
    "## tune"
   ]
  },
  {
   "cell_type": "raw",
   "id": "associate-boutique",
   "metadata": {},
   "source": [
    "y_pred, _, _, _, _ = benchmark(ComplementNB(alpha=.1))"
   ]
  },
  {
   "cell_type": "raw",
   "id": "western-edwards",
   "metadata": {},
   "source": [
    "y_pred, _, _, _, _ = benchmark(Pipeline([\n",
    "  ('feature_selection', SelectFromModel(LinearSVC(penalty=\"l1\", dual=False, tol=1e-3))),\n",
    "  ('classification', LinearSVC(penalty=\"l2\"))]))"
   ]
  },
  {
   "cell_type": "code",
   "execution_count": 40,
   "id": "three-trigger",
   "metadata": {},
   "outputs": [],
   "source": [
    "data_test['pred'] = y_pred"
   ]
  },
  {
   "cell_type": "code",
   "execution_count": 41,
   "id": "preceding-wales",
   "metadata": {},
   "outputs": [
    {
     "name": "stderr",
     "output_type": "stream",
     "text": [
      "/home/wangyh/anaconda3/envs/tf2.4/lib/python3.7/site-packages/pandas/core/indexing.py:1597: SettingWithCopyWarning: \n",
      "A value is trying to be set on a copy of a slice from a DataFrame.\n",
      "Try using .loc[row_indexer,col_indexer] = value instead\n",
      "\n",
      "See the caveats in the documentation: https://pandas.pydata.org/pandas-docs/stable/user_guide/indexing.html#returning-a-view-versus-a-copy\n",
      "  self.obj[key] = value\n",
      "/home/wangyh/anaconda3/envs/tf2.4/lib/python3.7/site-packages/pandas/core/indexing.py:1676: SettingWithCopyWarning: \n",
      "A value is trying to be set on a copy of a slice from a DataFrame.\n",
      "Try using .loc[row_indexer,col_indexer] = value instead\n",
      "\n",
      "See the caveats in the documentation: https://pandas.pydata.org/pandas-docs/stable/user_guide/indexing.html#returning-a-view-versus-a-copy\n",
      "  self._setitem_single_column(ilocs[0], value, pi)\n"
     ]
    }
   ],
   "source": [
    "df = data_test[['label', 'pred', 'content']]\n",
    "df.loc[:, 'tokens'] = df['content'].apply(split)"
   ]
  },
  {
   "cell_type": "code",
   "execution_count": 42,
   "id": "postal-breakdown",
   "metadata": {
    "scrolled": false
   },
   "outputs": [
    {
     "name": "stdout",
     "output_type": "stream",
     "text": [
      "(27, 4)\n"
     ]
    },
    {
     "data": {
      "text/html": [
       "<div>\n",
       "<style scoped>\n",
       "    .dataframe tbody tr th:only-of-type {\n",
       "        vertical-align: middle;\n",
       "    }\n",
       "\n",
       "    .dataframe tbody tr th {\n",
       "        vertical-align: top;\n",
       "    }\n",
       "\n",
       "    .dataframe thead th {\n",
       "        text-align: right;\n",
       "    }\n",
       "</style>\n",
       "<table border=\"1\" class=\"dataframe\">\n",
       "  <thead>\n",
       "    <tr style=\"text-align: right;\">\n",
       "      <th></th>\n",
       "      <th>label</th>\n",
       "      <th>pred</th>\n",
       "      <th>content</th>\n",
       "      <th>tokens</th>\n",
       "    </tr>\n",
       "  </thead>\n",
       "  <tbody>\n",
       "    <tr>\n",
       "      <th>122</th>\n",
       "      <td>-1</td>\n",
       "      <td>1</td>\n",
       "      <td>兄弟来新游戏试玩不？人多**好</td>\n",
       "      <td>[兄, 弟, 来, 新, 游, 戏, 试, 玩, 不, 人, 多, 好, &lt;special-char&gt;, &lt;special-char&gt;, &lt;special-char&gt;]</td>\n",
       "    </tr>\n",
       "    <tr>\n",
       "      <th>244</th>\n",
       "      <td>-1</td>\n",
       "      <td>1</td>\n",
       "      <td>你打公告我打资源号位置</td>\n",
       "      <td>[打, 公, 告, 打, 资, 源, 号, 位, 置]</td>\n",
       "    </tr>\n",
       "    <tr>\n",
       "      <th>264</th>\n",
       "      <td>-1</td>\n",
       "      <td>1</td>\n",
       "      <td>不是，我说的让你们看看要不要资源</td>\n",
       "      <td>[不, 是, ,, 说, 让, 看, 看, 要, 不, 要, 资, 源]</td>\n",
       "    </tr>\n",
       "    <tr>\n",
       "      <th>314</th>\n",
       "      <td>-1</td>\n",
       "      <td>1</td>\n",
       "      <td>招手游代理或兼职，拥有个人代理后台，周结算，0加盟费，合作即可签合同，公司扶持，想了解的可以咨询我。</td>\n",
       "      <td>[招, 手, 游, 代, 理, 或, &lt;unk&gt;, &lt;unk&gt;, ,, &lt;unk&gt;, 有, 个, 人, 代, 理, 后, 台, ,, 周, 结, 算, ,, &lt;num-1&gt;, +, 盟, 费, ,, 作, 即, 可, &lt;unk&gt;, 同, ,, 公, 司, &lt;unk&gt;, 持, ,, 想, 解, 可, 以, &lt;unk&gt;, &lt;unk&gt;, &lt;special-char&gt;]</td>\n",
       "    </tr>\n",
       "    <tr>\n",
       "      <th>317</th>\n",
       "      <td>-1</td>\n",
       "      <td>1</td>\n",
       "      <td>招手游代理兼职，无需加盟费，**后台，合同模式，公司扶持政策，想了解的可以私聊我</td>\n",
       "      <td>[招, 手, 游, 代, 理, &lt;unk&gt;, &lt;unk&gt;, ,, 无, 需, +, 盟, 费, ,, 后, 台, ,, 同, &lt;unk&gt;, &lt;unk&gt;, ,, 公, 司, &lt;unk&gt;, 持, 政, 策, ,, 想, 解, 可, 以, 私, 聊, &lt;special-char&gt;, &lt;special-char&gt;]</td>\n",
       "    </tr>\n",
       "    <tr>\n",
       "      <th>325</th>\n",
       "      <td>-1</td>\n",
       "      <td>1</td>\n",
       "      <td>出号！一红，三的卢</td>\n",
       "      <td>[出, 号, 一, 红, ,, 三, &lt;unk&gt;, &lt;special-char&gt;]</td>\n",
       "    </tr>\n",
       "    <tr>\n",
       "      <th>374</th>\n",
       "      <td>-1</td>\n",
       "      <td>1</td>\n",
       "      <td>开仓w出货{localization:189-393},88965</td>\n",
       "      <td>[开, &lt;unk&gt;, w, 出, 货, &lt;loc&gt;, ,, &lt;num-5&gt;]</td>\n",
       "    </tr>\n",
       "    <tr>\n",
       "      <th>387</th>\n",
       "      <td>-1</td>\n",
       "      <td>1</td>\n",
       "      <td>开仓吃饭了，威z506420409</td>\n",
       "      <td>[开, &lt;unk&gt;, 吃, 饭, ,, 微, &lt;contact&gt;]</td>\n",
       "    </tr>\n",
       "    <tr>\n",
       "      <th>392</th>\n",
       "      <td>-1</td>\n",
       "      <td>1</td>\n",
       "      <td>「开仓吃饭」「{localization:189-393}，88965」</td>\n",
       "      <td>[开, &lt;unk&gt;, 吃, 饭, &lt;loc&gt;, ,, &lt;num-5&gt;, &lt;special-char&gt;, &lt;special-char&gt;, &lt;special-char&gt;, &lt;special-char&gt;]</td>\n",
       "    </tr>\n",
       "    <tr>\n",
       "      <th>394</th>\n",
       "      <td>-1</td>\n",
       "      <td>1</td>\n",
       "      <td>出h吗</td>\n",
       "      <td>[出, h]</td>\n",
       "    </tr>\n",
       "    <tr>\n",
       "      <th>486</th>\n",
       "      <td>-1</td>\n",
       "      <td>1</td>\n",
       "      <td>30=1yi chu zi吃,z506420409,+饭了，威z506420409</td>\n",
       "      <td>[&lt;contact&gt;, 吃, ,, &lt;contact&gt;, ,, +, 饭, ,, 微, &lt;contact&gt;, &lt;special-char&gt;]</td>\n",
       "    </tr>\n",
       "    <tr>\n",
       "      <th>489</th>\n",
       "      <td>-1</td>\n",
       "      <td>1</td>\n",
       "      <td>10=1yi chu zi吃,z506420409,+饭了，威z506420409</td>\n",
       "      <td>[&lt;contact&gt;, 吃, ,, &lt;contact&gt;, ,, +, 饭, ,, 微, &lt;contact&gt;, &lt;special-char&gt;]</td>\n",
       "    </tr>\n",
       "    <tr>\n",
       "      <th>552</th>\n",
       "      <td>-1</td>\n",
       "      <td>1</td>\n",
       "      <td>出h嘛</td>\n",
       "      <td>[出, h]</td>\n",
       "    </tr>\n",
       "    <tr>\n",
       "      <th>584</th>\n",
       "      <td>-1</td>\n",
       "      <td>1</td>\n",
       "      <td>最底jia，威e2868188</td>\n",
       "      <td>[最, 底, j, i, a, ,, 微, &lt;contact&gt;]</td>\n",
       "    </tr>\n",
       "    <tr>\n",
       "      <th>597</th>\n",
       "      <td>-1</td>\n",
       "      <td>1</td>\n",
       "      <td>开仓 {localization:189-393}，88965</td>\n",
       "      <td>[开, &lt;unk&gt;, &lt;loc&gt;, ,, &lt;num-5&gt;]</td>\n",
       "    </tr>\n",
       "    <tr>\n",
       "      <th>608</th>\n",
       "      <td>-1</td>\n",
       "      <td>1</td>\n",
       "      <td>「开仓吃饭」18939388965</td>\n",
       "      <td>[开, &lt;unk&gt;, 吃, 饭, &lt;num-11&gt;, &lt;special-char&gt;, &lt;special-char&gt;]</td>\n",
       "    </tr>\n",
       "    <tr>\n",
       "      <th>627</th>\n",
       "      <td>-1</td>\n",
       "      <td>1</td>\n",
       "      <td>你好，你这个号打算卖吗？</td>\n",
       "      <td>[好, ,, 这, 个, 号, 打, 算, 卖, &lt;special-char&gt;]</td>\n",
       "    </tr>\n",
       "    <tr>\n",
       "      <th>666</th>\n",
       "      <td>-1</td>\n",
       "      <td>1</td>\n",
       "      <td>兄弟，195的号已升级好，兄弟们有需求， 可以帮忙推荐一下，加微信13873126932，多谢了</td>\n",
       "      <td>[兄, 弟, ,, &lt;num-3&gt;, 号, 已, 升, 级, 好, ,, 兄, 弟, 有, 需, 求, ,, 可, 以, 帮, 忙, 推, &lt;unk&gt;, 一, 下, ,, +, 微, &lt;num-11&gt;, ,, 多]</td>\n",
       "    </tr>\n",
       "    <tr>\n",
       "      <th>679</th>\n",
       "      <td>-1</td>\n",
       "      <td>1</td>\n",
       "      <td>你好，你这个号打算卖吗</td>\n",
       "      <td>[好, ,, 这, 个, 号, 打, 算, 卖]</td>\n",
       "    </tr>\n",
       "    <tr>\n",
       "      <th>680</th>\n",
       "      <td>-1</td>\n",
       "      <td>1</td>\n",
       "      <td>你也需要资源吗</td>\n",
       "      <td>[也, 需, 要, 资, 源]</td>\n",
       "    </tr>\n",
       "    <tr>\n",
       "      <th>687</th>\n",
       "      <td>-1</td>\n",
       "      <td>1</td>\n",
       "      <td>晚上要打城吗？不打我要买资源了</td>\n",
       "      <td>[晚, 上, 要, 打, 城, 不, 打, 要, 买, 资, 源, &lt;special-char&gt;]</td>\n",
       "    </tr>\n",
       "    <tr>\n",
       "      <th>726</th>\n",
       "      <td>-1</td>\n",
       "      <td>1</td>\n",
       "      <td>推荐大家两个网络书作者，高月和六如和尚，他俩的架空文推荐大家看一看，写的很好。</td>\n",
       "      <td>[推, &lt;unk&gt;, 大, 家, 两, 个, &lt;unk&gt;, &lt;unk&gt;, 书, 作, 者, ,, 高, 月, 和, 六, 如, 和, &lt;unk&gt;, ,, 俩, +, 空, 文, 推, &lt;unk&gt;, 大, 家, 看, 一, 看, ,, &lt;unk&gt;, 很, 好, &lt;special-char&gt;]</td>\n",
       "    </tr>\n",
       "    <tr>\n",
       "      <th>866</th>\n",
       "      <td>-1</td>\n",
       "      <td>1</td>\n",
       "      <td>我资源号</td>\n",
       "      <td>[资, 源, 号]</td>\n",
       "    </tr>\n",
       "    <tr>\n",
       "      <th>922</th>\n",
       "      <td>-1</td>\n",
       "      <td>1</td>\n",
       "      <td>10=4e,负重200</td>\n",
       "      <td>[&lt;contact&gt;, ,, 负, 重, &lt;num-3&gt;, &lt;special-char&gt;]</td>\n",
       "    </tr>\n",
       "    <tr>\n",
       "      <th>928</th>\n",
       "      <td>-1</td>\n",
       "      <td>1</td>\n",
       "      <td>你号给我吧</td>\n",
       "      <td>[号, 给]</td>\n",
       "    </tr>\n",
       "    <tr>\n",
       "      <th>936</th>\n",
       "      <td>-1</td>\n",
       "      <td>1</td>\n",
       "      <td>关羽张辽孙策吕布免领+q：2043603184，更有五个**码</td>\n",
       "      <td>[关, 羽, 张, &lt;unk&gt;, 孙, 策, 吕, 布, 免, 领, +, &lt;contact&gt;, ,, 更, 有, 五, 个, 码, &lt;special-char&gt;, &lt;special-char&gt;, &lt;special-char&gt;]</td>\n",
       "    </tr>\n",
       "    <tr>\n",
       "      <th>1005</th>\n",
       "      <td>-1</td>\n",
       "      <td>1</td>\n",
       "      <td>你好 你这个号打算卖吗</td>\n",
       "      <td>[好, 这, 个, 号, 打, 算, 卖]</td>\n",
       "    </tr>\n",
       "  </tbody>\n",
       "</table>\n",
       "</div>"
      ],
      "text/plain": [
       "      label  pred                                             content  \\\n",
       "122      -1     1                                     兄弟来新游戏试玩不？人多**好   \n",
       "244      -1     1                                         你打公告我打资源号位置   \n",
       "264      -1     1                                    不是，我说的让你们看看要不要资源   \n",
       "314      -1     1  招手游代理或兼职，拥有个人代理后台，周结算，0加盟费，合作即可签合同，公司扶持，想了解的可以咨询我。   \n",
       "317      -1     1            招手游代理兼职，无需加盟费，**后台，合同模式，公司扶持政策，想了解的可以私聊我   \n",
       "325      -1     1                                           出号！一红，三的卢   \n",
       "374      -1     1                   开仓w出货{localization:189-393},88965   \n",
       "387      -1     1                                   开仓吃饭了，威z506420409   \n",
       "392      -1     1                「开仓吃饭」「{localization:189-393}，88965」   \n",
       "394      -1     1                                                 出h吗   \n",
       "486      -1     1           30=1yi chu zi吃,z506420409,+饭了，威z506420409   \n",
       "489      -1     1           10=1yi chu zi吃,z506420409,+饭了，威z506420409   \n",
       "552      -1     1                                                 出h嘛   \n",
       "584      -1     1                                     最底jia，威e2868188   \n",
       "597      -1     1                     开仓 {localization:189-393}，88965   \n",
       "608      -1     1                                   「开仓吃饭」18939388965   \n",
       "627      -1     1                                        你好，你这个号打算卖吗？   \n",
       "666      -1     1    兄弟，195的号已升级好，兄弟们有需求， 可以帮忙推荐一下，加微信13873126932，多谢了   \n",
       "679      -1     1                                         你好，你这个号打算卖吗   \n",
       "680      -1     1                                             你也需要资源吗   \n",
       "687      -1     1                                     晚上要打城吗？不打我要买资源了   \n",
       "726      -1     1             推荐大家两个网络书作者，高月和六如和尚，他俩的架空文推荐大家看一看，写的很好。   \n",
       "866      -1     1                                                我资源号   \n",
       "922      -1     1                                         10=4e,负重200   \n",
       "928      -1     1                                               你号给我吧   \n",
       "936      -1     1                     关羽张辽孙策吕布免领+q：2043603184，更有五个**码   \n",
       "1005     -1     1                                         你好 你这个号打算卖吗   \n",
       "\n",
       "                                                                                                                                                                                      tokens  \n",
       "122                                                                                                     [兄, 弟, 来, 新, 游, 戏, 试, 玩, 不, 人, 多, 好, <special-char>, <special-char>, <special-char>]  \n",
       "244                                                                                                                                                              [打, 公, 告, 打, 资, 源, 号, 位, 置]  \n",
       "264                                                                                                                                                     [不, 是, ,, 说, 让, 看, 看, 要, 不, 要, 资, 源]  \n",
       "314   [招, 手, 游, 代, 理, 或, <unk>, <unk>, ,, <unk>, 有, 个, 人, 代, 理, 后, 台, ,, 周, 结, 算, ,, <num-1>, +, 盟, 费, ,, 作, 即, 可, <unk>, 同, ,, 公, 司, <unk>, 持, ,, 想, 解, 可, 以, <unk>, <unk>, <special-char>]  \n",
       "317                               [招, 手, 游, 代, 理, <unk>, <unk>, ,, 无, 需, +, 盟, 费, ,, 后, 台, ,, 同, <unk>, <unk>, ,, 公, 司, <unk>, 持, 政, 策, ,, 想, 解, 可, 以, 私, 聊, <special-char>, <special-char>]  \n",
       "325                                                                                                                                                [出, 号, 一, 红, ,, 三, <unk>, <special-char>]  \n",
       "374                                                                                                                                                   [开, <unk>, w, 出, 货, <loc>, ,, <num-5>]  \n",
       "387                                                                                                                                                        [开, <unk>, 吃, 饭, ,, 微, <contact>]  \n",
       "392                                                                                      [开, <unk>, 吃, 饭, <loc>, ,, <num-5>, <special-char>, <special-char>, <special-char>, <special-char>]  \n",
       "394                                                                                                                                                                                   [出, h]  \n",
       "486                                                                                                                   [<contact>, 吃, ,, <contact>, ,, +, 饭, ,, 微, <contact>, <special-char>]  \n",
       "489                                                                                                                   [<contact>, 吃, ,, <contact>, ,, +, 饭, ,, 微, <contact>, <special-char>]  \n",
       "552                                                                                                                                                                                   [出, h]  \n",
       "584                                                                                                                                                         [最, 底, j, i, a, ,, 微, <contact>]  \n",
       "597                                                                                                                                                            [开, <unk>, <loc>, ,, <num-5>]  \n",
       "608                                                                                                                               [开, <unk>, 吃, 饭, <num-11>, <special-char>, <special-char>]  \n",
       "627                                                                                                                                                 [好, ,, 这, 个, 号, 打, 算, 卖, <special-char>]  \n",
       "666                                                                              [兄, 弟, ,, <num-3>, 号, 已, 升, 级, 好, ,, 兄, 弟, 有, 需, 求, ,, 可, 以, 帮, 忙, 推, <unk>, 一, 下, ,, +, 微, <num-11>, ,, 多]  \n",
       "679                                                                                                                                                                 [好, ,, 这, 个, 号, 打, 算, 卖]  \n",
       "680                                                                                                                                                                          [也, 需, 要, 资, 源]  \n",
       "687                                                                                                                                        [晚, 上, 要, 打, 城, 不, 打, 要, 买, 资, 源, <special-char>]  \n",
       "726                                        [推, <unk>, 大, 家, 两, 个, <unk>, <unk>, 书, 作, 者, ,, 高, 月, 和, 六, 如, 和, <unk>, ,, 俩, +, 空, 文, 推, <unk>, 大, 家, 看, 一, 看, ,, <unk>, 很, 好, <special-char>]  \n",
       "866                                                                                                                                                                                [资, 源, 号]  \n",
       "922                                                                                                                                            [<contact>, ,, 负, 重, <num-3>, <special-char>]  \n",
       "928                                                                                                                                                                                   [号, 给]  \n",
       "936                                                                       [关, 羽, 张, <unk>, 孙, 策, 吕, 布, 免, 领, +, <contact>, ,, 更, 有, 五, 个, 码, <special-char>, <special-char>, <special-char>]  \n",
       "1005                                                                                                                                                                   [好, 这, 个, 号, 打, 算, 卖]  "
      ]
     },
     "execution_count": 42,
     "metadata": {},
     "output_type": "execute_result"
    }
   ],
   "source": [
    "# 广告，漏召回\n",
    "\n",
    "df1 = df[(~(df.label==df.pred)) & (df.label==-1)]\n",
    "print(df1.shape)\n",
    "df1"
   ]
  },
  {
   "cell_type": "code",
   "execution_count": 43,
   "id": "departmental-throw",
   "metadata": {
    "scrolled": false
   },
   "outputs": [
    {
     "name": "stdout",
     "output_type": "stream",
     "text": [
      "(6, 4)\n"
     ]
    },
    {
     "data": {
      "text/html": [
       "<div>\n",
       "<style scoped>\n",
       "    .dataframe tbody tr th:only-of-type {\n",
       "        vertical-align: middle;\n",
       "    }\n",
       "\n",
       "    .dataframe tbody tr th {\n",
       "        vertical-align: top;\n",
       "    }\n",
       "\n",
       "    .dataframe thead th {\n",
       "        text-align: right;\n",
       "    }\n",
       "</style>\n",
       "<table border=\"1\" class=\"dataframe\">\n",
       "  <thead>\n",
       "    <tr style=\"text-align: right;\">\n",
       "      <th></th>\n",
       "      <th>label</th>\n",
       "      <th>pred</th>\n",
       "      <th>content</th>\n",
       "      <th>tokens</th>\n",
       "    </tr>\n",
       "  </thead>\n",
       "  <tbody>\n",
       "    <tr>\n",
       "      <th>36</th>\n",
       "      <td>1</td>\n",
       "      <td>-1</td>\n",
       "      <td>级匪的接龙1. 落2. 上将潘凤3. 戴渊4. 春晓5. 阿邦6. 刹那芳华7. 在家数豆豆8. 小K9. 闽星辰10. 郝星辰11. 仪星12. 真可笑13. 洋哥14. 拖吧15. 血鹰刑天16. 祥博17. 米飞18耙耙.</td>\n",
       "      <td>[级, 匪, 接, 龙, &lt;num-1&gt;, 落, &lt;num-1&gt;, 上, 将, &lt;unk&gt;, &lt;unk&gt;, &lt;num-1&gt;, &lt;unk&gt;, &lt;unk&gt;, &lt;num-1&gt;, 春, &lt;unk&gt;, &lt;num-1&gt;, &lt;unk&gt;, &lt;num-1&gt;, &lt;unk&gt;, &lt;unk&gt;, 华, &lt;num-1&gt;, 在, 家, 数, &lt;unk&gt;, &lt;unk&gt;, &lt;num-1&gt;, 小, &lt;contact&gt;, &lt;unk&gt;, 星, &lt;unk&gt;, &lt;num-2&gt;, &lt;unk&gt;, 星, &lt;unk&gt;, &lt;num-2&gt;, &lt;unk&gt;, 星, &lt;num-2&gt;, 真, 可, 笑, &lt;num-2&gt;, &lt;unk&gt;, 哥, &lt;num-2&gt;, &lt;unk&gt;, &lt;num-2&gt;, 血, &lt;unk&gt;, &lt;unk&gt;, 天, &lt;num-2&gt;, &lt;unk&gt;, &lt;unk&gt;, &lt;num-2&gt;, &lt;unk&gt;, 飞, &lt;num-2&gt;, &lt;unk&gt;, &lt;unk&gt;, &lt;special-char&gt;, &lt;special-char&gt;, &lt;special-char&gt;, &lt;special-char&gt;, &lt;special-char&gt;, &lt;special-char&gt;, &lt;special-c...</td>\n",
       "    </tr>\n",
       "    <tr>\n",
       "      <th>99</th>\n",
       "      <td>1</td>\n",
       "      <td>-1</td>\n",
       "      <td>霸服军团收吴，魏，蜀国活人，来的加 1979574312私聊</td>\n",
       "      <td>[霸, 服, &lt;corpus&gt;, 收, 吴, ,, 魏, ,, 蜀, 国, 人, ,, 来, +, &lt;num-10&gt;, 私, 聊]</td>\n",
       "    </tr>\n",
       "    <tr>\n",
       "      <th>211</th>\n",
       "      <td>1</td>\n",
       "      <td>-1</td>\n",
       "      <td>能告诉我 开区啥价格 现在啥价格么</td>\n",
       "      <td>[能, 告, 诉, 开, 区, 啥, 价, 格, 现, 在, 啥, 价, 格]</td>\n",
       "    </tr>\n",
       "    <tr>\n",
       "      <th>406</th>\n",
       "      <td>1</td>\n",
       "      <td>-1</td>\n",
       "      <td>元宝购买huodon包子和令牌都买了</td>\n",
       "      <td>[元, 宝, 购, 买, h, u, o, d, o, n, 包, 子, 和, 令, 牌, 都, 买]</td>\n",
       "    </tr>\n",
       "    <tr>\n",
       "      <th>644</th>\n",
       "      <td>1</td>\n",
       "      <td>-1</td>\n",
       "      <td>功勋私聊咯</td>\n",
       "      <td>[功, 勋, 私, 聊, 咯]</td>\n",
       "    </tr>\n",
       "    <tr>\n",
       "      <th>646</th>\n",
       "      <td>1</td>\n",
       "      <td>-1</td>\n",
       "      <td>打匪加微信，以后方便叫，加730310966</td>\n",
       "      <td>[打, 匪, +, 微, ,, 以, 后, 方, 便, 叫, ,, +, &lt;num-9&gt;]</td>\n",
       "    </tr>\n",
       "  </tbody>\n",
       "</table>\n",
       "</div>"
      ],
      "text/plain": [
       "     label  pred  \\\n",
       "36       1    -1   \n",
       "99       1    -1   \n",
       "211      1    -1   \n",
       "406      1    -1   \n",
       "644      1    -1   \n",
       "646      1    -1   \n",
       "\n",
       "                                                                                                                content  \\\n",
       "36   级匪的接龙1. 落2. 上将潘凤3. 戴渊4. 春晓5. 阿邦6. 刹那芳华7. 在家数豆豆8. 小K9. 闽星辰10. 郝星辰11. 仪星12. 真可笑13. 洋哥14. 拖吧15. 血鹰刑天16. 祥博17. 米飞18耙耙.   \n",
       "99                                                                                       霸服军团收吴，魏，蜀国活人，来的加 1979574312私聊   \n",
       "211                                                                                                   能告诉我 开区啥价格 现在啥价格么   \n",
       "406                                                                                                  元宝购买huodon包子和令牌都买了   \n",
       "644                                                                                                               功勋私聊咯   \n",
       "646                                                                                              打匪加微信，以后方便叫，加730310966   \n",
       "\n",
       "                                                                                                                                                                                                                                                                                                                                                                                                                                                                                                                              tokens  \n",
       "36   [级, 匪, 接, 龙, <num-1>, 落, <num-1>, 上, 将, <unk>, <unk>, <num-1>, <unk>, <unk>, <num-1>, 春, <unk>, <num-1>, <unk>, <num-1>, <unk>, <unk>, 华, <num-1>, 在, 家, 数, <unk>, <unk>, <num-1>, 小, <contact>, <unk>, 星, <unk>, <num-2>, <unk>, 星, <unk>, <num-2>, <unk>, 星, <num-2>, 真, 可, 笑, <num-2>, <unk>, 哥, <num-2>, <unk>, <num-2>, 血, <unk>, <unk>, 天, <num-2>, <unk>, <unk>, <num-2>, <unk>, 飞, <num-2>, <unk>, <unk>, <special-char>, <special-char>, <special-char>, <special-char>, <special-char>, <special-char>, <special-c...  \n",
       "99                                                                                                                                                                                                                                                                                                                                                                                                                                                                 [霸, 服, <corpus>, 收, 吴, ,, 魏, ,, 蜀, 国, 人, ,, 来, +, <num-10>, 私, 聊]  \n",
       "211                                                                                                                                                                                                                                                                                                                                                                                                                                                                                          [能, 告, 诉, 开, 区, 啥, 价, 格, 现, 在, 啥, 价, 格]  \n",
       "406                                                                                                                                                                                                                                                                                                                                                                                                                                                                              [元, 宝, 购, 买, h, u, o, d, o, n, 包, 子, 和, 令, 牌, 都, 买]  \n",
       "644                                                                                                                                                                                                                                                                                                                                                                                                                                                                                                                  [功, 勋, 私, 聊, 咯]  \n",
       "646                                                                                                                                                                                                                                                                                                                                                                                                                                                                                    [打, 匪, +, 微, ,, 以, 后, 方, 便, 叫, ,, +, <num-9>]  "
      ]
     },
     "execution_count": 43,
     "metadata": {},
     "output_type": "execute_result"
    }
   ],
   "source": [
    "# 广告，误召回\n",
    "\n",
    "df2 = df[(~(df.label==df.pred)) & (df.label==1)]\n",
    "print(df2.shape)\n",
    "df2"
   ]
  }
 ],
 "metadata": {
  "kernelspec": {
   "display_name": "Python 3",
   "language": "python",
   "name": "python3"
  },
  "language_info": {
   "codemirror_mode": {
    "name": "ipython",
    "version": 3
   },
   "file_extension": ".py",
   "mimetype": "text/x-python",
   "name": "python",
   "nbconvert_exporter": "python",
   "pygments_lexer": "ipython3",
   "version": "3.7.9"
  }
 },
 "nbformat": 4,
 "nbformat_minor": 5
}
