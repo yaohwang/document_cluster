{
 "cells": [
  {
   "cell_type": "code",
   "execution_count": null,
   "id": "filled-restoration",
   "metadata": {},
   "outputs": [],
   "source": [
    "import pandas as pd"
   ]
  },
  {
   "cell_type": "code",
   "execution_count": null,
   "id": "complete-surface",
   "metadata": {},
   "outputs": [],
   "source": [
    "pd.set_option('display.max_rows', 10**5)"
   ]
  },
  {
   "cell_type": "markdown",
   "id": "armed-excerpt",
   "metadata": {},
   "source": [
    "# Data"
   ]
  },
  {
   "cell_type": "code",
   "execution_count": null,
   "id": "extreme-rebel",
   "metadata": {},
   "outputs": [],
   "source": [
    "def size_mb(docs):\n",
    "    return sum(len(s.encode('utf-8')) for s in docs) / 1e6"
   ]
  },
  {
   "cell_type": "markdown",
   "id": "indoor-nothing",
   "metadata": {},
   "source": [
    "## load"
   ]
  },
  {
   "cell_type": "code",
   "execution_count": null,
   "id": "congressional-wilson",
   "metadata": {},
   "outputs": [],
   "source": [
    "data_train_1 = pd.read_excel('../data/dataset_ads-20210113-1-labeled.xlsx')\n",
    "data_train_1 = data_train_1[['label', 'content']]\n",
    "data_train_1 = data_train_1.dropna()\n",
    "\n",
    "print(data_train_1.shape)\n",
    "data_train_1.head(3)"
   ]
  },
  {
   "cell_type": "code",
   "execution_count": null,
   "id": "informative-gentleman",
   "metadata": {},
   "outputs": [],
   "source": [
    "data_train_2 = pd.read_excel('../data/dataset_ads-20210311-1-labeled.xlsx')\n",
    "data_train_2 = data_train_2.rename(columns={'text':'content', 'sentiment':'label'}) \n",
    "data_train_2 = data_train_2[['label', 'content']]\n",
    "data_train_2 = data_train_2.dropna()\n",
    "\n",
    "print(data_train_2.shape)\n",
    "data_train_2.head(3)"
   ]
  },
  {
   "cell_type": "code",
   "execution_count": null,
   "id": "cultural-league",
   "metadata": {},
   "outputs": [],
   "source": [
    "# data_test = pd.read_excel('../data/dataset_ads-20210120-1-labeled.xlsx')\n",
    "data_test = pd.read_excel('../data/dataset_ads-20210120-2-labeled.xlsx')\n",
    "data_test = data_test[['label', 'content']]\n",
    "data_test.head(3)"
   ]
  },
  {
   "cell_type": "markdown",
   "id": "romantic-break",
   "metadata": {},
   "source": [
    "## label convert"
   ]
  },
  {
   "cell_type": "code",
   "execution_count": null,
   "id": "metric-qatar",
   "metadata": {},
   "outputs": [],
   "source": [
    "data_train_1.loc[data_train_1.label.isin([1, 9, 24]), 'label'] = 1   # ads\n",
    "data_train_1.loc[~(data_train_1.label==1), 'label'] = 0\n",
    "\n",
    "data_train_1.label.value_counts(normalize=True)"
   ]
  },
  {
   "cell_type": "code",
   "execution_count": null,
   "id": "silver-donna",
   "metadata": {},
   "outputs": [],
   "source": [
    "data_train_2.loc[data_train_2.label.str.startswith('非广告'), 'label'] = 0\n",
    "data_train_2.loc[~(data_train_2.label==0), 'label'] = 1    # ads"
   ]
  },
  {
   "cell_type": "code",
   "execution_count": null,
   "id": "systematic-howard",
   "metadata": {},
   "outputs": [],
   "source": [
    "data_train = pd.concat([data_train_1, data_train_2], axis=0)\n",
    "data_train.label = data_train.label.astype(int)\n",
    "data_train.content = data_train.content.astype(str)\n",
    "data_train.shape"
   ]
  },
  {
   "cell_type": "raw",
   "id": "herbal-profit",
   "metadata": {},
   "source": [
    "data_train = data_train_1"
   ]
  },
  {
   "cell_type": "code",
   "execution_count": null,
   "id": "transparent-bachelor",
   "metadata": {},
   "outputs": [],
   "source": [
    "data_test.loc[data_test.label.isin([1, 9, 24]), 'label'] = 0\n",
    "data_test.loc[~(data_test.label==0), 'label'] = 1\n",
    "data_test.label.value_counts(normalize=True)"
   ]
  },
  {
   "cell_type": "code",
   "execution_count": null,
   "id": "integrated-sleeve",
   "metadata": {},
   "outputs": [],
   "source": [
    "X_train, X_test = data_train.content.tolist(), data_test.content.tolist()\n",
    "y_train, y_test = data_train.label.tolist(), data_test.label.tolist()"
   ]
  },
  {
   "cell_type": "code",
   "execution_count": null,
   "id": "demanding-casting",
   "metadata": {},
   "outputs": [],
   "source": [
    "data_train_size_mb = size_mb(X_train)\n",
    "data_test_size_mb = size_mb(X_test)\n",
    "\n",
    "print(\"%d documents - %0.3fMB (training set)\" % (len(X_train), data_train_size_mb))\n",
    "print(\"%d documents - %0.3fMB (test set)\" % (len(X_test), data_test_size_mb))\n",
    "print()"
   ]
  },
  {
   "cell_type": "markdown",
   "id": "photographic-acrobat",
   "metadata": {},
   "source": [
    "## save"
   ]
  },
  {
   "cell_type": "code",
   "execution_count": null,
   "id": "under-october",
   "metadata": {},
   "outputs": [],
   "source": [
    "%store data_train"
   ]
  },
  {
   "cell_type": "code",
   "execution_count": null,
   "id": "roman-russian",
   "metadata": {
    "scrolled": true
   },
   "outputs": [],
   "source": [
    "%store X_train\n",
    "%store X_test\n",
    "%store y_train\n",
    "%store y_test"
   ]
  },
  {
   "cell_type": "code",
   "execution_count": null,
   "id": "chicken-disclosure",
   "metadata": {},
   "outputs": [],
   "source": [
    "%store data_train_size_mb"
   ]
  }
 ],
 "metadata": {
  "kernelspec": {
   "display_name": "Python 3",
   "language": "python",
   "name": "python3"
  },
  "language_info": {
   "codemirror_mode": {
    "name": "ipython",
    "version": 3
   },
   "file_extension": ".py",
   "mimetype": "text/x-python",
   "name": "python",
   "nbconvert_exporter": "python",
   "pygments_lexer": "ipython3",
   "version": "3.7.9"
  }
 },
 "nbformat": 4,
 "nbformat_minor": 5
}
