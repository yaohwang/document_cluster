{
 "cells": [
  {
   "cell_type": "markdown",
   "metadata": {},
   "source": [
    "ref: [multi-label bert](https://towardsdatascience.com/multi-label-multi-class-text-classification-with-bert-transformer-and-keras-c6355eccb63a)"
   ]
  },
  {
   "cell_type": "code",
   "execution_count": 1,
   "metadata": {},
   "outputs": [],
   "source": [
    "!pip install -i https://mirrors.ustc.edu.cn/pypi/web/simple -q transformers"
   ]
  },
  {
   "cell_type": "code",
   "execution_count": 2,
   "metadata": {},
   "outputs": [],
   "source": [
    "import pandas as pd"
   ]
  },
  {
   "cell_type": "code",
   "execution_count": 3,
   "metadata": {},
   "outputs": [],
   "source": [
    "from sklearn.model_selection import train_test_split\n",
    "\n",
    "# Load Huggingface transformers\n",
    "from transformers import TFBertModel,  BertConfig, BertTokenizerFast\n",
    "\n",
    "# Then what you need from tensorflow.keras\n",
    "from tensorflow.keras.layers import Input, Dropout, Dense\n",
    "from tensorflow.keras.models import Model\n",
    "from tensorflow.keras.optimizers import Adam\n",
    "from tensorflow.keras.callbacks import EarlyStopping\n",
    "from tensorflow.keras.initializers import TruncatedNormal\n",
    "from tensorflow.keras.losses import CategoricalCrossentropy\n",
    "from tensorflow.keras.metrics import CategoricalAccuracy\n",
    "from tensorflow.keras.utils import to_categorical"
   ]
  },
  {
   "cell_type": "markdown",
   "metadata": {},
   "source": [
    "## Data"
   ]
  },
  {
   "cell_type": "markdown",
   "metadata": {},
   "source": [
    "### get"
   ]
  },
  {
   "cell_type": "code",
   "execution_count": 4,
   "metadata": {},
   "outputs": [
    {
     "name": "stdout",
     "output_type": "stream",
     "text": [
      "wget: /data2/wangyh/anaconda3/lib/libuuid.so.1: no version information available (required by wget)\r\n",
      "File ‘./data/complaints.csv.zip’ already there; not retrieving.\r\n",
      "\r\n"
     ]
    }
   ],
   "source": [
    "!wget -nc http://files.consumerfinance.gov/ccdb/complaints.csv.zip -P ./data"
   ]
  },
  {
   "cell_type": "code",
   "execution_count": 5,
   "metadata": {},
   "outputs": [
    {
     "name": "stdout",
     "output_type": "stream",
     "text": [
      "Archive:  ./data/complaints.csv.zip\r\n"
     ]
    }
   ],
   "source": [
    "!unzip -n ./data/complaints.csv.zip -d ./data"
   ]
  },
  {
   "cell_type": "code",
   "execution_count": 6,
   "metadata": {},
   "outputs": [
    {
     "name": "stdout",
     "output_type": "stream",
     "text": [
      "Date received,Product,Sub-product,Issue,Sub-issue,Consumer complaint narrative,Company public response,Company,State,ZIP code,Tags,Consumer consent provided?,Submitted via,Date sent to company,Company response to consumer,Timely response?,Consumer disputed?,Complaint ID\r\n",
      "2019-09-24,Debt collection,I do not know,Attempts to collect debt not owed,Debt is not yours,\"transworld systems inc. \r\n"
     ]
    }
   ],
   "source": [
    "!head -n 2 ./data/complaints.csv"
   ]
  },
  {
   "cell_type": "markdown",
   "metadata": {},
   "source": [
    "### load"
   ]
  },
  {
   "cell_type": "code",
   "execution_count": 7,
   "metadata": {},
   "outputs": [],
   "source": [
    "data = pd.read_csv('./data/complaints.csv')"
   ]
  },
  {
   "cell_type": "markdown",
   "metadata": {},
   "source": [
    "### preprocess"
   ]
  },
  {
   "cell_type": "code",
   "execution_count": 8,
   "metadata": {},
   "outputs": [],
   "source": [
    "data = data[['Consumer complaint narrative', 'Product', 'Issue']]"
   ]
  },
  {
   "cell_type": "code",
   "execution_count": 9,
   "metadata": {},
   "outputs": [],
   "source": [
    "data = data.dropna()"
   ]
  },
  {
   "cell_type": "code",
   "execution_count": 10,
   "metadata": {},
   "outputs": [
    {
     "data": {
      "text/plain": [
       "0                          Attempts to collect debt not owed\n",
       "2                                      Communication tactics\n",
       "12         Problem with a credit reporting company's inve...\n",
       "17                      Incorrect information on your report\n",
       "26                             Struggling to repay your loan\n",
       "                                 ...                        \n",
       "1575204                        Shopping for a line of credit\n",
       "1575407                  Lender damaged or destroyed vehicle\n",
       "1578753                          Managing the line of credit\n",
       "1593458                             Lender sold the property\n",
       "1613542                 Lender damaged or destroyed property\n",
       "Name: Issue, Length: 160, dtype: object"
      ]
     },
     "execution_count": 10,
     "metadata": {},
     "output_type": "execute_result"
    }
   ],
   "source": [
    "data['Issue'].drop_duplicates()"
   ]
  },
  {
   "cell_type": "code",
   "execution_count": 11,
   "metadata": {
    "scrolled": true
   },
   "outputs": [
    {
     "data": {
      "text/html": [
       "<div>\n",
       "<style scoped>\n",
       "    .dataframe tbody tr th:only-of-type {\n",
       "        vertical-align: middle;\n",
       "    }\n",
       "\n",
       "    .dataframe tbody tr th {\n",
       "        vertical-align: top;\n",
       "    }\n",
       "\n",
       "    .dataframe thead th {\n",
       "        text-align: right;\n",
       "    }\n",
       "</style>\n",
       "<table border=\"1\" class=\"dataframe\">\n",
       "  <thead>\n",
       "    <tr style=\"text-align: right;\">\n",
       "      <th></th>\n",
       "      <th>Consumer complaint narrative</th>\n",
       "      <th>Product</th>\n",
       "      <th>Issue</th>\n",
       "      <th>Issue_label</th>\n",
       "      <th>Product_label</th>\n",
       "    </tr>\n",
       "  </thead>\n",
       "  <tbody>\n",
       "    <tr>\n",
       "      <th>0</th>\n",
       "      <td>transworld systems inc. \\nis trying to collect...</td>\n",
       "      <td>Debt collection</td>\n",
       "      <td>Attempts to collect debt not owed</td>\n",
       "      <td>Attempts to collect debt not owed</td>\n",
       "      <td>Debt collection</td>\n",
       "    </tr>\n",
       "  </tbody>\n",
       "</table>\n",
       "</div>"
      ],
      "text/plain": [
       "                        Consumer complaint narrative          Product  \\\n",
       "0  transworld systems inc. \\nis trying to collect...  Debt collection   \n",
       "\n",
       "                               Issue                        Issue_label  \\\n",
       "0  Attempts to collect debt not owed  Attempts to collect debt not owed   \n",
       "\n",
       "     Product_label  \n",
       "0  Debt collection  "
      ]
     },
     "execution_count": 11,
     "metadata": {},
     "output_type": "execute_result"
    }
   ],
   "source": [
    "# Set your model output as categorical and save in new label col\n",
    "data['Issue_label'] = pd.Categorical(data['Issue'])\n",
    "data['Product_label'] = pd.Categorical(data['Product'])\n",
    "data.head(1)"
   ]
  },
  {
   "cell_type": "code",
   "execution_count": 12,
   "metadata": {
    "scrolled": true
   },
   "outputs": [
    {
     "data": {
      "text/html": [
       "<div>\n",
       "<style scoped>\n",
       "    .dataframe tbody tr th:only-of-type {\n",
       "        vertical-align: middle;\n",
       "    }\n",
       "\n",
       "    .dataframe tbody tr th {\n",
       "        vertical-align: top;\n",
       "    }\n",
       "\n",
       "    .dataframe thead th {\n",
       "        text-align: right;\n",
       "    }\n",
       "</style>\n",
       "<table border=\"1\" class=\"dataframe\">\n",
       "  <thead>\n",
       "    <tr style=\"text-align: right;\">\n",
       "      <th></th>\n",
       "      <th>Consumer complaint narrative</th>\n",
       "      <th>Product</th>\n",
       "      <th>Issue</th>\n",
       "      <th>Issue_label</th>\n",
       "      <th>Product_label</th>\n",
       "    </tr>\n",
       "  </thead>\n",
       "  <tbody>\n",
       "    <tr>\n",
       "      <th>0</th>\n",
       "      <td>transworld systems inc. \\nis trying to collect...</td>\n",
       "      <td>7</td>\n",
       "      <td>13</td>\n",
       "      <td>Attempts to collect debt not owed</td>\n",
       "      <td>Debt collection</td>\n",
       "    </tr>\n",
       "  </tbody>\n",
       "</table>\n",
       "</div>"
      ],
      "text/plain": [
       "                        Consumer complaint narrative  Product  Issue  \\\n",
       "0  transworld systems inc. \\nis trying to collect...        7     13   \n",
       "\n",
       "                         Issue_label    Product_label  \n",
       "0  Attempts to collect debt not owed  Debt collection  "
      ]
     },
     "execution_count": 12,
     "metadata": {},
     "output_type": "execute_result"
    }
   ],
   "source": [
    "# Transform your output to numeric\n",
    "data['Issue'] = data['Issue_label'].cat.codes\n",
    "data['Product'] = data['Product_label'].cat.codes\n",
    "data.head(1)"
   ]
  },
  {
   "cell_type": "code",
   "execution_count": 13,
   "metadata": {},
   "outputs": [
    {
     "data": {
      "text/plain": [
       "0           13\n",
       "2           33\n",
       "12         111\n",
       "17          72\n",
       "26         137\n",
       "          ... \n",
       "1575204    132\n",
       "1575407     76\n",
       "1578753     86\n",
       "1593458     78\n",
       "1613542     75\n",
       "Name: Issue, Length: 160, dtype: int16"
      ]
     },
     "execution_count": 13,
     "metadata": {},
     "output_type": "execute_result"
    }
   ],
   "source": [
    "data['Issue'].drop_duplicates()"
   ]
  },
  {
   "cell_type": "markdown",
   "metadata": {},
   "source": [
    "### train & test"
   ]
  },
  {
   "cell_type": "code",
   "execution_count": 14,
   "metadata": {},
   "outputs": [],
   "source": [
    "# TODO: for test only\n",
    "data = data.head(int(6e4))"
   ]
  },
  {
   "cell_type": "code",
   "execution_count": 15,
   "metadata": {},
   "outputs": [],
   "source": [
    "# Remove rows, where the label is present only ones (can't be split)\n",
    "data = data.groupby('Issue').filter(lambda x : len(x) > 1)\n",
    "data = data.groupby('Product').filter(lambda x : len(x) > 1)"
   ]
  },
  {
   "cell_type": "code",
   "execution_count": 16,
   "metadata": {},
   "outputs": [],
   "source": [
    "n_issue = data['Issue'].max() + 1\n",
    "n_product = data['Product'].max() + 1"
   ]
  },
  {
   "cell_type": "code",
   "execution_count": 17,
   "metadata": {},
   "outputs": [],
   "source": [
    "# Split into train and test - stratify over Issue\n",
    "data, data_test = train_test_split(data, test_size = 0.2, stratify = data[['Issue']])"
   ]
  },
  {
   "cell_type": "code",
   "execution_count": 18,
   "metadata": {},
   "outputs": [
    {
     "name": "stdout",
     "output_type": "stream",
     "text": [
      "(47991, 5)\n",
      "(11998, 5)\n"
     ]
    }
   ],
   "source": [
    "print(data.shape)\n",
    "print(data_test.shape)"
   ]
  },
  {
   "cell_type": "code",
   "execution_count": 19,
   "metadata": {},
   "outputs": [
    {
     "name": "stdout",
     "output_type": "stream",
     "text": [
      "(14,)\n",
      "(18,)\n"
     ]
    },
    {
     "data": {
      "text/plain": [
       "6     21974\n",
       "7      9889\n",
       "4      4640\n",
       "10     3790\n",
       "1      2773\n",
       "15     1630\n",
       "16     1162\n",
       "8      1120\n",
       "13      967\n",
       "5        14\n",
       "2        12\n",
       "3         8\n",
       "12        8\n",
       "0         4\n",
       "Name: Product, dtype: int64"
      ]
     },
     "execution_count": 19,
     "metadata": {},
     "output_type": "execute_result"
    }
   ],
   "source": [
    "print(data['Product'].value_counts().shape)\n",
    "print(data['Product_label'].value_counts().shape)\n",
    "\n",
    "data['Product'].value_counts()"
   ]
  },
  {
   "cell_type": "code",
   "execution_count": 20,
   "metadata": {},
   "outputs": [
    {
     "name": "stdout",
     "output_type": "stream",
     "text": [
      "(13,)\n",
      "(18,)\n"
     ]
    }
   ],
   "source": [
    "print(data_test['Product'].value_counts().shape)\n",
    "print(data_test['Product_label'].value_counts().shape)"
   ]
  },
  {
   "cell_type": "markdown",
   "metadata": {},
   "source": [
    "## Model"
   ]
  },
  {
   "cell_type": "markdown",
   "metadata": {},
   "source": [
    "### pretrained"
   ]
  },
  {
   "cell_type": "code",
   "execution_count": 21,
   "metadata": {},
   "outputs": [],
   "source": [
    "# Name of the BERT model to use\n",
    "model_name = 'bert-base-uncased'"
   ]
  },
  {
   "cell_type": "code",
   "execution_count": 22,
   "metadata": {},
   "outputs": [],
   "source": [
    "# Load transformers config and set output_hidden_states to False\n",
    "config = BertConfig.from_pretrained(model_name)\n",
    "config.output_hidden_states = False"
   ]
  },
  {
   "cell_type": "code",
   "execution_count": 23,
   "metadata": {},
   "outputs": [],
   "source": [
    "# Load BERT tokenizer\n",
    "tokenizer = BertTokenizerFast.from_pretrained(pretrained_model_name_or_path = model_name, config = config)"
   ]
  },
  {
   "cell_type": "code",
   "execution_count": 24,
   "metadata": {},
   "outputs": [
    {
     "name": "stderr",
     "output_type": "stream",
     "text": [
      "Some layers from the model checkpoint at bert-base-uncased were not used when initializing TFBertModel: ['nsp___cls', 'mlm___cls']\n",
      "- This IS expected if you are initializing TFBertModel from the checkpoint of a model trained on another task or with another architecture (e.g. initializing a BertForSequenceClassification model from a BertForPreTraining model).\n",
      "- This IS NOT expected if you are initializing TFBertModel from the checkpoint of a model that you expect to be exactly identical (initializing a BertForSequenceClassification model from a BertForSequenceClassification model).\n",
      "All the layers of TFBertModel were initialized from the model checkpoint at bert-base-uncased.\n",
      "If your task is similar to the task the model of the checkpoint was trained on, you can already use TFBertModel for predictions without further training.\n"
     ]
    }
   ],
   "source": [
    "# Load the Transformers BERT model\n",
    "transformer_model = TFBertModel.from_pretrained(model_name, config = config)"
   ]
  },
  {
   "cell_type": "markdown",
   "metadata": {},
   "source": [
    "### classification"
   ]
  },
  {
   "cell_type": "markdown",
   "metadata": {},
   "source": [
    "#### inputs"
   ]
  },
  {
   "cell_type": "code",
   "execution_count": 25,
   "metadata": {},
   "outputs": [],
   "source": [
    "# Max length of tokens\n",
    "max_length = 100"
   ]
  },
  {
   "cell_type": "code",
   "execution_count": 26,
   "metadata": {},
   "outputs": [],
   "source": [
    "# Build your model input\n",
    "input_ids = Input(shape=(max_length,), name='input_ids', dtype='int32')\n",
    "inputs = {'input_ids': input_ids}"
   ]
  },
  {
   "cell_type": "markdown",
   "metadata": {},
   "source": [
    "#### hiddens"
   ]
  },
  {
   "cell_type": "code",
   "execution_count": 27,
   "metadata": {},
   "outputs": [
    {
     "data": {
      "text/plain": [
       "<transformers.models.bert.modeling_tf_bert.TFBertMainLayer at 0x7f5962761e50>"
      ]
     },
     "execution_count": 27,
     "metadata": {},
     "output_type": "execute_result"
    }
   ],
   "source": [
    "# Load the MainLayer\n",
    "bert = transformer_model.layers[0]\n",
    "bert"
   ]
  },
  {
   "cell_type": "code",
   "execution_count": 28,
   "metadata": {},
   "outputs": [],
   "source": [
    "# Load the Transformers BERT model as a layer in a Keras model\n",
    "bert_model = bert(inputs)[1]"
   ]
  },
  {
   "cell_type": "code",
   "execution_count": 29,
   "metadata": {},
   "outputs": [],
   "source": [
    "dropout = Dropout(config.hidden_dropout_prob, name='pooled_output')\n",
    "pooled_output = dropout(bert_model, training=False)"
   ]
  },
  {
   "cell_type": "markdown",
   "metadata": {},
   "source": [
    "#### outputs"
   ]
  },
  {
   "cell_type": "code",
   "execution_count": 30,
   "metadata": {},
   "outputs": [],
   "source": [
    "issue = Dense(\n",
    "    # units=len(data.Issue_label.value_counts()), \n",
    "    # units=len(data.Issue.value_counts()), \n",
    "    units = n_issue,\n",
    "    kernel_initializer=TruncatedNormal(stddev=config.initializer_range), \n",
    "    name='issue')(pooled_output)"
   ]
  },
  {
   "cell_type": "code",
   "execution_count": 31,
   "metadata": {},
   "outputs": [],
   "source": [
    "product = Dense(\n",
    "    # units=len(data.Product_label.value_counts()), \n",
    "    # units=len(data.Product.value_counts()), \n",
    "    units = n_product,\n",
    "    kernel_initializer=TruncatedNormal(stddev=config.initializer_range), \n",
    "    name='product')(pooled_output)"
   ]
  },
  {
   "cell_type": "code",
   "execution_count": 32,
   "metadata": {},
   "outputs": [],
   "source": [
    "# Then build your model output\n",
    "outputs = {'issue': issue, 'product': product}"
   ]
  },
  {
   "cell_type": "markdown",
   "metadata": {},
   "source": [
    "#### model"
   ]
  },
  {
   "cell_type": "code",
   "execution_count": 33,
   "metadata": {},
   "outputs": [],
   "source": [
    "# And combine it all in a model object\n",
    "model = Model(inputs=inputs, outputs=outputs, name='BERT_MultiLabel_MultiClass')"
   ]
  },
  {
   "cell_type": "code",
   "execution_count": 34,
   "metadata": {},
   "outputs": [
    {
     "name": "stdout",
     "output_type": "stream",
     "text": [
      "Model: \"BERT_MultiLabel_MultiClass\"\n",
      "__________________________________________________________________________________________________\n",
      "Layer (type)                    Output Shape         Param #     Connected to                     \n",
      "==================================================================================================\n",
      "input_ids (InputLayer)          [(None, 100)]        0                                            \n",
      "__________________________________________________________________________________________________\n",
      "bert (TFBertMainLayer)          TFBaseModelOutputWit 109482240   input_ids[0][0]                  \n",
      "__________________________________________________________________________________________________\n",
      "pooled_output (Dropout)         (None, 768)          0           bert[0][1]                       \n",
      "__________________________________________________________________________________________________\n",
      "issue (Dense)                   (None, 160)          123040      pooled_output[0][0]              \n",
      "__________________________________________________________________________________________________\n",
      "product (Dense)                 (None, 17)           13073       pooled_output[0][0]              \n",
      "==================================================================================================\n",
      "Total params: 109,618,353\n",
      "Trainable params: 109,618,353\n",
      "Non-trainable params: 0\n",
      "__________________________________________________________________________________________________\n"
     ]
    }
   ],
   "source": [
    "# Take a look at the model\n",
    "model.summary()"
   ]
  },
  {
   "cell_type": "markdown",
   "metadata": {},
   "source": [
    "## Tune"
   ]
  },
  {
   "cell_type": "markdown",
   "metadata": {},
   "source": [
    "### train"
   ]
  },
  {
   "cell_type": "code",
   "execution_count": 35,
   "metadata": {},
   "outputs": [],
   "source": [
    "# Set an optimizer\n",
    "optimizer = Adam(\n",
    "    learning_rate=5e-05,\n",
    "    epsilon=1e-08,\n",
    "    decay=0.01,\n",
    "    clipnorm=1.0)"
   ]
  },
  {
   "cell_type": "code",
   "execution_count": 36,
   "metadata": {},
   "outputs": [],
   "source": [
    "loss = {'issue': CategoricalCrossentropy(from_logits = True), \n",
    "        'product': CategoricalCrossentropy(from_logits = True)}"
   ]
  },
  {
   "cell_type": "code",
   "execution_count": 37,
   "metadata": {},
   "outputs": [],
   "source": [
    "metric = {'issue': CategoricalAccuracy('accuracy'), \n",
    "          'product': CategoricalAccuracy('accuracy')}"
   ]
  },
  {
   "cell_type": "code",
   "execution_count": 38,
   "metadata": {},
   "outputs": [],
   "source": [
    "# Compile the model\n",
    "model.compile(\n",
    "    optimizer = optimizer,\n",
    "    loss = loss, \n",
    "    metrics = metric)"
   ]
  },
  {
   "cell_type": "code",
   "execution_count": 39,
   "metadata": {},
   "outputs": [
    {
     "name": "stdout",
     "output_type": "stream",
     "text": [
      "47991\n",
      "47991\n"
     ]
    }
   ],
   "source": [
    "# Ready output data for the model\n",
    "y_issue = to_categorical(data['Issue'])\n",
    "y_product = to_categorical(data['Product'])\n",
    "\n",
    "print(len(y_issue))\n",
    "y_issue\n",
    "\n",
    "print(len(y_product))"
   ]
  },
  {
   "cell_type": "code",
   "execution_count": 40,
   "metadata": {},
   "outputs": [
    {
     "data": {
      "text/html": [
       "<div>\n",
       "<style scoped>\n",
       "    .dataframe tbody tr th:only-of-type {\n",
       "        vertical-align: middle;\n",
       "    }\n",
       "\n",
       "    .dataframe tbody tr th {\n",
       "        vertical-align: top;\n",
       "    }\n",
       "\n",
       "    .dataframe thead th {\n",
       "        text-align: right;\n",
       "    }\n",
       "</style>\n",
       "<table border=\"1\" class=\"dataframe\">\n",
       "  <thead>\n",
       "    <tr style=\"text-align: right;\">\n",
       "      <th></th>\n",
       "      <th>Consumer complaint narrative</th>\n",
       "      <th>Product</th>\n",
       "      <th>Issue</th>\n",
       "      <th>Issue_label</th>\n",
       "      <th>Product_label</th>\n",
       "    </tr>\n",
       "  </thead>\n",
       "  <tbody>\n",
       "    <tr>\n",
       "      <th>111594</th>\n",
       "      <td>A hospital in XXXX NY ( XXXX ) was trying to c...</td>\n",
       "      <td>7</td>\n",
       "      <td>13</td>\n",
       "      <td>Attempts to collect debt not owed</td>\n",
       "      <td>Debt collection</td>\n",
       "    </tr>\n",
       "  </tbody>\n",
       "</table>\n",
       "</div>"
      ],
      "text/plain": [
       "                             Consumer complaint narrative  Product  Issue  \\\n",
       "111594  A hospital in XXXX NY ( XXXX ) was trying to c...        7     13   \n",
       "\n",
       "                              Issue_label    Product_label  \n",
       "111594  Attempts to collect debt not owed  Debt collection  "
      ]
     },
     "execution_count": 40,
     "metadata": {},
     "output_type": "execute_result"
    }
   ],
   "source": [
    "data.head(1)"
   ]
  },
  {
   "cell_type": "code",
   "execution_count": 41,
   "metadata": {},
   "outputs": [],
   "source": [
    "# Tokenize the input (takes some time)\n",
    "x = tokenizer(\n",
    "    text=data['Consumer complaint narrative'].to_list(),\n",
    "    add_special_tokens=True,\n",
    "    max_length=max_length,\n",
    "    truncation=True,\n",
    "    padding=True, \n",
    "    return_tensors='tf',\n",
    "    return_token_type_ids = False,\n",
    "    return_attention_mask = False,\n",
    "    verbose = True)"
   ]
  },
  {
   "cell_type": "code",
   "execution_count": 42,
   "metadata": {
    "scrolled": false
   },
   "outputs": [
    {
     "name": "stdout",
     "output_type": "stream",
     "text": [
      "Epoch 1/10\n",
      "600/600 [==============================] - 460s 739ms/step - loss: 4.3539 - issue_loss: 3.0347 - product_loss: 1.3192 - issue_accuracy: 0.3057 - product_accuracy: 0.6020 - val_loss: 2.5867 - val_issue_loss: 1.9723 - val_product_loss: 0.6144 - val_issue_accuracy: 0.4662 - val_product_accuracy: 0.8114\n",
      "Epoch 2/10\n",
      "600/600 [==============================] - 442s 736ms/step - loss: 2.5286 - issue_loss: 1.9359 - product_loss: 0.5927 - issue_accuracy: 0.4709 - product_accuracy: 0.8206 - val_loss: 2.3627 - val_issue_loss: 1.8033 - val_product_loss: 0.5594 - val_issue_accuracy: 0.4831 - val_product_accuracy: 0.8306\n",
      "Epoch 3/10\n",
      "600/600 [==============================] - 442s 736ms/step - loss: 2.2633 - issue_loss: 1.7629 - product_loss: 0.5005 - issue_accuracy: 0.4982 - product_accuracy: 0.8525 - val_loss: 2.2702 - val_issue_loss: 1.7343 - val_product_loss: 0.5359 - val_issue_accuracy: 0.4952 - val_product_accuracy: 0.8325\n",
      "Epoch 4/10\n",
      "600/600 [==============================] - 442s 736ms/step - loss: 2.1372 - issue_loss: 1.6715 - product_loss: 0.4657 - issue_accuracy: 0.5136 - product_accuracy: 0.8644 - val_loss: 2.2276 - val_issue_loss: 1.6992 - val_product_loss: 0.5283 - val_issue_accuracy: 0.5034 - val_product_accuracy: 0.8349\n",
      "Epoch 5/10\n",
      "600/600 [==============================] - 441s 736ms/step - loss: 2.0351 - issue_loss: 1.6072 - product_loss: 0.4279 - issue_accuracy: 0.5300 - product_accuracy: 0.8731 - val_loss: 2.1988 - val_issue_loss: 1.6741 - val_product_loss: 0.5247 - val_issue_accuracy: 0.5082 - val_product_accuracy: 0.8368\n",
      "Epoch 6/10\n",
      "600/600 [==============================] - 441s 736ms/step - loss: 2.0023 - issue_loss: 1.5861 - product_loss: 0.4162 - issue_accuracy: 0.5325 - product_accuracy: 0.8773 - val_loss: 2.1846 - val_issue_loss: 1.6591 - val_product_loss: 0.5255 - val_issue_accuracy: 0.5130 - val_product_accuracy: 0.8379\n",
      "Epoch 7/10\n",
      "600/600 [==============================] - 441s 736ms/step - loss: 1.9516 - issue_loss: 1.5500 - product_loss: 0.4016 - issue_accuracy: 0.5409 - product_accuracy: 0.8806 - val_loss: 2.1694 - val_issue_loss: 1.6453 - val_product_loss: 0.5240 - val_issue_accuracy: 0.5168 - val_product_accuracy: 0.8380\n",
      "Epoch 8/10\n",
      "600/600 [==============================] - 441s 736ms/step - loss: 1.9207 - issue_loss: 1.5288 - product_loss: 0.3919 - issue_accuracy: 0.5478 - product_accuracy: 0.8852 - val_loss: 2.1597 - val_issue_loss: 1.6360 - val_product_loss: 0.5237 - val_issue_accuracy: 0.5165 - val_product_accuracy: 0.8384\n",
      "Epoch 9/10\n",
      "600/600 [==============================] - 441s 736ms/step - loss: 1.8882 - issue_loss: 1.5086 - product_loss: 0.3796 - issue_accuracy: 0.5507 - product_accuracy: 0.8894 - val_loss: 2.1589 - val_issue_loss: 1.6311 - val_product_loss: 0.5279 - val_issue_accuracy: 0.5179 - val_product_accuracy: 0.8360\n",
      "Epoch 10/10\n",
      "600/600 [==============================] - 441s 736ms/step - loss: 1.8699 - issue_loss: 1.4954 - product_loss: 0.3745 - issue_accuracy: 0.5553 - product_accuracy: 0.8917 - val_loss: 2.1474 - val_issue_loss: 1.6215 - val_product_loss: 0.5258 - val_issue_accuracy: 0.5220 - val_product_accuracy: 0.8391\n"
     ]
    }
   ],
   "source": [
    "# Fit the model\n",
    "history = model.fit(\n",
    "    x={'input_ids': x['input_ids']},\n",
    "    y={'issue': y_issue, 'product': y_product},\n",
    "    validation_split=0.2,\n",
    "    batch_size=64,\n",
    "    epochs=10)"
   ]
  },
  {
   "cell_type": "markdown",
   "metadata": {},
   "source": [
    "### evaluate"
   ]
  },
  {
   "cell_type": "code",
   "execution_count": 43,
   "metadata": {},
   "outputs": [],
   "source": [
    "# Ready test data\n",
    "test_y_issue = to_categorical(data_test['Issue'])\n",
    "test_y_product = to_categorical(data_test['Product'])\n",
    "test_x = tokenizer(\n",
    "    text=data_test['Consumer complaint narrative'].to_list(),\n",
    "    add_special_tokens=True,\n",
    "    max_length=max_length,\n",
    "    truncation=True,\n",
    "    padding=True, \n",
    "    return_tensors='tf',\n",
    "    return_token_type_ids = False,\n",
    "    return_attention_mask = False,\n",
    "    verbose = True)"
   ]
  },
  {
   "cell_type": "code",
   "execution_count": 44,
   "metadata": {},
   "outputs": [
    {
     "name": "stdout",
     "output_type": "stream",
     "text": [
      "375/375 [==============================] - 44s 116ms/step - loss: 2.1934 - issue_loss: 1.6465 - product_loss: 0.5469 - issue_accuracy: 0.5176 - product_accuracy: 0.8380\n"
     ]
    }
   ],
   "source": [
    "# Run evaluation\n",
    "model_eval = model.evaluate(\n",
    "    x={'input_ids': test_x['input_ids']},\n",
    "    y={'issue': test_y_issue, 'product': test_y_product}\n",
    ")"
   ]
  }
 ],
 "metadata": {
  "kernelspec": {
   "display_name": "Python 3",
   "language": "python",
   "name": "python3"
  },
  "language_info": {
   "codemirror_mode": {
    "name": "ipython",
    "version": 3
   },
   "file_extension": ".py",
   "mimetype": "text/x-python",
   "name": "python",
   "nbconvert_exporter": "python",
   "pygments_lexer": "ipython3",
   "version": "3.7.9"
  }
 },
 "nbformat": 4,
 "nbformat_minor": 4
}
