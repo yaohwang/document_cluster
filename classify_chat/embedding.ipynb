{
 "cells": [
  {
   "cell_type": "code",
   "execution_count": null,
   "id": "australian-makeup",
   "metadata": {},
   "outputs": [],
   "source": [
    "import pickle\n",
    "import numpy as np"
   ]
  },
  {
   "cell_type": "code",
   "execution_count": null,
   "id": "irish-transport",
   "metadata": {},
   "outputs": [],
   "source": [
    "from sklearn.feature_extraction.text import TfidfVectorizer"
   ]
  },
  {
   "cell_type": "code",
   "execution_count": null,
   "id": "biological-compensation",
   "metadata": {},
   "outputs": [],
   "source": [
    "import nbimporter\n",
    "\n",
    "from tokenizer import split2"
   ]
  },
  {
   "cell_type": "code",
   "execution_count": null,
   "id": "encouraging-korean",
   "metadata": {},
   "outputs": [],
   "source": [
    "%run tokenizer.ipynb"
   ]
  },
  {
   "cell_type": "markdown",
   "id": "convinced-delaware",
   "metadata": {},
   "source": [
    "## Load"
   ]
  },
  {
   "cell_type": "code",
   "execution_count": null,
   "id": "international-payment",
   "metadata": {},
   "outputs": [],
   "source": [
    "%store -r X_train\n",
    "%store -r X_test"
   ]
  },
  {
   "cell_type": "markdown",
   "id": "honey-survivor",
   "metadata": {},
   "source": [
    "## Feature"
   ]
  },
  {
   "cell_type": "code",
   "execution_count": null,
   "id": "generous-setup",
   "metadata": {},
   "outputs": [],
   "source": [
    "print(\"Extracting features from the training data using a sparse vectorizer\")\n",
    "\n",
    "t0 = time()\n",
    "\n",
    "vectorizer = TfidfVectorizer(sublinear_tf=True, tokenizer=split2)\n",
    "X_train = vectorizer.fit_transform(X_train)\n",
    "    \n",
    "    \n",
    "duration = time() - t0\n",
    "\n",
    "print(\"done in %fs at %0.3fMB/s\" % (duration, data_train_size_mb / duration))\n",
    "print(\"n_samples: %d, n_features: %d\" % X_train.shape)\n",
    "print()"
   ]
  },
  {
   "cell_type": "code",
   "execution_count": null,
   "id": "bound-literature",
   "metadata": {},
   "outputs": [],
   "source": [
    "print(\"Extracting features from the test data using the same vectorizer\")\n",
    "\n",
    "t0 = time()\n",
    "X_test = vectorizer.transform(X_test)\n",
    "duration = time() - t0\n",
    "\n",
    "print(\"done in %fs at %0.3fMB/s\" % (duration, data_test_size_mb / duration))\n",
    "print(\"n_samples: %d, n_features: %d\" % X_test.shape)\n",
    "print()"
   ]
  },
  {
   "cell_type": "code",
   "execution_count": null,
   "id": "valid-lancaster",
   "metadata": {},
   "outputs": [],
   "source": [
    "with open('./model/ads-detect-1-20200125.emb', 'wb') as f:\n",
    "    pickle.dump(vectorizer, f)"
   ]
  },
  {
   "cell_type": "raw",
   "id": "thick-secret",
   "metadata": {
    "scrolled": true
   },
   "source": [
    "feature_names = vectorizer.get_feature_names()\n",
    "feature_names"
   ]
  },
  {
   "cell_type": "raw",
   "id": "baking-attraction",
   "metadata": {},
   "source": [
    "# get_support(indices=False)\n",
    "# Get a mask, or integer index, of the features selected\n",
    "#\n",
    "# indicesbool, default=False\n",
    "# If True, the return value will be an array of integers, rather than a boolean mask.\n",
    "\n",
    "if opts.select_chi2:\n",
    "    print(\"Extracting %d best features by a chi-squared test\" % opts.select_chi2)\n",
    "    \n",
    "    t0 = time()\n",
    "    \n",
    "    ch2 = SelectKBest(chi2, k=opts.select_chi2)\n",
    "    X_train = ch2.fit_transform(X_train, y_train)\n",
    "    X_test = ch2.transform(X_test)\n",
    "    \n",
    "    if feature_names: feature_names = [feature_names[i] for i in ch2.get_support(indices=True)]\n",
    "        \n",
    "    print(\"done in %fs\" % (time() - t0))\n",
    "    print()"
   ]
  },
  {
   "cell_type": "code",
   "execution_count": null,
   "id": "geographic-endorsement",
   "metadata": {},
   "outputs": [],
   "source": [
    "if feature_names: feature_names = np.asarray(feature_names)"
   ]
  },
  {
   "cell_type": "markdown",
   "id": "tutorial-treasure",
   "metadata": {},
   "source": [
    "## Save"
   ]
  },
  {
   "cell_type": "code",
   "execution_count": null,
   "id": "rough-topic",
   "metadata": {},
   "outputs": [],
   "source": [
    "%store X_train\n",
    "%store X_test"
   ]
  },
  {
   "cell_type": "code",
   "execution_count": null,
   "id": "infrared-isolation",
   "metadata": {},
   "outputs": [],
   "source": [
    "%store feature_names"
   ]
  }
 ],
 "metadata": {
  "kernelspec": {
   "display_name": "Python 3",
   "language": "python",
   "name": "python3"
  },
  "language_info": {
   "codemirror_mode": {
    "name": "ipython",
    "version": 3
   },
   "file_extension": ".py",
   "mimetype": "text/x-python",
   "name": "python",
   "nbconvert_exporter": "python",
   "pygments_lexer": "ipython3",
   "version": "3.7.9"
  }
 },
 "nbformat": 4,
 "nbformat_minor": 5
}
