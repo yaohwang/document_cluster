{
 "cells": [
  {
   "cell_type": "code",
   "execution_count": 1,
   "id": "filled-restoration",
   "metadata": {},
   "outputs": [],
   "source": [
    "import pandas as pd"
   ]
  },
  {
   "cell_type": "code",
   "execution_count": 2,
   "id": "complete-surface",
   "metadata": {},
   "outputs": [],
   "source": [
    "pd.set_option('display.max_rows', 10**5)"
   ]
  },
  {
   "cell_type": "markdown",
   "id": "armed-excerpt",
   "metadata": {},
   "source": [
    "# Data"
   ]
  },
  {
   "cell_type": "code",
   "execution_count": 3,
   "id": "extreme-rebel",
   "metadata": {},
   "outputs": [],
   "source": [
    "def size_mb(docs):\n",
    "    return sum(len(s.encode('utf-8')) for s in docs) / 1e6"
   ]
  },
  {
   "cell_type": "markdown",
   "id": "indoor-nothing",
   "metadata": {},
   "source": [
    "## load"
   ]
  },
  {
   "cell_type": "code",
   "execution_count": 4,
   "id": "congressional-wilson",
   "metadata": {},
   "outputs": [
    {
     "name": "stdout",
     "output_type": "stream",
     "text": [
      "(20000, 2)\n"
     ]
    },
    {
     "data": {
      "text/html": [
       "<div>\n",
       "<style scoped>\n",
       "    .dataframe tbody tr th:only-of-type {\n",
       "        vertical-align: middle;\n",
       "    }\n",
       "\n",
       "    .dataframe tbody tr th {\n",
       "        vertical-align: top;\n",
       "    }\n",
       "\n",
       "    .dataframe thead th {\n",
       "        text-align: right;\n",
       "    }\n",
       "</style>\n",
       "<table border=\"1\" class=\"dataframe\">\n",
       "  <thead>\n",
       "    <tr style=\"text-align: right;\">\n",
       "      <th></th>\n",
       "      <th>label</th>\n",
       "      <th>content</th>\n",
       "    </tr>\n",
       "  </thead>\n",
       "  <tbody>\n",
       "    <tr>\n",
       "      <th>0</th>\n",
       "      <td>1.0</td>\n",
       "      <td>岀赀縁 masonghe86</td>\n",
       "    </tr>\n",
       "    <tr>\n",
       "      <th>1</th>\n",
       "      <td>11.0</td>\n",
       "      <td>九，勾引团里有夫之妇，满脸zhi疮</td>\n",
       "    </tr>\n",
       "    <tr>\n",
       "      <th>2</th>\n",
       "      <td>1.0</td>\n",
       "      <td>53=10w元宝+VIP13+武将+各资源1亿+Q348857676</td>\n",
       "    </tr>\n",
       "  </tbody>\n",
       "</table>\n",
       "</div>"
      ],
      "text/plain": [
       "   label                             content\n",
       "0    1.0                      岀赀縁 masonghe86\n",
       "1   11.0                   九，勾引团里有夫之妇，满脸zhi疮\n",
       "2    1.0  53=10w元宝+VIP13+武将+各资源1亿+Q348857676"
      ]
     },
     "execution_count": 4,
     "metadata": {},
     "output_type": "execute_result"
    }
   ],
   "source": [
    "data_train_1 = pd.read_excel('./data/dataset_ads-20210113-1-labeled.xlsx')\n",
    "data_train_1 = data_train_1[['label', 'content']]\n",
    "data_train_1 = data_train_1.dropna()\n",
    "\n",
    "print(data_train_1.shape)\n",
    "data_train_1.head(3)"
   ]
  },
  {
   "cell_type": "code",
   "execution_count": 5,
   "id": "informative-gentleman",
   "metadata": {},
   "outputs": [
    {
     "name": "stdout",
     "output_type": "stream",
     "text": [
      "(14686, 2)\n"
     ]
    },
    {
     "data": {
      "text/html": [
       "<div>\n",
       "<style scoped>\n",
       "    .dataframe tbody tr th:only-of-type {\n",
       "        vertical-align: middle;\n",
       "    }\n",
       "\n",
       "    .dataframe tbody tr th {\n",
       "        vertical-align: top;\n",
       "    }\n",
       "\n",
       "    .dataframe thead th {\n",
       "        text-align: right;\n",
       "    }\n",
       "</style>\n",
       "<table border=\"1\" class=\"dataframe\">\n",
       "  <thead>\n",
       "    <tr style=\"text-align: right;\">\n",
       "      <th></th>\n",
       "      <th>label</th>\n",
       "      <th>content</th>\n",
       "    </tr>\n",
       "  </thead>\n",
       "  <tbody>\n",
       "    <tr>\n",
       "      <th>0</th>\n",
       "      <td>非广告</td>\n",
       "      <td>\\n\\n为了军团发展和集结攻城，加下军团长微信：867261180来军团群讨论交流，有阵容攻...</td>\n",
       "    </tr>\n",
       "    <tr>\n",
       "      <th>1</th>\n",
       "      <td>非广告</td>\n",
       "      <td>\\n为了军团更好地发展，资源更好地利用，兄弟加微信：①⑦⑥⑨①①③④⑨⑥⑧，领礼包，群里有攻...</td>\n",
       "    </tr>\n",
       "    <tr>\n",
       "      <th>2</th>\n",
       "      <td>非广告</td>\n",
       "      <td>\\n为了军团更好地发展，资源更好地利用，兄弟加微信：①⑦⑥⑨①①③④⑨⑥⑧，领礼包，群里有攻...</td>\n",
       "    </tr>\n",
       "  </tbody>\n",
       "</table>\n",
       "</div>"
      ],
      "text/plain": [
       "  label                                            content\n",
       "0   非广告  \\n\\n为了军团发展和集结攻城，加下军团长微信：867261180来军团群讨论交流，有阵容攻...\n",
       "1   非广告  \\n为了军团更好地发展，资源更好地利用，兄弟加微信：①⑦⑥⑨①①③④⑨⑥⑧，领礼包，群里有攻...\n",
       "2   非广告  \\n为了军团更好地发展，资源更好地利用，兄弟加微信：①⑦⑥⑨①①③④⑨⑥⑧，领礼包，群里有攻..."
      ]
     },
     "execution_count": 5,
     "metadata": {},
     "output_type": "execute_result"
    }
   ],
   "source": [
    "data_train_2 = pd.read_excel('./data/dataset_ads-20210311-1-labeled.xlsx')\n",
    "data_train_2 = data_train_2.rename(columns={'text':'content', 'sentiment':'label'}) \n",
    "data_train_2 = data_train_2[['label', 'content']]\n",
    "data_train_2 = data_train_2.dropna()\n",
    "\n",
    "print(data_train_2.shape)\n",
    "data_train_2.head(3)"
   ]
  },
  {
   "cell_type": "code",
   "execution_count": 6,
   "id": "cultural-league",
   "metadata": {},
   "outputs": [
    {
     "data": {
      "text/html": [
       "<div>\n",
       "<style scoped>\n",
       "    .dataframe tbody tr th:only-of-type {\n",
       "        vertical-align: middle;\n",
       "    }\n",
       "\n",
       "    .dataframe tbody tr th {\n",
       "        vertical-align: top;\n",
       "    }\n",
       "\n",
       "    .dataframe thead th {\n",
       "        text-align: right;\n",
       "    }\n",
       "</style>\n",
       "<table border=\"1\" class=\"dataframe\">\n",
       "  <thead>\n",
       "    <tr style=\"text-align: right;\">\n",
       "      <th></th>\n",
       "      <th>label</th>\n",
       "      <th>content</th>\n",
       "    </tr>\n",
       "  </thead>\n",
       "  <tbody>\n",
       "    <tr>\n",
       "      <th>0</th>\n",
       "      <td>2</td>\n",
       "      <td>为了军团更好地发展，资源更好地利用，大家一起作战，兄弟加微信：svip12126，组织打城，...</td>\n",
       "    </tr>\n",
       "    <tr>\n",
       "      <th>1</th>\n",
       "      <td>2</td>\n",
       "      <td>无兄弟，不三国195新区即将来至大佬带队，要去的可私聊我霸服了团长送老婆十对</td>\n",
       "    </tr>\n",
       "    <tr>\n",
       "      <th>2</th>\n",
       "      <td>1</td>\n",
       "      <td>全/脫/小/妹/针.人视频1对1/Q Q：2332287921</td>\n",
       "    </tr>\n",
       "  </tbody>\n",
       "</table>\n",
       "</div>"
      ],
      "text/plain": [
       "   label                                            content\n",
       "0      2  为了军团更好地发展，资源更好地利用，大家一起作战，兄弟加微信：svip12126，组织打城，...\n",
       "1      2             无兄弟，不三国195新区即将来至大佬带队，要去的可私聊我霸服了团长送老婆十对\n",
       "2      1                    全/脫/小/妹/针.人视频1对1/Q Q：2332287921"
      ]
     },
     "execution_count": 6,
     "metadata": {},
     "output_type": "execute_result"
    }
   ],
   "source": [
    "# data_test = pd.read_excel('./data/dataset_ads-20210120-1-labeled.xlsx')\n",
    "data_test = pd.read_excel('./data/dataset_ads-20210120-2-labeled.xlsx')\n",
    "data_test = data_test[['label', 'content']]\n",
    "data_test.head(3)"
   ]
  },
  {
   "cell_type": "markdown",
   "id": "romantic-break",
   "metadata": {},
   "source": [
    "## label convert"
   ]
  },
  {
   "cell_type": "code",
   "execution_count": 7,
   "id": "metric-qatar",
   "metadata": {},
   "outputs": [
    {
     "data": {
      "text/plain": [
       " 1.0    0.805\n",
       "-1.0    0.195\n",
       "Name: label, dtype: float64"
      ]
     },
     "execution_count": 7,
     "metadata": {},
     "output_type": "execute_result"
    }
   ],
   "source": [
    "data_train_1.loc[data_train_1.label.isin([1, 9, 24]), 'label'] = -1   # ads\n",
    "data_train_1.loc[~(data_train_1.label==-1), 'label'] = 1\n",
    "\n",
    "data_train_1.label.value_counts(normalize=True)"
   ]
  },
  {
   "cell_type": "code",
   "execution_count": 8,
   "id": "silver-donna",
   "metadata": {},
   "outputs": [],
   "source": [
    "data_train_2.loc[data_train_2.label.str.startswith('非广告'), 'label'] = 1\n",
    "data_train_2.loc[~(data_train_2.label==1), 'label'] = -1    # ads"
   ]
  },
  {
   "cell_type": "code",
   "execution_count": null,
   "id": "systematic-howard",
   "metadata": {},
   "outputs": [],
   "source": [
    "data_train = pd.concat([data_train_1, data_train_2], axis=0)\n",
    "data_train.label = data_train.label.astype(int)\n",
    "data_train.content = data_train.content.astype(str)\n",
    "data_train.shape"
   ]
  },
  {
   "cell_type": "raw",
   "id": "herbal-profit",
   "metadata": {},
   "source": [
    "data_train = data_train_1"
   ]
  },
  {
   "cell_type": "code",
   "execution_count": null,
   "id": "transparent-bachelor",
   "metadata": {},
   "outputs": [],
   "source": [
    "data_test.loc[data_test.label.isin([1, 9, 24]), 'label'] = -1\n",
    "data_test.loc[~(data_test.label==-1), 'label'] = 1\n",
    "data_test.label.value_counts(normalize=True)"
   ]
  },
  {
   "cell_type": "code",
   "execution_count": null,
   "id": "integrated-sleeve",
   "metadata": {},
   "outputs": [],
   "source": [
    "X_train, X_test = data_train.content, data_test.content\n",
    "y_train, y_test = data_train.label.tolist(), data_test.label.tolist()"
   ]
  },
  {
   "cell_type": "code",
   "execution_count": null,
   "id": "demanding-casting",
   "metadata": {},
   "outputs": [],
   "source": [
    "data_train_size_mb = size_mb(X_train)\n",
    "data_test_size_mb = size_mb(X_test)\n",
    "\n",
    "print(\"%d documents - %0.3fMB (training set)\" % (len(X_train), data_train_size_mb))\n",
    "print(\"%d documents - %0.3fMB (test set)\" % (len(X_test), data_test_size_mb))\n",
    "print()"
   ]
  },
  {
   "cell_type": "markdown",
   "id": "photographic-acrobat",
   "metadata": {},
   "source": [
    "## save"
   ]
  },
  {
   "cell_type": "code",
   "execution_count": null,
   "id": "under-october",
   "metadata": {},
   "outputs": [],
   "source": [
    "%store data_train"
   ]
  },
  {
   "cell_type": "code",
   "execution_count": null,
   "id": "roman-russian",
   "metadata": {
    "scrolled": true
   },
   "outputs": [],
   "source": [
    "%store X_train\n",
    "%store X_test\n",
    "%store y_train\n",
    "%store y_test"
   ]
  },
  {
   "cell_type": "code",
   "execution_count": null,
   "id": "chicken-disclosure",
   "metadata": {},
   "outputs": [],
   "source": [
    "%store data_train_size_mb"
   ]
  }
 ],
 "metadata": {
  "kernelspec": {
   "display_name": "Python 3",
   "language": "python",
   "name": "python3"
  },
  "language_info": {
   "codemirror_mode": {
    "name": "ipython",
    "version": 3
   },
   "file_extension": ".py",
   "mimetype": "text/x-python",
   "name": "python",
   "nbconvert_exporter": "python",
   "pygments_lexer": "ipython3",
   "version": "3.7.9"
  }
 },
 "nbformat": 4,
 "nbformat_minor": 5
}
