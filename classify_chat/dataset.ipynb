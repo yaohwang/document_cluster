{
 "cells": [
  {
   "cell_type": "code",
   "execution_count": null,
   "id": "prepared-arrow",
   "metadata": {},
   "outputs": [],
   "source": [
    "import pandas as pd"
   ]
  },
  {
   "cell_type": "markdown",
   "id": "ruled-clock",
   "metadata": {},
   "source": [
    "# Data"
   ]
  },
  {
   "cell_type": "code",
   "execution_count": null,
   "id": "sunset-pearl",
   "metadata": {},
   "outputs": [],
   "source": [
    "def size_mb(docs):\n",
    "    return sum(len(s.encode('utf-8')) for s in docs) / 1e6"
   ]
  },
  {
   "cell_type": "markdown",
   "id": "alike-designation",
   "metadata": {},
   "source": [
    "## load"
   ]
  },
  {
   "cell_type": "code",
   "execution_count": null,
   "id": "potential-concept",
   "metadata": {},
   "outputs": [],
   "source": [
    "data_train = pd.read_excel('./data/dataset_ads-20210113-1-labeled.xlsx')\n",
    "data_train = data_train[['label', 'content']]\n",
    "data_train = data_train.dropna()\n",
    "\n",
    "print(data_train.shape)\n",
    "data_train.head(3)"
   ]
  },
  {
   "cell_type": "code",
   "execution_count": null,
   "id": "maritime-given",
   "metadata": {},
   "outputs": [],
   "source": [
    "data_test = pd.read_excel('./data/dataset_ads-20210120-1-labeled.xlsx')\n",
    "data_test = data_test[['label', 'content']]\n",
    "data_test.head(3)"
   ]
  },
  {
   "cell_type": "markdown",
   "id": "demonstrated-straight",
   "metadata": {},
   "source": [
    "## label convert"
   ]
  },
  {
   "cell_type": "code",
   "execution_count": null,
   "id": "intense-illness",
   "metadata": {},
   "outputs": [],
   "source": [
    "data_train.loc[data_train.label.isin([1, 9, 24]), 'label'] = -1   # ads\n",
    "data_train.loc[~(data_train.label==-1), 'label'] = 1\n",
    "\n",
    "data_train.label.value_counts(normalize=True)"
   ]
  },
  {
   "cell_type": "code",
   "execution_count": null,
   "id": "running-kentucky",
   "metadata": {},
   "outputs": [],
   "source": [
    "data_test.loc[data_test.label.isin([1, 9, 24]), 'label'] = -1\n",
    "data_test.loc[~(data_test.label==-1), 'label'] = 1\n",
    "data_test.label.value_counts(normalize=True)"
   ]
  },
  {
   "cell_type": "code",
   "execution_count": null,
   "id": "danish-cleaners",
   "metadata": {},
   "outputs": [],
   "source": [
    "X_train, X_test = data_train.content, data_test.content\n",
    "y_train, y_test = data_train.label.tolist(), data_test.label.tolist()"
   ]
  },
  {
   "cell_type": "code",
   "execution_count": null,
   "id": "overhead-portland",
   "metadata": {},
   "outputs": [],
   "source": [
    "data_train_size_mb = size_mb(X_train)\n",
    "data_test_size_mb = size_mb(X_test)\n",
    "\n",
    "print(\"%d documents - %0.3fMB (training set)\" % (len(X_train), data_train_size_mb))\n",
    "print(\"%d documents - %0.3fMB (test set)\" % (len(X_test), data_test_size_mb))\n",
    "print()"
   ]
  },
  {
   "cell_type": "markdown",
   "id": "adequate-nothing",
   "metadata": {},
   "source": [
    "## save"
   ]
  },
  {
   "cell_type": "code",
   "execution_count": null,
   "id": "separated-interim",
   "metadata": {},
   "outputs": [],
   "source": [
    "%store data_train"
   ]
  },
  {
   "cell_type": "code",
   "execution_count": null,
   "id": "sonic-canadian",
   "metadata": {
    "scrolled": true
   },
   "outputs": [],
   "source": [
    "%store X_train\n",
    "%store X_test\n",
    "%store y_train\n",
    "%store y_test"
   ]
  },
  {
   "cell_type": "code",
   "execution_count": null,
   "id": "parental-medicine",
   "metadata": {},
   "outputs": [],
   "source": [
    "%store data_train_size_mb"
   ]
  }
 ],
 "metadata": {
  "kernelspec": {
   "display_name": "Python 3",
   "language": "python",
   "name": "python3"
  },
  "language_info": {
   "codemirror_mode": {
    "name": "ipython",
    "version": 3
   },
   "file_extension": ".py",
   "mimetype": "text/x-python",
   "name": "python",
   "nbconvert_exporter": "python",
   "pygments_lexer": "ipython3",
   "version": "3.7.9"
  }
 },
 "nbformat": 4,
 "nbformat_minor": 5
}
