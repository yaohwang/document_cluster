{
 "cells": [
  {
   "cell_type": "code",
   "execution_count": 1,
   "id": "positive-essex",
   "metadata": {
    "execution": {
     "iopub.execute_input": "2021-04-06T10:18:04.191122Z",
     "iopub.status.busy": "2021-04-06T10:18:04.190212Z",
     "iopub.status.idle": "2021-04-06T10:18:05.243962Z",
     "shell.execute_reply": "2021-04-06T10:18:05.243366Z"
    }
   },
   "outputs": [],
   "source": [
    "import os\n",
    "import json\n",
    "import math\n",
    "import torch\n",
    "import pickle\n",
    "import shutil\n",
    "import transformers\n",
    "\n",
    "import numpy as np\n",
    "import pandas as pd"
   ]
  },
  {
   "cell_type": "code",
   "execution_count": 2,
   "id": "explicit-yield",
   "metadata": {
    "execution": {
     "iopub.execute_input": "2021-04-06T10:18:05.248086Z",
     "iopub.status.busy": "2021-04-06T10:18:05.247601Z",
     "iopub.status.idle": "2021-04-06T10:18:05.249478Z",
     "shell.execute_reply": "2021-04-06T10:18:05.249870Z"
    }
   },
   "outputs": [],
   "source": [
    "from pathlib import Path\n",
    "from itertools import chain\n",
    "from tqdm import tqdm\n",
    "from datetime import datetime\n",
    "from datetime import timedelta"
   ]
  },
  {
   "cell_type": "code",
   "execution_count": 3,
   "id": "allied-fields",
   "metadata": {
    "execution": {
     "iopub.execute_input": "2021-04-06T10:18:05.254060Z",
     "iopub.status.busy": "2021-04-06T10:18:05.253269Z",
     "iopub.status.idle": "2021-04-06T10:18:05.599816Z",
     "shell.execute_reply": "2021-04-06T10:18:05.599249Z"
    }
   },
   "outputs": [],
   "source": [
    "from sklearn import metrics\n",
    "from sklearn.preprocessing import MultiLabelBinarizer\n",
    "from sklearn.metrics import classification_report\n",
    "\n",
    "from torch.utils.data import Dataset\n",
    "from torch.utils.data import DataLoader\n",
    "\n",
    "from transformers import BertTokenizer\n",
    "from transformers import BertModel"
   ]
  },
  {
   "cell_type": "code",
   "execution_count": 4,
   "id": "biological-cooking",
   "metadata": {
    "execution": {
     "iopub.execute_input": "2021-04-06T10:18:05.610955Z",
     "iopub.status.busy": "2021-04-06T10:18:05.610450Z",
     "iopub.status.idle": "2021-04-06T10:18:05.612732Z",
     "shell.execute_reply": "2021-04-06T10:18:05.613135Z"
    }
   },
   "outputs": [],
   "source": [
    "from torch import cuda\n",
    "device = 'cuda' if cuda.is_available() else 'cpu'"
   ]
  },
  {
   "cell_type": "code",
   "execution_count": 5,
   "id": "prescription-merchandise",
   "metadata": {
    "execution": {
     "iopub.execute_input": "2021-04-06T10:18:05.617379Z",
     "iopub.status.busy": "2021-04-06T10:18:05.616901Z",
     "iopub.status.idle": "2021-04-06T10:18:19.926865Z",
     "shell.execute_reply": "2021-04-06T10:18:19.927298Z"
    }
   },
   "outputs": [
    {
     "name": "stdout",
     "output_type": "stream",
     "text": [
      "Importing Jupyter notebook from model.ipynb\n",
      "Importing Jupyter notebook from flow.ipynb\n",
      "Importing Jupyter notebook from dataset.ipynb\n"
     ]
    },
    {
     "name": "stderr",
     "output_type": "stream",
     "text": [
      "2021-04-08 18:41:54 DEBUG Starting new HTTPS connection (1): huggingface.co:443\n",
      "2021-04-08 18:41:54 DEBUG https://huggingface.co:443 \"HEAD /xlm-roberta-base/resolve/main/config.json HTTP/1.1\" 200 0\n",
      "2021-04-08 18:41:54 DEBUG Starting new HTTPS connection (1): huggingface.co:443\n",
      "2021-04-08 18:41:55 DEBUG https://huggingface.co:443 \"HEAD /xlm-roberta-base/resolve/main/sentencepiece.bpe.model HTTP/1.1\" 200 0\n",
      "2021-04-08 18:41:55 DEBUG Starting new HTTPS connection (1): huggingface.co:443\n",
      "2021-04-08 18:41:56 DEBUG https://huggingface.co:443 \"HEAD /xlm-roberta-base/resolve/main/tokenizer.json HTTP/1.1\" 200 0\n",
      "Building model \u001b[5m\u001b[33m...\u001b[0m\u001b[0m2021-04-08 18:41:56 DEBUG Starting new HTTPS connection (1): huggingface.co:443\n",
      "2021-04-08 18:41:57 DEBUG https://huggingface.co:443 \"HEAD /xlm-roberta-base/resolve/main/config.json HTTP/1.1\" 200 0\n",
      "2021-04-08 18:41:58 DEBUG Starting new HTTPS connection (1): huggingface.co:443\n",
      "2021-04-08 18:41:58 DEBUG https://huggingface.co:443 \"HEAD /xlm-roberta-base/resolve/main/config.json HTTP/1.1\" 200 0\n",
      "Moving model to GPUs [0] \u001b[5m\u001b[33m...\u001b[0m\u001b[                          \r"
     ]
    }
   ],
   "source": [
    "import nbimporter\n",
    "\n",
    "from model import BERTClass\n",
    "from model import loss_fn\n",
    "from model import validation\n",
    "from model import train\n",
    "from model import evaluate\n",
    "\n",
    "from flow import clean\n",
    "from flow import load_or_create_model\n",
    "from flow import create_or_update_best\n",
    "from flow import load_best\n",
    "from flow import create_or_update_last\n",
    "\n",
    "from flow import create_or_update_loss\n",
    "from flow import plot_loss\n",
    "from flow import load_or_create_acc_epoch\n",
    "\n",
    "from dataset import get_dataset"
   ]
  },
  {
   "cell_type": "code",
   "execution_count": 6,
   "id": "hundred-proceeding",
   "metadata": {
    "execution": {
     "iopub.execute_input": "2021-04-06T10:18:19.931779Z",
     "iopub.status.busy": "2021-04-06T10:18:19.931292Z",
     "iopub.status.idle": "2021-04-06T10:18:24.291782Z",
     "shell.execute_reply": "2021-04-06T10:18:24.291343Z"
    }
   },
   "outputs": [
    {
     "name": "stdout",
     "output_type": "stream",
     "text": [
      "(20000, 2)\n",
      "(14686, 2)\n",
      "34686 documents - 1.595MB (training set)\n",
      "1017 documents - 0.061MB (test set)\n",
      "\n",
      "Stored 'data_train' (DataFrame)\n",
      "Stored 'X_train' (list)\n",
      "Stored 'X_test' (list)\n",
      "Stored 'y_train' (list)\n",
      "Stored 'y_test' (list)\n",
      "Stored 'data_train_size_mb' (float)\n"
     ]
    }
   ],
   "source": [
    "%run data.ipynb"
   ]
  },
  {
   "cell_type": "code",
   "execution_count": 7,
   "id": "conscious-photographer",
   "metadata": {
    "execution": {
     "iopub.execute_input": "2021-04-06T10:18:24.301007Z",
     "iopub.status.busy": "2021-04-06T10:18:24.299159Z",
     "iopub.status.idle": "2021-04-06T10:18:24.303673Z",
     "shell.execute_reply": "2021-04-06T10:18:24.304038Z"
    }
   },
   "outputs": [
    {
     "data": {
      "text/plain": [
       "datetime.datetime(2021, 4, 9, 7, 30)"
      ]
     },
     "execution_count": 7,
     "metadata": {},
     "output_type": "execute_result"
    }
   ],
   "source": [
    "tomorrow = datetime.now() + timedelta(days=1)\n",
    "tomorrow_morning = tomorrow.replace(hour=7, minute=30, second=0, microsecond=0)\n",
    "tomorrow_morning"
   ]
  },
  {
   "cell_type": "code",
   "execution_count": 8,
   "id": "equal-senegal",
   "metadata": {
    "execution": {
     "iopub.execute_input": "2021-04-06T10:18:24.307770Z",
     "iopub.status.busy": "2021-04-06T10:18:24.307123Z",
     "iopub.status.idle": "2021-04-06T10:18:24.309842Z",
     "shell.execute_reply": "2021-04-06T10:18:24.310214Z"
    }
   },
   "outputs": [
    {
     "data": {
      "text/plain": [
       "datetime.datetime(2021, 4, 8, 18, 0)"
      ]
     },
     "execution_count": 8,
     "metadata": {},
     "output_type": "execute_result"
    }
   ],
   "source": [
    "today = datetime.now()\n",
    "today_afternoon = today.replace(hour=18, minute=0, second=0, microsecond=0)\n",
    "today_afternoon"
   ]
  },
  {
   "cell_type": "markdown",
   "id": "latest-combination",
   "metadata": {},
   "source": [
    "## Data"
   ]
  },
  {
   "cell_type": "code",
   "execution_count": 9,
   "id": "decimal-hughes",
   "metadata": {
    "execution": {
     "iopub.execute_input": "2021-04-06T10:18:24.313204Z",
     "iopub.status.busy": "2021-04-06T10:18:24.312730Z",
     "iopub.status.idle": "2021-04-06T10:18:24.315872Z",
     "shell.execute_reply": "2021-04-06T10:18:24.315454Z"
    }
   },
   "outputs": [],
   "source": [
    "# MAX_LEN = 128\n",
    "# MAX_LEN = int(mu_1std)\n",
    "MAX_LEN = 512"
   ]
  },
  {
   "cell_type": "code",
   "execution_count": 10,
   "id": "clean-colors",
   "metadata": {
    "execution": {
     "iopub.execute_input": "2021-04-06T10:18:24.318862Z",
     "iopub.status.busy": "2021-04-06T10:18:24.318270Z",
     "iopub.status.idle": "2021-04-06T10:18:24.320240Z",
     "shell.execute_reply": "2021-04-06T10:18:24.320606Z"
    }
   },
   "outputs": [],
   "source": [
    "model_name = 'hfl/chinese-roberta-wwm-ext'"
   ]
  },
  {
   "cell_type": "code",
   "execution_count": 11,
   "id": "muslim-analysis",
   "metadata": {
    "execution": {
     "iopub.execute_input": "2021-04-06T10:18:24.325752Z",
     "iopub.status.busy": "2021-04-06T10:18:24.325049Z",
     "iopub.status.idle": "2021-04-06T10:18:24.339887Z",
     "shell.execute_reply": "2021-04-06T10:18:24.338123Z"
    }
   },
   "outputs": [],
   "source": [
    "%store -r X_train\n",
    "%store -r y_train\n",
    "%store -r X_test\n",
    "%store -r y_test"
   ]
  },
  {
   "cell_type": "raw",
   "id": "electoral-scholar",
   "metadata": {
    "execution": {
     "iopub.execute_input": "2021-04-06T10:15:31.709561Z",
     "iopub.status.busy": "2021-04-06T10:15:31.709088Z",
     "iopub.status.idle": "2021-04-06T10:15:31.711569Z",
     "shell.execute_reply": "2021-04-06T10:15:31.711068Z"
    }
   },
   "source": [
    "n = 16 * 10\n",
    "\n",
    "X_train = X_train[:n]\n",
    "y_train = y_train[:n]"
   ]
  },
  {
   "cell_type": "code",
   "execution_count": 12,
   "id": "duplicate-walter",
   "metadata": {
    "execution": {
     "iopub.execute_input": "2021-04-06T10:18:24.345165Z",
     "iopub.status.busy": "2021-04-06T10:18:24.343751Z",
     "iopub.status.idle": "2021-04-06T10:18:27.481333Z",
     "shell.execute_reply": "2021-04-06T10:18:27.481768Z"
    }
   },
   "outputs": [
    {
     "name": "stderr",
     "output_type": "stream",
     "text": [
      "2021-04-08 18:42:12 DEBUG Starting new HTTPS connection (1): huggingface.co:443\n",
      "2021-04-08 18:42:13 DEBUG https://huggingface.co:443 \"HEAD /hfl/chinese-roberta-wwm-ext/resolve/main/vocab.txt HTTP/1.1\" 200 0\n",
      "2021-04-08 18:42:13 DEBUG Starting new HTTPS connection (1): huggingface.co:443\n",
      "2021-04-08 18:42:14 DEBUG https://huggingface.co:443 \"HEAD /hfl/chinese-roberta-wwm-ext/resolve/main/added_tokens.json HTTP/1.1\" 200 0\n",
      "2021-04-08 18:42:14 DEBUG Starting new HTTPS connection (1): huggingface.co:443\n",
      "2021-04-08 18:42:14 DEBUG https://huggingface.co:443 \"HEAD /hfl/chinese-roberta-wwm-ext/resolve/main/special_tokens_map.json HTTP/1.1\" 200 0\n",
      "2021-04-08 18:42:14 DEBUG Starting new HTTPS connection (1): huggingface.co:443\n",
      "2021-04-08 18:42:15 DEBUG https://huggingface.co:443 \"HEAD /hfl/chinese-roberta-wwm-ext/resolve/main/tokenizer_config.json HTTP/1.1\" 200 0\n",
      "2021-04-08 18:42:15 DEBUG Starting new HTTPS connection (1): huggingface.co:443\n",
      "2021-04-08 18:42:15 DEBUG https://huggingface.co:443 \"HEAD /hfl/chinese-roberta-wwm-ext/resolve/main/tokenizer.json HTTP/1.1\" 200 0\n"
     ]
    }
   ],
   "source": [
    "training_set, testing_set = get_dataset(model_name, X_train, y_train, X_test, y_test, MAX_LEN)"
   ]
  },
  {
   "cell_type": "markdown",
   "id": "classical-grade",
   "metadata": {},
   "source": [
    "## Model"
   ]
  },
  {
   "cell_type": "code",
   "execution_count": 13,
   "id": "thermal-bahamas",
   "metadata": {
    "execution": {
     "iopub.execute_input": "2021-04-06T10:18:27.485924Z",
     "iopub.status.busy": "2021-04-06T10:18:27.485443Z",
     "iopub.status.idle": "2021-04-06T10:18:27.487529Z",
     "shell.execute_reply": "2021-04-06T10:18:27.487923Z"
    }
   },
   "outputs": [],
   "source": [
    "first_round = True"
   ]
  },
  {
   "cell_type": "code",
   "execution_count": 14,
   "id": "fancy-transaction",
   "metadata": {
    "execution": {
     "iopub.execute_input": "2021-04-06T10:18:27.491247Z",
     "iopub.status.busy": "2021-04-06T10:18:27.490763Z",
     "iopub.status.idle": "2021-04-06T10:18:27.492840Z",
     "shell.execute_reply": "2021-04-06T10:18:27.493244Z"
    }
   },
   "outputs": [],
   "source": [
    "flag = model_name"
   ]
  },
  {
   "cell_type": "code",
   "execution_count": 15,
   "id": "rough-organ",
   "metadata": {
    "execution": {
     "iopub.execute_input": "2021-04-06T10:18:27.496724Z",
     "iopub.status.busy": "2021-04-06T10:18:27.496256Z",
     "iopub.status.idle": "2021-04-06T10:18:27.498629Z",
     "shell.execute_reply": "2021-04-06T10:18:27.498186Z"
    }
   },
   "outputs": [],
   "source": [
    "path_model = os.path.join('./.model', flag)"
   ]
  },
  {
   "cell_type": "code",
   "execution_count": 16,
   "id": "interpreted-guyana",
   "metadata": {
    "execution": {
     "iopub.execute_input": "2021-04-06T10:18:27.501726Z",
     "iopub.status.busy": "2021-04-06T10:18:27.501261Z",
     "iopub.status.idle": "2021-04-06T10:18:27.503218Z",
     "shell.execute_reply": "2021-04-06T10:18:27.503581Z"
    }
   },
   "outputs": [],
   "source": [
    "# deadline = tomorrow_morning\n",
    "# deadline = today_afternoon\n",
    "deadline = today_afternoon if today_afternoon > datetime.now() else tomorrow_morning"
   ]
  },
  {
   "cell_type": "code",
   "execution_count": 17,
   "id": "distant-dallas",
   "metadata": {
    "execution": {
     "iopub.execute_input": "2021-04-06T10:18:27.507354Z",
     "iopub.status.busy": "2021-04-06T10:18:27.506601Z",
     "iopub.status.idle": "2021-04-06T10:18:27.509608Z",
     "shell.execute_reply": "2021-04-06T10:18:27.509996Z"
    }
   },
   "outputs": [
    {
     "name": "stderr",
     "output_type": "stream",
     "text": [
      "flow.ipynb:3: UserWarning: 1st round, path ./.model/hfl/chinese-roberta-wwm-ext will be removed if exists!\n",
      "  {\n"
     ]
    }
   ],
   "source": [
    "# TODO: for test only\n",
    "# TODO: by param\n",
    "# !rm -rf model/chinese-roberta-wwm-ext\n",
    "\n",
    "clean(flag, first_round)"
   ]
  },
  {
   "cell_type": "code",
   "execution_count": 18,
   "id": "amino-partnership",
   "metadata": {
    "execution": {
     "iopub.execute_input": "2021-04-06T10:18:27.513217Z",
     "iopub.status.busy": "2021-04-06T10:18:27.512736Z",
     "iopub.status.idle": "2021-04-06T10:18:27.515124Z",
     "shell.execute_reply": "2021-04-06T10:18:27.514723Z"
    }
   },
   "outputs": [],
   "source": [
    "# HOURS = 4\n",
    "MINUTES_EACH_EPOCH = 32"
   ]
  },
  {
   "cell_type": "code",
   "execution_count": 19,
   "id": "optical-granny",
   "metadata": {
    "execution": {
     "iopub.execute_input": "2021-04-06T10:18:27.518868Z",
     "iopub.status.busy": "2021-04-06T10:18:27.518367Z",
     "iopub.status.idle": "2021-04-06T10:18:27.520901Z",
     "shell.execute_reply": "2021-04-06T10:18:27.521271Z"
    }
   },
   "outputs": [
    {
     "data": {
      "text/plain": [
       "23"
      ]
     },
     "execution_count": 19,
     "metadata": {},
     "output_type": "execute_result"
    }
   ],
   "source": [
    "# EPOCHS = 2 # int(HOURS * 60 / 25)\n",
    "# EPOCHS = 2\n",
    "EPOCHS = int((deadline-datetime.now()).seconds / 60 / MINUTES_EACH_EPOCH)\n",
    "EPOCHS"
   ]
  },
  {
   "cell_type": "code",
   "execution_count": 20,
   "id": "adult-parent",
   "metadata": {
    "execution": {
     "iopub.execute_input": "2021-04-06T10:18:27.525058Z",
     "iopub.status.busy": "2021-04-06T10:18:27.524580Z",
     "iopub.status.idle": "2021-04-06T10:18:27.527153Z",
     "shell.execute_reply": "2021-04-06T10:18:27.526676Z"
    }
   },
   "outputs": [],
   "source": [
    "TRAIN_BATCH_SIZE = 16 # 4\n",
    "VALID_BATCH_SIZE = TRAIN_BATCH_SIZE # 4 # 8 # 4\n",
    "\n",
    "LEARNING_RATE = 1e-05"
   ]
  },
  {
   "cell_type": "code",
   "execution_count": 21,
   "id": "radio-values",
   "metadata": {
    "colab": {},
    "colab_type": "code",
    "execution": {
     "iopub.execute_input": "2021-04-06T10:18:27.531513Z",
     "iopub.status.busy": "2021-04-06T10:18:27.531025Z",
     "iopub.status.idle": "2021-04-06T10:18:27.533440Z",
     "shell.execute_reply": "2021-04-06T10:18:27.533045Z"
    },
    "id": "vLpilV73QrXJ"
   },
   "outputs": [],
   "source": [
    "train_params = {'batch_size': TRAIN_BATCH_SIZE,\n",
    "                'shuffle': True,\n",
    "                'num_workers': 0\n",
    "                }\n",
    "\n",
    "test_params = {'batch_size': VALID_BATCH_SIZE,\n",
    "                'shuffle': True,\n",
    "                'num_workers': 0\n",
    "                }\n",
    "\n",
    "training_loader = DataLoader(training_set, **train_params)\n",
    "testing_loader = DataLoader(testing_set, **test_params)"
   ]
  },
  {
   "cell_type": "code",
   "execution_count": 22,
   "id": "threaded-manor",
   "metadata": {
    "execution": {
     "iopub.execute_input": "2021-04-06T10:18:27.536947Z",
     "iopub.status.busy": "2021-04-06T10:18:27.536481Z",
     "iopub.status.idle": "2021-04-06T10:18:31.571957Z",
     "shell.execute_reply": "2021-04-06T10:18:31.572396Z"
    }
   },
   "outputs": [
    {
     "name": "stderr",
     "output_type": "stream",
     "text": [
      "2021-04-08 18:42:57 DEBUG Starting new HTTPS connection (1): huggingface.co:443\n",
      "2021-04-08 18:42:58 DEBUG https://huggingface.co:443 \"HEAD /hfl/chinese-roberta-wwm-ext/resolve/main/config.json HTTP/1.1\" 200 0\n",
      "2021-04-08 18:42:58 DEBUG Starting new HTTPS connection (1): huggingface.co:443\n",
      "2021-04-08 18:42:58 DEBUG https://huggingface.co:443 \"HEAD /hfl/chinese-roberta-wwm-ext/resolve/main/pytorch_model.bin HTTP/1.1\" 302 0\n"
     ]
    }
   ],
   "source": [
    "model = load_or_create_model(flag, model_name, device)"
   ]
  },
  {
   "cell_type": "code",
   "execution_count": 23,
   "id": "involved-province",
   "metadata": {
    "execution": {
     "iopub.execute_input": "2021-04-06T10:18:31.577030Z",
     "iopub.status.busy": "2021-04-06T10:18:31.576523Z",
     "iopub.status.idle": "2021-04-06T10:18:31.579079Z",
     "shell.execute_reply": "2021-04-06T10:18:31.578675Z"
    },
    "scrolled": true
   },
   "outputs": [],
   "source": [
    "# !ls -alh model/chinese-roberta-wwm-ext\n",
    "try:\n",
    "    os.listdir(path_model)\n",
    "except:\n",
    "    pass"
   ]
  },
  {
   "cell_type": "code",
   "execution_count": 24,
   "id": "clinical-schedule",
   "metadata": {
    "colab": {},
    "colab_type": "code",
    "execution": {
     "iopub.execute_input": "2021-04-06T10:18:31.584799Z",
     "iopub.status.busy": "2021-04-06T10:18:31.584333Z",
     "iopub.status.idle": "2021-04-06T10:18:31.586611Z",
     "shell.execute_reply": "2021-04-06T10:18:31.586087Z"
    },
    "id": "gUD8j0c7WsA-"
   },
   "outputs": [],
   "source": [
    "optimizer = torch.optim.Adam(params =  model.parameters(), lr=LEARNING_RATE)"
   ]
  },
  {
   "cell_type": "code",
   "execution_count": 25,
   "id": "oriented-farming",
   "metadata": {
    "execution": {
     "iopub.execute_input": "2021-04-06T10:18:31.589546Z",
     "iopub.status.busy": "2021-04-06T10:18:31.589062Z",
     "iopub.status.idle": "2021-04-06T10:18:31.590839Z",
     "shell.execute_reply": "2021-04-06T10:18:31.591225Z"
    }
   },
   "outputs": [],
   "source": [
    "losses = []; "
   ]
  },
  {
   "cell_type": "code",
   "execution_count": 26,
   "id": "subtle-array",
   "metadata": {
    "execution": {
     "iopub.execute_input": "2021-04-06T10:18:31.594489Z",
     "iopub.status.busy": "2021-04-06T10:18:31.594007Z",
     "iopub.status.idle": "2021-04-06T10:18:31.596245Z",
     "shell.execute_reply": "2021-04-06T10:18:31.595823Z"
    }
   },
   "outputs": [],
   "source": [
    "total_batch_train = math.ceil(len(X_train)/TRAIN_BATCH_SIZE)\n",
    "total_batch_test = math.ceil(len(X_test)/VALID_BATCH_SIZE)"
   ]
  },
  {
   "cell_type": "raw",
   "id": "bored-judge",
   "metadata": {},
   "source": [
    "os.listdir(path_model)"
   ]
  },
  {
   "cell_type": "raw",
   "id": "advisory-monday",
   "metadata": {},
   "source": [
    "with open(os.path.join(path_model, 'acc.epoch'), 'wb') as f:\n",
    "    e = pickle.dump(50, f)"
   ]
  },
  {
   "cell_type": "code",
   "execution_count": null,
   "id": "narrative-complement",
   "metadata": {
    "execution": {
     "iopub.execute_input": "2021-04-06T10:18:31.601410Z",
     "iopub.status.busy": "2021-04-06T10:18:31.600705Z",
     "iopub.status.idle": "2021-04-07T02:52:19.375274Z",
     "shell.execute_reply": "2021-04-07T02:52:19.375708Z"
    },
    "scrolled": false
   },
   "outputs": [
    {
     "name": "stderr",
     "output_type": "stream",
     "text": [
      "100%|██████████| 2168/2168 [32:10<00:00,  1.12it/s]\n",
      "100%|██████████| 64/64 [00:21<00:00,  3.01it/s]\n"
     ]
    },
    {
     "name": "stdout",
     "output_type": "stream",
     "text": [
      "epoch: 1, loss train:  0.2910189926624298, loss test: 2.241748332977295\n",
      "current best, epoch accumulate: 1\n"
     ]
    },
    {
     "name": "stderr",
     "output_type": "stream",
     "text": [
      "\r",
      "  0%|          | 0/2168 [00:00<?, ?it/s]"
     ]
    },
    {
     "name": "stdout",
     "output_type": "stream",
     "text": [
      "last epoch accumulate: 1\n"
     ]
    },
    {
     "name": "stderr",
     "output_type": "stream",
     "text": [
      "100%|██████████| 2168/2168 [33:22<00:00,  1.08it/s]\n",
      "100%|██████████| 64/64 [00:19<00:00,  3.23it/s]\n"
     ]
    },
    {
     "name": "stdout",
     "output_type": "stream",
     "text": [
      "epoch: 2, loss train:  -0.016070052981376648, loss test: 2.6930603981018066\n"
     ]
    },
    {
     "name": "stderr",
     "output_type": "stream",
     "text": [
      "\r",
      "  0%|          | 0/2168 [00:00<?, ?it/s]"
     ]
    },
    {
     "name": "stdout",
     "output_type": "stream",
     "text": [
      "last epoch accumulate: 2\n"
     ]
    },
    {
     "name": "stderr",
     "output_type": "stream",
     "text": [
      " 17%|█▋        | 376/2168 [05:40<27:44,  1.08it/s]"
     ]
    }
   ],
   "source": [
    "for epoch in range(1, EPOCHS+1): \n",
    "    model, loss = train(model, optimizer, training_loader, testing_loader, epoch, device, total_batch_train, total_batch_test)\n",
    "    create_or_update_best(flag, model, loss, epoch)\n",
    "    create_or_update_last(flag, model, epoch)\n",
    "    losses.append(loss)"
   ]
  },
  {
   "cell_type": "code",
   "execution_count": null,
   "id": "accompanied-principal",
   "metadata": {
    "execution": {
     "iopub.execute_input": "2021-04-07T02:52:19.382941Z",
     "iopub.status.busy": "2021-04-07T02:52:19.382197Z",
     "iopub.status.idle": "2021-04-07T02:52:19.386295Z",
     "shell.execute_reply": "2021-04-07T02:52:19.385798Z"
    }
   },
   "outputs": [],
   "source": [
    "# create_or_update_last(flag, model, epoch)\n",
    "create_or_update_loss(flag, losses)\n",
    "load_or_create_acc_epoch(flag, epoch)"
   ]
  },
  {
   "cell_type": "code",
   "execution_count": null,
   "id": "together-carolina",
   "metadata": {
    "execution": {
     "iopub.execute_input": "2021-04-07T02:52:19.389220Z",
     "iopub.status.busy": "2021-04-07T02:52:19.388544Z",
     "iopub.status.idle": "2021-04-07T02:52:19.392306Z",
     "shell.execute_reply": "2021-04-07T02:52:19.391822Z"
    }
   },
   "outputs": [],
   "source": [
    "# !ls -alh model/chinese-roberta-wwm-ext\n",
    "os.listdir(path_model)"
   ]
  },
  {
   "cell_type": "code",
   "execution_count": null,
   "id": "passive-township",
   "metadata": {
    "execution": {
     "iopub.execute_input": "2021-04-07T02:52:19.401110Z",
     "iopub.status.busy": "2021-04-07T02:52:19.394994Z",
     "iopub.status.idle": "2021-04-07T02:52:19.829635Z",
     "shell.execute_reply": "2021-04-07T02:52:19.830058Z"
    },
    "scrolled": false
   },
   "outputs": [],
   "source": [
    "plot_loss(flag, path=path_model);"
   ]
  },
  {
   "cell_type": "code",
   "execution_count": null,
   "id": "positive-heaven",
   "metadata": {
    "execution": {
     "iopub.execute_input": "2021-04-07T02:52:19.834035Z",
     "iopub.status.busy": "2021-04-07T02:52:19.833499Z",
     "iopub.status.idle": "2021-04-07T02:52:39.930359Z",
     "shell.execute_reply": "2021-04-07T02:52:39.930785Z"
    }
   },
   "outputs": [],
   "source": [
    "# best model validation\n",
    "model_best = load_best(flag)\n",
    "evaluate(model_best, testing_loader, device, total_batch_test)"
   ]
  }
 ],
 "metadata": {
  "kernelspec": {
   "display_name": "Python 3",
   "language": "python",
   "name": "python3"
  },
  "language_info": {
   "codemirror_mode": {
    "name": "ipython",
    "version": 3
   },
   "file_extension": ".py",
   "mimetype": "text/x-python",
   "name": "python",
   "nbconvert_exporter": "python",
   "pygments_lexer": "ipython3",
   "version": "3.7.9"
  }
 },
 "nbformat": 4,
 "nbformat_minor": 5
}
